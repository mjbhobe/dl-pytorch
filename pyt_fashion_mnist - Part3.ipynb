{
  "cells": [
    {
      "cell_type": "markdown",
      "metadata": {
        "id": "3LxM6PKUKhXh"
      },
      "source": [
        "# Multiclass Classification of Fashion-MNIST dataset with Pytorch\n",
        "## Part-3: Implementing Image Augmentation (or transforms)\n",
        "\n",
        "@see: [Medium Article](https://towardsdatascience.com/10-tips-for-a-better-google-colab-experience-33f8fe721b82#8c1e) on how to keep Colab notebook from disconnecting -- see point #7. You will need this trick for this notebook as training is run for >75 epochs!"
      ]
    },
    {
      "cell_type": "code",
      "execution_count": null,
      "metadata": {
        "colab": {
          "base_uri": "https://localhost:8080/"
        },
        "id": "wQO4YGZiCzEP",
        "outputId": "e1575fbc-f896-401b-ac47-c3f9c15bb537"
      },
      "outputs": [
        {
          "name": "stdout",
          "output_type": "stream",
          "text": [
            "Mounted at /content/drive/\n",
            "Your Google Drive is mounted at  /content/drive/My Drive/\n",
            "You Colab notebooks are available at  /content/drive/My Drive/Colab Notebooks/Pytorch\n",
            "NOTE: /content/drive/My Drive/Colab Notebooks/Pytorch is appended to sys.path!\n",
            "Model states will be saved to /content/drive/My Drive/Colab Notebooks/Pytorch/model_states\n"
          ]
        }
      ],
      "source": [
        "# set this flag to True when you run this Notebook on Google Collaboratory\n",
        "USE_COLAB = True\n",
        "\n",
        "import os\n",
        "\n",
        "#@see: https://colab.research.google.com/drive/1srw_HFWQ2SMgmWIawucXfusGzrj1_U0q\n",
        "if USE_COLAB:\n",
        "    # Load the Drive helper and mount\n",
        "    from google.colab import drive\n",
        "\n",
        "    # This will prompt for authorization.\n",
        "    gdrive_mount_point = '/content/drive/'\n",
        "    drive.mount(gdrive_mount_point)\n",
        "    gdrive_path = os.path.join(gdrive_mount_point, \"My Drive/\")\n",
        "    print('Your Google Drive is mounted at ', gdrive_path)\n",
        "    COLAB_NOTEBOOKS_PATH = os.path.join(gdrive_path, \"Colab Notebooks\",\"Pytorch\")\n",
        "    \n",
        "    if os.path.exists(COLAB_NOTEBOOKS_PATH):\n",
        "        print('You Colab notebooks are available at ', COLAB_NOTEBOOKS_PATH)\n",
        "    \n",
        "        # display list of files\n",
        "        #!ls '/content/drive/My Drive/Colab Notebooks/'\n",
        "\n",
        "        # append our Google Drive folder to module search \n",
        "        # **NOTE:** comment this line out if you are NOT running this notebook on Google Colab\n",
        "        import sys\n",
        "        #sys.path.append(\"/content/drive/My Drive/Colab Notebooks/\")\n",
        "        sys.path.append(COLAB_NOTEBOOKS_PATH)\n",
        "        print('NOTE: {} is appended to sys.path!'.format(COLAB_NOTEBOOKS_PATH))\n",
        "        # and test it\n",
        "        import pytorch_toolkit as pytk\n",
        "        MODEL_SAVE_DIR = os.path.join(COLAB_NOTEBOOKS_PATH, \"model_states\")\n",
        "        #IMAGES_ZIP_DIR = \"/content/drive/My Drive/Colab Notebooks/data/kaggle/malaria\"\n",
        "    else:\n",
        "        raise IOError(\"Unable to mount Google Drive!\")\n",
        "else:\n",
        "    MODEL_SAVE_DIR = os.path.join('.','model_states')\n",
        "    #IMAGES_ZIP_DIR = \"./images/kaggle/malaria\"\n",
        "\n",
        "print(f\"Model states will be saved to {MODEL_SAVE_DIR}\")\n",
        "    \n",
        "if not os.path.exists(MODEL_SAVE_DIR):\n",
        "    os.mkdir(MODEL_SAVE_DIR)"
      ]
    },
    {
      "cell_type": "markdown",
      "metadata": {
        "id": "0W4R-gsSKK_f"
      },
      "source": [
        "## Standard Imports"
      ]
    },
    {
      "cell_type": "code",
      "execution_count": null,
      "metadata": {
        "colab": {
          "base_uri": "https://localhost:8080/"
        },
        "id": "MhOlv7y_-aHJ",
        "outputId": "ce0bc816-6f63-41af-cbce-eedb4240a738"
      },
      "outputs": [
        {
          "name": "stdout",
          "output_type": "stream",
          "text": [
            "Using Pytorch version 1.11.0+cu113. GPU is available :)\n"
          ]
        }
      ],
      "source": [
        "import warnings\n",
        "warnings.filterwarnings('ignore')\n",
        "\n",
        "import sys, os, random\n",
        "import numpy as np\n",
        "import matplotlib.pyplot as plt\n",
        "import seaborn as sns\n",
        "\n",
        "# tweaks for libraries\n",
        "np.set_printoptions(precision=6, linewidth=1024, suppress=True)\n",
        "plt.style.use('seaborn')\n",
        "sns.set(style='darkgrid', context='notebook', font_scale=1.2)\n",
        "\n",
        "# Pytorch imports\n",
        "import torch\n",
        "print(f'Using Pytorch version {torch.__version__}. ' + \n",
        "      f'GPU {\"is available :)\" if torch.cuda.is_available() else \"is not available :(\"}')\n",
        "import torch.nn as nn\n",
        "import torch.nn.functional as F\n",
        "from torchvision import datasets, transforms\n",
        "from torch import optim\n",
        "from torchsummary import summary\n",
        "# My helper functions for training/evaluating etc.\n",
        "import pytorch_toolkit as pytk\n",
        "\n",
        "# to ensure that you get consistent results across runs & machines\n",
        "# @see: https://discuss.pytorch.org/t/reproducibility-over-different-machines/63047\n",
        "SEED = 41\n",
        "random.seed(SEED)\n",
        "os.environ['PYTHONHASHSEED'] = str(SEED)\n",
        "np.random.seed(SEED)\n",
        "torch.manual_seed(SEED);\n",
        "\n",
        "if torch.cuda.is_available():\n",
        "    torch.cuda.manual_seed(SEED)\n",
        "    torch.cuda.manual_seed_all(SEED)\n",
        "    torch.backends.cudnn.deterministic = True\n",
        "    torch.backends.cudnn.benchmark = False\n",
        "    #torch.backends.cudnn.enabled = False"
      ]
    },
    {
      "cell_type": "markdown",
      "metadata": {
        "id": "eEf7149YKOxd"
      },
      "source": [
        "## Helper Functions"
      ]
    },
    {
      "cell_type": "code",
      "execution_count": null,
      "metadata": {
        "id": "gBAeYLjp0vPc"
      },
      "outputs": [],
      "source": [
        "IMAGE_HEIGHT, IMAGE_WIDTH, NUM_CHANNELS = 28, 28, 1"
      ]
    },
    {
      "cell_type": "code",
      "execution_count": null,
      "metadata": {
        "id": "O484Lf1S9W-A"
      },
      "outputs": [],
      "source": [
        "def load_data():\n",
        "    \"\"\"\n",
        "    load the data using datasets API. We also split the test_dataset into \n",
        "    cross-val/test datasets using 80:20 ration\n",
        "    \"\"\"\n",
        "    mean, std = 0.5, 0.5\n",
        "\n",
        "    train_transforms = transforms.Compose([\n",
        "        transforms.RandomHorizontalFlip(p=0.5),\n",
        "        transforms.RandomVerticalFlip(p=0.5),\n",
        "        transforms.RandomRotation(35),\n",
        "        transforms.RandomResizedCrop((IMAGE_HEIGHT, IMAGE_WIDTH),scale=(0.8,1.0),ratio=(1.0,1.0)),                                         \n",
        "        transforms.ToTensor(),\n",
        "        transforms.Normalize(mean, std)\n",
        "    ])\n",
        "\n",
        "\n",
        "    cross_val_and_test_transforms = transforms.Compose([\n",
        "        transforms.ToTensor(),\n",
        "        transforms.Normalize(mean, std)\n",
        "    ])\n",
        "\n",
        "    train_dataset =  datasets.FashionMNIST(root='./data', train=True, download=True,\n",
        "                                   transform=train_transforms)\n",
        "\n",
        "    print(\"No of training records: %d\" % len(train_dataset))\n",
        "\n",
        "    test_dataset = datasets.FashionMNIST('./data', train=False, download=True,\n",
        "                                  transform=cross_val_and_test_transforms)\n",
        "    print(\"No of test records: %d\" % len(test_dataset))\n",
        "\n",
        "    # lets split the test dataset into val_dataset & test_dataset -> 8000:2000 records\n",
        "    val_dataset, test_dataset = torch.utils.data.random_split(test_dataset, [8000, 2000])\n",
        "    print(\"No of cross-val records: %d\" % len(val_dataset))\n",
        "    print(\"No of test records: %d\" % len(test_dataset))\n",
        "\n",
        "    return train_dataset, val_dataset, test_dataset"
      ]
    },
    {
      "cell_type": "code",
      "execution_count": null,
      "metadata": {
        "id": "MqnO7KUwIkBI"
      },
      "outputs": [],
      "source": [
        "def display_sample(sample_images, sample_labels, grid_shape=(10, 10), plot_title=None,\n",
        "                   sample_predictions=None):\n",
        "    # just in case these are not imported!\n",
        "    import matplotlib.pyplot as plt\n",
        "    import seaborn as sns\n",
        "    plt.style.use('seaborn')\n",
        "\n",
        "    num_rows, num_cols = grid_shape\n",
        "    assert sample_images.shape[0] == num_rows * num_cols\n",
        "\n",
        "    # a dict to help encode/decode the labels\n",
        "    FASHION_LABELS = {\n",
        "        0: 'T-shirt/top',\n",
        "        1: 'Trouser',\n",
        "        2: 'Pullover',\n",
        "        3: 'Dress',\n",
        "        4: 'Coat',\n",
        "        5: 'Sandal',\n",
        "        6: 'Shirt',\n",
        "        7: 'Sneaker',\n",
        "        8: 'Bag',\n",
        "        9: 'Ankle boot',\n",
        "    }\n",
        "\n",
        "    with sns.axes_style(\"whitegrid\"):\n",
        "        sns.set_context(\"notebook\", font_scale=1.10)\n",
        "        sns.set_style({\"font.sans-serif\": [\"Verdana\", \"Arial\", \"Calibri\", \"DejaVu Sans\"]})\n",
        "\n",
        "        f, ax = plt.subplots(num_rows, num_cols, figsize=(14, 10),\n",
        "            gridspec_kw={\"wspace\": 0.05, \"hspace\": 0.35}, squeeze=True)  # 0.03, 0.25\n",
        "        #fig = ax[0].get_figure()\n",
        "        f.tight_layout()\n",
        "        f.subplots_adjust(top=0.90) # 0.93\n",
        "\n",
        "        for r in range(num_rows):\n",
        "            for c in range(num_cols):\n",
        "                image_index = r * num_cols + c\n",
        "                ax[r, c].axis(\"off\")\n",
        "                # show selected image\n",
        "                ax[r, c].imshow(sample_images[image_index].squeeze(), cmap=\"Greys\", interpolation='nearest')\n",
        "\n",
        "                if sample_predictions is None:\n",
        "                    # but show the prediction in the title\n",
        "                    title = ax[r, c].set_title(f\"{FASHION_LABELS[sample_labels[image_index]]}\")\n",
        "                else:\n",
        "                    pred_matches_actual = (\n",
        "                                sample_labels[image_index] == sample_predictions[image_index])\n",
        "                    if pred_matches_actual:\n",
        "                        # show title from prediction or actual in green font\n",
        "                        title = '%s' % FASHION_LABELS[sample_predictions[image_index]]\n",
        "                        title_color = 'g'\n",
        "                    else:\n",
        "                        # show title as actual/prediction in red font\n",
        "                        title = '%s/%s' % (FASHION_LABELS[sample_labels[image_index]],\n",
        "                                           FASHION_LABELS[sample_predictions[image_index]])\n",
        "                        title_color = 'r'\n",
        "\n",
        "                    # but show the prediction in the title\n",
        "                    title = ax[r, c].set_title(title)\n",
        "                    # if prediction is incorrect title color is red, else green\n",
        "                    plt.setp(title, color=title_color)\n",
        "\n",
        "        if plot_title is not None:\n",
        "            plt.suptitle(plot_title)\n",
        "        plt.show()\n",
        "        plt.close()"
      ]
    },
    {
      "cell_type": "code",
      "execution_count": null,
      "metadata": {
        "colab": {
          "base_uri": "https://localhost:8080/",
          "height": 552,
          "referenced_widgets": [
            "1e6f202468a7470caa131db1c41fa54a",
            "827357142d0747708b47cc7dfb4ec837",
            "484ba4cd45ce4cf8976afe53ac3fb911",
            "a5032bf2cd5a455293c16180d41f287d",
            "1da1770620274b539e5bdd2474f312d2",
            "e9c9563a9e484c89a1eaa17a98e5fcb4",
            "2a92ee61e18c4551960776ada99351bd",
            "4b168fc41a5a45d280e6d051646bc606",
            "9444caa80366473ea836425c4e0046f5",
            "686364b96aa14f6cb91002d496039933",
            "7f4848834c684f678ddb19279dc4d507",
            "a54ced2d6a6a4f7f81c6a1ce4f225fe9",
            "289a1a215d3f4a7790c68044671fc9ce",
            "3d153acea08e4f8995ca272e8025ef01",
            "48ea588c74c641a29eac460c9fa9500f",
            "e6f25955202e4d6e93b0db0807449512",
            "8023e656fd5a4c70b79cd13fe488bb1e",
            "bca6d117e6224041a621e5a85861b8d7",
            "9ccb379e0f794468becfca498af3e0b6",
            "17411ffd204842ffa8fb9284fe7475cc",
            "8ebd17bb670247fbb2d122f3a22da472",
            "8017ca631e5a440497dec812c1e9b0f8",
            "15d405b85a8b414bb53dcb23195880b3",
            "bbe68513567340a4b41ffd7c42c3d968",
            "f2703d3853bf476a81ebbea46510177e",
            "2cca00681db0420387d44dfeb59138fe",
            "39a22f4f49d14713ae315ce3565641ae",
            "19c5f081f8ec44f0a0cb7d10ed477854",
            "0f6252467bfe4238beb06c7921f11745",
            "f8a7f72041de4c4e8508f9307224b141",
            "8ebdccf43113465f9343a08f28e3abaa",
            "a3547e56a1914353b59d3b21427ada7d",
            "fb510ece71c247e6adf59b52ba74e19e",
            "a2467ab8dae24341b43b5ba2de76bd64",
            "39943de35fad4e0a8bc16a814622fd5e",
            "75a7210517fe455c9cba51d0092cccfc",
            "1352914f62604f7397318e20aa84c8cf",
            "7bc3690ec1b6405d80c9b8ec436a8457",
            "f13805dcd46644e59896cc1afa34293e",
            "432c05a41bee4059b3e98e0e012ecf66",
            "775121e801ca4dc089012bc79f8e56d5",
            "0ebce7572ab84a159accc703bf52ab31",
            "7ca39d252f5f49b890097bb8798e7dac",
            "55344aa98d16469094fb4010347edcd8"
          ]
        },
        "id": "fEBZXVQoKRNV",
        "outputId": "a8f07911-d6cb-4aa0-80db-bb2b9ccb7d9d"
      },
      "outputs": [
        {
          "name": "stdout",
          "output_type": "stream",
          "text": [
            "Downloading http://fashion-mnist.s3-website.eu-central-1.amazonaws.com/train-images-idx3-ubyte.gz\n",
            "Downloading http://fashion-mnist.s3-website.eu-central-1.amazonaws.com/train-images-idx3-ubyte.gz to ./data/FashionMNIST/raw/train-images-idx3-ubyte.gz\n"
          ]
        },
        {
          "data": {
            "application/vnd.jupyter.widget-view+json": {
              "model_id": "1e6f202468a7470caa131db1c41fa54a",
              "version_major": 2,
              "version_minor": 0
            },
            "text/plain": [
              "  0%|          | 0/26421880 [00:00<?, ?it/s]"
            ]
          },
          "metadata": {},
          "output_type": "display_data"
        },
        {
          "name": "stdout",
          "output_type": "stream",
          "text": [
            "Extracting ./data/FashionMNIST/raw/train-images-idx3-ubyte.gz to ./data/FashionMNIST/raw\n",
            "\n",
            "Downloading http://fashion-mnist.s3-website.eu-central-1.amazonaws.com/train-labels-idx1-ubyte.gz\n",
            "Downloading http://fashion-mnist.s3-website.eu-central-1.amazonaws.com/train-labels-idx1-ubyte.gz to ./data/FashionMNIST/raw/train-labels-idx1-ubyte.gz\n"
          ]
        },
        {
          "data": {
            "application/vnd.jupyter.widget-view+json": {
              "model_id": "a54ced2d6a6a4f7f81c6a1ce4f225fe9",
              "version_major": 2,
              "version_minor": 0
            },
            "text/plain": [
              "  0%|          | 0/29515 [00:00<?, ?it/s]"
            ]
          },
          "metadata": {},
          "output_type": "display_data"
        },
        {
          "name": "stdout",
          "output_type": "stream",
          "text": [
            "Extracting ./data/FashionMNIST/raw/train-labels-idx1-ubyte.gz to ./data/FashionMNIST/raw\n",
            "\n",
            "Downloading http://fashion-mnist.s3-website.eu-central-1.amazonaws.com/t10k-images-idx3-ubyte.gz\n",
            "Downloading http://fashion-mnist.s3-website.eu-central-1.amazonaws.com/t10k-images-idx3-ubyte.gz to ./data/FashionMNIST/raw/t10k-images-idx3-ubyte.gz\n"
          ]
        },
        {
          "data": {
            "application/vnd.jupyter.widget-view+json": {
              "model_id": "15d405b85a8b414bb53dcb23195880b3",
              "version_major": 2,
              "version_minor": 0
            },
            "text/plain": [
              "  0%|          | 0/4422102 [00:00<?, ?it/s]"
            ]
          },
          "metadata": {},
          "output_type": "display_data"
        },
        {
          "name": "stdout",
          "output_type": "stream",
          "text": [
            "Extracting ./data/FashionMNIST/raw/t10k-images-idx3-ubyte.gz to ./data/FashionMNIST/raw\n",
            "\n",
            "Downloading http://fashion-mnist.s3-website.eu-central-1.amazonaws.com/t10k-labels-idx1-ubyte.gz\n",
            "Downloading http://fashion-mnist.s3-website.eu-central-1.amazonaws.com/t10k-labels-idx1-ubyte.gz to ./data/FashionMNIST/raw/t10k-labels-idx1-ubyte.gz\n"
          ]
        },
        {
          "data": {
            "application/vnd.jupyter.widget-view+json": {
              "model_id": "a2467ab8dae24341b43b5ba2de76bd64",
              "version_major": 2,
              "version_minor": 0
            },
            "text/plain": [
              "  0%|          | 0/5148 [00:00<?, ?it/s]"
            ]
          },
          "metadata": {},
          "output_type": "display_data"
        },
        {
          "name": "stdout",
          "output_type": "stream",
          "text": [
            "Extracting ./data/FashionMNIST/raw/t10k-labels-idx1-ubyte.gz to ./data/FashionMNIST/raw\n",
            "\n",
            "No of training records: 60000\n",
            "No of test records: 10000\n",
            "No of cross-val records: 8000\n",
            "No of test records: 2000\n"
          ]
        }
      ],
      "source": [
        "# (down)load the data\n",
        "train_dataset, val_dataset, test_dataset = load_data()"
      ]
    },
    {
      "cell_type": "code",
      "execution_count": null,
      "metadata": {
        "colab": {
          "base_uri": "https://localhost:8080/",
          "height": 665
        },
        "id": "rpqwY_OzLr7G",
        "outputId": "31a26d12-40ba-48e9-8947-cd93443101e6"
      },
      "outputs": [
        {
          "name": "stdout",
          "output_type": "stream",
          "text": [
            "images.shape = torch.Size([64, 1, 28, 28]), labels.shape=torch.Size([64])\n"
          ]
        },
        {
          "data": {
            "image/png": "[encoded data removed]",
            "text/plain": [
              "<Figure size 1008x720 with 64 Axes>"
            ]
          },
          "metadata": {},
          "output_type": "display_data"
        }
      ],
      "source": [
        "# display a sample\n",
        "trainloader = torch.utils.data.DataLoader(train_dataset, batch_size=64, shuffle=True)\n",
        "data_iter = iter(trainloader)\n",
        "images, labels = data_iter.next()  # fetch first batch of 64 images & labels\n",
        "print(f'images.shape = {images.shape}, labels.shape={labels.shape}')\n",
        "#print(f'labels = {labels[:10]}')\n",
        "display_sample(images.cpu().numpy(), labels.cpu().numpy(), grid_shape=(8, 8), \n",
        "               plot_title='Sample Images - Training dataset')"
      ]
    },
    {
      "cell_type": "markdown",
      "metadata": {
        "id": "Uc4Db-2_L8K2"
      },
      "source": [
        "## Pytorch Model development"
      ]
    },
    {
      "cell_type": "code",
      "execution_count": null,
      "metadata": {
        "colab": {
          "base_uri": "https://localhost:8080/"
        },
        "id": "7vvaW3puSExy",
        "outputId": "8a201eec-9e13-4aa2-b985-089a55e4d483"
      },
      "outputs": [
        {
          "name": "stdout",
          "output_type": "stream",
          "text": [
            "Model will be saved to /content/drive/My Drive/Colab Notebooks/Pytorch/model_states/pyt_fashion_mnist_cnn_aug.pyt\n"
          ]
        }
      ],
      "source": [
        "# some globals\n",
        "NUM_CLASSES = 10\n",
        "NUM_EPOCHS, BATCH_SIZE, LEARNING_RATE, L2_REG = 75, 128, 0.001, 0.0010\n",
        "PY_MODEL_SAVE_PATH_AUG = os.path.join(MODEL_SAVE_DIR, 'pyt_fashion_mnist_cnn_aug.pyt')\n",
        "print(f\"Model will be saved to {PY_MODEL_SAVE_PATH_AUG}\")"
      ]
    },
    {
      "cell_type": "code",
      "execution_count": null,
      "metadata": {
        "id": "1iHlFwE1S5GP"
      },
      "outputs": [],
      "source": [
        "def build_model_l2_do():\n",
        "    net = nn.Sequential(\n",
        "        pytk.Conv2d(1, 64, kernel_size=3, padding='same'),\n",
        "        nn.ReLU(),\n",
        "        nn.BatchNorm2d(64),\n",
        "        pytk.Conv2d(64, 64, kernel_size=3, padding='same'),\n",
        "        nn.ReLU(),\n",
        "        nn.BatchNorm2d(64),\n",
        "        nn.MaxPool2d(kernel_size=2, stride=2),\n",
        "        nn.Dropout(0.20),\n",
        "\n",
        "        pytk.Conv2d(64, 128, kernel_size=3, padding='same'),\n",
        "        nn.ReLU(),\n",
        "        nn.BatchNorm2d(128),\n",
        "        pytk.Conv2d(128, 128, kernel_size=3, padding='same'),\n",
        "        nn.ReLU(),\n",
        "        nn.BatchNorm2d(128),\n",
        "        nn.MaxPool2d(kernel_size=2, stride=2),\n",
        "        nn.Dropout(0.30),\n",
        "\n",
        "        pytk.Conv2d(128, 256, kernel_size=3, padding='same'),\n",
        "        nn.ReLU(),\n",
        "        nn.BatchNorm2d(256),\n",
        "        pytk.Conv2d(256, 256, kernel_size=3, padding='same'),\n",
        "        nn.ReLU(),\n",
        "        nn.BatchNorm2d(256),\n",
        "        nn.MaxPool2d(kernel_size=2, stride=2),\n",
        "        nn.Dropout(0.40),\n",
        "\n",
        "        # pytk.Conv2d(256, 512, kernel_size=3, padding=1),\n",
        "        # nn.ReLU(),\n",
        "        # nn.BatchNorm2d(512),\n",
        "        # # pytk.Conv2d(512, 512, kernel_size=3, padding=1),\n",
        "        # # nn.ReLU(),\n",
        "        # # nn.BatchNorm2d(512),\n",
        "        # nn.MaxPool2d(kernel_size=2, stride=2),\n",
        "        # nn.Dropout(0.35),\n",
        "\n",
        "        nn.Flatten(),\n",
        "        nn.Dropout(0.40),\n",
        "\n",
        "        nn.Linear(256*3*3, 1024),\n",
        "        nn.ReLU(),\n",
        "        nn.Dropout(0.30),\n",
        "\n",
        "        nn.Linear(1024, 512),\n",
        "        nn.ReLU(),\n",
        "        nn.Dropout(0.30),\n",
        "\n",
        "        nn.Linear(512, NUM_CLASSES)     \n",
        "    )\n",
        "\n",
        "    model = pytk.PytkModuleWrapper(net)\n",
        "    loss_fn = nn.CrossEntropyLoss()\n",
        "    # we add regularization to the optimizer\n",
        "    optimizer = optim.Adam(params=model.parameters(), lr=LEARNING_RATE, weight_decay=L2_REG)\n",
        "    model.compile(loss=loss_fn, optimizer=optimizer, metrics=['acc'])\n",
        "    return model, optimizer"
      ]
    },
    {
      "cell_type": "code",
      "execution_count": null,
      "metadata": {
        "colab": {
          "base_uri": "https://localhost:8080/"
        },
        "id": "unK5o-rES4-q",
        "outputId": "e10f833e-f69b-4a8d-8025-cf7be3aac7d7"
      },
      "outputs": [
        {
          "name": "stdout",
          "output_type": "stream",
          "text": [
            "----------------------------------------------------------------\n",
            "        Layer (type)               Output Shape         Param #\n",
            "================================================================\n",
            "            Conv2d-1           [-1, 64, 28, 28]             640\n",
            "              ReLU-2           [-1, 64, 28, 28]               0\n",
            "       BatchNorm2d-3           [-1, 64, 28, 28]             128\n",
            "            Conv2d-4           [-1, 64, 28, 28]          36,928\n",
            "              ReLU-5           [-1, 64, 28, 28]               0\n",
            "       BatchNorm2d-6           [-1, 64, 28, 28]             128\n",
            "         MaxPool2d-7           [-1, 64, 14, 14]               0\n",
            "           Dropout-8           [-1, 64, 14, 14]               0\n",
            "            Conv2d-9          [-1, 128, 14, 14]          73,856\n",
            "             ReLU-10          [-1, 128, 14, 14]               0\n",
            "      BatchNorm2d-11          [-1, 128, 14, 14]             256\n",
            "           Conv2d-12          [-1, 128, 14, 14]         147,584\n",
            "             ReLU-13          [-1, 128, 14, 14]               0\n",
            "      BatchNorm2d-14          [-1, 128, 14, 14]             256\n",
            "        MaxPool2d-15            [-1, 128, 7, 7]               0\n",
            "          Dropout-16            [-1, 128, 7, 7]               0\n",
            "           Conv2d-17            [-1, 256, 7, 7]         295,168\n",
            "             ReLU-18            [-1, 256, 7, 7]               0\n",
            "      BatchNorm2d-19            [-1, 256, 7, 7]             512\n",
            "           Conv2d-20            [-1, 256, 7, 7]         590,080\n",
            "             ReLU-21            [-1, 256, 7, 7]               0\n",
            "      BatchNorm2d-22            [-1, 256, 7, 7]             512\n",
            "        MaxPool2d-23            [-1, 256, 3, 3]               0\n",
            "          Dropout-24            [-1, 256, 3, 3]               0\n",
            "          Flatten-25                 [-1, 2304]               0\n",
            "          Dropout-26                 [-1, 2304]               0\n",
            "           Linear-27                 [-1, 1024]       2,360,320\n",
            "             ReLU-28                 [-1, 1024]               0\n",
            "          Dropout-29                 [-1, 1024]               0\n",
            "           Linear-30                  [-1, 512]         524,800\n",
            "             ReLU-31                  [-1, 512]               0\n",
            "          Dropout-32                  [-1, 512]               0\n",
            "           Linear-33                   [-1, 10]           5,130\n",
            "================================================================\n",
            "Total params: 4,036,298\n",
            "Trainable params: 4,036,298\n",
            "Non-trainable params: 0\n",
            "----------------------------------------------------------------\n",
            "Input size (MB): 0.00\n",
            "Forward/backward pass size (MB): 4.41\n",
            "Params size (MB): 15.40\n",
            "Estimated Total Size (MB): 19.81\n",
            "----------------------------------------------------------------\n"
          ]
        }
      ],
      "source": [
        "model, optimizer = build_model_l2_do()\n",
        "model.summary((NUM_CHANNELS, IMAGE_HEIGHT, IMAGE_WIDTH))"
      ]
    },
    {
      "cell_type": "code",
      "execution_count": null,
      "metadata": {
        "colab": {
          "background_save": true,
          "base_uri": "https://localhost:8080/"
        },
        "id": "pLQF4JfLS416",
        "outputId": "d98ebc19-46d2-4fda-9db8-b722f173aa37"
      },
      "outputs": [
        {
          "name": "stdout",
          "output_type": "stream",
          "text": [
            "Training on GPU...\n",
            "Training on 60000 samples, cross-validating on 8000 samples\n",
            "Epoch ( 1/75): (60000/60000) -> loss: 0.7995 - acc: 0.6958 - val_loss: 0.6365 - val_acc: 0.7614 - lr: ['0.00100000']\n",
            "Epoch ( 2/75): (60000/60000) -> loss: 0.6012 - acc: 0.7823 - val_loss: 0.4849 - val_acc: 0.8186 - lr: ['0.00100000']\n",
            "Epoch ( 3/75): (60000/60000) -> loss: 0.5520 - acc: 0.7999 - val_loss: 0.4830 - val_acc: 0.8175 - lr: ['0.00100000']\n",
            "Epoch ( 4/75): (60000/60000) -> loss: 0.5172 - acc: 0.8145 - val_loss: 0.4711 - val_acc: 0.8251 - lr: ['0.00100000']\n",
            "Epoch ( 5/75): (60000/60000) -> loss: 0.5037 - acc: 0.8206 - val_loss: 0.4403 - val_acc: 0.8467 - lr: ['0.00100000']\n",
            "Epoch ( 6/75): (60000/60000) -> loss: 0.4895 - acc: 0.8257 - val_loss: 0.6661 - val_acc: 0.7708 - lr: ['0.00100000']\n",
            "Epoch ( 7/75): (60000/60000) -> loss: 0.4786 - acc: 0.8293 - val_loss: 0.4894 - val_acc: 0.8218 - lr: ['0.00100000']\n",
            "Epoch ( 8/75): (60000/60000) -> loss: 0.4735 - acc: 0.8323 - val_loss: 0.4016 - val_acc: 0.8559 - lr: ['0.00100000']\n",
            "Epoch ( 9/75): (60000/60000) -> loss: 0.4611 - acc: 0.8351 - val_loss: 0.4162 - val_acc: 0.8497 - lr: ['0.00100000']\n",
            "Epoch (10/75): (60000/60000) -> loss: 0.4575 - acc: 0.8366 - val_loss: 0.4343 - val_acc: 0.8409 - lr: ['0.00100000']\n",
            "Epoch (11/75): (60000/60000) -> loss: 0.4496 - acc: 0.8390 - val_loss: 1.8616 - val_acc: 0.5471 - lr: ['0.00100000']\n",
            "Epoch (12/75): (60000/60000) -> loss: 0.4467 - acc: 0.8409 - val_loss: 0.3776 - val_acc: 0.8630 - lr: ['0.00100000']\n",
            "Epoch (13/75): (60000/60000) -> loss: 0.4389 - acc: 0.8434 - val_loss: 0.3512 - val_acc: 0.8767 - lr: ['0.00100000']\n",
            "Epoch (14/75): (60000/60000) -> loss: 0.4440 - acc: 0.8415 - val_loss: 0.3702 - val_acc: 0.8669 - lr: ['0.00100000']\n",
            "Epoch (15/75): (60000/60000) -> loss: 0.4341 - acc: 0.8455 - val_loss: 0.3920 - val_acc: 0.8620 - lr: ['0.00100000']\n",
            "Epoch (16/75): (60000/60000) -> loss: 0.4282 - acc: 0.8474 - val_loss: 0.3585 - val_acc: 0.8719 - lr: ['0.00100000']\n",
            "Epoch (17/75): (60000/60000) -> loss: 0.4265 - acc: 0.8488 - val_loss: 0.3393 - val_acc: 0.8805 - lr: ['0.00100000']\n",
            "Epoch (18/75): (60000/60000) -> loss: 0.4276 - acc: 0.8473 - val_loss: 0.4625 - val_acc: 0.8336 - lr: ['0.00100000']\n",
            "Epoch (19/75): (60000/60000) -> loss: 0.4236 - acc: 0.8503 - val_loss: 0.3631 - val_acc: 0.8683 - lr: ['0.00100000']\n",
            "Epoch (20/75): (60000/60000) -> loss: 0.4226 - acc: 0.8496 - val_loss: 0.3772 - val_acc: 0.8694 - lr: ['0.00100000']\n",
            "Epoch (21/75): (60000/60000) -> loss: 0.4216 - acc: 0.8509 - val_loss: 0.3766 - val_acc: 0.8619 - lr: ['0.00100000']\n",
            "Epoch (22/75): (60000/60000) -> loss: 0.4157 - acc: 0.8504 - val_loss: 0.4701 - val_acc: 0.8343 - lr: ['0.00100000']\n",
            "Epoch (23/75): (60000/60000) -> loss: 0.4180 - acc: 0.8513 - val_loss: 0.3756 - val_acc: 0.8637 - lr: ['0.00100000']\n",
            "Epoch (24/75): (60000/60000) -> loss: 0.4184 - acc: 0.8501 - val_loss: 0.3729 - val_acc: 0.8717 - lr: ['0.00100000']\n",
            "Epoch (25/75): (60000/60000) -> loss: 0.4149 - acc: 0.8524 - val_loss: 0.3703 - val_acc: 0.8707 - lr: ['0.00100000']\n",
            "Epoch (26/75): (60000/60000) -> loss: 0.4124 - acc: 0.8531 - val_loss: 0.3599 - val_acc: 0.8709 - lr: ['0.00100000']\n",
            "Epoch (27/75): (60000/60000) -> loss: 0.4151 - acc: 0.8520 - val_loss: 0.3702 - val_acc: 0.8637 - lr: ['0.00100000']\n",
            "Epoch (28/75): (60000/60000) -> loss: 0.4075 - acc: 0.8552 - val_loss: 0.3590 - val_acc: 0.8702 - lr: ['0.00100000']\n",
            "Epoch (29/75): (60000/60000) -> loss: 0.4104 - acc: 0.8558 - val_loss: 0.3413 - val_acc: 0.8769 - lr: ['0.00100000']\n",
            "Epoch (30/75): (60000/60000) -> loss: 0.4135 - acc: 0.8538 - val_loss: 0.3278 - val_acc: 0.8813 - lr: ['0.00100000']\n",
            "Epoch (31/75): (60000/60000) -> loss: 0.4055 - acc: 0.8561 - val_loss: 0.3460 - val_acc: 0.8751 - lr: ['0.00100000']\n",
            "Epoch (32/75): (60000/60000) -> loss: 0.4073 - acc: 0.8556 - val_loss: 0.3868 - val_acc: 0.8581 - lr: ['0.00100000']\n",
            "Epoch (33/75): (60000/60000) -> loss: 0.4087 - acc: 0.8550 - val_loss: 0.4128 - val_acc: 0.8521 - lr: ['0.00100000']\n",
            "Epoch (34/75): (60000/60000) -> loss: 0.4068 - acc: 0.8565 - val_loss: 0.3381 - val_acc: 0.8797 - lr: ['0.00100000']\n",
            "Epoch (35/75): (60000/60000) -> loss: 0.4030 - acc: 0.8572 - val_loss: 0.3216 - val_acc: 0.8826 - lr: ['0.00100000']\n",
            "Epoch (36/75): (60000/60000) -> loss: 0.4049 - acc: 0.8569 - val_loss: 0.3765 - val_acc: 0.8668 - lr: ['0.00100000']\n",
            "Epoch (37/75): (60000/60000) -> loss: 0.4040 - acc: 0.8571 - val_loss: 0.4886 - val_acc: 0.8313 - lr: ['0.00100000']\n",
            "Epoch (38/75): (60000/60000) -> loss: 0.4042 - acc: 0.8558 - val_loss: 0.5116 - val_acc: 0.8208 - lr: ['0.00100000']\n",
            "Epoch (39/75): (60000/60000) -> loss: 0.4013 - acc: 0.8597 - val_loss: 0.5960 - val_acc: 0.8016 - lr: ['0.00100000']\n",
            "Epoch (40/75): (60000/60000) -> loss: 0.4041 - acc: 0.8572 - val_loss: 0.3239 - val_acc: 0.8870 - lr: ['0.00100000']\n",
            "Epoch (41/75): (60000/60000) -> loss: 0.3996 - acc: 0.8590 - val_loss: 0.3516 - val_acc: 0.8717 - lr: ['0.00100000']\n",
            "Epoch (42/75): (60000/60000) -> loss: 0.4031 - acc: 0.8555 - val_loss: 0.3894 - val_acc: 0.8591 - lr: ['0.00100000']\n",
            "Epoch (43/75): (60000/60000) -> loss: 0.4006 - acc: 0.8581 - val_loss: 0.5769 - val_acc: 0.7984 - lr: ['0.00100000']\n",
            "Epoch (44/75): (60000/60000) -> loss: 0.4000 - acc: 0.8589 - val_loss: 0.3685 - val_acc: 0.8686 - lr: ['0.00100000']\n",
            "Epoch (45/75): (60000/60000) -> loss: 0.4030 - acc: 0.8583 - val_loss: 0.3348 - val_acc: 0.8829 - lr: ['0.00100000']\n",
            "Epoch (46/75): (60000/60000) -> loss: 0.3988 - acc: 0.8574 - val_loss: 0.3345 - val_acc: 0.8803 - lr: ['0.00100000']\n",
            "Epoch (47/75): (60000/60000) -> loss: 0.3985 - acc: 0.8585 - val_loss: 0.3635 - val_acc: 0.8655 - lr: ['0.00100000']\n",
            "Epoch (48/75): (60000/60000) -> loss: 0.4049 - acc: 0.8573 - val_loss: 0.3411 - val_acc: 0.8805 - lr: ['0.00100000']\n",
            "Epoch (49/75): (60000/60000) -> loss: 0.4028 - acc: 0.8579 - val_loss: 0.3444 - val_acc: 0.8808 - lr: ['0.00100000']\n",
            "Epoch (50/75): (60000/60000) -> loss: 0.3990 - acc: 0.8581 - val_loss: 0.3258 - val_acc: 0.8863 - lr: ['0.00100000']\n",
            "Epoch (51/75): (60000/60000) -> loss: 0.3946 - acc: 0.8599 - val_loss: 0.3584 - val_acc: 0.8783 - lr: ['0.00100000']\n",
            "Epoch (52/75): (60000/60000) -> loss: 0.4009 - acc: 0.8583 - val_loss: 0.3241 - val_acc: 0.8858 - lr: ['0.00100000']\n",
            "Epoch (53/75): (60000/60000) -> loss: 0.3976 - acc: 0.8592 - val_loss: 0.4539 - val_acc: 0.8390 - lr: ['0.00100000']\n",
            "Epoch (54/75): (60000/60000) -> loss: 0.3966 - acc: 0.8594 - val_loss: 0.3212 - val_acc: 0.8836 - lr: ['0.00100000']\n",
            "Epoch (55/75): (60000/60000) -> loss: 0.3970 - acc: 0.8588 - val_loss: 0.3316 - val_acc: 0.8845 - lr: ['0.00100000']\n",
            "Epoch (56/75): (60000/60000) -> loss: 0.3987 - acc: 0.8589 - val_loss: 0.3468 - val_acc: 0.8787 - lr: ['0.00100000']\n",
            "Epoch (57/75): (60000/60000) -> loss: 0.3945 - acc: 0.8607 - val_loss: 0.3572 - val_acc: 0.8724 - lr: ['0.00100000']\n",
            "Epoch (58/75): (60000/60000) -> loss: 0.3988 - acc: 0.8582 - val_loss: 0.3463 - val_acc: 0.8728 - lr: ['0.00100000']\n",
            "Epoch (59/75): (60000/60000) -> loss: 0.3987 - acc: 0.8606 - val_loss: 0.3408 - val_acc: 0.8770 - lr: ['0.00100000']\n",
            "Epoch (60/75): (60000/60000) -> loss: 0.3953 - acc: 0.8604 - val_loss: 0.4714 - val_acc: 0.8411 - lr: ['0.00100000']\n",
            "Epoch (61/75): (60000/60000) -> loss: 0.4003 - acc: 0.8589 - val_loss: 0.3785 - val_acc: 0.8648 - lr: ['0.00100000']\n",
            "Epoch (62/75): (60000/60000) -> loss: 0.3902 - acc: 0.8611 - val_loss: 0.6262 - val_acc: 0.7857 - lr: ['0.00100000']\n",
            "Epoch (63/75): (60000/60000) -> loss: 0.3951 - acc: 0.8601 - val_loss: 0.3586 - val_acc: 0.8697 - lr: ['0.00100000']\n",
            "Epoch (64/75): (60000/60000) -> loss: 0.3984 - acc: 0.8590 - val_loss: 0.5161 - val_acc: 0.8175 - lr: ['0.00100000']\n",
            "Epoch (65/75): (60000/60000) -> loss: 0.3947 - acc: 0.8598 - val_loss: 0.3601 - val_acc: 0.8686 - lr: ['0.00100000']\n",
            "Epoch (66/75): (60000/60000) -> loss: 0.3947 - acc: 0.8612 - val_loss: 0.3044 - val_acc: 0.8898 - lr: ['0.00100000']\n",
            "Epoch (67/75): (60000/60000) -> loss: 0.3962 - acc: 0.8602 - val_loss: 0.3145 - val_acc: 0.8868 - lr: ['0.00100000']\n",
            "Epoch (68/75): (60000/60000) -> loss: 0.3939 - acc: 0.8605 - val_loss: 0.3288 - val_acc: 0.8842 - lr: ['0.00100000']\n",
            "Epoch (69/75): (60000/60000) -> loss: 0.3957 - acc: 0.8601 - val_loss: 0.3340 - val_acc: 0.8801 - lr: ['0.00100000']\n",
            "Epoch (70/75): (60000/60000) -> loss: 0.3962 - acc: 0.8602 - val_loss: 0.3291 - val_acc: 0.8808 - lr: ['0.00100000']\n",
            "Epoch (71/75): (60000/60000) -> loss: 0.3931 - acc: 0.8604 - val_loss: 0.3513 - val_acc: 0.8720 - lr: ['0.00100000']\n",
            "Epoch (72/75): (60000/60000) -> loss: 0.3981 - acc: 0.8603 - val_loss: 0.3321 - val_acc: 0.8880 - lr: ['0.00100000']\n",
            "Epoch (73/75): (60000/60000) -> loss: 0.3903 - acc: 0.8624 - val_loss: 0.3560 - val_acc: 0.8743 - lr: ['0.00100000']\n",
            "Epoch (74/75): (60000/60000) -> loss: 0.3910 - acc: 0.8628 - val_loss: 0.3737 - val_acc: 0.8610 - lr: ['0.00100000']\n",
            "Epoch (75/75): (60000/60000) -> loss: 0.3933 - acc: 0.8607 - val_loss: 0.3507 - val_acc: 0.8741 - lr: ['0.00100000']\n"
          ]
        }
      ],
      "source": [
        "hist = model.fit_dataset(train_dataset, validation_dataset=val_dataset, \n",
        "                         epochs=NUM_EPOCHS, batch_size=BATCH_SIZE)"
      ]
    },
    {
      "cell_type": "code",
      "execution_count": null,
      "metadata": {
        "colab": {
          "background_save": true
        },
        "id": "S_Mru1OCS4rl",
        "outputId": "79eeea0d-5747-4327-fa8a-f710dfc89f45"
      },
      "outputs": [
        {
          "data": {
            "image/png": "[encoded data removed]",
            "text/plain": [
              "<Figure size 1152x360 with 2 Axes>"
            ]
          },
          "metadata": {},
          "output_type": "display_data"
        }
      ],
      "source": [
        "pytk.show_plots(hist, metric='acc')"
      ]
    },
    {
      "cell_type": "code",
      "execution_count": null,
      "metadata": {
        "colab": {
          "background_save": true
        },
        "id": "7ORcPXbGTShI",
        "outputId": "a3c5a440-6a23-4e21-aad0-b79ab32c304b"
      },
      "outputs": [
        {
          "name": "stdout",
          "output_type": "stream",
          "text": [
            "Evaluating model performance...\n",
            "Evaluating (60000/60000) -> loss: 0.3364 - acc: 0.8777\n",
            "  Training dataset -> loss: 0.3364 - acc: 0.8777\n",
            "Evaluating (8000/8000) -> loss: 0.3493 - acc: 0.8749\n",
            "  Cross-val dataset -> loss: 0.3493 - acc: 0.8749\n",
            "Evaluating (2000/2000) -> loss: 0.3729 - acc: 0.8662\n",
            "  Test dataset      -> loss: 0.3729 - acc: 0.8662\n"
          ]
        }
      ],
      "source": [
        "# evaluate performance\n",
        "print('Evaluating model performance...')\n",
        "loss, acc = model.evaluate_dataset(train_dataset)\n",
        "print(f'  Training dataset -> loss: {loss:.4f} - acc: {acc:.4f}')\n",
        "loss, acc = model.evaluate_dataset(val_dataset)\n",
        "print(f'  Cross-val dataset -> loss: {loss:.4f} - acc: {acc:.4f}')\n",
        "loss, acc = model.evaluate_dataset(test_dataset)\n",
        "print(f'  Test dataset      -> loss: {loss:.4f} - acc: {acc:.4f}')"
      ]
    },
    {
      "cell_type": "markdown",
      "metadata": {
        "id": "GWklgT8dTcWE"
      },
      "source": [
        "### Observations\n",
        "\n",
        ">Configuration | Training Acc | Cross-val Acc | Test Acc | Observation\n",
        ">:---|:---:|:---:|:---:|:---|\n",
        ">**Base Model**|99.69%|93.39%|93.07%| Overfitting\n",
        ">**Base Model + L2 regularization**|96.69%|92.17%|92.38%| Still Overfitting\n",
        ">**Base Model + Dropout regularization**|99.27%|93.93%|93.90%| Overfitting\n",
        ">**Base Model + Dropout & L2 regularization**|95.04%|93.01%|92.92%| Overfitting has reduced.\n",
        "\n",
        "You will notice that after implemention both L2 & dropout regularization, overall overfitting has reduced to approx ~ 2% (from ~ 6%) for training accuracies. The cross-val & test accuracies are at a level similar to the base model (~ 93%).\n",
        "\n",
        "* We could try and train this model for many more epochs (say 50) as the loss + accuracy curves have not diverged much\n",
        "* We could try with various values of L2-REG and dropout percentages to get the best model (iterative approach).\n",
        "* We can inspect another technique, where we use pre-trained models."
      ]
    },
    {
      "cell_type": "code",
      "execution_count": null,
      "metadata": {
        "colab": {
          "background_save": true
        },
        "id": "SakZUD-9TSd2",
        "outputId": "24b3c375-f19e-44da-b05e-fe1e8402276e"
      },
      "outputs": [
        {
          "name": "stdout",
          "output_type": "stream",
          "text": [
            "Pytorch model saved to /content/drive/My Drive/Colab Notebooks/Pytorch/model_states/pyt_fashion_mnist_cnn_aug.pyt\n"
          ]
        }
      ],
      "source": [
        "model.save(PY_MODEL_SAVE_PATH_AUG)\n",
        "del model"
      ]
    },
    {
      "cell_type": "code",
      "execution_count": null,
      "metadata": {
        "colab": {
          "background_save": true
        },
        "id": "QrFtPdjpTSZ6",
        "outputId": "387ea09c-f4e0-4ae7-bf27-9ec968e50283"
      },
      "outputs": [
        {
          "name": "stdout",
          "output_type": "stream",
          "text": [
            "Pytorch model loaded from /content/drive/My Drive/Colab Notebooks/Pytorch/model_states/pyt_fashion_mnist_cnn_aug.pyt\n",
            "----------------------------------------------------------------\n",
            "        Layer (type)               Output Shape         Param #\n",
            "================================================================\n",
            "            Conv2d-1           [-1, 64, 28, 28]             640\n",
            "              ReLU-2           [-1, 64, 28, 28]               0\n",
            "       BatchNorm2d-3           [-1, 64, 28, 28]             128\n",
            "            Conv2d-4           [-1, 64, 28, 28]          36,928\n",
            "              ReLU-5           [-1, 64, 28, 28]               0\n",
            "       BatchNorm2d-6           [-1, 64, 28, 28]             128\n",
            "         MaxPool2d-7           [-1, 64, 14, 14]               0\n",
            "           Dropout-8           [-1, 64, 14, 14]               0\n",
            "            Conv2d-9          [-1, 128, 14, 14]          73,856\n",
            "             ReLU-10          [-1, 128, 14, 14]               0\n",
            "      BatchNorm2d-11          [-1, 128, 14, 14]             256\n",
            "           Conv2d-12          [-1, 128, 14, 14]         147,584\n",
            "             ReLU-13          [-1, 128, 14, 14]               0\n",
            "      BatchNorm2d-14          [-1, 128, 14, 14]             256\n",
            "        MaxPool2d-15            [-1, 128, 7, 7]               0\n",
            "          Dropout-16            [-1, 128, 7, 7]               0\n",
            "           Conv2d-17            [-1, 256, 7, 7]         295,168\n",
            "             ReLU-18            [-1, 256, 7, 7]               0\n",
            "      BatchNorm2d-19            [-1, 256, 7, 7]             512\n",
            "           Conv2d-20            [-1, 256, 7, 7]         590,080\n",
            "             ReLU-21            [-1, 256, 7, 7]               0\n",
            "      BatchNorm2d-22            [-1, 256, 7, 7]             512\n",
            "        MaxPool2d-23            [-1, 256, 3, 3]               0\n",
            "          Dropout-24            [-1, 256, 3, 3]               0\n",
            "          Flatten-25                 [-1, 2304]               0\n",
            "          Dropout-26                 [-1, 2304]               0\n",
            "           Linear-27                 [-1, 1024]       2,360,320\n",
            "             ReLU-28                 [-1, 1024]               0\n",
            "          Dropout-29                 [-1, 1024]               0\n",
            "           Linear-30                  [-1, 512]         524,800\n",
            "             ReLU-31                  [-1, 512]               0\n",
            "          Dropout-32                  [-1, 512]               0\n",
            "           Linear-33                   [-1, 10]           5,130\n",
            "================================================================\n",
            "Total params: 4,036,298\n",
            "Trainable params: 4,036,298\n",
            "Non-trainable params: 0\n",
            "----------------------------------------------------------------\n",
            "Input size (MB): 0.00\n",
            "Forward/backward pass size (MB): 4.41\n",
            "Params size (MB): 15.40\n",
            "Estimated Total Size (MB): 19.81\n",
            "----------------------------------------------------------------\n",
            "None\n"
          ]
        }
      ],
      "source": [
        "model, optimizer = build_model_l2_do()\n",
        "model.load(PY_MODEL_SAVE_PATH_AUG)\n",
        "print(model.summary((NUM_CHANNELS, IMAGE_HEIGHT, IMAGE_WIDTH)))"
      ]
    },
    {
      "cell_type": "code",
      "execution_count": null,
      "metadata": {
        "colab": {
          "background_save": true
        },
        "id": "eODdbPCvTSQz",
        "outputId": "a8f21f7a-5640-43de-f494-416262aa642a"
      },
      "outputs": [
        {
          "name": "stdout",
          "output_type": "stream",
          "text": [
            "Sample labels (50):  [6 4 5 4 8 0 8 9 5 3 5 4 3 3 0 9 1 2 5 0 8 9 8 0 6 4 7 6 5 0 1 8 1 1 9 7 0 7 5 3 4 4 2 1 9 5 8 4 8 0]\n",
            "Sample predictions (50):  [6 4 5 4 8 0 8 9 5 3 5 4 3 3 0 9 1 2 5 0 8 9 8 0 6 4 7 6 5 0 1 8 1 1 9 7 0 7 5 3 4 4 2 1 9 5 8 4 8 0]\n",
            "We got 274/2000 incorrect!\n"
          ]
        }
      ],
      "source": [
        "# run predictions\n",
        "y_pred, y_true = model.predict_dataset(test_dataset)\n",
        "y_pred = np.argmax(y_pred, axis=1)\n",
        "print('Sample labels (50): ', y_true[:50])\n",
        "print('Sample predictions (50): ', y_true[:50])\n",
        "print('We got %d/%d incorrect!' % ((y_pred != y_true).sum(), len(y_true)))"
      ]
    },
    {
      "cell_type": "code",
      "execution_count": null,
      "metadata": {
        "colab": {
          "background_save": true
        },
        "id": "1FqX5Psg0ZQX",
        "outputId": "504e109e-2a66-4bbf-e50c-077be7e621f4"
      },
      "outputs": [
        {
          "name": "stdout",
          "output_type": "stream",
          "text": [
            "Displaying sample predictions...\n"
          ]
        },
        {
          "data": {
            "image/png": "[encoded data removed]",
            "text/plain": [
              "<Figure size 1008x720 with 64 Axes>"
            ]
          },
          "metadata": {},
          "output_type": "display_data"
        }
      ],
      "source": [
        "# display sample\n",
        "print('Displaying sample predictions...')\n",
        "trainloader = torch.utils.data.DataLoader(test_dataset, batch_size=64, shuffle=True)\n",
        "data_iter = iter(trainloader)\n",
        "images, labels = data_iter.next()  # fetch a batch of 64 random images\n",
        "preds = model.predict(images)\n",
        "preds = np.argmax(preds, axis=1)\n",
        "#type(images), type(labels), type(preds)\n",
        "display_sample(images, labels.cpu().numpy(), sample_predictions=preds,\n",
        "                grid_shape=(8, 8), plot_title='Sample Predictions - Test Dataset')"
      ]
    },
    {
      "cell_type": "markdown",
      "metadata": {
        "id": "moJ-XRBlTsk3"
      },
      "source": [
        "# <center> -- END -- </center>"
      ]
    }
  ],
  "metadata": {
    "accelerator": "GPU",
    "colab": {
      "collapsed_sections": [],
      "machine_shape": "hm",
      "name": "pyt_fashion_mnist-Part3.ipynb",
      "provenance": []
    },
    "kernelspec": {
      "display_name": "Python 3",
      "name": "python3"
    },
    "widgets": {
      "application/vnd.jupyter.widget-state+json": {
        "0ebce7572ab84a159accc703bf52ab31": {
          "model_module": "@jupyter-widgets/controls",
          "model_module_version": "1.5.0",
          "model_name": "ProgressStyleModel",
          "state": {
            "_model_module": "@jupyter-widgets/controls",
            "_model_module_version": "1.5.0",
            "_model_name": "ProgressStyleModel",
            "_view_count": null,
            "_view_module": "@jupyter-widgets/base",
            "_view_module_version": "1.2.0",
            "_view_name": "StyleView",
            "bar_color": null,
            "description_width": ""
          }
        },
        "0f6252467bfe4238beb06c7921f11745": {
          "model_module": "@jupyter-widgets/controls",
          "model_module_version": "1.5.0",
          "model_name": "DescriptionStyleModel",
          "state": {
            "_model_module": "@jupyter-widgets/controls",
            "_model_module_version": "1.5.0",
            "_model_name": "DescriptionStyleModel",
            "_view_count": null,
            "_view_module": "@jupyter-widgets/base",
            "_view_module_version": "1.2.0",
            "_view_name": "StyleView",
            "description_width": ""
          }
        },
        "1352914f62604f7397318e20aa84c8cf": {
          "model_module": "@jupyter-widgets/controls",
          "model_module_version": "1.5.0",
          "model_name": "HTMLModel",
          "state": {
            "_dom_classes": [],
            "_model_module": "@jupyter-widgets/controls",
            "_model_module_version": "1.5.0",
            "_model_name": "HTMLModel",
            "_view_count": null,
            "_view_module": "@jupyter-widgets/controls",
            "_view_module_version": "1.5.0",
            "_view_name": "HTMLView",
            "description": "",
            "description_tooltip": null,
            "layout": "IPY_MODEL_7ca39d252f5f49b890097bb8798e7dac",
            "placeholder": "​",
            "style": "IPY_MODEL_55344aa98d16469094fb4010347edcd8",
            "value": " 6144/? [00:00&lt;00:00, 203097.35it/s]"
          }
        },
        "15d405b85a8b414bb53dcb23195880b3": {
          "model_module": "@jupyter-widgets/controls",
          "model_module_version": "1.5.0",
          "model_name": "HBoxModel",
          "state": {
            "_dom_classes": [],
            "_model_module": "@jupyter-widgets/controls",
            "_model_module_version": "1.5.0",
            "_model_name": "HBoxModel",
            "_view_count": null,
            "_view_module": "@jupyter-widgets/controls",
            "_view_module_version": "1.5.0",
            "_view_name": "HBoxView",
            "box_style": "",
            "children": [
              "IPY_MODEL_bbe68513567340a4b41ffd7c42c3d968",
              "IPY_MODEL_f2703d3853bf476a81ebbea46510177e",
              "IPY_MODEL_2cca00681db0420387d44dfeb59138fe"
            ],
            "layout": "IPY_MODEL_39a22f4f49d14713ae315ce3565641ae"
          }
        },
        "17411ffd204842ffa8fb9284fe7475cc": {
          "model_module": "@jupyter-widgets/controls",
          "model_module_version": "1.5.0",
          "model_name": "ProgressStyleModel",
          "state": {
            "_model_module": "@jupyter-widgets/controls",
            "_model_module_version": "1.5.0",
            "_model_name": "ProgressStyleModel",
            "_view_count": null,
            "_view_module": "@jupyter-widgets/base",
            "_view_module_version": "1.2.0",
            "_view_name": "StyleView",
            "bar_color": null,
            "description_width": ""
          }
        },
        "19c5f081f8ec44f0a0cb7d10ed477854": {
          "model_module": "@jupyter-widgets/base",
          "model_module_version": "1.2.0",
          "model_name": "LayoutModel",
          "state": {
            "_model_module": "@jupyter-widgets/base",
            "_model_module_version": "1.2.0",
            "_model_name": "LayoutModel",
            "_view_count": null,
            "_view_module": "@jupyter-widgets/base",
            "_view_module_version": "1.2.0",
            "_view_name": "LayoutView",
            "align_content": null,
            "align_items": null,
            "align_self": null,
            "border": null,
            "bottom": null,
            "display": null,
            "flex": null,
            "flex_flow": null,
            "grid_area": null,
            "grid_auto_columns": null,
            "grid_auto_flow": null,
            "grid_auto_rows": null,
            "grid_column": null,
            "grid_gap": null,
            "grid_row": null,
            "grid_template_areas": null,
            "grid_template_columns": null,
            "grid_template_rows": null,
            "height": null,
            "justify_content": null,
            "justify_items": null,
            "left": null,
            "margin": null,
            "max_height": null,
            "max_width": null,
            "min_height": null,
            "min_width": null,
            "object_fit": null,
            "object_position": null,
            "order": null,
            "overflow": null,
            "overflow_x": null,
            "overflow_y": null,
            "padding": null,
            "right": null,
            "top": null,
            "visibility": null,
            "width": null
          }
        },
        "1da1770620274b539e5bdd2474f312d2": {
          "model_module": "@jupyter-widgets/base",
          "model_module_version": "1.2.0",
          "model_name": "LayoutModel",
          "state": {
            "_model_module": "@jupyter-widgets/base",
            "_model_module_version": "1.2.0",
            "_model_name": "LayoutModel",
            "_view_count": null,
            "_view_module": "@jupyter-widgets/base",
            "_view_module_version": "1.2.0",
            "_view_name": "LayoutView",
            "align_content": null,
            "align_items": null,
            "align_self": null,
            "border": null,
            "bottom": null,
            "display": null,
            "flex": null,
            "flex_flow": null,
            "grid_area": null,
            "grid_auto_columns": null,
            "grid_auto_flow": null,
            "grid_auto_rows": null,
            "grid_column": null,
            "grid_gap": null,
            "grid_row": null,
            "grid_template_areas": null,
            "grid_template_columns": null,
            "grid_template_rows": null,
            "height": null,
            "justify_content": null,
            "justify_items": null,
            "left": null,
            "margin": null,
            "max_height": null,
            "max_width": null,
            "min_height": null,
            "min_width": null,
            "object_fit": null,
            "object_position": null,
            "order": null,
            "overflow": null,
            "overflow_x": null,
            "overflow_y": null,
            "padding": null,
            "right": null,
            "top": null,
            "visibility": null,
            "width": null
          }
        },
        "1e6f202468a7470caa131db1c41fa54a": {
          "model_module": "@jupyter-widgets/controls",
          "model_module_version": "1.5.0",
          "model_name": "HBoxModel",
          "state": {
            "_dom_classes": [],
            "_model_module": "@jupyter-widgets/controls",
            "_model_module_version": "1.5.0",
            "_model_name": "HBoxModel",
            "_view_count": null,
            "_view_module": "@jupyter-widgets/controls",
            "_view_module_version": "1.5.0",
            "_view_name": "HBoxView",
            "box_style": "",
            "children": [
              "IPY_MODEL_827357142d0747708b47cc7dfb4ec837",
              "IPY_MODEL_484ba4cd45ce4cf8976afe53ac3fb911",
              "IPY_MODEL_a5032bf2cd5a455293c16180d41f287d"
            ],
            "layout": "IPY_MODEL_1da1770620274b539e5bdd2474f312d2"
          }
        },
        "289a1a215d3f4a7790c68044671fc9ce": {
          "model_module": "@jupyter-widgets/controls",
          "model_module_version": "1.5.0",
          "model_name": "HTMLModel",
          "state": {
            "_dom_classes": [],
            "_model_module": "@jupyter-widgets/controls",
            "_model_module_version": "1.5.0",
            "_model_name": "HTMLModel",
            "_view_count": null,
            "_view_module": "@jupyter-widgets/controls",
            "_view_module_version": "1.5.0",
            "_view_name": "HTMLView",
            "description": "",
            "description_tooltip": null,
            "layout": "IPY_MODEL_8023e656fd5a4c70b79cd13fe488bb1e",
            "placeholder": "​",
            "style": "IPY_MODEL_bca6d117e6224041a621e5a85861b8d7",
            "value": ""
          }
        },
        "2a92ee61e18c4551960776ada99351bd": {
          "model_module": "@jupyter-widgets/controls",
          "model_module_version": "1.5.0",
          "model_name": "DescriptionStyleModel",
          "state": {
            "_model_module": "@jupyter-widgets/controls",
            "_model_module_version": "1.5.0",
            "_model_name": "DescriptionStyleModel",
            "_view_count": null,
            "_view_module": "@jupyter-widgets/base",
            "_view_module_version": "1.2.0",
            "_view_name": "StyleView",
            "description_width": ""
          }
        },
        "2cca00681db0420387d44dfeb59138fe": {
          "model_module": "@jupyter-widgets/controls",
          "model_module_version": "1.5.0",
          "model_name": "HTMLModel",
          "state": {
            "_dom_classes": [],
            "_model_module": "@jupyter-widgets/controls",
            "_model_module_version": "1.5.0",
            "_model_name": "HTMLModel",
            "_view_count": null,
            "_view_module": "@jupyter-widgets/controls",
            "_view_module_version": "1.5.0",
            "_view_name": "HTMLView",
            "description": "",
            "description_tooltip": null,
            "layout": "IPY_MODEL_a3547e56a1914353b59d3b21427ada7d",
            "placeholder": "​",
            "style": "IPY_MODEL_fb510ece71c247e6adf59b52ba74e19e",
            "value": " 4422656/? [00:02&lt;00:00, 3226927.71it/s]"
          }
        },
        "39943de35fad4e0a8bc16a814622fd5e": {
          "model_module": "@jupyter-widgets/controls",
          "model_module_version": "1.5.0",
          "model_name": "HTMLModel",
          "state": {
            "_dom_classes": [],
            "_model_module": "@jupyter-widgets/controls",
            "_model_module_version": "1.5.0",
            "_model_name": "HTMLModel",
            "_view_count": null,
            "_view_module": "@jupyter-widgets/controls",
            "_view_module_version": "1.5.0",
            "_view_name": "HTMLView",
            "description": "",
            "description_tooltip": null,
            "layout": "IPY_MODEL_f13805dcd46644e59896cc1afa34293e",
            "placeholder": "​",
            "style": "IPY_MODEL_432c05a41bee4059b3e98e0e012ecf66",
            "value": ""
          }
        },
        "39a22f4f49d14713ae315ce3565641ae": {
          "model_module": "@jupyter-widgets/base",
          "model_module_version": "1.2.0",
          "model_name": "LayoutModel",
          "state": {
            "_model_module": "@jupyter-widgets/base",
            "_model_module_version": "1.2.0",
            "_model_name": "LayoutModel",
            "_view_count": null,
            "_view_module": "@jupyter-widgets/base",
            "_view_module_version": "1.2.0",
            "_view_name": "LayoutView",
            "align_content": null,
            "align_items": null,
            "align_self": null,
            "border": null,
            "bottom": null,
            "display": null,
            "flex": null,
            "flex_flow": null,
            "grid_area": null,
            "grid_auto_columns": null,
            "grid_auto_flow": null,
            "grid_auto_rows": null,
            "grid_column": null,
            "grid_gap": null,
            "grid_row": null,
            "grid_template_areas": null,
            "grid_template_columns": null,
            "grid_template_rows": null,
            "height": null,
            "justify_content": null,
            "justify_items": null,
            "left": null,
            "margin": null,
            "max_height": null,
            "max_width": null,
            "min_height": null,
            "min_width": null,
            "object_fit": null,
            "object_position": null,
            "order": null,
            "overflow": null,
            "overflow_x": null,
            "overflow_y": null,
            "padding": null,
            "right": null,
            "top": null,
            "visibility": null,
            "width": null
          }
        },
        "3d153acea08e4f8995ca272e8025ef01": {
          "model_module": "@jupyter-widgets/controls",
          "model_module_version": "1.5.0",
          "model_name": "FloatProgressModel",
          "state": {
            "_dom_classes": [],
            "_model_module": "@jupyter-widgets/controls",
            "_model_module_version": "1.5.0",
            "_model_name": "FloatProgressModel",
            "_view_count": null,
            "_view_module": "@jupyter-widgets/controls",
            "_view_module_version": "1.5.0",
            "_view_name": "ProgressView",
            "bar_style": "success",
            "description": "",
            "description_tooltip": null,
            "layout": "IPY_MODEL_9ccb379e0f794468becfca498af3e0b6",
            "max": 29515,
            "min": 0,
            "orientation": "horizontal",
            "style": "IPY_MODEL_17411ffd204842ffa8fb9284fe7475cc",
            "value": 29515
          }
        },
        "432c05a41bee4059b3e98e0e012ecf66": {
          "model_module": "@jupyter-widgets/controls",
          "model_module_version": "1.5.0",
          "model_name": "DescriptionStyleModel",
          "state": {
            "_model_module": "@jupyter-widgets/controls",
            "_model_module_version": "1.5.0",
            "_model_name": "DescriptionStyleModel",
            "_view_count": null,
            "_view_module": "@jupyter-widgets/base",
            "_view_module_version": "1.2.0",
            "_view_name": "StyleView",
            "description_width": ""
          }
        },
        "484ba4cd45ce4cf8976afe53ac3fb911": {
          "model_module": "@jupyter-widgets/controls",
          "model_module_version": "1.5.0",
          "model_name": "FloatProgressModel",
          "state": {
            "_dom_classes": [],
            "_model_module": "@jupyter-widgets/controls",
            "_model_module_version": "1.5.0",
            "_model_name": "FloatProgressModel",
            "_view_count": null,
            "_view_module": "@jupyter-widgets/controls",
            "_view_module_version": "1.5.0",
            "_view_name": "ProgressView",
            "bar_style": "success",
            "description": "",
            "description_tooltip": null,
            "layout": "IPY_MODEL_4b168fc41a5a45d280e6d051646bc606",
            "max": 26421880,
            "min": 0,
            "orientation": "horizontal",
            "style": "IPY_MODEL_9444caa80366473ea836425c4e0046f5",
            "value": 26421880
          }
        },
        "48ea588c74c641a29eac460c9fa9500f": {
          "model_module": "@jupyter-widgets/controls",
          "model_module_version": "1.5.0",
          "model_name": "HTMLModel",
          "state": {
            "_dom_classes": [],
            "_model_module": "@jupyter-widgets/controls",
            "_model_module_version": "1.5.0",
            "_model_name": "HTMLModel",
            "_view_count": null,
            "_view_module": "@jupyter-widgets/controls",
            "_view_module_version": "1.5.0",
            "_view_name": "HTMLView",
            "description": "",
            "description_tooltip": null,
            "layout": "IPY_MODEL_8ebd17bb670247fbb2d122f3a22da472",
            "placeholder": "​",
            "style": "IPY_MODEL_8017ca631e5a440497dec812c1e9b0f8",
            "value": " 29696/? [00:00&lt;00:00, 55778.28it/s]"
          }
        },
        "4b168fc41a5a45d280e6d051646bc606": {
          "model_module": "@jupyter-widgets/base",
          "model_module_version": "1.2.0",
          "model_name": "LayoutModel",
          "state": {
            "_model_module": "@jupyter-widgets/base",
            "_model_module_version": "1.2.0",
            "_model_name": "LayoutModel",
            "_view_count": null,
            "_view_module": "@jupyter-widgets/base",
            "_view_module_version": "1.2.0",
            "_view_name": "LayoutView",
            "align_content": null,
            "align_items": null,
            "align_self": null,
            "border": null,
            "bottom": null,
            "display": null,
            "flex": null,
            "flex_flow": null,
            "grid_area": null,
            "grid_auto_columns": null,
            "grid_auto_flow": null,
            "grid_auto_rows": null,
            "grid_column": null,
            "grid_gap": null,
            "grid_row": null,
            "grid_template_areas": null,
            "grid_template_columns": null,
            "grid_template_rows": null,
            "height": null,
            "justify_content": null,
            "justify_items": null,
            "left": null,
            "margin": null,
            "max_height": null,
            "max_width": null,
            "min_height": null,
            "min_width": null,
            "object_fit": null,
            "object_position": null,
            "order": null,
            "overflow": null,
            "overflow_x": null,
            "overflow_y": null,
            "padding": null,
            "right": null,
            "top": null,
            "visibility": null,
            "width": null
          }
        },
        "55344aa98d16469094fb4010347edcd8": {
          "model_module": "@jupyter-widgets/controls",
          "model_module_version": "1.5.0",
          "model_name": "DescriptionStyleModel",
          "state": {
            "_model_module": "@jupyter-widgets/controls",
            "_model_module_version": "1.5.0",
            "_model_name": "DescriptionStyleModel",
            "_view_count": null,
            "_view_module": "@jupyter-widgets/base",
            "_view_module_version": "1.2.0",
            "_view_name": "StyleView",
            "description_width": ""
          }
        },
        "686364b96aa14f6cb91002d496039933": {
          "model_module": "@jupyter-widgets/base",
          "model_module_version": "1.2.0",
          "model_name": "LayoutModel",
          "state": {
            "_model_module": "@jupyter-widgets/base",
            "_model_module_version": "1.2.0",
            "_model_name": "LayoutModel",
            "_view_count": null,
            "_view_module": "@jupyter-widgets/base",
            "_view_module_version": "1.2.0",
            "_view_name": "LayoutView",
            "align_content": null,
            "align_items": null,
            "align_self": null,
            "border": null,
            "bottom": null,
            "display": null,
            "flex": null,
            "flex_flow": null,
            "grid_area": null,
            "grid_auto_columns": null,
            "grid_auto_flow": null,
            "grid_auto_rows": null,
            "grid_column": null,
            "grid_gap": null,
            "grid_row": null,
            "grid_template_areas": null,
            "grid_template_columns": null,
            "grid_template_rows": null,
            "height": null,
            "justify_content": null,
            "justify_items": null,
            "left": null,
            "margin": null,
            "max_height": null,
            "max_width": null,
            "min_height": null,
            "min_width": null,
            "object_fit": null,
            "object_position": null,
            "order": null,
            "overflow": null,
            "overflow_x": null,
            "overflow_y": null,
            "padding": null,
            "right": null,
            "top": null,
            "visibility": null,
            "width": null
          }
        },
        "75a7210517fe455c9cba51d0092cccfc": {
          "model_module": "@jupyter-widgets/controls",
          "model_module_version": "1.5.0",
          "model_name": "FloatProgressModel",
          "state": {
            "_dom_classes": [],
            "_model_module": "@jupyter-widgets/controls",
            "_model_module_version": "1.5.0",
            "_model_name": "FloatProgressModel",
            "_view_count": null,
            "_view_module": "@jupyter-widgets/controls",
            "_view_module_version": "1.5.0",
            "_view_name": "ProgressView",
            "bar_style": "success",
            "description": "",
            "description_tooltip": null,
            "layout": "IPY_MODEL_775121e801ca4dc089012bc79f8e56d5",
            "max": 5148,
            "min": 0,
            "orientation": "horizontal",
            "style": "IPY_MODEL_0ebce7572ab84a159accc703bf52ab31",
            "value": 5148
          }
        },
        "775121e801ca4dc089012bc79f8e56d5": {
          "model_module": "@jupyter-widgets/base",
          "model_module_version": "1.2.0",
          "model_name": "LayoutModel",
          "state": {
            "_model_module": "@jupyter-widgets/base",
            "_model_module_version": "1.2.0",
            "_model_name": "LayoutModel",
            "_view_count": null,
            "_view_module": "@jupyter-widgets/base",
            "_view_module_version": "1.2.0",
            "_view_name": "LayoutView",
            "align_content": null,
            "align_items": null,
            "align_self": null,
            "border": null,
            "bottom": null,
            "display": null,
            "flex": null,
            "flex_flow": null,
            "grid_area": null,
            "grid_auto_columns": null,
            "grid_auto_flow": null,
            "grid_auto_rows": null,
            "grid_column": null,
            "grid_gap": null,
            "grid_row": null,
            "grid_template_areas": null,
            "grid_template_columns": null,
            "grid_template_rows": null,
            "height": null,
            "justify_content": null,
            "justify_items": null,
            "left": null,
            "margin": null,
            "max_height": null,
            "max_width": null,
            "min_height": null,
            "min_width": null,
            "object_fit": null,
            "object_position": null,
            "order": null,
            "overflow": null,
            "overflow_x": null,
            "overflow_y": null,
            "padding": null,
            "right": null,
            "top": null,
            "visibility": null,
            "width": null
          }
        },
        "7bc3690ec1b6405d80c9b8ec436a8457": {
          "model_module": "@jupyter-widgets/base",
          "model_module_version": "1.2.0",
          "model_name": "LayoutModel",
          "state": {
            "_model_module": "@jupyter-widgets/base",
            "_model_module_version": "1.2.0",
            "_model_name": "LayoutModel",
            "_view_count": null,
            "_view_module": "@jupyter-widgets/base",
            "_view_module_version": "1.2.0",
            "_view_name": "LayoutView",
            "align_content": null,
            "align_items": null,
            "align_self": null,
            "border": null,
            "bottom": null,
            "display": null,
            "flex": null,
            "flex_flow": null,
            "grid_area": null,
            "grid_auto_columns": null,
            "grid_auto_flow": null,
            "grid_auto_rows": null,
            "grid_column": null,
            "grid_gap": null,
            "grid_row": null,
            "grid_template_areas": null,
            "grid_template_columns": null,
            "grid_template_rows": null,
            "height": null,
            "justify_content": null,
            "justify_items": null,
            "left": null,
            "margin": null,
            "max_height": null,
            "max_width": null,
            "min_height": null,
            "min_width": null,
            "object_fit": null,
            "object_position": null,
            "order": null,
            "overflow": null,
            "overflow_x": null,
            "overflow_y": null,
            "padding": null,
            "right": null,
            "top": null,
            "visibility": null,
            "width": null
          }
        },
        "7ca39d252f5f49b890097bb8798e7dac": {
          "model_module": "@jupyter-widgets/base",
          "model_module_version": "1.2.0",
          "model_name": "LayoutModel",
          "state": {
            "_model_module": "@jupyter-widgets/base",
            "_model_module_version": "1.2.0",
            "_model_name": "LayoutModel",
            "_view_count": null,
            "_view_module": "@jupyter-widgets/base",
            "_view_module_version": "1.2.0",
            "_view_name": "LayoutView",
            "align_content": null,
            "align_items": null,
            "align_self": null,
            "border": null,
            "bottom": null,
            "display": null,
            "flex": null,
            "flex_flow": null,
            "grid_area": null,
            "grid_auto_columns": null,
            "grid_auto_flow": null,
            "grid_auto_rows": null,
            "grid_column": null,
            "grid_gap": null,
            "grid_row": null,
            "grid_template_areas": null,
            "grid_template_columns": null,
            "grid_template_rows": null,
            "height": null,
            "justify_content": null,
            "justify_items": null,
            "left": null,
            "margin": null,
            "max_height": null,
            "max_width": null,
            "min_height": null,
            "min_width": null,
            "object_fit": null,
            "object_position": null,
            "order": null,
            "overflow": null,
            "overflow_x": null,
            "overflow_y": null,
            "padding": null,
            "right": null,
            "top": null,
            "visibility": null,
            "width": null
          }
        },
        "7f4848834c684f678ddb19279dc4d507": {
          "model_module": "@jupyter-widgets/controls",
          "model_module_version": "1.5.0",
          "model_name": "DescriptionStyleModel",
          "state": {
            "_model_module": "@jupyter-widgets/controls",
            "_model_module_version": "1.5.0",
            "_model_name": "DescriptionStyleModel",
            "_view_count": null,
            "_view_module": "@jupyter-widgets/base",
            "_view_module_version": "1.2.0",
            "_view_name": "StyleView",
            "description_width": ""
          }
        },
        "8017ca631e5a440497dec812c1e9b0f8": {
          "model_module": "@jupyter-widgets/controls",
          "model_module_version": "1.5.0",
          "model_name": "DescriptionStyleModel",
          "state": {
            "_model_module": "@jupyter-widgets/controls",
            "_model_module_version": "1.5.0",
            "_model_name": "DescriptionStyleModel",
            "_view_count": null,
            "_view_module": "@jupyter-widgets/base",
            "_view_module_version": "1.2.0",
            "_view_name": "StyleView",
            "description_width": ""
          }
        },
        "8023e656fd5a4c70b79cd13fe488bb1e": {
          "model_module": "@jupyter-widgets/base",
          "model_module_version": "1.2.0",
          "model_name": "LayoutModel",
          "state": {
            "_model_module": "@jupyter-widgets/base",
            "_model_module_version": "1.2.0",
            "_model_name": "LayoutModel",
            "_view_count": null,
            "_view_module": "@jupyter-widgets/base",
            "_view_module_version": "1.2.0",
            "_view_name": "LayoutView",
            "align_content": null,
            "align_items": null,
            "align_self": null,
            "border": null,
            "bottom": null,
            "display": null,
            "flex": null,
            "flex_flow": null,
            "grid_area": null,
            "grid_auto_columns": null,
            "grid_auto_flow": null,
            "grid_auto_rows": null,
            "grid_column": null,
            "grid_gap": null,
            "grid_row": null,
            "grid_template_areas": null,
            "grid_template_columns": null,
            "grid_template_rows": null,
            "height": null,
            "justify_content": null,
            "justify_items": null,
            "left": null,
            "margin": null,
            "max_height": null,
            "max_width": null,
            "min_height": null,
            "min_width": null,
            "object_fit": null,
            "object_position": null,
            "order": null,
            "overflow": null,
            "overflow_x": null,
            "overflow_y": null,
            "padding": null,
            "right": null,
            "top": null,
            "visibility": null,
            "width": null
          }
        },
        "827357142d0747708b47cc7dfb4ec837": {
          "model_module": "@jupyter-widgets/controls",
          "model_module_version": "1.5.0",
          "model_name": "HTMLModel",
          "state": {
            "_dom_classes": [],
            "_model_module": "@jupyter-widgets/controls",
            "_model_module_version": "1.5.0",
            "_model_name": "HTMLModel",
            "_view_count": null,
            "_view_module": "@jupyter-widgets/controls",
            "_view_module_version": "1.5.0",
            "_view_name": "HTMLView",
            "description": "",
            "description_tooltip": null,
            "layout": "IPY_MODEL_e9c9563a9e484c89a1eaa17a98e5fcb4",
            "placeholder": "​",
            "style": "IPY_MODEL_2a92ee61e18c4551960776ada99351bd",
            "value": ""
          }
        },
        "8ebd17bb670247fbb2d122f3a22da472": {
          "model_module": "@jupyter-widgets/base",
          "model_module_version": "1.2.0",
          "model_name": "LayoutModel",
          "state": {
            "_model_module": "@jupyter-widgets/base",
            "_model_module_version": "1.2.0",
            "_model_name": "LayoutModel",
            "_view_count": null,
            "_view_module": "@jupyter-widgets/base",
            "_view_module_version": "1.2.0",
            "_view_name": "LayoutView",
            "align_content": null,
            "align_items": null,
            "align_self": null,
            "border": null,
            "bottom": null,
            "display": null,
            "flex": null,
            "flex_flow": null,
            "grid_area": null,
            "grid_auto_columns": null,
            "grid_auto_flow": null,
            "grid_auto_rows": null,
            "grid_column": null,
            "grid_gap": null,
            "grid_row": null,
            "grid_template_areas": null,
            "grid_template_columns": null,
            "grid_template_rows": null,
            "height": null,
            "justify_content": null,
            "justify_items": null,
            "left": null,
            "margin": null,
            "max_height": null,
            "max_width": null,
            "min_height": null,
            "min_width": null,
            "object_fit": null,
            "object_position": null,
            "order": null,
            "overflow": null,
            "overflow_x": null,
            "overflow_y": null,
            "padding": null,
            "right": null,
            "top": null,
            "visibility": null,
            "width": null
          }
        },
        "8ebdccf43113465f9343a08f28e3abaa": {
          "model_module": "@jupyter-widgets/controls",
          "model_module_version": "1.5.0",
          "model_name": "ProgressStyleModel",
          "state": {
            "_model_module": "@jupyter-widgets/controls",
            "_model_module_version": "1.5.0",
            "_model_name": "ProgressStyleModel",
            "_view_count": null,
            "_view_module": "@jupyter-widgets/base",
            "_view_module_version": "1.2.0",
            "_view_name": "StyleView",
            "bar_color": null,
            "description_width": ""
          }
        },
        "9444caa80366473ea836425c4e0046f5": {
          "model_module": "@jupyter-widgets/controls",
          "model_module_version": "1.5.0",
          "model_name": "ProgressStyleModel",
          "state": {
            "_model_module": "@jupyter-widgets/controls",
            "_model_module_version": "1.5.0",
            "_model_name": "ProgressStyleModel",
            "_view_count": null,
            "_view_module": "@jupyter-widgets/base",
            "_view_module_version": "1.2.0",
            "_view_name": "StyleView",
            "bar_color": null,
            "description_width": ""
          }
        },
        "9ccb379e0f794468becfca498af3e0b6": {
          "model_module": "@jupyter-widgets/base",
          "model_module_version": "1.2.0",
          "model_name": "LayoutModel",
          "state": {
            "_model_module": "@jupyter-widgets/base",
            "_model_module_version": "1.2.0",
            "_model_name": "LayoutModel",
            "_view_count": null,
            "_view_module": "@jupyter-widgets/base",
            "_view_module_version": "1.2.0",
            "_view_name": "LayoutView",
            "align_content": null,
            "align_items": null,
            "align_self": null,
            "border": null,
            "bottom": null,
            "display": null,
            "flex": null,
            "flex_flow": null,
            "grid_area": null,
            "grid_auto_columns": null,
            "grid_auto_flow": null,
            "grid_auto_rows": null,
            "grid_column": null,
            "grid_gap": null,
            "grid_row": null,
            "grid_template_areas": null,
            "grid_template_columns": null,
            "grid_template_rows": null,
            "height": null,
            "justify_content": null,
            "justify_items": null,
            "left": null,
            "margin": null,
            "max_height": null,
            "max_width": null,
            "min_height": null,
            "min_width": null,
            "object_fit": null,
            "object_position": null,
            "order": null,
            "overflow": null,
            "overflow_x": null,
            "overflow_y": null,
            "padding": null,
            "right": null,
            "top": null,
            "visibility": null,
            "width": null
          }
        },
        "a2467ab8dae24341b43b5ba2de76bd64": {
          "model_module": "@jupyter-widgets/controls",
          "model_module_version": "1.5.0",
          "model_name": "HBoxModel",
          "state": {
            "_dom_classes": [],
            "_model_module": "@jupyter-widgets/controls",
            "_model_module_version": "1.5.0",
            "_model_name": "HBoxModel",
            "_view_count": null,
            "_view_module": "@jupyter-widgets/controls",
            "_view_module_version": "1.5.0",
            "_view_name": "HBoxView",
            "box_style": "",
            "children": [
              "IPY_MODEL_39943de35fad4e0a8bc16a814622fd5e",
              "IPY_MODEL_75a7210517fe455c9cba51d0092cccfc",
              "IPY_MODEL_1352914f62604f7397318e20aa84c8cf"
            ],
            "layout": "IPY_MODEL_7bc3690ec1b6405d80c9b8ec436a8457"
          }
        },
        "a3547e56a1914353b59d3b21427ada7d": {
          "model_module": "@jupyter-widgets/base",
          "model_module_version": "1.2.0",
          "model_name": "LayoutModel",
          "state": {
            "_model_module": "@jupyter-widgets/base",
            "_model_module_version": "1.2.0",
            "_model_name": "LayoutModel",
            "_view_count": null,
            "_view_module": "@jupyter-widgets/base",
            "_view_module_version": "1.2.0",
            "_view_name": "LayoutView",
            "align_content": null,
            "align_items": null,
            "align_self": null,
            "border": null,
            "bottom": null,
            "display": null,
            "flex": null,
            "flex_flow": null,
            "grid_area": null,
            "grid_auto_columns": null,
            "grid_auto_flow": null,
            "grid_auto_rows": null,
            "grid_column": null,
            "grid_gap": null,
            "grid_row": null,
            "grid_template_areas": null,
            "grid_template_columns": null,
            "grid_template_rows": null,
            "height": null,
            "justify_content": null,
            "justify_items": null,
            "left": null,
            "margin": null,
            "max_height": null,
            "max_width": null,
            "min_height": null,
            "min_width": null,
            "object_fit": null,
            "object_position": null,
            "order": null,
            "overflow": null,
            "overflow_x": null,
            "overflow_y": null,
            "padding": null,
            "right": null,
            "top": null,
            "visibility": null,
            "width": null
          }
        },
        "a5032bf2cd5a455293c16180d41f287d": {
          "model_module": "@jupyter-widgets/controls",
          "model_module_version": "1.5.0",
          "model_name": "HTMLModel",
          "state": {
            "_dom_classes": [],
            "_model_module": "@jupyter-widgets/controls",
            "_model_module_version": "1.5.0",
            "_model_name": "HTMLModel",
            "_view_count": null,
            "_view_module": "@jupyter-widgets/controls",
            "_view_module_version": "1.5.0",
            "_view_name": "HTMLView",
            "description": "",
            "description_tooltip": null,
            "layout": "IPY_MODEL_686364b96aa14f6cb91002d496039933",
            "placeholder": "​",
            "style": "IPY_MODEL_7f4848834c684f678ddb19279dc4d507",
            "value": " 26422272/? [00:04&lt;00:00, 9621211.78it/s]"
          }
        },
        "a54ced2d6a6a4f7f81c6a1ce4f225fe9": {
          "model_module": "@jupyter-widgets/controls",
          "model_module_version": "1.5.0",
          "model_name": "HBoxModel",
          "state": {
            "_dom_classes": [],
            "_model_module": "@jupyter-widgets/controls",
            "_model_module_version": "1.5.0",
            "_model_name": "HBoxModel",
            "_view_count": null,
            "_view_module": "@jupyter-widgets/controls",
            "_view_module_version": "1.5.0",
            "_view_name": "HBoxView",
            "box_style": "",
            "children": [
              "IPY_MODEL_289a1a215d3f4a7790c68044671fc9ce",
              "IPY_MODEL_3d153acea08e4f8995ca272e8025ef01",
              "IPY_MODEL_48ea588c74c641a29eac460c9fa9500f"
            ],
            "layout": "IPY_MODEL_e6f25955202e4d6e93b0db0807449512"
          }
        },
        "bbe68513567340a4b41ffd7c42c3d968": {
          "model_module": "@jupyter-widgets/controls",
          "model_module_version": "1.5.0",
          "model_name": "HTMLModel",
          "state": {
            "_dom_classes": [],
            "_model_module": "@jupyter-widgets/controls",
            "_model_module_version": "1.5.0",
            "_model_name": "HTMLModel",
            "_view_count": null,
            "_view_module": "@jupyter-widgets/controls",
            "_view_module_version": "1.5.0",
            "_view_name": "HTMLView",
            "description": "",
            "description_tooltip": null,
            "layout": "IPY_MODEL_19c5f081f8ec44f0a0cb7d10ed477854",
            "placeholder": "​",
            "style": "IPY_MODEL_0f6252467bfe4238beb06c7921f11745",
            "value": ""
          }
        },
        "bca6d117e6224041a621e5a85861b8d7": {
          "model_module": "@jupyter-widgets/controls",
          "model_module_version": "1.5.0",
          "model_name": "DescriptionStyleModel",
          "state": {
            "_model_module": "@jupyter-widgets/controls",
            "_model_module_version": "1.5.0",
            "_model_name": "DescriptionStyleModel",
            "_view_count": null,
            "_view_module": "@jupyter-widgets/base",
            "_view_module_version": "1.2.0",
            "_view_name": "StyleView",
            "description_width": ""
          }
        },
        "e6f25955202e4d6e93b0db0807449512": {
          "model_module": "@jupyter-widgets/base",
          "model_module_version": "1.2.0",
          "model_name": "LayoutModel",
          "state": {
            "_model_module": "@jupyter-widgets/base",
            "_model_module_version": "1.2.0",
            "_model_name": "LayoutModel",
            "_view_count": null,
            "_view_module": "@jupyter-widgets/base",
            "_view_module_version": "1.2.0",
            "_view_name": "LayoutView",
            "align_content": null,
            "align_items": null,
            "align_self": null,
            "border": null,
            "bottom": null,
            "display": null,
            "flex": null,
            "flex_flow": null,
            "grid_area": null,
            "grid_auto_columns": null,
            "grid_auto_flow": null,
            "grid_auto_rows": null,
            "grid_column": null,
            "grid_gap": null,
            "grid_row": null,
            "grid_template_areas": null,
            "grid_template_columns": null,
            "grid_template_rows": null,
            "height": null,
            "justify_content": null,
            "justify_items": null,
            "left": null,
            "margin": null,
            "max_height": null,
            "max_width": null,
            "min_height": null,
            "min_width": null,
            "object_fit": null,
            "object_position": null,
            "order": null,
            "overflow": null,
            "overflow_x": null,
            "overflow_y": null,
            "padding": null,
            "right": null,
            "top": null,
            "visibility": null,
            "width": null
          }
        },
        "e9c9563a9e484c89a1eaa17a98e5fcb4": {
          "model_module": "@jupyter-widgets/base",
          "model_module_version": "1.2.0",
          "model_name": "LayoutModel",
          "state": {
            "_model_module": "@jupyter-widgets/base",
            "_model_module_version": "1.2.0",
            "_model_name": "LayoutModel",
            "_view_count": null,
            "_view_module": "@jupyter-widgets/base",
            "_view_module_version": "1.2.0",
            "_view_name": "LayoutView",
            "align_content": null,
            "align_items": null,
            "align_self": null,
            "border": null,
            "bottom": null,
            "display": null,
            "flex": null,
            "flex_flow": null,
            "grid_area": null,
            "grid_auto_columns": null,
            "grid_auto_flow": null,
            "grid_auto_rows": null,
            "grid_column": null,
            "grid_gap": null,
            "grid_row": null,
            "grid_template_areas": null,
            "grid_template_columns": null,
            "grid_template_rows": null,
            "height": null,
            "justify_content": null,
            "justify_items": null,
            "left": null,
            "margin": null,
            "max_height": null,
            "max_width": null,
            "min_height": null,
            "min_width": null,
            "object_fit": null,
            "object_position": null,
            "order": null,
            "overflow": null,
            "overflow_x": null,
            "overflow_y": null,
            "padding": null,
            "right": null,
            "top": null,
            "visibility": null,
            "width": null
          }
        },
        "f13805dcd46644e59896cc1afa34293e": {
          "model_module": "@jupyter-widgets/base",
          "model_module_version": "1.2.0",
          "model_name": "LayoutModel",
          "state": {
            "_model_module": "@jupyter-widgets/base",
            "_model_module_version": "1.2.0",
            "_model_name": "LayoutModel",
            "_view_count": null,
            "_view_module": "@jupyter-widgets/base",
            "_view_module_version": "1.2.0",
            "_view_name": "LayoutView",
            "align_content": null,
            "align_items": null,
            "align_self": null,
            "border": null,
            "bottom": null,
            "display": null,
            "flex": null,
            "flex_flow": null,
            "grid_area": null,
            "grid_auto_columns": null,
            "grid_auto_flow": null,
            "grid_auto_rows": null,
            "grid_column": null,
            "grid_gap": null,
            "grid_row": null,
            "grid_template_areas": null,
            "grid_template_columns": null,
            "grid_template_rows": null,
            "height": null,
            "justify_content": null,
            "justify_items": null,
            "left": null,
            "margin": null,
            "max_height": null,
            "max_width": null,
            "min_height": null,
            "min_width": null,
            "object_fit": null,
            "object_position": null,
            "order": null,
            "overflow": null,
            "overflow_x": null,
            "overflow_y": null,
            "padding": null,
            "right": null,
            "top": null,
            "visibility": null,
            "width": null
          }
        },
        "f2703d3853bf476a81ebbea46510177e": {
          "model_module": "@jupyter-widgets/controls",
          "model_module_version": "1.5.0",
          "model_name": "FloatProgressModel",
          "state": {
            "_dom_classes": [],
            "_model_module": "@jupyter-widgets/controls",
            "_model_module_version": "1.5.0",
            "_model_name": "FloatProgressModel",
            "_view_count": null,
            "_view_module": "@jupyter-widgets/controls",
            "_view_module_version": "1.5.0",
            "_view_name": "ProgressView",
            "bar_style": "success",
            "description": "",
            "description_tooltip": null,
            "layout": "IPY_MODEL_f8a7f72041de4c4e8508f9307224b141",
            "max": 4422102,
            "min": 0,
            "orientation": "horizontal",
            "style": "IPY_MODEL_8ebdccf43113465f9343a08f28e3abaa",
            "value": 4422102
          }
        },
        "f8a7f72041de4c4e8508f9307224b141": {
          "model_module": "@jupyter-widgets/base",
          "model_module_version": "1.2.0",
          "model_name": "LayoutModel",
          "state": {
            "_model_module": "@jupyter-widgets/base",
            "_model_module_version": "1.2.0",
            "_model_name": "LayoutModel",
            "_view_count": null,
            "_view_module": "@jupyter-widgets/base",
            "_view_module_version": "1.2.0",
            "_view_name": "LayoutView",
            "align_content": null,
            "align_items": null,
            "align_self": null,
            "border": null,
            "bottom": null,
            "display": null,
            "flex": null,
            "flex_flow": null,
            "grid_area": null,
            "grid_auto_columns": null,
            "grid_auto_flow": null,
            "grid_auto_rows": null,
            "grid_column": null,
            "grid_gap": null,
            "grid_row": null,
            "grid_template_areas": null,
            "grid_template_columns": null,
            "grid_template_rows": null,
            "height": null,
            "justify_content": null,
            "justify_items": null,
            "left": null,
            "margin": null,
            "max_height": null,
            "max_width": null,
            "min_height": null,
            "min_width": null,
            "object_fit": null,
            "object_position": null,
            "order": null,
            "overflow": null,
            "overflow_x": null,
            "overflow_y": null,
            "padding": null,
            "right": null,
            "top": null,
            "visibility": null,
            "width": null
          }
        },
        "fb510ece71c247e6adf59b52ba74e19e": {
          "model_module": "@jupyter-widgets/controls",
          "model_module_version": "1.5.0",
          "model_name": "DescriptionStyleModel",
          "state": {
            "_model_module": "@jupyter-widgets/controls",
            "_model_module_version": "1.5.0",
            "_model_name": "DescriptionStyleModel",
            "_view_count": null,
            "_view_module": "@jupyter-widgets/base",
            "_view_module_version": "1.2.0",
            "_view_name": "StyleView",
            "description_width": ""
          }
        }
      }
    }
  },
  "nbformat": 4,
  "nbformat_minor": 0
}
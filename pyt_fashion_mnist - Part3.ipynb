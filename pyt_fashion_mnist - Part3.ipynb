{
  "cells": [
    {
      "cell_type": "markdown",
      "metadata": {
        "id": "3LxM6PKUKhXh"
      },
      "source": [
        "# Multiclass Classification of Fashion-MNIST dataset with Pytorch\n",
        "## Part-3: Implementing Image Augmentation (or transforms)\n",
        "\n",
        "@see: [Medium Article](https://towardsdatascience.com/10-tips-for-a-better-google-colab-experience-33f8fe721b82#8c1e) on how to keep Colab notebook from disconnecting -- see point #7. You will need this trick for this notebook as training is run for >75 epochs!"
      ]
    },
    {
      "cell_type": "code",
      "source": [
        "!pip install torchmetrics --quiet"
      ],
      "metadata": {
        "colab": {
          "base_uri": "https://localhost:8080/"
        },
        "id": "mR-iIbMwbLW6",
        "outputId": "973b749b-e7f3-43bd-c8ba-4de2d3cfa636"
      },
      "execution_count": 1,
      "outputs": [
        {
          "output_type": "stream",
          "name": "stdout",
          "text": [
            "\u001b[?25l\r\u001b[K     |▉                               | 10 kB 31.5 MB/s eta 0:00:01\r\u001b[K     |█▋                              | 20 kB 8.8 MB/s eta 0:00:01\r\u001b[K     |██▍                             | 30 kB 7.8 MB/s eta 0:00:01\r\u001b[K     |███▏                            | 40 kB 3.4 MB/s eta 0:00:01\r\u001b[K     |████                            | 51 kB 3.5 MB/s eta 0:00:01\r\u001b[K     |████▊                           | 61 kB 4.2 MB/s eta 0:00:01\r\u001b[K     |█████▌                          | 71 kB 4.3 MB/s eta 0:00:01\r\u001b[K     |██████▎                         | 81 kB 4.3 MB/s eta 0:00:01\r\u001b[K     |███████                         | 92 kB 4.9 MB/s eta 0:00:01\r\u001b[K     |███████▉                        | 102 kB 4.1 MB/s eta 0:00:01\r\u001b[K     |████████▋                       | 112 kB 4.1 MB/s eta 0:00:01\r\u001b[K     |█████████▍                      | 122 kB 4.1 MB/s eta 0:00:01\r\u001b[K     |██████████▏                     | 133 kB 4.1 MB/s eta 0:00:01\r\u001b[K     |███████████                     | 143 kB 4.1 MB/s eta 0:00:01\r\u001b[K     |███████████▊                    | 153 kB 4.1 MB/s eta 0:00:01\r\u001b[K     |████████████▌                   | 163 kB 4.1 MB/s eta 0:00:01\r\u001b[K     |█████████████▎                  | 174 kB 4.1 MB/s eta 0:00:01\r\u001b[K     |██████████████                  | 184 kB 4.1 MB/s eta 0:00:01\r\u001b[K     |██████████████▉                 | 194 kB 4.1 MB/s eta 0:00:01\r\u001b[K     |███████████████▋                | 204 kB 4.1 MB/s eta 0:00:01\r\u001b[K     |████████████████▍               | 215 kB 4.1 MB/s eta 0:00:01\r\u001b[K     |█████████████████▏              | 225 kB 4.1 MB/s eta 0:00:01\r\u001b[K     |██████████████████              | 235 kB 4.1 MB/s eta 0:00:01\r\u001b[K     |██████████████████▊             | 245 kB 4.1 MB/s eta 0:00:01\r\u001b[K     |███████████████████▌            | 256 kB 4.1 MB/s eta 0:00:01\r\u001b[K     |████████████████████▎           | 266 kB 4.1 MB/s eta 0:00:01\r\u001b[K     |█████████████████████           | 276 kB 4.1 MB/s eta 0:00:01\r\u001b[K     |█████████████████████▉          | 286 kB 4.1 MB/s eta 0:00:01\r\u001b[K     |██████████████████████▋         | 296 kB 4.1 MB/s eta 0:00:01\r\u001b[K     |███████████████████████▍        | 307 kB 4.1 MB/s eta 0:00:01\r\u001b[K     |████████████████████████▏       | 317 kB 4.1 MB/s eta 0:00:01\r\u001b[K     |█████████████████████████       | 327 kB 4.1 MB/s eta 0:00:01\r\u001b[K     |█████████████████████████▊      | 337 kB 4.1 MB/s eta 0:00:01\r\u001b[K     |██████████████████████████▌     | 348 kB 4.1 MB/s eta 0:00:01\r\u001b[K     |███████████████████████████▎    | 358 kB 4.1 MB/s eta 0:00:01\r\u001b[K     |████████████████████████████    | 368 kB 4.1 MB/s eta 0:00:01\r\u001b[K     |████████████████████████████▉   | 378 kB 4.1 MB/s eta 0:00:01\r\u001b[K     |█████████████████████████████▊  | 389 kB 4.1 MB/s eta 0:00:01\r\u001b[K     |██████████████████████████████▌ | 399 kB 4.1 MB/s eta 0:00:01\r\u001b[K     |███████████████████████████████▎| 409 kB 4.1 MB/s eta 0:00:01\r\u001b[K     |████████████████████████████████| 419 kB 4.1 MB/s \n",
            "\u001b[?25h"
          ]
        }
      ]
    },
    {
      "cell_type": "code",
      "execution_count": 2,
      "metadata": {
        "colab": {
          "base_uri": "https://localhost:8080/"
        },
        "id": "wQO4YGZiCzEP",
        "outputId": "82475688-7d28-46a9-d15a-45503502400f"
      },
      "outputs": [
        {
          "output_type": "stream",
          "name": "stdout",
          "text": [
            "Mounted at /content/drive/\n",
            "Your Google Drive is mounted at  /content/drive/My Drive/\n",
            "You Colab notebooks are available at  /content/drive/My Drive/Colab Notebooks/Pytorch\n",
            "NOTE: /content/drive/My Drive/Colab Notebooks/Pytorch is appended to sys.path!\n",
            "Model states will be saved to /content/drive/My Drive/Colab Notebooks/Pytorch/model_states\n"
          ]
        }
      ],
      "source": [
        "# set this flag to True when you run this Notebook on Google Collaboratory\n",
        "USE_COLAB = True\n",
        "\n",
        "import os\n",
        "\n",
        "#@see: https://colab.research.google.com/drive/1srw_HFWQ2SMgmWIawucXfusGzrj1_U0q\n",
        "if USE_COLAB:\n",
        "    # Load the Drive helper and mount\n",
        "    from google.colab import drive\n",
        "\n",
        "    # This will prompt for authorization.\n",
        "    gdrive_mount_point = '/content/drive/'\n",
        "    drive.mount(gdrive_mount_point)\n",
        "    gdrive_path = os.path.join(gdrive_mount_point, \"My Drive/\")\n",
        "    print('Your Google Drive is mounted at ', gdrive_path)\n",
        "    COLAB_NOTEBOOKS_PATH = os.path.join(gdrive_path, \"Colab Notebooks\",\"Pytorch\")\n",
        "    \n",
        "    if os.path.exists(COLAB_NOTEBOOKS_PATH):\n",
        "        print('You Colab notebooks are available at ', COLAB_NOTEBOOKS_PATH)\n",
        "    \n",
        "        # display list of files\n",
        "        #!ls '/content/drive/My Drive/Colab Notebooks/'\n",
        "\n",
        "        # append our Google Drive folder to module search \n",
        "        # **NOTE:** comment this line out if you are NOT running this notebook on Google Colab\n",
        "        import sys\n",
        "        #sys.path.append(\"/content/drive/My Drive/Colab Notebooks/\")\n",
        "        sys.path.append(COLAB_NOTEBOOKS_PATH)\n",
        "        print('NOTE: {} is appended to sys.path!'.format(COLAB_NOTEBOOKS_PATH))\n",
        "        # and test it\n",
        "        import pytorch_toolkit as pytk\n",
        "        MODEL_SAVE_DIR = os.path.join(COLAB_NOTEBOOKS_PATH, \"model_states\")\n",
        "        #IMAGES_ZIP_DIR = \"/content/drive/My Drive/Colab Notebooks/data/kaggle/malaria\"\n",
        "    else:\n",
        "        raise IOError(\"Unable to mount Google Drive!\")\n",
        "else:\n",
        "    MODEL_SAVE_DIR = os.path.join('.','model_states')\n",
        "    #IMAGES_ZIP_DIR = \"./images/kaggle/malaria\"\n",
        "\n",
        "print(f\"Model states will be saved to {MODEL_SAVE_DIR}\")\n",
        "    \n",
        "if not os.path.exists(MODEL_SAVE_DIR):\n",
        "    os.mkdir(MODEL_SAVE_DIR)"
      ]
    },
    {
      "cell_type": "markdown",
      "metadata": {
        "id": "0W4R-gsSKK_f"
      },
      "source": [
        "## Standard Imports"
      ]
    },
    {
      "cell_type": "code",
      "execution_count": 3,
      "metadata": {
        "colab": {
          "base_uri": "https://localhost:8080/"
        },
        "id": "MhOlv7y_-aHJ",
        "outputId": "1035a604-9b24-4183-d350-2623e9dc7aeb"
      },
      "outputs": [
        {
          "output_type": "stream",
          "name": "stdout",
          "text": [
            "Using Pytorch version 1.11.0+cu113. GPU is available :)\n"
          ]
        }
      ],
      "source": [
        "import warnings\n",
        "warnings.filterwarnings('ignore')\n",
        "\n",
        "import sys, os, random\n",
        "import numpy as np\n",
        "import matplotlib.pyplot as plt\n",
        "import seaborn as sns\n",
        "\n",
        "# tweaks for libraries\n",
        "np.set_printoptions(precision=6, linewidth=1024, suppress=True)\n",
        "plt.style.use('seaborn')\n",
        "sns.set(style='darkgrid', context='notebook', font_scale=1.2)\n",
        "\n",
        "# Pytorch imports\n",
        "import torch\n",
        "print(f'Using Pytorch version {torch.__version__}. ' + \n",
        "      f'GPU {\"is available :)\" if torch.cuda.is_available() else \"is not available :(\"}')\n",
        "import torch.nn as nn\n",
        "import torch.nn.functional as F\n",
        "from torchvision import datasets, transforms\n",
        "from torch import optim\n",
        "from torchsummary import summary\n",
        "# My helper functions for training/evaluating etc.\n",
        "import pytorch_toolkit as pytk\n",
        "\n",
        "# to ensure that you get consistent results across runs & machines\n",
        "# @see: https://discuss.pytorch.org/t/reproducibility-over-different-machines/63047\n",
        "SEED = 41\n",
        "# random.seed(SEED)\n",
        "# os.environ['PYTHONHASHSEED'] = str(SEED)\n",
        "# np.random.seed(SEED)\n",
        "# torch.manual_seed(SEED);\n",
        "\n",
        "# if torch.cuda.is_available():\n",
        "#     torch.cuda.manual_seed(SEED)\n",
        "#     torch.cuda.manual_seed_all(SEED)\n",
        "#     torch.backends.cudnn.deterministic = True\n",
        "#     torch.backends.cudnn.benchmark = False\n",
        "#     #torch.backends.cudnn.enabled = False\n",
        "pytk.seed_all(SEED)"
      ]
    },
    {
      "cell_type": "markdown",
      "metadata": {
        "id": "eEf7149YKOxd"
      },
      "source": [
        "## Helper Functions"
      ]
    },
    {
      "cell_type": "code",
      "execution_count": 4,
      "metadata": {
        "id": "gBAeYLjp0vPc"
      },
      "outputs": [],
      "source": [
        "IMAGE_HEIGHT, IMAGE_WIDTH, NUM_CHANNELS = 28, 28, 1"
      ]
    },
    {
      "cell_type": "code",
      "execution_count": 5,
      "metadata": {
        "id": "O484Lf1S9W-A"
      },
      "outputs": [],
      "source": [
        "def load_data():\n",
        "    \"\"\"\n",
        "    load the data using datasets API. We also split the test_dataset into \n",
        "    cross-val/test datasets using 80:20 ration\n",
        "    \"\"\"\n",
        "    mean, std = 0.5, 0.5\n",
        "\n",
        "    train_transforms = transforms.Compose([\n",
        "        transforms.RandomHorizontalFlip(p=0.5),\n",
        "        transforms.RandomVerticalFlip(p=0.5),\n",
        "        transforms.RandomRotation(35),\n",
        "        transforms.RandomResizedCrop((IMAGE_HEIGHT, IMAGE_WIDTH),scale=(0.8,1.0),ratio=(1.0,1.0)),                                         \n",
        "        transforms.ToTensor(),\n",
        "        transforms.Normalize(mean, std)\n",
        "    ])\n",
        "\n",
        "\n",
        "    cross_val_and_test_transforms = transforms.Compose([\n",
        "        transforms.ToTensor(),\n",
        "        transforms.Normalize(mean, std)\n",
        "    ])\n",
        "\n",
        "    train_dataset =  datasets.FashionMNIST(root='./data', train=True, download=True,\n",
        "                                   transform=train_transforms)\n",
        "\n",
        "    print(\"No of training records: %d\" % len(train_dataset))\n",
        "\n",
        "    test_dataset = datasets.FashionMNIST('./data', train=False, download=True,\n",
        "                                  transform=cross_val_and_test_transforms)\n",
        "    print(\"No of test records: %d\" % len(test_dataset))\n",
        "\n",
        "    # lets split the test dataset into val_dataset & test_dataset -> 8000:2000 records\n",
        "    val_dataset, test_dataset = torch.utils.data.random_split(test_dataset, [8000, 2000])\n",
        "    print(\"No of cross-val records: %d\" % len(val_dataset))\n",
        "    print(\"No of test records: %d\" % len(test_dataset))\n",
        "\n",
        "    return train_dataset, val_dataset, test_dataset"
      ]
    },
    {
      "cell_type": "code",
      "execution_count": 6,
      "metadata": {
        "id": "MqnO7KUwIkBI"
      },
      "outputs": [],
      "source": [
        "def display_sample(sample_images, sample_labels, grid_shape=(10, 10), plot_title=None,\n",
        "                   sample_predictions=None):\n",
        "    # just in case these are not imported!\n",
        "    import matplotlib.pyplot as plt\n",
        "    import seaborn as sns\n",
        "    plt.style.use('seaborn')\n",
        "\n",
        "    num_rows, num_cols = grid_shape\n",
        "    assert sample_images.shape[0] == num_rows * num_cols\n",
        "\n",
        "    # a dict to help encode/decode the labels\n",
        "    FASHION_LABELS = {\n",
        "        0: 'T-shirt/top',\n",
        "        1: 'Trouser',\n",
        "        2: 'Pullover',\n",
        "        3: 'Dress',\n",
        "        4: 'Coat',\n",
        "        5: 'Sandal',\n",
        "        6: 'Shirt',\n",
        "        7: 'Sneaker',\n",
        "        8: 'Bag',\n",
        "        9: 'Ankle boot',\n",
        "    }\n",
        "\n",
        "    with sns.axes_style(\"whitegrid\"):\n",
        "        sns.set_context(\"notebook\", font_scale=1.10)\n",
        "        sns.set_style({\"font.sans-serif\": [\"Verdana\", \"Arial\", \"Calibri\", \"DejaVu Sans\"]})\n",
        "\n",
        "        f, ax = plt.subplots(num_rows, num_cols, figsize=(14, 10),\n",
        "            gridspec_kw={\"wspace\": 0.05, \"hspace\": 0.35}, squeeze=True)  # 0.03, 0.25\n",
        "        #fig = ax[0].get_figure()\n",
        "        f.tight_layout()\n",
        "        f.subplots_adjust(top=0.90) # 0.93\n",
        "\n",
        "        for r in range(num_rows):\n",
        "            for c in range(num_cols):\n",
        "                image_index = r * num_cols + c\n",
        "                ax[r, c].axis(\"off\")\n",
        "                # show selected image\n",
        "                ax[r, c].imshow(sample_images[image_index].squeeze(), cmap=\"Greys\", interpolation='nearest')\n",
        "\n",
        "                if sample_predictions is None:\n",
        "                    # but show the prediction in the title\n",
        "                    title = ax[r, c].set_title(f\"{FASHION_LABELS[sample_labels[image_index]]}\")\n",
        "                else:\n",
        "                    pred_matches_actual = (\n",
        "                                sample_labels[image_index] == sample_predictions[image_index])\n",
        "                    if pred_matches_actual:\n",
        "                        # show title from prediction or actual in green font\n",
        "                        title = '%s' % FASHION_LABELS[sample_predictions[image_index]]\n",
        "                        title_color = 'g'\n",
        "                    else:\n",
        "                        # show title as actual/prediction in red font\n",
        "                        title = '%s/%s' % (FASHION_LABELS[sample_labels[image_index]],\n",
        "                                           FASHION_LABELS[sample_predictions[image_index]])\n",
        "                        title_color = 'r'\n",
        "\n",
        "                    # but show the prediction in the title\n",
        "                    title = ax[r, c].set_title(title)\n",
        "                    # if prediction is incorrect title color is red, else green\n",
        "                    plt.setp(title, color=title_color)\n",
        "\n",
        "        if plot_title is not None:\n",
        "            plt.suptitle(plot_title)\n",
        "        plt.show()\n",
        "        plt.close()"
      ]
    },
    {
      "cell_type": "code",
      "execution_count": 7,
      "metadata": {
        "colab": {
          "base_uri": "https://localhost:8080/",
          "height": 552,
          "referenced_widgets": [
            "014ef45425634aba99584a55a28ec553",
            "a3a778a3383a4b05b1a484e0400b2ba0",
            "cb950e0027ce4650b118f6e839416eb8",
            "0957cd0d6fa04d8a8134d77692e657d3",
            "ad4fd5754fb04e57ac04d002142b9886",
            "86f6c4c6b9c248f49d44a3a1d421379a",
            "2134de68b683479885ec463c96d82a77",
            "34f397351c4d4bb593b27d98526b18af",
            "376a5a8e03344f37baf5c4d0c6e9a56e",
            "0bf8585fcfd74e7ebad6231f0708207e",
            "1f431221aa08421290160717ae63e651",
            "f4a5f623209a4d28b46dd3ffa3d9e22b",
            "eeb18fd61e0f47039f94540983265cf6",
            "ee005799138c474a90341f529aeb7da0",
            "74636cffc8f9452798e92b6ad73e22b0",
            "b59c52841eb54edebaefff7ac156846e",
            "5b4635c58b0746839fdfa29d1a3b4dbf",
            "f201d79fb0324fd39745ac6db6ab56f3",
            "1fe248fca56444068be948332d0893e0",
            "139027337d81414ca5657a25d784838e",
            "3d5a7f071526428cbabe924c9330ee8e",
            "9641cbb62e2946b795d0fab114383107",
            "c8411fe97e2345118334d3411e8f6953",
            "68f279a83da2426da908fc74b67345e2",
            "b2cf937fc01d475d95203e06d0c78777",
            "427a1bf1352848ccb4a57efa664dee89",
            "2db3e0df6d664ae09a3f948d4216f838",
            "324cb8c85b8e4116a5c9693ce2a6c1fe",
            "42a902dd8b1743d58ce38b18a1ef582f",
            "acf3c04ef6fa46e2acd58b1773872742",
            "1a4f9eacb24e488b974511833ff54e51",
            "7323eac22fb84a85b8a40fa14b844392",
            "bf0121f6488043db96c0f5bc631a2f82",
            "09db895c0b404d059f63491d0cf867d2",
            "64d0e0dfd7da4645a26d19e62bbf6da5",
            "d88d3d2c90d141b7b6fb82a6b69d6211",
            "62b28f28aead44eaad4ccbe893ab74d0",
            "c41d425b79614ed9af458621d800826c",
            "d1f10382584045f19f4741782ecc0c45",
            "faa1da44ddda4a75988dafd2ad6f4e1a",
            "814577d48e8f4730a44079b88f15f25e",
            "bebd715b325a4f97a0cb7e17b532f9c6",
            "3943d3295f4d4567ab6222f9a954945b",
            "9f6db3c889a647dabb237ee922b5df7b"
          ]
        },
        "id": "fEBZXVQoKRNV",
        "outputId": "f3b912ba-0a84-4ddd-9afc-b534c18129a9"
      },
      "outputs": [
        {
          "output_type": "stream",
          "name": "stdout",
          "text": [
            "Downloading http://fashion-mnist.s3-website.eu-central-1.amazonaws.com/train-images-idx3-ubyte.gz\n",
            "Downloading http://fashion-mnist.s3-website.eu-central-1.amazonaws.com/train-images-idx3-ubyte.gz to ./data/FashionMNIST/raw/train-images-idx3-ubyte.gz\n"
          ]
        },
        {
          "output_type": "display_data",
          "data": {
            "text/plain": [
              "  0%|          | 0/26421880 [00:00<?, ?it/s]"
            ],
            "application/vnd.jupyter.widget-view+json": {
              "version_major": 2,
              "version_minor": 0,
              "model_id": "014ef45425634aba99584a55a28ec553"
            }
          },
          "metadata": {}
        },
        {
          "output_type": "stream",
          "name": "stdout",
          "text": [
            "Extracting ./data/FashionMNIST/raw/train-images-idx3-ubyte.gz to ./data/FashionMNIST/raw\n",
            "\n",
            "Downloading http://fashion-mnist.s3-website.eu-central-1.amazonaws.com/train-labels-idx1-ubyte.gz\n",
            "Downloading http://fashion-mnist.s3-website.eu-central-1.amazonaws.com/train-labels-idx1-ubyte.gz to ./data/FashionMNIST/raw/train-labels-idx1-ubyte.gz\n"
          ]
        },
        {
          "output_type": "display_data",
          "data": {
            "text/plain": [
              "  0%|          | 0/29515 [00:00<?, ?it/s]"
            ],
            "application/vnd.jupyter.widget-view+json": {
              "version_major": 2,
              "version_minor": 0,
              "model_id": "f4a5f623209a4d28b46dd3ffa3d9e22b"
            }
          },
          "metadata": {}
        },
        {
          "output_type": "stream",
          "name": "stdout",
          "text": [
            "Extracting ./data/FashionMNIST/raw/train-labels-idx1-ubyte.gz to ./data/FashionMNIST/raw\n",
            "\n",
            "Downloading http://fashion-mnist.s3-website.eu-central-1.amazonaws.com/t10k-images-idx3-ubyte.gz\n",
            "Downloading http://fashion-mnist.s3-website.eu-central-1.amazonaws.com/t10k-images-idx3-ubyte.gz to ./data/FashionMNIST/raw/t10k-images-idx3-ubyte.gz\n"
          ]
        },
        {
          "output_type": "display_data",
          "data": {
            "text/plain": [
              "  0%|          | 0/4422102 [00:00<?, ?it/s]"
            ],
            "application/vnd.jupyter.widget-view+json": {
              "version_major": 2,
              "version_minor": 0,
              "model_id": "c8411fe97e2345118334d3411e8f6953"
            }
          },
          "metadata": {}
        },
        {
          "output_type": "stream",
          "name": "stdout",
          "text": [
            "Extracting ./data/FashionMNIST/raw/t10k-images-idx3-ubyte.gz to ./data/FashionMNIST/raw\n",
            "\n",
            "Downloading http://fashion-mnist.s3-website.eu-central-1.amazonaws.com/t10k-labels-idx1-ubyte.gz\n",
            "Downloading http://fashion-mnist.s3-website.eu-central-1.amazonaws.com/t10k-labels-idx1-ubyte.gz to ./data/FashionMNIST/raw/t10k-labels-idx1-ubyte.gz\n"
          ]
        },
        {
          "output_type": "display_data",
          "data": {
            "text/plain": [
              "  0%|          | 0/5148 [00:00<?, ?it/s]"
            ],
            "application/vnd.jupyter.widget-view+json": {
              "version_major": 2,
              "version_minor": 0,
              "model_id": "09db895c0b404d059f63491d0cf867d2"
            }
          },
          "metadata": {}
        },
        {
          "output_type": "stream",
          "name": "stdout",
          "text": [
            "Extracting ./data/FashionMNIST/raw/t10k-labels-idx1-ubyte.gz to ./data/FashionMNIST/raw\n",
            "\n",
            "No of training records: 60000\n",
            "No of test records: 10000\n",
            "No of cross-val records: 8000\n",
            "No of test records: 2000\n"
          ]
        }
      ],
      "source": [
        "# (down)load the data\n",
        "train_dataset, val_dataset, test_dataset = load_data()"
      ]
    },
    {
      "cell_type": "code",
      "execution_count": 8,
      "metadata": {
        "colab": {
          "base_uri": "https://localhost:8080/",
          "height": 665
        },
        "id": "rpqwY_OzLr7G",
        "outputId": "08faca14-5983-4975-da1d-489a1d49fe98"
      },
      "outputs": [
        {
          "output_type": "stream",
          "name": "stdout",
          "text": [
            "images.shape = torch.Size([64, 1, 28, 28]), labels.shape=torch.Size([64])\n"
          ]
        },
        {
          "output_type": "display_data",
          "data": {
            "text/plain": [
              "<Figure size 1008x720 with 64 Axes>"
            ],
            "image/png": "[encoded data removed]"
          },
          "metadata": {}
        }
      ],
      "source": [
        "# display a sample\n",
        "trainloader = torch.utils.data.DataLoader(train_dataset, batch_size=64, shuffle=True)\n",
        "data_iter = iter(trainloader)\n",
        "images, labels = data_iter.next()  # fetch first batch of 64 images & labels\n",
        "print(f'images.shape = {images.shape}, labels.shape={labels.shape}')\n",
        "#print(f'labels = {labels[:10]}')\n",
        "display_sample(images.cpu().numpy(), labels.cpu().numpy(), grid_shape=(8, 8), \n",
        "               plot_title='Sample Images - Training dataset')"
      ]
    },
    {
      "cell_type": "markdown",
      "metadata": {
        "id": "Uc4Db-2_L8K2"
      },
      "source": [
        "## Pytorch Model development"
      ]
    },
    {
      "cell_type": "code",
      "execution_count": 9,
      "metadata": {
        "colab": {
          "base_uri": "https://localhost:8080/"
        },
        "id": "7vvaW3puSExy",
        "outputId": "6a109d1e-75c8-45f1-81d0-f9f25644bcf4"
      },
      "outputs": [
        {
          "output_type": "stream",
          "name": "stdout",
          "text": [
            "Model will be saved to /content/drive/My Drive/Colab Notebooks/Pytorch/model_states/pyt_fashion_mnist_cnn_aug.pyt\n"
          ]
        }
      ],
      "source": [
        "# some globals\n",
        "NUM_CLASSES = 10\n",
        "NUM_EPOCHS, BATCH_SIZE, LEARNING_RATE, L2_REG = 150, 128, 0.003, 0.0010\n",
        "PY_MODEL_SAVE_PATH_AUG = os.path.join(MODEL_SAVE_DIR, 'pyt_fashion_mnist_cnn_aug.pyt')\n",
        "print(f\"Model will be saved to {PY_MODEL_SAVE_PATH_AUG}\")"
      ]
    },
    {
      "cell_type": "code",
      "execution_count": 10,
      "metadata": {
        "id": "1iHlFwE1S5GP"
      },
      "outputs": [],
      "source": [
        "def build_model_l2_do():\n",
        "    net = nn.Sequential(\n",
        "        pytk.Conv2d(1, 64, kernel_size=3, padding='same'),\n",
        "        nn.ReLU(),\n",
        "        nn.BatchNorm2d(64),\n",
        "        pytk.Conv2d(64, 64, kernel_size=3, padding='same'),\n",
        "        nn.ReLU(),\n",
        "        nn.BatchNorm2d(64),\n",
        "        nn.MaxPool2d(kernel_size=2, stride=2),\n",
        "        nn.Dropout(0.20),\n",
        "\n",
        "        pytk.Conv2d(64, 128, kernel_size=3, padding='same'),\n",
        "        nn.ReLU(),\n",
        "        nn.BatchNorm2d(128),\n",
        "        pytk.Conv2d(128, 128, kernel_size=3, padding='same'),\n",
        "        nn.ReLU(),\n",
        "        nn.BatchNorm2d(128),\n",
        "        nn.MaxPool2d(kernel_size=2, stride=2),\n",
        "        nn.Dropout(0.30),\n",
        "\n",
        "        pytk.Conv2d(128, 256, kernel_size=3, padding='same'),\n",
        "        nn.ReLU(),\n",
        "        nn.BatchNorm2d(256),\n",
        "        pytk.Conv2d(256, 256, kernel_size=3, padding='same'),\n",
        "        nn.ReLU(),\n",
        "        nn.BatchNorm2d(256),\n",
        "        nn.MaxPool2d(kernel_size=2, stride=2),\n",
        "        nn.Dropout(0.40),\n",
        "\n",
        "        # pytk.Conv2d(256, 512, kernel_size=3, padding=1),\n",
        "        # nn.ReLU(),\n",
        "        # nn.BatchNorm2d(512),\n",
        "        # # pytk.Conv2d(512, 512, kernel_size=3, padding=1),\n",
        "        # # nn.ReLU(),\n",
        "        # # nn.BatchNorm2d(512),\n",
        "        # nn.MaxPool2d(kernel_size=2, stride=2),\n",
        "        # nn.Dropout(0.35),\n",
        "\n",
        "        nn.Flatten(),\n",
        "        nn.Dropout(0.40),\n",
        "\n",
        "        nn.Linear(256*3*3, 1024),\n",
        "        nn.ReLU(),\n",
        "        nn.Dropout(0.30),\n",
        "\n",
        "        nn.Linear(1024, 512),\n",
        "        nn.ReLU(),\n",
        "        nn.Dropout(0.30),\n",
        "\n",
        "        nn.Linear(512, NUM_CLASSES)     \n",
        "    )\n",
        "\n",
        "    model = pytk.PytkModuleWrapper(net)\n",
        "    loss_fn = nn.CrossEntropyLoss()\n",
        "    # we add regularization to the optimizer\n",
        "    optimizer = optim.Adam(params=model.parameters(), lr=LEARNING_RATE, weight_decay=L2_REG)\n",
        "    model.compile(loss=loss_fn, optimizer=optimizer, metrics=['acc'])\n",
        "    return model, optimizer"
      ]
    },
    {
      "cell_type": "code",
      "execution_count": 11,
      "metadata": {
        "colab": {
          "base_uri": "https://localhost:8080/"
        },
        "id": "unK5o-rES4-q",
        "outputId": "faad431b-4f98-4b68-b15b-a14593ec3718"
      },
      "outputs": [
        {
          "output_type": "stream",
          "name": "stdout",
          "text": [
            "----------------------------------------------------------------\n",
            "        Layer (type)               Output Shape         Param #\n",
            "================================================================\n",
            "            Conv2d-1           [-1, 64, 28, 28]             640\n",
            "              ReLU-2           [-1, 64, 28, 28]               0\n",
            "       BatchNorm2d-3           [-1, 64, 28, 28]             128\n",
            "            Conv2d-4           [-1, 64, 28, 28]          36,928\n",
            "              ReLU-5           [-1, 64, 28, 28]               0\n",
            "       BatchNorm2d-6           [-1, 64, 28, 28]             128\n",
            "         MaxPool2d-7           [-1, 64, 14, 14]               0\n",
            "           Dropout-8           [-1, 64, 14, 14]               0\n",
            "            Conv2d-9          [-1, 128, 14, 14]          73,856\n",
            "             ReLU-10          [-1, 128, 14, 14]               0\n",
            "      BatchNorm2d-11          [-1, 128, 14, 14]             256\n",
            "           Conv2d-12          [-1, 128, 14, 14]         147,584\n",
            "             ReLU-13          [-1, 128, 14, 14]               0\n",
            "      BatchNorm2d-14          [-1, 128, 14, 14]             256\n",
            "        MaxPool2d-15            [-1, 128, 7, 7]               0\n",
            "          Dropout-16            [-1, 128, 7, 7]               0\n",
            "           Conv2d-17            [-1, 256, 7, 7]         295,168\n",
            "             ReLU-18            [-1, 256, 7, 7]               0\n",
            "      BatchNorm2d-19            [-1, 256, 7, 7]             512\n",
            "           Conv2d-20            [-1, 256, 7, 7]         590,080\n",
            "             ReLU-21            [-1, 256, 7, 7]               0\n",
            "      BatchNorm2d-22            [-1, 256, 7, 7]             512\n",
            "        MaxPool2d-23            [-1, 256, 3, 3]               0\n",
            "          Dropout-24            [-1, 256, 3, 3]               0\n",
            "          Flatten-25                 [-1, 2304]               0\n",
            "          Dropout-26                 [-1, 2304]               0\n",
            "           Linear-27                 [-1, 1024]       2,360,320\n",
            "             ReLU-28                 [-1, 1024]               0\n",
            "          Dropout-29                 [-1, 1024]               0\n",
            "           Linear-30                  [-1, 512]         524,800\n",
            "             ReLU-31                  [-1, 512]               0\n",
            "          Dropout-32                  [-1, 512]               0\n",
            "           Linear-33                   [-1, 10]           5,130\n",
            "================================================================\n",
            "Total params: 4,036,298\n",
            "Trainable params: 4,036,298\n",
            "Non-trainable params: 0\n",
            "----------------------------------------------------------------\n",
            "Input size (MB): 0.00\n",
            "Forward/backward pass size (MB): 4.41\n",
            "Params size (MB): 15.40\n",
            "Estimated Total Size (MB): 19.81\n",
            "----------------------------------------------------------------\n"
          ]
        }
      ],
      "source": [
        "model, optimizer = build_model_l2_do()\n",
        "model.summary((NUM_CHANNELS, IMAGE_HEIGHT, IMAGE_WIDTH))"
      ]
    },
    {
      "cell_type": "code",
      "execution_count": 12,
      "metadata": {
        "colab": {
          "base_uri": "https://localhost:8080/"
        },
        "id": "pLQF4JfLS416",
        "outputId": "9a4a9ab7-5637-4c5c-bd58-92f835b8aceb"
      },
      "outputs": [
        {
          "output_type": "stream",
          "name": "stdout",
          "text": [
            "Training on GPU...\n",
            "Training on 60000 samples, cross-validating on 8000 samples\n",
            "Epoch (  1/150): (60000/60000) -> loss: 0.9774 - acc: 0.6366 - val_loss: 1.2416 - val_acc: 0.5425 - lr: ['0.00300000']\n",
            "Epoch (  2/150): (60000/60000) -> loss: 0.8690 - acc: 0.6791 - val_loss: 0.9709 - val_acc: 0.6443 - lr: ['0.00300000']\n",
            "Epoch (  3/150): (60000/60000) -> loss: 0.8126 - acc: 0.7017 - val_loss: 0.9012 - val_acc: 0.6700 - lr: ['0.00300000']\n",
            "Epoch (  4/150): (60000/60000) -> loss: 0.7732 - acc: 0.7173 - val_loss: 0.8195 - val_acc: 0.6956 - lr: ['0.00300000']\n",
            "Epoch (  5/150): (60000/60000) -> loss: 0.7454 - acc: 0.7287 - val_loss: 0.7816 - val_acc: 0.7107 - lr: ['0.00300000']\n",
            "Epoch (  6/150): (60000/60000) -> loss: 0.7247 - acc: 0.7374 - val_loss: 0.7490 - val_acc: 0.7260 - lr: ['0.00300000']\n",
            "Epoch (  7/150): (60000/60000) -> loss: 0.7076 - acc: 0.7443 - val_loss: 0.7113 - val_acc: 0.7395 - lr: ['0.00300000']\n",
            "Epoch (  8/150): (60000/60000) -> loss: 0.6945 - acc: 0.7497 - val_loss: 0.6856 - val_acc: 0.7495 - lr: ['0.00300000']\n",
            "Epoch (  9/150): (60000/60000) -> loss: 0.6831 - acc: 0.7542 - val_loss: 0.7969 - val_acc: 0.7146 - lr: ['0.00300000']\n",
            "Epoch ( 10/150): (60000/60000) -> loss: 0.6740 - acc: 0.7579 - val_loss: 0.7653 - val_acc: 0.7264 - lr: ['0.00300000']\n",
            "Epoch ( 11/150): (60000/60000) -> loss: 0.6659 - acc: 0.7613 - val_loss: 0.7497 - val_acc: 0.7307 - lr: ['0.00300000']\n",
            "Epoch ( 12/150): (60000/60000) -> loss: 0.6585 - acc: 0.7643 - val_loss: 0.7283 - val_acc: 0.7381 - lr: ['0.00300000']\n",
            "Epoch ( 13/150): (60000/60000) -> loss: 0.6523 - acc: 0.7669 - val_loss: 0.7284 - val_acc: 0.7376 - lr: ['0.00300000']\n",
            "Epoch ( 14/150): (60000/60000) -> loss: 0.6467 - acc: 0.7692 - val_loss: 0.7110 - val_acc: 0.7433 - lr: ['0.00300000']\n",
            "Epoch ( 15/150): (60000/60000) -> loss: 0.6421 - acc: 0.7710 - val_loss: 0.6960 - val_acc: 0.7498 - lr: ['0.00300000']\n",
            "Epoch ( 16/150): (60000/60000) -> loss: 0.6376 - acc: 0.7728 - val_loss: 0.7078 - val_acc: 0.7456 - lr: ['0.00300000']\n",
            "Epoch 00016: reducing learning rate of group 0 to 7.5000e-04.\n",
            "Epoch ( 17/150): (60000/60000) -> loss: 0.6286 - acc: 0.7761 - val_loss: 0.6891 - val_acc: 0.7523 - lr: ['0.00075000']\n",
            "Epoch ( 18/150): (60000/60000) -> loss: 0.6194 - acc: 0.7794 - val_loss: 0.6727 - val_acc: 0.7582 - lr: ['0.00075000']\n",
            "Epoch ( 19/150): (60000/60000) -> loss: 0.6107 - acc: 0.7824 - val_loss: 0.6575 - val_acc: 0.7636 - lr: ['0.00075000']\n",
            "Epoch ( 20/150): (60000/60000) -> loss: 0.6028 - acc: 0.7852 - val_loss: 0.6437 - val_acc: 0.7687 - lr: ['0.00075000']\n",
            "Epoch ( 21/150): (60000/60000) -> loss: 0.5952 - acc: 0.7878 - val_loss: 0.6308 - val_acc: 0.7733 - lr: ['0.00075000']\n",
            "Epoch ( 22/150): (60000/60000) -> loss: 0.5882 - acc: 0.7904 - val_loss: 0.6193 - val_acc: 0.7771 - lr: ['0.00075000']\n",
            "Epoch ( 23/150): (60000/60000) -> loss: 0.5818 - acc: 0.7927 - val_loss: 0.6081 - val_acc: 0.7811 - lr: ['0.00075000']\n",
            "Epoch ( 24/150): (60000/60000) -> loss: 0.5756 - acc: 0.7949 - val_loss: 0.5986 - val_acc: 0.7843 - lr: ['0.00075000']\n",
            "Epoch ( 25/150): (60000/60000) -> loss: 0.5699 - acc: 0.7969 - val_loss: 0.5886 - val_acc: 0.7880 - lr: ['0.00075000']\n",
            "Epoch ( 26/150): (60000/60000) -> loss: 0.5644 - acc: 0.7988 - val_loss: 0.5797 - val_acc: 0.7912 - lr: ['0.00075000']\n",
            "Epoch ( 27/150): (60000/60000) -> loss: 0.5595 - acc: 0.8006 - val_loss: 0.5715 - val_acc: 0.7941 - lr: ['0.00075000']\n",
            "Epoch ( 28/150): (60000/60000) -> loss: 0.5548 - acc: 0.8023 - val_loss: 0.5637 - val_acc: 0.7968 - lr: ['0.00075000']\n",
            "Epoch ( 29/150): (60000/60000) -> loss: 0.5503 - acc: 0.8038 - val_loss: 0.5561 - val_acc: 0.7996 - lr: ['0.00075000']\n",
            "Epoch ( 30/150): (60000/60000) -> loss: 0.5461 - acc: 0.8053 - val_loss: 0.5494 - val_acc: 0.8020 - lr: ['0.00075000']\n",
            "Epoch ( 31/150): (60000/60000) -> loss: 0.5421 - acc: 0.8067 - val_loss: 0.5426 - val_acc: 0.8045 - lr: ['0.00075000']\n",
            "Epoch ( 32/150): (60000/60000) -> loss: 0.5384 - acc: 0.8081 - val_loss: 0.5372 - val_acc: 0.8062 - lr: ['0.00075000']\n",
            "Epoch ( 33/150): (60000/60000) -> loss: 0.5347 - acc: 0.8094 - val_loss: 0.5316 - val_acc: 0.8082 - lr: ['0.00075000']\n",
            "Epoch ( 34/150): (60000/60000) -> loss: 0.5313 - acc: 0.8107 - val_loss: 0.5260 - val_acc: 0.8104 - lr: ['0.00075000']\n",
            "Epoch ( 35/150): (60000/60000) -> loss: 0.5280 - acc: 0.8118 - val_loss: 0.5204 - val_acc: 0.8124 - lr: ['0.00075000']\n",
            "Epoch ( 36/150): (60000/60000) -> loss: 0.5249 - acc: 0.8129 - val_loss: 0.5152 - val_acc: 0.8143 - lr: ['0.00075000']\n",
            "Epoch ( 37/150): (60000/60000) -> loss: 0.5219 - acc: 0.8140 - val_loss: 0.5109 - val_acc: 0.8159 - lr: ['0.00075000']\n",
            "Epoch ( 38/150): (60000/60000) -> loss: 0.5191 - acc: 0.8150 - val_loss: 0.5067 - val_acc: 0.8174 - lr: ['0.00075000']\n",
            "Epoch ( 39/150): (60000/60000) -> loss: 0.5163 - acc: 0.8160 - val_loss: 0.5027 - val_acc: 0.8190 - lr: ['0.00075000']\n",
            "Epoch ( 40/150): (60000/60000) -> loss: 0.5137 - acc: 0.8169 - val_loss: 0.4985 - val_acc: 0.8206 - lr: ['0.00075000']\n",
            "Epoch ( 41/150): (60000/60000) -> loss: 0.5111 - acc: 0.8179 - val_loss: 0.4943 - val_acc: 0.8222 - lr: ['0.00075000']\n",
            "Epoch ( 42/150): (60000/60000) -> loss: 0.5087 - acc: 0.8187 - val_loss: 0.4912 - val_acc: 0.8232 - lr: ['0.00075000']\n",
            "Epoch ( 43/150): (60000/60000) -> loss: 0.5064 - acc: 0.8196 - val_loss: 0.4876 - val_acc: 0.8245 - lr: ['0.00075000']\n",
            "Epoch ( 44/150): (60000/60000) -> loss: 0.5041 - acc: 0.8204 - val_loss: 0.4847 - val_acc: 0.8256 - lr: ['0.00075000']\n",
            "Epoch ( 45/150): (60000/60000) -> loss: 0.5021 - acc: 0.8211 - val_loss: 0.4813 - val_acc: 0.8269 - lr: ['0.00075000']\n",
            "Epoch ( 46/150): (60000/60000) -> loss: 0.5000 - acc: 0.8218 - val_loss: 0.4783 - val_acc: 0.8279 - lr: ['0.00075000']\n",
            "Epoch ( 47/150): (60000/60000) -> loss: 0.4980 - acc: 0.8226 - val_loss: 0.4761 - val_acc: 0.8286 - lr: ['0.00075000']\n",
            "Epoch 00047: reducing learning rate of group 0 to 1.8750e-04.\n",
            "Epoch ( 48/150): (60000/60000) -> loss: 0.4955 - acc: 0.8234 - val_loss: 0.4725 - val_acc: 0.8298 - lr: ['0.00018750']\n",
            "Epoch ( 49/150): (60000/60000) -> loss: 0.4928 - acc: 0.8244 - val_loss: 0.4691 - val_acc: 0.8311 - lr: ['0.00018750']\n",
            "Epoch ( 50/150): (60000/60000) -> loss: 0.4900 - acc: 0.8254 - val_loss: 0.4656 - val_acc: 0.8323 - lr: ['0.00018750']\n",
            "Epoch ( 51/150): (60000/60000) -> loss: 0.4873 - acc: 0.8263 - val_loss: 0.4623 - val_acc: 0.8335 - lr: ['0.00018750']\n",
            "Epoch ( 52/150): (60000/60000) -> loss: 0.4848 - acc: 0.8272 - val_loss: 0.4591 - val_acc: 0.8346 - lr: ['0.00018750']\n",
            "Epoch ( 53/150): (60000/60000) -> loss: 0.4822 - acc: 0.8281 - val_loss: 0.4559 - val_acc: 0.8358 - lr: ['0.00018750']\n",
            "Epoch ( 54/150): (60000/60000) -> loss: 0.4797 - acc: 0.8290 - val_loss: 0.4529 - val_acc: 0.8369 - lr: ['0.00018750']\n",
            "Epoch ( 55/150): (60000/60000) -> loss: 0.4773 - acc: 0.8298 - val_loss: 0.4498 - val_acc: 0.8380 - lr: ['0.00018750']\n",
            "Epoch ( 56/150): (60000/60000) -> loss: 0.4749 - acc: 0.8307 - val_loss: 0.4470 - val_acc: 0.8390 - lr: ['0.00018750']\n",
            "Epoch ( 57/150): (60000/60000) -> loss: 0.4726 - acc: 0.8315 - val_loss: 0.4441 - val_acc: 0.8401 - lr: ['0.00018750']\n",
            "Epoch ( 58/150): (60000/60000) -> loss: 0.4704 - acc: 0.8323 - val_loss: 0.4414 - val_acc: 0.8411 - lr: ['0.00018750']\n",
            "Epoch ( 59/150): (60000/60000) -> loss: 0.4682 - acc: 0.8330 - val_loss: 0.4389 - val_acc: 0.8420 - lr: ['0.00018750']\n",
            "Epoch ( 60/150): (60000/60000) -> loss: 0.4661 - acc: 0.8337 - val_loss: 0.4364 - val_acc: 0.8428 - lr: ['0.00018750']\n",
            "Epoch ( 61/150): (60000/60000) -> loss: 0.4640 - acc: 0.8345 - val_loss: 0.4339 - val_acc: 0.8438 - lr: ['0.00018750']\n",
            "Epoch ( 62/150): (60000/60000) -> loss: 0.4620 - acc: 0.8352 - val_loss: 0.4314 - val_acc: 0.8447 - lr: ['0.00018750']\n",
            "Epoch ( 63/150): (60000/60000) -> loss: 0.4601 - acc: 0.8358 - val_loss: 0.4292 - val_acc: 0.8455 - lr: ['0.00018750']\n",
            "Epoch ( 64/150): (60000/60000) -> loss: 0.4582 - acc: 0.8365 - val_loss: 0.4267 - val_acc: 0.8464 - lr: ['0.00018750']\n",
            "Epoch ( 65/150): (60000/60000) -> loss: 0.4563 - acc: 0.8371 - val_loss: 0.4245 - val_acc: 0.8472 - lr: ['0.00018750']\n",
            "Epoch ( 66/150): (60000/60000) -> loss: 0.4545 - acc: 0.8378 - val_loss: 0.4224 - val_acc: 0.8480 - lr: ['0.00018750']\n",
            "Epoch ( 67/150): (60000/60000) -> loss: 0.4527 - acc: 0.8384 - val_loss: 0.4202 - val_acc: 0.8487 - lr: ['0.00018750']\n",
            "Epoch ( 68/150): (60000/60000) -> loss: 0.4510 - acc: 0.8390 - val_loss: 0.4183 - val_acc: 0.8494 - lr: ['0.00018750']\n",
            "Epoch ( 69/150): (60000/60000) -> loss: 0.4493 - acc: 0.8396 - val_loss: 0.4162 - val_acc: 0.8502 - lr: ['0.00018750']\n",
            "Epoch ( 70/150): (60000/60000) -> loss: 0.4477 - acc: 0.8402 - val_loss: 0.4142 - val_acc: 0.8509 - lr: ['0.00018750']\n",
            "Epoch 00070: reducing learning rate of group 0 to 4.6875e-05.\n",
            "Epoch ( 71/150): (60000/60000) -> loss: 0.4459 - acc: 0.8408 - val_loss: 0.4122 - val_acc: 0.8517 - lr: ['0.00004688']\n",
            "Epoch ( 72/150): (60000/60000) -> loss: 0.4442 - acc: 0.8414 - val_loss: 0.4102 - val_acc: 0.8524 - lr: ['0.00004688']\n",
            "Epoch ( 73/150): (60000/60000) -> loss: 0.4425 - acc: 0.8420 - val_loss: 0.4083 - val_acc: 0.8530 - lr: ['0.00004688']\n",
            "Epoch ( 74/150): (60000/60000) -> loss: 0.4408 - acc: 0.8426 - val_loss: 0.4064 - val_acc: 0.8538 - lr: ['0.00004688']\n",
            "Epoch ( 75/150): (60000/60000) -> loss: 0.4392 - acc: 0.8432 - val_loss: 0.4045 - val_acc: 0.8544 - lr: ['0.00004688']\n",
            "Epoch ( 76/150): (60000/60000) -> loss: 0.4376 - acc: 0.8437 - val_loss: 0.4026 - val_acc: 0.8551 - lr: ['0.00004688']\n",
            "Epoch ( 77/150): (60000/60000) -> loss: 0.4360 - acc: 0.8443 - val_loss: 0.4008 - val_acc: 0.8557 - lr: ['0.00004688']\n",
            "Epoch ( 78/150): (60000/60000) -> loss: 0.4345 - acc: 0.8448 - val_loss: 0.3991 - val_acc: 0.8564 - lr: ['0.00004688']\n",
            "Epoch ( 79/150): (60000/60000) -> loss: 0.4329 - acc: 0.8453 - val_loss: 0.3973 - val_acc: 0.8570 - lr: ['0.00004688']\n",
            "Epoch ( 80/150): (60000/60000) -> loss: 0.4315 - acc: 0.8459 - val_loss: 0.3957 - val_acc: 0.8576 - lr: ['0.00004688']\n",
            "Epoch ( 81/150): (60000/60000) -> loss: 0.4301 - acc: 0.8463 - val_loss: 0.3941 - val_acc: 0.8582 - lr: ['0.00004688']\n",
            "Epoch ( 82/150): (60000/60000) -> loss: 0.4286 - acc: 0.8468 - val_loss: 0.3924 - val_acc: 0.8587 - lr: ['0.00004688']\n",
            "Epoch ( 83/150): (60000/60000) -> loss: 0.4273 - acc: 0.8473 - val_loss: 0.3909 - val_acc: 0.8593 - lr: ['0.00004688']\n",
            "Epoch ( 84/150): (60000/60000) -> loss: 0.4259 - acc: 0.8478 - val_loss: 0.3894 - val_acc: 0.8598 - lr: ['0.00004688']\n",
            "Epoch ( 85/150): (60000/60000) -> loss: 0.4246 - acc: 0.8483 - val_loss: 0.3879 - val_acc: 0.8603 - lr: ['0.00004688']\n",
            "Epoch 00085: reducing learning rate of group 0 to 1.1719e-05.\n",
            "Epoch ( 86/150): (60000/60000) -> loss: 0.4232 - acc: 0.8487 - val_loss: 0.3864 - val_acc: 0.8609 - lr: ['0.00001172']\n",
            "Epoch ( 87/150): (60000/60000) -> loss: 0.4219 - acc: 0.8492 - val_loss: 0.3850 - val_acc: 0.8614 - lr: ['0.00001172']\n",
            "Epoch ( 88/150): (60000/60000) -> loss: 0.4206 - acc: 0.8497 - val_loss: 0.3836 - val_acc: 0.8619 - lr: ['0.00001172']\n",
            "Epoch ( 89/150): (60000/60000) -> loss: 0.4193 - acc: 0.8501 - val_loss: 0.3822 - val_acc: 0.8624 - lr: ['0.00001172']\n",
            "Epoch ( 90/150): (60000/60000) -> loss: 0.4181 - acc: 0.8505 - val_loss: 0.3808 - val_acc: 0.8629 - lr: ['0.00001172']\n",
            "Epoch ( 91/150): (60000/60000) -> loss: 0.4169 - acc: 0.8510 - val_loss: 0.3794 - val_acc: 0.8633 - lr: ['0.00001172']\n",
            "Epoch ( 92/150): (60000/60000) -> loss: 0.4157 - acc: 0.8514 - val_loss: 0.3781 - val_acc: 0.8638 - lr: ['0.00001172']\n",
            "Epoch ( 93/150): (60000/60000) -> loss: 0.4145 - acc: 0.8518 - val_loss: 0.3769 - val_acc: 0.8643 - lr: ['0.00001172']\n",
            "Epoch ( 94/150): (60000/60000) -> loss: 0.4134 - acc: 0.8522 - val_loss: 0.3756 - val_acc: 0.8647 - lr: ['0.00001172']\n",
            "Epoch ( 95/150): (60000/60000) -> loss: 0.4122 - acc: 0.8526 - val_loss: 0.3744 - val_acc: 0.8651 - lr: ['0.00001172']\n",
            "Epoch ( 96/150): (60000/60000) -> loss: 0.4111 - acc: 0.8530 - val_loss: 0.3732 - val_acc: 0.8656 - lr: ['0.00001172']\n",
            "Epoch ( 97/150): (60000/60000) -> loss: 0.4100 - acc: 0.8534 - val_loss: 0.3720 - val_acc: 0.8660 - lr: ['0.00001172']\n",
            "Epoch 00097: reducing learning rate of group 0 to 2.9297e-06.\n",
            "Epoch ( 98/150): (60000/60000) -> loss: 0.4090 - acc: 0.8537 - val_loss: 0.3709 - val_acc: 0.8664 - lr: ['0.00000293']\n",
            "Epoch ( 99/150): (60000/60000) -> loss: 0.4079 - acc: 0.8541 - val_loss: 0.3698 - val_acc: 0.8668 - lr: ['0.00000293']\n",
            "Epoch (100/150): (60000/60000) -> loss: 0.4069 - acc: 0.8544 - val_loss: 0.3686 - val_acc: 0.8672 - lr: ['0.00000293']\n",
            "Epoch (101/150): (60000/60000) -> loss: 0.4059 - acc: 0.8548 - val_loss: 0.3675 - val_acc: 0.8676 - lr: ['0.00000293']\n",
            "Epoch (102/150): (60000/60000) -> loss: 0.4049 - acc: 0.8551 - val_loss: 0.3665 - val_acc: 0.8680 - lr: ['0.00000293']\n",
            "Epoch (103/150): (60000/60000) -> loss: 0.4040 - acc: 0.8555 - val_loss: 0.3654 - val_acc: 0.8684 - lr: ['0.00000293']\n",
            "Epoch (104/150): (60000/60000) -> loss: 0.4030 - acc: 0.8558 - val_loss: 0.3644 - val_acc: 0.8687 - lr: ['0.00000293']\n",
            "Epoch (105/150): (60000/60000) -> loss: 0.4021 - acc: 0.8561 - val_loss: 0.3633 - val_acc: 0.8691 - lr: ['0.00000293']\n",
            "Epoch (106/150): (60000/60000) -> loss: 0.4011 - acc: 0.8565 - val_loss: 0.3623 - val_acc: 0.8695 - lr: ['0.00000293']\n",
            "Epoch (107/150): (60000/60000) -> loss: 0.4002 - acc: 0.8568 - val_loss: 0.3614 - val_acc: 0.8698 - lr: ['0.00000293']\n",
            "Epoch (108/150): (60000/60000) -> loss: 0.3993 - acc: 0.8571 - val_loss: 0.3604 - val_acc: 0.8702 - lr: ['0.00000293']\n",
            "Epoch (109/150): (60000/60000) -> loss: 0.3985 - acc: 0.8574 - val_loss: 0.3595 - val_acc: 0.8705 - lr: ['0.00000293']\n",
            "Epoch (110/150): (60000/60000) -> loss: 0.3976 - acc: 0.8577 - val_loss: 0.3585 - val_acc: 0.8709 - lr: ['0.00000293']\n",
            "Epoch (111/150): (60000/60000) -> loss: 0.3968 - acc: 0.8580 - val_loss: 0.3576 - val_acc: 0.8712 - lr: ['0.00000293']\n",
            "Epoch (112/150): (60000/60000) -> loss: 0.3960 - acc: 0.8583 - val_loss: 0.3567 - val_acc: 0.8715 - lr: ['0.00000293']\n",
            "Epoch (113/150): (60000/60000) -> loss: 0.3952 - acc: 0.8586 - val_loss: 0.3559 - val_acc: 0.8718 - lr: ['0.00000293']\n",
            "Epoch (114/150): (60000/60000) -> loss: 0.3944 - acc: 0.8588 - val_loss: 0.3550 - val_acc: 0.8721 - lr: ['0.00000293']\n",
            "Epoch (115/150): (60000/60000) -> loss: 0.3936 - acc: 0.8591 - val_loss: 0.3542 - val_acc: 0.8724 - lr: ['0.00000293']\n",
            "Epoch (116/150): (60000/60000) -> loss: 0.3928 - acc: 0.8594 - val_loss: 0.3533 - val_acc: 0.8727 - lr: ['0.00000293']\n",
            "Epoch 00116: reducing learning rate of group 0 to 7.3242e-07.\n",
            "Epoch (117/150): (60000/60000) -> loss: 0.3921 - acc: 0.8596 - val_loss: 0.3525 - val_acc: 0.8730 - lr: ['0.00000073']\n",
            "Epoch (118/150): (60000/60000) -> loss: 0.3913 - acc: 0.8599 - val_loss: 0.3517 - val_acc: 0.8733 - lr: ['0.00000073']\n",
            "Epoch (119/150): (60000/60000) -> loss: 0.3906 - acc: 0.8601 - val_loss: 0.3509 - val_acc: 0.8736 - lr: ['0.00000073']\n",
            "Epoch (120/150): (60000/60000) -> loss: 0.3899 - acc: 0.8604 - val_loss: 0.3502 - val_acc: 0.8739 - lr: ['0.00000073']\n",
            "Epoch (121/150): (60000/60000) -> loss: 0.3892 - acc: 0.8606 - val_loss: 0.3494 - val_acc: 0.8742 - lr: ['0.00000073']\n",
            "Epoch (122/150): (60000/60000) -> loss: 0.3885 - acc: 0.8609 - val_loss: 0.3486 - val_acc: 0.8744 - lr: ['0.00000073']\n",
            "Epoch 00122: reducing learning rate of group 0 to 1.8311e-07.\n",
            "Epoch (123/150): (60000/60000) -> loss: 0.3878 - acc: 0.8611 - val_loss: 0.3479 - val_acc: 0.8747 - lr: ['0.00000018']\n",
            "Epoch (124/150): (60000/60000) -> loss: 0.3871 - acc: 0.8614 - val_loss: 0.3472 - val_acc: 0.8750 - lr: ['0.00000018']\n",
            "Epoch (125/150): (60000/60000) -> loss: 0.3864 - acc: 0.8616 - val_loss: 0.3465 - val_acc: 0.8752 - lr: ['0.00000018']\n",
            "Epoch (126/150): (60000/60000) -> loss: 0.3858 - acc: 0.8618 - val_loss: 0.3458 - val_acc: 0.8755 - lr: ['0.00000018']\n",
            "Epoch (127/150): (60000/60000) -> loss: 0.3852 - acc: 0.8620 - val_loss: 0.3451 - val_acc: 0.8757 - lr: ['0.00000018']\n",
            "Epoch (128/150): (60000/60000) -> loss: 0.3845 - acc: 0.8623 - val_loss: 0.3444 - val_acc: 0.8760 - lr: ['0.00000018']\n",
            "Epoch 00128: reducing learning rate of group 0 to 4.5776e-08.\n",
            "Epoch (129/150): (60000/60000) -> loss: 0.3839 - acc: 0.8625 - val_loss: 0.3437 - val_acc: 0.8762 - lr: ['0.00000005']\n",
            "Epoch (130/150): (60000/60000) -> loss: 0.3833 - acc: 0.8627 - val_loss: 0.3430 - val_acc: 0.8765 - lr: ['0.00000005']\n",
            "Epoch (131/150): (60000/60000) -> loss: 0.3827 - acc: 0.8629 - val_loss: 0.3424 - val_acc: 0.8767 - lr: ['0.00000005']\n",
            "Epoch (132/150): (60000/60000) -> loss: 0.3821 - acc: 0.8631 - val_loss: 0.3418 - val_acc: 0.8769 - lr: ['0.00000005']\n",
            "Epoch (133/150): (60000/60000) -> loss: 0.3815 - acc: 0.8633 - val_loss: 0.3411 - val_acc: 0.8772 - lr: ['0.00000005']\n",
            "Epoch (134/150): (60000/60000) -> loss: 0.3809 - acc: 0.8635 - val_loss: 0.3405 - val_acc: 0.8774 - lr: ['0.00000005']\n",
            "Epoch 00134: reducing learning rate of group 0 to 1.1444e-08.\n",
            "Epoch (135/150): (60000/60000) -> loss: 0.3803 - acc: 0.8637 - val_loss: 0.3399 - val_acc: 0.8776 - lr: ['0.00000001']\n",
            "Epoch (136/150): (60000/60000) -> loss: 0.3798 - acc: 0.8639 - val_loss: 0.3393 - val_acc: 0.8778 - lr: ['0.00000001']\n",
            "Epoch (137/150): (60000/60000) -> loss: 0.3792 - acc: 0.8641 - val_loss: 0.3387 - val_acc: 0.8781 - lr: ['0.00000001']\n",
            "Epoch (138/150): (60000/60000) -> loss: 0.3787 - acc: 0.8643 - val_loss: 0.3381 - val_acc: 0.8783 - lr: ['0.00000001']\n",
            "Epoch (139/150): (60000/60000) -> loss: 0.3781 - acc: 0.8645 - val_loss: 0.3375 - val_acc: 0.8785 - lr: ['0.00000001']\n",
            "Epoch (140/150): (60000/60000) -> loss: 0.3776 - acc: 0.8647 - val_loss: 0.3369 - val_acc: 0.8787 - lr: ['0.00000001']\n",
            "Epoch (141/150): (60000/60000) -> loss: 0.3771 - acc: 0.8648 - val_loss: 0.3364 - val_acc: 0.8789 - lr: ['0.00000001']\n",
            "Epoch (142/150): (60000/60000) -> loss: 0.3766 - acc: 0.8650 - val_loss: 0.3358 - val_acc: 0.8791 - lr: ['0.00000001']\n",
            "Epoch (143/150): (60000/60000) -> loss: 0.3761 - acc: 0.8652 - val_loss: 0.3353 - val_acc: 0.8793 - lr: ['0.00000001']\n",
            "Epoch (144/150): (60000/60000) -> loss: 0.3756 - acc: 0.8654 - val_loss: 0.3347 - val_acc: 0.8795 - lr: ['0.00000001']\n",
            "Epoch (145/150): (60000/60000) -> loss: 0.3751 - acc: 0.8655 - val_loss: 0.3342 - val_acc: 0.8797 - lr: ['0.00000001']\n",
            "Epoch (146/150): (60000/60000) -> loss: 0.3746 - acc: 0.8657 - val_loss: 0.3337 - val_acc: 0.8799 - lr: ['0.00000001']\n",
            "Epoch (147/150): (60000/60000) -> loss: 0.3741 - acc: 0.8659 - val_loss: 0.3332 - val_acc: 0.8801 - lr: ['0.00000001']\n",
            "Epoch (148/150): (60000/60000) -> loss: 0.3736 - acc: 0.8660 - val_loss: 0.3327 - val_acc: 0.8803 - lr: ['0.00000001']\n",
            "Epoch (149/150): (60000/60000) -> loss: 0.3732 - acc: 0.8662 - val_loss: 0.3322 - val_acc: 0.8804 - lr: ['0.00000001']\n",
            "Epoch (150/150): (60000/60000) -> loss: 0.3727 - acc: 0.8663 - val_loss: 0.3317 - val_acc: 0.8806 - lr: ['0.00000001']\n"
          ]
        }
      ],
      "source": [
        "from torch.optim.lr_scheduler import ReduceLROnPlateau\n",
        "lr_scheduler = ReduceLROnPlateau(optimizer, mode='min', factor=0.25, patience=5, verbose=1)\n",
        "\n",
        "hist = model.fit_dataset(train_dataset, validation_dataset=val_dataset, \n",
        "                         epochs=NUM_EPOCHS, batch_size=BATCH_SIZE, lr_scheduler=lr_scheduler)"
      ]
    },
    {
      "cell_type": "code",
      "execution_count": 13,
      "metadata": {
        "colab": {
          "base_uri": "https://localhost:8080/",
          "height": 346
        },
        "id": "S_Mru1OCS4rl",
        "outputId": "f32e415e-cf52-4433-a728-45a5864af21d"
      },
      "outputs": [
        {
          "output_type": "display_data",
          "data": {
            "text/plain": [
              "<Figure size 1152x360 with 2 Axes>"
            ],
            "image/png": "[encoded data removed]"
          },
          "metadata": {}
        }
      ],
      "source": [
        "pytk.show_plots(hist, metric='acc')"
      ]
    },
    {
      "cell_type": "code",
      "execution_count": 14,
      "metadata": {
        "colab": {
          "base_uri": "https://localhost:8080/"
        },
        "id": "7ORcPXbGTShI",
        "outputId": "24757589-3e23-4114-a781-24b170e0ee7f"
      },
      "outputs": [
        {
          "output_type": "stream",
          "name": "stdout",
          "text": [
            "Evaluating model performance...\n",
            "Evaluating (60000/60000) -> loss: 0.2552 - acc: 0.9060\n",
            "  Training dataset -> loss: 0.2552 - acc: 0.9060\n",
            "Evaluating (8000/8000) -> loss: 0.2584 - acc: 0.9066\n",
            "  Cross-val dataset -> loss: 0.2584 - acc: 0.9066\n",
            "Evaluating (2000/2000) -> loss: 0.2723 - acc: 0.9043\n",
            "  Test dataset      -> loss: 0.2723 - acc: 0.9043\n"
          ]
        }
      ],
      "source": [
        "# evaluate performance\n",
        "print('Evaluating model performance...')\n",
        "loss, acc = model.evaluate_dataset(train_dataset)\n",
        "print(f'  Training dataset -> loss: {loss:.4f} - acc: {acc:.4f}')\n",
        "loss, acc = model.evaluate_dataset(val_dataset)\n",
        "print(f'  Cross-val dataset -> loss: {loss:.4f} - acc: {acc:.4f}')\n",
        "loss, acc = model.evaluate_dataset(test_dataset)\n",
        "print(f'  Test dataset      -> loss: {loss:.4f} - acc: {acc:.4f}')"
      ]
    },
    {
      "cell_type": "markdown",
      "metadata": {
        "id": "GWklgT8dTcWE"
      },
      "source": [
        "### Observations\n",
        "\n",
        ">Configuration | Training Acc | Cross-val Acc | Test Acc | Observation\n",
        ">:---|:---:|:---:|:---:|:---|\n",
        ">**Base Model**|99.69%|93.39%|93.07%| Overfitting\n",
        ">**Base Model + L2 regularization**|96.69%|92.17%|92.38%| Still Overfitting\n",
        ">**Base Model + Dropout regularization**|99.27%|93.93%|93.90%| Overfitting\n",
        ">**Base Model + Dropout & L2 regularization**|95.04%|93.01%|92.92%| Overfitting has reduced.\n",
        ">**Base Model + Dropout & L2 regularization + Image Aug**|~90-91%|~90-91%|~90-91%| No overfitting! But accuracy could be much better.\n",
        "\n",
        "After image augmentation, the model appears to handle overfitting really well - all accuracies are in the same range. From the plots, it doesn't appear that the lines will converge, so no point training for more epochs.\n",
        "\n",
        "**Conclusion**:\n",
        "* Image Augmentation has helped immensely handle over-fitting\n",
        "* However our model appears to be very simple for the augmented images (as accuracies are much lower on all 3 datasets).\n",
        "\n",
        "Time to use a pre-trained model??"
      ]
    },
    {
      "cell_type": "code",
      "execution_count": null,
      "metadata": {
        "id": "SakZUD-9TSd2"
      },
      "outputs": [],
      "source": [
        "model.save(PY_MODEL_SAVE_PATH_AUG)\n",
        "del model"
      ]
    },
    {
      "cell_type": "code",
      "execution_count": null,
      "metadata": {
        "id": "QrFtPdjpTSZ6"
      },
      "outputs": [],
      "source": [
        "model, optimizer = build_model_l2_do()\n",
        "model.load(PY_MODEL_SAVE_PATH_AUG)\n",
        "print(model.summary((NUM_CHANNELS, IMAGE_HEIGHT, IMAGE_WIDTH)))"
      ]
    },
    {
      "cell_type": "code",
      "execution_count": 17,
      "metadata": {
        "colab": {
          "base_uri": "https://localhost:8080/"
        },
        "id": "eODdbPCvTSQz",
        "outputId": "263eddab-b169-4745-bc58-77dceaacce70"
      },
      "outputs": [
        {
          "output_type": "stream",
          "name": "stdout",
          "text": [
            "Sample labels (50):  [6 4 5 4 8 0 8 9 5 3 5 4 3 3 0 9 1 2 5 0 8 9 8 0 6 4 7 6 5 0 1 8 1 1 9 7 0 7 5 3 4 4 2 1 9 5 8 4 8 0]\n",
            "Sample predictions (50):  [6 4 5 4 8 0 8 9 5 3 5 4 3 3 0 9 1 2 5 0 8 9 8 0 6 4 7 6 5 0 1 8 1 1 9 7 0 7 5 3 4 4 2 1 9 5 8 4 8 0]\n",
            "We got 196/2000 incorrect!\n"
          ]
        }
      ],
      "source": [
        "# run predictions\n",
        "y_pred, y_true = model.predict_dataset(test_dataset)\n",
        "y_pred = np.argmax(y_pred, axis=1)\n",
        "print('Sample labels (50): ', y_true[:50])\n",
        "print('Sample predictions (50): ', y_true[:50])\n",
        "print('We got %d/%d incorrect!' % ((y_pred != y_true).sum(), len(y_true)))"
      ]
    },
    {
      "cell_type": "code",
      "execution_count": 19,
      "metadata": {
        "colab": {
          "base_uri": "https://localhost:8080/",
          "height": 665
        },
        "id": "1FqX5Psg0ZQX",
        "outputId": "14a1400b-7571-45a9-e7eb-ec7e9895e0c9"
      },
      "outputs": [
        {
          "output_type": "stream",
          "name": "stdout",
          "text": [
            "Displaying sample predictions...\n"
          ]
        },
        {
          "output_type": "display_data",
          "data": {
            "text/plain": [
              "<Figure size 1008x720 with 64 Axes>"
            ],
            "image/png": "[encoded data removed]"
          },
          "metadata": {}
        }
      ],
      "source": [
        "# display sample\n",
        "print('Displaying sample predictions...')\n",
        "trainloader = torch.utils.data.DataLoader(test_dataset, batch_size=64, shuffle=True)\n",
        "data_iter = iter(trainloader)\n",
        "images, labels = data_iter.next()  # fetch a batch of 64 random images\n",
        "preds = model.predict(images)\n",
        "preds = np.argmax(preds, axis=1)\n",
        "#type(images), type(labels), type(preds)\n",
        "display_sample(images, labels.cpu().numpy(), sample_predictions=preds,\n",
        "                grid_shape=(8, 8), plot_title='Sample Predictions - Test Dataset')"
      ]
    },
    {
      "cell_type": "markdown",
      "metadata": {
        "id": "moJ-XRBlTsk3"
      },
      "source": [
        "# <center> -- END -- </center>"
      ]
    }
  ],
  "metadata": {
    "accelerator": "GPU",
    "colab": {
      "collapsed_sections": [],
      "machine_shape": "hm",
      "name": "pyt_fashion_mnist-Part3.ipynb",
      "provenance": []
    },
    "kernelspec": {
      "display_name": "Python 3",
      "name": "python3"
    },
    "widgets": {
      "application/vnd.jupyter.widget-state+json": {
        "014ef45425634aba99584a55a28ec553": {
          "model_module": "@jupyter-widgets/controls",
          "model_name": "HBoxModel",
          "model_module_version": "1.5.0",
          "state": {
            "_dom_classes": [],
            "_model_module": "@jupyter-widgets/controls",
            "_model_module_version": "1.5.0",
            "_model_name": "HBoxModel",
            "_view_count": null,
            "_view_module": "@jupyter-widgets/controls",
            "_view_module_version": "1.5.0",
            "_view_name": "HBoxView",
            "box_style": "",
            "children": [
              "IPY_MODEL_a3a778a3383a4b05b1a484e0400b2ba0",
              "IPY_MODEL_cb950e0027ce4650b118f6e839416eb8",
              "IPY_MODEL_0957cd0d6fa04d8a8134d77692e657d3"
            ],
            "layout": "IPY_MODEL_ad4fd5754fb04e57ac04d002142b9886"
          }
        },
        "a3a778a3383a4b05b1a484e0400b2ba0": {
          "model_module": "@jupyter-widgets/controls",
          "model_name": "HTMLModel",
          "model_module_version": "1.5.0",
          "state": {
            "_dom_classes": [],
            "_model_module": "@jupyter-widgets/controls",
            "_model_module_version": "1.5.0",
            "_model_name": "HTMLModel",
            "_view_count": null,
            "_view_module": "@jupyter-widgets/controls",
            "_view_module_version": "1.5.0",
            "_view_name": "HTMLView",
            "description": "",
            "description_tooltip": null,
            "layout": "IPY_MODEL_86f6c4c6b9c248f49d44a3a1d421379a",
            "placeholder": "​",
            "style": "IPY_MODEL_2134de68b683479885ec463c96d82a77",
            "value": ""
          }
        },
        "cb950e0027ce4650b118f6e839416eb8": {
          "model_module": "@jupyter-widgets/controls",
          "model_name": "FloatProgressModel",
          "model_module_version": "1.5.0",
          "state": {
            "_dom_classes": [],
            "_model_module": "@jupyter-widgets/controls",
            "_model_module_version": "1.5.0",
            "_model_name": "FloatProgressModel",
            "_view_count": null,
            "_view_module": "@jupyter-widgets/controls",
            "_view_module_version": "1.5.0",
            "_view_name": "ProgressView",
            "bar_style": "success",
            "description": "",
            "description_tooltip": null,
            "layout": "IPY_MODEL_34f397351c4d4bb593b27d98526b18af",
            "max": 26421880,
            "min": 0,
            "orientation": "horizontal",
            "style": "IPY_MODEL_376a5a8e03344f37baf5c4d0c6e9a56e",
            "value": 26421880
          }
        },
        "0957cd0d6fa04d8a8134d77692e657d3": {
          "model_module": "@jupyter-widgets/controls",
          "model_name": "HTMLModel",
          "model_module_version": "1.5.0",
          "state": {
            "_dom_classes": [],
            "_model_module": "@jupyter-widgets/controls",
            "_model_module_version": "1.5.0",
            "_model_name": "HTMLModel",
            "_view_count": null,
            "_view_module": "@jupyter-widgets/controls",
            "_view_module_version": "1.5.0",
            "_view_name": "HTMLView",
            "description": "",
            "description_tooltip": null,
            "layout": "IPY_MODEL_0bf8585fcfd74e7ebad6231f0708207e",
            "placeholder": "​",
            "style": "IPY_MODEL_1f431221aa08421290160717ae63e651",
            "value": " 26422272/? [00:04&lt;00:00, 9948688.27it/s]"
          }
        },
        "ad4fd5754fb04e57ac04d002142b9886": {
          "model_module": "@jupyter-widgets/base",
          "model_name": "LayoutModel",
          "model_module_version": "1.2.0",
          "state": {
            "_model_module": "@jupyter-widgets/base",
            "_model_module_version": "1.2.0",
            "_model_name": "LayoutModel",
            "_view_count": null,
            "_view_module": "@jupyter-widgets/base",
            "_view_module_version": "1.2.0",
            "_view_name": "LayoutView",
            "align_content": null,
            "align_items": null,
            "align_self": null,
            "border": null,
            "bottom": null,
            "display": null,
            "flex": null,
            "flex_flow": null,
            "grid_area": null,
            "grid_auto_columns": null,
            "grid_auto_flow": null,
            "grid_auto_rows": null,
            "grid_column": null,
            "grid_gap": null,
            "grid_row": null,
            "grid_template_areas": null,
            "grid_template_columns": null,
            "grid_template_rows": null,
            "height": null,
            "justify_content": null,
            "justify_items": null,
            "left": null,
            "margin": null,
            "max_height": null,
            "max_width": null,
            "min_height": null,
            "min_width": null,
            "object_fit": null,
            "object_position": null,
            "order": null,
            "overflow": null,
            "overflow_x": null,
            "overflow_y": null,
            "padding": null,
            "right": null,
            "top": null,
            "visibility": null,
            "width": null
          }
        },
        "86f6c4c6b9c248f49d44a3a1d421379a": {
          "model_module": "@jupyter-widgets/base",
          "model_name": "LayoutModel",
          "model_module_version": "1.2.0",
          "state": {
            "_model_module": "@jupyter-widgets/base",
            "_model_module_version": "1.2.0",
            "_model_name": "LayoutModel",
            "_view_count": null,
            "_view_module": "@jupyter-widgets/base",
            "_view_module_version": "1.2.0",
            "_view_name": "LayoutView",
            "align_content": null,
            "align_items": null,
            "align_self": null,
            "border": null,
            "bottom": null,
            "display": null,
            "flex": null,
            "flex_flow": null,
            "grid_area": null,
            "grid_auto_columns": null,
            "grid_auto_flow": null,
            "grid_auto_rows": null,
            "grid_column": null,
            "grid_gap": null,
            "grid_row": null,
            "grid_template_areas": null,
            "grid_template_columns": null,
            "grid_template_rows": null,
            "height": null,
            "justify_content": null,
            "justify_items": null,
            "left": null,
            "margin": null,
            "max_height": null,
            "max_width": null,
            "min_height": null,
            "min_width": null,
            "object_fit": null,
            "object_position": null,
            "order": null,
            "overflow": null,
            "overflow_x": null,
            "overflow_y": null,
            "padding": null,
            "right": null,
            "top": null,
            "visibility": null,
            "width": null
          }
        },
        "2134de68b683479885ec463c96d82a77": {
          "model_module": "@jupyter-widgets/controls",
          "model_name": "DescriptionStyleModel",
          "model_module_version": "1.5.0",
          "state": {
            "_model_module": "@jupyter-widgets/controls",
            "_model_module_version": "1.5.0",
            "_model_name": "DescriptionStyleModel",
            "_view_count": null,
            "_view_module": "@jupyter-widgets/base",
            "_view_module_version": "1.2.0",
            "_view_name": "StyleView",
            "description_width": ""
          }
        },
        "34f397351c4d4bb593b27d98526b18af": {
          "model_module": "@jupyter-widgets/base",
          "model_name": "LayoutModel",
          "model_module_version": "1.2.0",
          "state": {
            "_model_module": "@jupyter-widgets/base",
            "_model_module_version": "1.2.0",
            "_model_name": "LayoutModel",
            "_view_count": null,
            "_view_module": "@jupyter-widgets/base",
            "_view_module_version": "1.2.0",
            "_view_name": "LayoutView",
            "align_content": null,
            "align_items": null,
            "align_self": null,
            "border": null,
            "bottom": null,
            "display": null,
            "flex": null,
            "flex_flow": null,
            "grid_area": null,
            "grid_auto_columns": null,
            "grid_auto_flow": null,
            "grid_auto_rows": null,
            "grid_column": null,
            "grid_gap": null,
            "grid_row": null,
            "grid_template_areas": null,
            "grid_template_columns": null,
            "grid_template_rows": null,
            "height": null,
            "justify_content": null,
            "justify_items": null,
            "left": null,
            "margin": null,
            "max_height": null,
            "max_width": null,
            "min_height": null,
            "min_width": null,
            "object_fit": null,
            "object_position": null,
            "order": null,
            "overflow": null,
            "overflow_x": null,
            "overflow_y": null,
            "padding": null,
            "right": null,
            "top": null,
            "visibility": null,
            "width": null
          }
        },
        "376a5a8e03344f37baf5c4d0c6e9a56e": {
          "model_module": "@jupyter-widgets/controls",
          "model_name": "ProgressStyleModel",
          "model_module_version": "1.5.0",
          "state": {
            "_model_module": "@jupyter-widgets/controls",
            "_model_module_version": "1.5.0",
            "_model_name": "ProgressStyleModel",
            "_view_count": null,
            "_view_module": "@jupyter-widgets/base",
            "_view_module_version": "1.2.0",
            "_view_name": "StyleView",
            "bar_color": null,
            "description_width": ""
          }
        },
        "0bf8585fcfd74e7ebad6231f0708207e": {
          "model_module": "@jupyter-widgets/base",
          "model_name": "LayoutModel",
          "model_module_version": "1.2.0",
          "state": {
            "_model_module": "@jupyter-widgets/base",
            "_model_module_version": "1.2.0",
            "_model_name": "LayoutModel",
            "_view_count": null,
            "_view_module": "@jupyter-widgets/base",
            "_view_module_version": "1.2.0",
            "_view_name": "LayoutView",
            "align_content": null,
            "align_items": null,
            "align_self": null,
            "border": null,
            "bottom": null,
            "display": null,
            "flex": null,
            "flex_flow": null,
            "grid_area": null,
            "grid_auto_columns": null,
            "grid_auto_flow": null,
            "grid_auto_rows": null,
            "grid_column": null,
            "grid_gap": null,
            "grid_row": null,
            "grid_template_areas": null,
            "grid_template_columns": null,
            "grid_template_rows": null,
            "height": null,
            "justify_content": null,
            "justify_items": null,
            "left": null,
            "margin": null,
            "max_height": null,
            "max_width": null,
            "min_height": null,
            "min_width": null,
            "object_fit": null,
            "object_position": null,
            "order": null,
            "overflow": null,
            "overflow_x": null,
            "overflow_y": null,
            "padding": null,
            "right": null,
            "top": null,
            "visibility": null,
            "width": null
          }
        },
        "1f431221aa08421290160717ae63e651": {
          "model_module": "@jupyter-widgets/controls",
          "model_name": "DescriptionStyleModel",
          "model_module_version": "1.5.0",
          "state": {
            "_model_module": "@jupyter-widgets/controls",
            "_model_module_version": "1.5.0",
            "_model_name": "DescriptionStyleModel",
            "_view_count": null,
            "_view_module": "@jupyter-widgets/base",
            "_view_module_version": "1.2.0",
            "_view_name": "StyleView",
            "description_width": ""
          }
        },
        "f4a5f623209a4d28b46dd3ffa3d9e22b": {
          "model_module": "@jupyter-widgets/controls",
          "model_name": "HBoxModel",
          "model_module_version": "1.5.0",
          "state": {
            "_dom_classes": [],
            "_model_module": "@jupyter-widgets/controls",
            "_model_module_version": "1.5.0",
            "_model_name": "HBoxModel",
            "_view_count": null,
            "_view_module": "@jupyter-widgets/controls",
            "_view_module_version": "1.5.0",
            "_view_name": "HBoxView",
            "box_style": "",
            "children": [
              "IPY_MODEL_eeb18fd61e0f47039f94540983265cf6",
              "IPY_MODEL_ee005799138c474a90341f529aeb7da0",
              "IPY_MODEL_74636cffc8f9452798e92b6ad73e22b0"
            ],
            "layout": "IPY_MODEL_b59c52841eb54edebaefff7ac156846e"
          }
        },
        "eeb18fd61e0f47039f94540983265cf6": {
          "model_module": "@jupyter-widgets/controls",
          "model_name": "HTMLModel",
          "model_module_version": "1.5.0",
          "state": {
            "_dom_classes": [],
            "_model_module": "@jupyter-widgets/controls",
            "_model_module_version": "1.5.0",
            "_model_name": "HTMLModel",
            "_view_count": null,
            "_view_module": "@jupyter-widgets/controls",
            "_view_module_version": "1.5.0",
            "_view_name": "HTMLView",
            "description": "",
            "description_tooltip": null,
            "layout": "IPY_MODEL_5b4635c58b0746839fdfa29d1a3b4dbf",
            "placeholder": "​",
            "style": "IPY_MODEL_f201d79fb0324fd39745ac6db6ab56f3",
            "value": ""
          }
        },
        "ee005799138c474a90341f529aeb7da0": {
          "model_module": "@jupyter-widgets/controls",
          "model_name": "FloatProgressModel",
          "model_module_version": "1.5.0",
          "state": {
            "_dom_classes": [],
            "_model_module": "@jupyter-widgets/controls",
            "_model_module_version": "1.5.0",
            "_model_name": "FloatProgressModel",
            "_view_count": null,
            "_view_module": "@jupyter-widgets/controls",
            "_view_module_version": "1.5.0",
            "_view_name": "ProgressView",
            "bar_style": "success",
            "description": "",
            "description_tooltip": null,
            "layout": "IPY_MODEL_1fe248fca56444068be948332d0893e0",
            "max": 29515,
            "min": 0,
            "orientation": "horizontal",
            "style": "IPY_MODEL_139027337d81414ca5657a25d784838e",
            "value": 29515
          }
        },
        "74636cffc8f9452798e92b6ad73e22b0": {
          "model_module": "@jupyter-widgets/controls",
          "model_name": "HTMLModel",
          "model_module_version": "1.5.0",
          "state": {
            "_dom_classes": [],
            "_model_module": "@jupyter-widgets/controls",
            "_model_module_version": "1.5.0",
            "_model_name": "HTMLModel",
            "_view_count": null,
            "_view_module": "@jupyter-widgets/controls",
            "_view_module_version": "1.5.0",
            "_view_name": "HTMLView",
            "description": "",
            "description_tooltip": null,
            "layout": "IPY_MODEL_3d5a7f071526428cbabe924c9330ee8e",
            "placeholder": "​",
            "style": "IPY_MODEL_9641cbb62e2946b795d0fab114383107",
            "value": " 29696/? [00:00&lt;00:00, 51769.67it/s]"
          }
        },
        "b59c52841eb54edebaefff7ac156846e": {
          "model_module": "@jupyter-widgets/base",
          "model_name": "LayoutModel",
          "model_module_version": "1.2.0",
          "state": {
            "_model_module": "@jupyter-widgets/base",
            "_model_module_version": "1.2.0",
            "_model_name": "LayoutModel",
            "_view_count": null,
            "_view_module": "@jupyter-widgets/base",
            "_view_module_version": "1.2.0",
            "_view_name": "LayoutView",
            "align_content": null,
            "align_items": null,
            "align_self": null,
            "border": null,
            "bottom": null,
            "display": null,
            "flex": null,
            "flex_flow": null,
            "grid_area": null,
            "grid_auto_columns": null,
            "grid_auto_flow": null,
            "grid_auto_rows": null,
            "grid_column": null,
            "grid_gap": null,
            "grid_row": null,
            "grid_template_areas": null,
            "grid_template_columns": null,
            "grid_template_rows": null,
            "height": null,
            "justify_content": null,
            "justify_items": null,
            "left": null,
            "margin": null,
            "max_height": null,
            "max_width": null,
            "min_height": null,
            "min_width": null,
            "object_fit": null,
            "object_position": null,
            "order": null,
            "overflow": null,
            "overflow_x": null,
            "overflow_y": null,
            "padding": null,
            "right": null,
            "top": null,
            "visibility": null,
            "width": null
          }
        },
        "5b4635c58b0746839fdfa29d1a3b4dbf": {
          "model_module": "@jupyter-widgets/base",
          "model_name": "LayoutModel",
          "model_module_version": "1.2.0",
          "state": {
            "_model_module": "@jupyter-widgets/base",
            "_model_module_version": "1.2.0",
            "_model_name": "LayoutModel",
            "_view_count": null,
            "_view_module": "@jupyter-widgets/base",
            "_view_module_version": "1.2.0",
            "_view_name": "LayoutView",
            "align_content": null,
            "align_items": null,
            "align_self": null,
            "border": null,
            "bottom": null,
            "display": null,
            "flex": null,
            "flex_flow": null,
            "grid_area": null,
            "grid_auto_columns": null,
            "grid_auto_flow": null,
            "grid_auto_rows": null,
            "grid_column": null,
            "grid_gap": null,
            "grid_row": null,
            "grid_template_areas": null,
            "grid_template_columns": null,
            "grid_template_rows": null,
            "height": null,
            "justify_content": null,
            "justify_items": null,
            "left": null,
            "margin": null,
            "max_height": null,
            "max_width": null,
            "min_height": null,
            "min_width": null,
            "object_fit": null,
            "object_position": null,
            "order": null,
            "overflow": null,
            "overflow_x": null,
            "overflow_y": null,
            "padding": null,
            "right": null,
            "top": null,
            "visibility": null,
            "width": null
          }
        },
        "f201d79fb0324fd39745ac6db6ab56f3": {
          "model_module": "@jupyter-widgets/controls",
          "model_name": "DescriptionStyleModel",
          "model_module_version": "1.5.0",
          "state": {
            "_model_module": "@jupyter-widgets/controls",
            "_model_module_version": "1.5.0",
            "_model_name": "DescriptionStyleModel",
            "_view_count": null,
            "_view_module": "@jupyter-widgets/base",
            "_view_module_version": "1.2.0",
            "_view_name": "StyleView",
            "description_width": ""
          }
        },
        "1fe248fca56444068be948332d0893e0": {
          "model_module": "@jupyter-widgets/base",
          "model_name": "LayoutModel",
          "model_module_version": "1.2.0",
          "state": {
            "_model_module": "@jupyter-widgets/base",
            "_model_module_version": "1.2.0",
            "_model_name": "LayoutModel",
            "_view_count": null,
            "_view_module": "@jupyter-widgets/base",
            "_view_module_version": "1.2.0",
            "_view_name": "LayoutView",
            "align_content": null,
            "align_items": null,
            "align_self": null,
            "border": null,
            "bottom": null,
            "display": null,
            "flex": null,
            "flex_flow": null,
            "grid_area": null,
            "grid_auto_columns": null,
            "grid_auto_flow": null,
            "grid_auto_rows": null,
            "grid_column": null,
            "grid_gap": null,
            "grid_row": null,
            "grid_template_areas": null,
            "grid_template_columns": null,
            "grid_template_rows": null,
            "height": null,
            "justify_content": null,
            "justify_items": null,
            "left": null,
            "margin": null,
            "max_height": null,
            "max_width": null,
            "min_height": null,
            "min_width": null,
            "object_fit": null,
            "object_position": null,
            "order": null,
            "overflow": null,
            "overflow_x": null,
            "overflow_y": null,
            "padding": null,
            "right": null,
            "top": null,
            "visibility": null,
            "width": null
          }
        },
        "139027337d81414ca5657a25d784838e": {
          "model_module": "@jupyter-widgets/controls",
          "model_name": "ProgressStyleModel",
          "model_module_version": "1.5.0",
          "state": {
            "_model_module": "@jupyter-widgets/controls",
            "_model_module_version": "1.5.0",
            "_model_name": "ProgressStyleModel",
            "_view_count": null,
            "_view_module": "@jupyter-widgets/base",
            "_view_module_version": "1.2.0",
            "_view_name": "StyleView",
            "bar_color": null,
            "description_width": ""
          }
        },
        "3d5a7f071526428cbabe924c9330ee8e": {
          "model_module": "@jupyter-widgets/base",
          "model_name": "LayoutModel",
          "model_module_version": "1.2.0",
          "state": {
            "_model_module": "@jupyter-widgets/base",
            "_model_module_version": "1.2.0",
            "_model_name": "LayoutModel",
            "_view_count": null,
            "_view_module": "@jupyter-widgets/base",
            "_view_module_version": "1.2.0",
            "_view_name": "LayoutView",
            "align_content": null,
            "align_items": null,
            "align_self": null,
            "border": null,
            "bottom": null,
            "display": null,
            "flex": null,
            "flex_flow": null,
            "grid_area": null,
            "grid_auto_columns": null,
            "grid_auto_flow": null,
            "grid_auto_rows": null,
            "grid_column": null,
            "grid_gap": null,
            "grid_row": null,
            "grid_template_areas": null,
            "grid_template_columns": null,
            "grid_template_rows": null,
            "height": null,
            "justify_content": null,
            "justify_items": null,
            "left": null,
            "margin": null,
            "max_height": null,
            "max_width": null,
            "min_height": null,
            "min_width": null,
            "object_fit": null,
            "object_position": null,
            "order": null,
            "overflow": null,
            "overflow_x": null,
            "overflow_y": null,
            "padding": null,
            "right": null,
            "top": null,
            "visibility": null,
            "width": null
          }
        },
        "9641cbb62e2946b795d0fab114383107": {
          "model_module": "@jupyter-widgets/controls",
          "model_name": "DescriptionStyleModel",
          "model_module_version": "1.5.0",
          "state": {
            "_model_module": "@jupyter-widgets/controls",
            "_model_module_version": "1.5.0",
            "_model_name": "DescriptionStyleModel",
            "_view_count": null,
            "_view_module": "@jupyter-widgets/base",
            "_view_module_version": "1.2.0",
            "_view_name": "StyleView",
            "description_width": ""
          }
        },
        "c8411fe97e2345118334d3411e8f6953": {
          "model_module": "@jupyter-widgets/controls",
          "model_name": "HBoxModel",
          "model_module_version": "1.5.0",
          "state": {
            "_dom_classes": [],
            "_model_module": "@jupyter-widgets/controls",
            "_model_module_version": "1.5.0",
            "_model_name": "HBoxModel",
            "_view_count": null,
            "_view_module": "@jupyter-widgets/controls",
            "_view_module_version": "1.5.0",
            "_view_name": "HBoxView",
            "box_style": "",
            "children": [
              "IPY_MODEL_68f279a83da2426da908fc74b67345e2",
              "IPY_MODEL_b2cf937fc01d475d95203e06d0c78777",
              "IPY_MODEL_427a1bf1352848ccb4a57efa664dee89"
            ],
            "layout": "IPY_MODEL_2db3e0df6d664ae09a3f948d4216f838"
          }
        },
        "68f279a83da2426da908fc74b67345e2": {
          "model_module": "@jupyter-widgets/controls",
          "model_name": "HTMLModel",
          "model_module_version": "1.5.0",
          "state": {
            "_dom_classes": [],
            "_model_module": "@jupyter-widgets/controls",
            "_model_module_version": "1.5.0",
            "_model_name": "HTMLModel",
            "_view_count": null,
            "_view_module": "@jupyter-widgets/controls",
            "_view_module_version": "1.5.0",
            "_view_name": "HTMLView",
            "description": "",
            "description_tooltip": null,
            "layout": "IPY_MODEL_324cb8c85b8e4116a5c9693ce2a6c1fe",
            "placeholder": "​",
            "style": "IPY_MODEL_42a902dd8b1743d58ce38b18a1ef582f",
            "value": ""
          }
        },
        "b2cf937fc01d475d95203e06d0c78777": {
          "model_module": "@jupyter-widgets/controls",
          "model_name": "FloatProgressModel",
          "model_module_version": "1.5.0",
          "state": {
            "_dom_classes": [],
            "_model_module": "@jupyter-widgets/controls",
            "_model_module_version": "1.5.0",
            "_model_name": "FloatProgressModel",
            "_view_count": null,
            "_view_module": "@jupyter-widgets/controls",
            "_view_module_version": "1.5.0",
            "_view_name": "ProgressView",
            "bar_style": "success",
            "description": "",
            "description_tooltip": null,
            "layout": "IPY_MODEL_acf3c04ef6fa46e2acd58b1773872742",
            "max": 4422102,
            "min": 0,
            "orientation": "horizontal",
            "style": "IPY_MODEL_1a4f9eacb24e488b974511833ff54e51",
            "value": 4422102
          }
        },
        "427a1bf1352848ccb4a57efa664dee89": {
          "model_module": "@jupyter-widgets/controls",
          "model_name": "HTMLModel",
          "model_module_version": "1.5.0",
          "state": {
            "_dom_classes": [],
            "_model_module": "@jupyter-widgets/controls",
            "_model_module_version": "1.5.0",
            "_model_name": "HTMLModel",
            "_view_count": null,
            "_view_module": "@jupyter-widgets/controls",
            "_view_module_version": "1.5.0",
            "_view_name": "HTMLView",
            "description": "",
            "description_tooltip": null,
            "layout": "IPY_MODEL_7323eac22fb84a85b8a40fa14b844392",
            "placeholder": "​",
            "style": "IPY_MODEL_bf0121f6488043db96c0f5bc631a2f82",
            "value": " 4422656/? [00:09&lt;00:00, 1356349.51it/s]"
          }
        },
        "2db3e0df6d664ae09a3f948d4216f838": {
          "model_module": "@jupyter-widgets/base",
          "model_name": "LayoutModel",
          "model_module_version": "1.2.0",
          "state": {
            "_model_module": "@jupyter-widgets/base",
            "_model_module_version": "1.2.0",
            "_model_name": "LayoutModel",
            "_view_count": null,
            "_view_module": "@jupyter-widgets/base",
            "_view_module_version": "1.2.0",
            "_view_name": "LayoutView",
            "align_content": null,
            "align_items": null,
            "align_self": null,
            "border": null,
            "bottom": null,
            "display": null,
            "flex": null,
            "flex_flow": null,
            "grid_area": null,
            "grid_auto_columns": null,
            "grid_auto_flow": null,
            "grid_auto_rows": null,
            "grid_column": null,
            "grid_gap": null,
            "grid_row": null,
            "grid_template_areas": null,
            "grid_template_columns": null,
            "grid_template_rows": null,
            "height": null,
            "justify_content": null,
            "justify_items": null,
            "left": null,
            "margin": null,
            "max_height": null,
            "max_width": null,
            "min_height": null,
            "min_width": null,
            "object_fit": null,
            "object_position": null,
            "order": null,
            "overflow": null,
            "overflow_x": null,
            "overflow_y": null,
            "padding": null,
            "right": null,
            "top": null,
            "visibility": null,
            "width": null
          }
        },
        "324cb8c85b8e4116a5c9693ce2a6c1fe": {
          "model_module": "@jupyter-widgets/base",
          "model_name": "LayoutModel",
          "model_module_version": "1.2.0",
          "state": {
            "_model_module": "@jupyter-widgets/base",
            "_model_module_version": "1.2.0",
            "_model_name": "LayoutModel",
            "_view_count": null,
            "_view_module": "@jupyter-widgets/base",
            "_view_module_version": "1.2.0",
            "_view_name": "LayoutView",
            "align_content": null,
            "align_items": null,
            "align_self": null,
            "border": null,
            "bottom": null,
            "display": null,
            "flex": null,
            "flex_flow": null,
            "grid_area": null,
            "grid_auto_columns": null,
            "grid_auto_flow": null,
            "grid_auto_rows": null,
            "grid_column": null,
            "grid_gap": null,
            "grid_row": null,
            "grid_template_areas": null,
            "grid_template_columns": null,
            "grid_template_rows": null,
            "height": null,
            "justify_content": null,
            "justify_items": null,
            "left": null,
            "margin": null,
            "max_height": null,
            "max_width": null,
            "min_height": null,
            "min_width": null,
            "object_fit": null,
            "object_position": null,
            "order": null,
            "overflow": null,
            "overflow_x": null,
            "overflow_y": null,
            "padding": null,
            "right": null,
            "top": null,
            "visibility": null,
            "width": null
          }
        },
        "42a902dd8b1743d58ce38b18a1ef582f": {
          "model_module": "@jupyter-widgets/controls",
          "model_name": "DescriptionStyleModel",
          "model_module_version": "1.5.0",
          "state": {
            "_model_module": "@jupyter-widgets/controls",
            "_model_module_version": "1.5.0",
            "_model_name": "DescriptionStyleModel",
            "_view_count": null,
            "_view_module": "@jupyter-widgets/base",
            "_view_module_version": "1.2.0",
            "_view_name": "StyleView",
            "description_width": ""
          }
        },
        "acf3c04ef6fa46e2acd58b1773872742": {
          "model_module": "@jupyter-widgets/base",
          "model_name": "LayoutModel",
          "model_module_version": "1.2.0",
          "state": {
            "_model_module": "@jupyter-widgets/base",
            "_model_module_version": "1.2.0",
            "_model_name": "LayoutModel",
            "_view_count": null,
            "_view_module": "@jupyter-widgets/base",
            "_view_module_version": "1.2.0",
            "_view_name": "LayoutView",
            "align_content": null,
            "align_items": null,
            "align_self": null,
            "border": null,
            "bottom": null,
            "display": null,
            "flex": null,
            "flex_flow": null,
            "grid_area": null,
            "grid_auto_columns": null,
            "grid_auto_flow": null,
            "grid_auto_rows": null,
            "grid_column": null,
            "grid_gap": null,
            "grid_row": null,
            "grid_template_areas": null,
            "grid_template_columns": null,
            "grid_template_rows": null,
            "height": null,
            "justify_content": null,
            "justify_items": null,
            "left": null,
            "margin": null,
            "max_height": null,
            "max_width": null,
            "min_height": null,
            "min_width": null,
            "object_fit": null,
            "object_position": null,
            "order": null,
            "overflow": null,
            "overflow_x": null,
            "overflow_y": null,
            "padding": null,
            "right": null,
            "top": null,
            "visibility": null,
            "width": null
          }
        },
        "1a4f9eacb24e488b974511833ff54e51": {
          "model_module": "@jupyter-widgets/controls",
          "model_name": "ProgressStyleModel",
          "model_module_version": "1.5.0",
          "state": {
            "_model_module": "@jupyter-widgets/controls",
            "_model_module_version": "1.5.0",
            "_model_name": "ProgressStyleModel",
            "_view_count": null,
            "_view_module": "@jupyter-widgets/base",
            "_view_module_version": "1.2.0",
            "_view_name": "StyleView",
            "bar_color": null,
            "description_width": ""
          }
        },
        "7323eac22fb84a85b8a40fa14b844392": {
          "model_module": "@jupyter-widgets/base",
          "model_name": "LayoutModel",
          "model_module_version": "1.2.0",
          "state": {
            "_model_module": "@jupyter-widgets/base",
            "_model_module_version": "1.2.0",
            "_model_name": "LayoutModel",
            "_view_count": null,
            "_view_module": "@jupyter-widgets/base",
            "_view_module_version": "1.2.0",
            "_view_name": "LayoutView",
            "align_content": null,
            "align_items": null,
            "align_self": null,
            "border": null,
            "bottom": null,
            "display": null,
            "flex": null,
            "flex_flow": null,
            "grid_area": null,
            "grid_auto_columns": null,
            "grid_auto_flow": null,
            "grid_auto_rows": null,
            "grid_column": null,
            "grid_gap": null,
            "grid_row": null,
            "grid_template_areas": null,
            "grid_template_columns": null,
            "grid_template_rows": null,
            "height": null,
            "justify_content": null,
            "justify_items": null,
            "left": null,
            "margin": null,
            "max_height": null,
            "max_width": null,
            "min_height": null,
            "min_width": null,
            "object_fit": null,
            "object_position": null,
            "order": null,
            "overflow": null,
            "overflow_x": null,
            "overflow_y": null,
            "padding": null,
            "right": null,
            "top": null,
            "visibility": null,
            "width": null
          }
        },
        "bf0121f6488043db96c0f5bc631a2f82": {
          "model_module": "@jupyter-widgets/controls",
          "model_name": "DescriptionStyleModel",
          "model_module_version": "1.5.0",
          "state": {
            "_model_module": "@jupyter-widgets/controls",
            "_model_module_version": "1.5.0",
            "_model_name": "DescriptionStyleModel",
            "_view_count": null,
            "_view_module": "@jupyter-widgets/base",
            "_view_module_version": "1.2.0",
            "_view_name": "StyleView",
            "description_width": ""
          }
        },
        "09db895c0b404d059f63491d0cf867d2": {
          "model_module": "@jupyter-widgets/controls",
          "model_name": "HBoxModel",
          "model_module_version": "1.5.0",
          "state": {
            "_dom_classes": [],
            "_model_module": "@jupyter-widgets/controls",
            "_model_module_version": "1.5.0",
            "_model_name": "HBoxModel",
            "_view_count": null,
            "_view_module": "@jupyter-widgets/controls",
            "_view_module_version": "1.5.0",
            "_view_name": "HBoxView",
            "box_style": "",
            "children": [
              "IPY_MODEL_64d0e0dfd7da4645a26d19e62bbf6da5",
              "IPY_MODEL_d88d3d2c90d141b7b6fb82a6b69d6211",
              "IPY_MODEL_62b28f28aead44eaad4ccbe893ab74d0"
            ],
            "layout": "IPY_MODEL_c41d425b79614ed9af458621d800826c"
          }
        },
        "64d0e0dfd7da4645a26d19e62bbf6da5": {
          "model_module": "@jupyter-widgets/controls",
          "model_name": "HTMLModel",
          "model_module_version": "1.5.0",
          "state": {
            "_dom_classes": [],
            "_model_module": "@jupyter-widgets/controls",
            "_model_module_version": "1.5.0",
            "_model_name": "HTMLModel",
            "_view_count": null,
            "_view_module": "@jupyter-widgets/controls",
            "_view_module_version": "1.5.0",
            "_view_name": "HTMLView",
            "description": "",
            "description_tooltip": null,
            "layout": "IPY_MODEL_d1f10382584045f19f4741782ecc0c45",
            "placeholder": "​",
            "style": "IPY_MODEL_faa1da44ddda4a75988dafd2ad6f4e1a",
            "value": ""
          }
        },
        "d88d3d2c90d141b7b6fb82a6b69d6211": {
          "model_module": "@jupyter-widgets/controls",
          "model_name": "FloatProgressModel",
          "model_module_version": "1.5.0",
          "state": {
            "_dom_classes": [],
            "_model_module": "@jupyter-widgets/controls",
            "_model_module_version": "1.5.0",
            "_model_name": "FloatProgressModel",
            "_view_count": null,
            "_view_module": "@jupyter-widgets/controls",
            "_view_module_version": "1.5.0",
            "_view_name": "ProgressView",
            "bar_style": "success",
            "description": "",
            "description_tooltip": null,
            "layout": "IPY_MODEL_814577d48e8f4730a44079b88f15f25e",
            "max": 5148,
            "min": 0,
            "orientation": "horizontal",
            "style": "IPY_MODEL_bebd715b325a4f97a0cb7e17b532f9c6",
            "value": 5148
          }
        },
        "62b28f28aead44eaad4ccbe893ab74d0": {
          "model_module": "@jupyter-widgets/controls",
          "model_name": "HTMLModel",
          "model_module_version": "1.5.0",
          "state": {
            "_dom_classes": [],
            "_model_module": "@jupyter-widgets/controls",
            "_model_module_version": "1.5.0",
            "_model_name": "HTMLModel",
            "_view_count": null,
            "_view_module": "@jupyter-widgets/controls",
            "_view_module_version": "1.5.0",
            "_view_name": "HTMLView",
            "description": "",
            "description_tooltip": null,
            "layout": "IPY_MODEL_3943d3295f4d4567ab6222f9a954945b",
            "placeholder": "​",
            "style": "IPY_MODEL_9f6db3c889a647dabb237ee922b5df7b",
            "value": " 6144/? [00:00&lt;00:00, 243545.60it/s]"
          }
        },
        "c41d425b79614ed9af458621d800826c": {
          "model_module": "@jupyter-widgets/base",
          "model_name": "LayoutModel",
          "model_module_version": "1.2.0",
          "state": {
            "_model_module": "@jupyter-widgets/base",
            "_model_module_version": "1.2.0",
            "_model_name": "LayoutModel",
            "_view_count": null,
            "_view_module": "@jupyter-widgets/base",
            "_view_module_version": "1.2.0",
            "_view_name": "LayoutView",
            "align_content": null,
            "align_items": null,
            "align_self": null,
            "border": null,
            "bottom": null,
            "display": null,
            "flex": null,
            "flex_flow": null,
            "grid_area": null,
            "grid_auto_columns": null,
            "grid_auto_flow": null,
            "grid_auto_rows": null,
            "grid_column": null,
            "grid_gap": null,
            "grid_row": null,
            "grid_template_areas": null,
            "grid_template_columns": null,
            "grid_template_rows": null,
            "height": null,
            "justify_content": null,
            "justify_items": null,
            "left": null,
            "margin": null,
            "max_height": null,
            "max_width": null,
            "min_height": null,
            "min_width": null,
            "object_fit": null,
            "object_position": null,
            "order": null,
            "overflow": null,
            "overflow_x": null,
            "overflow_y": null,
            "padding": null,
            "right": null,
            "top": null,
            "visibility": null,
            "width": null
          }
        },
        "d1f10382584045f19f4741782ecc0c45": {
          "model_module": "@jupyter-widgets/base",
          "model_name": "LayoutModel",
          "model_module_version": "1.2.0",
          "state": {
            "_model_module": "@jupyter-widgets/base",
            "_model_module_version": "1.2.0",
            "_model_name": "LayoutModel",
            "_view_count": null,
            "_view_module": "@jupyter-widgets/base",
            "_view_module_version": "1.2.0",
            "_view_name": "LayoutView",
            "align_content": null,
            "align_items": null,
            "align_self": null,
            "border": null,
            "bottom": null,
            "display": null,
            "flex": null,
            "flex_flow": null,
            "grid_area": null,
            "grid_auto_columns": null,
            "grid_auto_flow": null,
            "grid_auto_rows": null,
            "grid_column": null,
            "grid_gap": null,
            "grid_row": null,
            "grid_template_areas": null,
            "grid_template_columns": null,
            "grid_template_rows": null,
            "height": null,
            "justify_content": null,
            "justify_items": null,
            "left": null,
            "margin": null,
            "max_height": null,
            "max_width": null,
            "min_height": null,
            "min_width": null,
            "object_fit": null,
            "object_position": null,
            "order": null,
            "overflow": null,
            "overflow_x": null,
            "overflow_y": null,
            "padding": null,
            "right": null,
            "top": null,
            "visibility": null,
            "width": null
          }
        },
        "faa1da44ddda4a75988dafd2ad6f4e1a": {
          "model_module": "@jupyter-widgets/controls",
          "model_name": "DescriptionStyleModel",
          "model_module_version": "1.5.0",
          "state": {
            "_model_module": "@jupyter-widgets/controls",
            "_model_module_version": "1.5.0",
            "_model_name": "DescriptionStyleModel",
            "_view_count": null,
            "_view_module": "@jupyter-widgets/base",
            "_view_module_version": "1.2.0",
            "_view_name": "StyleView",
            "description_width": ""
          }
        },
        "814577d48e8f4730a44079b88f15f25e": {
          "model_module": "@jupyter-widgets/base",
          "model_name": "LayoutModel",
          "model_module_version": "1.2.0",
          "state": {
            "_model_module": "@jupyter-widgets/base",
            "_model_module_version": "1.2.0",
            "_model_name": "LayoutModel",
            "_view_count": null,
            "_view_module": "@jupyter-widgets/base",
            "_view_module_version": "1.2.0",
            "_view_name": "LayoutView",
            "align_content": null,
            "align_items": null,
            "align_self": null,
            "border": null,
            "bottom": null,
            "display": null,
            "flex": null,
            "flex_flow": null,
            "grid_area": null,
            "grid_auto_columns": null,
            "grid_auto_flow": null,
            "grid_auto_rows": null,
            "grid_column": null,
            "grid_gap": null,
            "grid_row": null,
            "grid_template_areas": null,
            "grid_template_columns": null,
            "grid_template_rows": null,
            "height": null,
            "justify_content": null,
            "justify_items": null,
            "left": null,
            "margin": null,
            "max_height": null,
            "max_width": null,
            "min_height": null,
            "min_width": null,
            "object_fit": null,
            "object_position": null,
            "order": null,
            "overflow": null,
            "overflow_x": null,
            "overflow_y": null,
            "padding": null,
            "right": null,
            "top": null,
            "visibility": null,
            "width": null
          }
        },
        "bebd715b325a4f97a0cb7e17b532f9c6": {
          "model_module": "@jupyter-widgets/controls",
          "model_name": "ProgressStyleModel",
          "model_module_version": "1.5.0",
          "state": {
            "_model_module": "@jupyter-widgets/controls",
            "_model_module_version": "1.5.0",
            "_model_name": "ProgressStyleModel",
            "_view_count": null,
            "_view_module": "@jupyter-widgets/base",
            "_view_module_version": "1.2.0",
            "_view_name": "StyleView",
            "bar_color": null,
            "description_width": ""
          }
        },
        "3943d3295f4d4567ab6222f9a954945b": {
          "model_module": "@jupyter-widgets/base",
          "model_name": "LayoutModel",
          "model_module_version": "1.2.0",
          "state": {
            "_model_module": "@jupyter-widgets/base",
            "_model_module_version": "1.2.0",
            "_model_name": "LayoutModel",
            "_view_count": null,
            "_view_module": "@jupyter-widgets/base",
            "_view_module_version": "1.2.0",
            "_view_name": "LayoutView",
            "align_content": null,
            "align_items": null,
            "align_self": null,
            "border": null,
            "bottom": null,
            "display": null,
            "flex": null,
            "flex_flow": null,
            "grid_area": null,
            "grid_auto_columns": null,
            "grid_auto_flow": null,
            "grid_auto_rows": null,
            "grid_column": null,
            "grid_gap": null,
            "grid_row": null,
            "grid_template_areas": null,
            "grid_template_columns": null,
            "grid_template_rows": null,
            "height": null,
            "justify_content": null,
            "justify_items": null,
            "left": null,
            "margin": null,
            "max_height": null,
            "max_width": null,
            "min_height": null,
            "min_width": null,
            "object_fit": null,
            "object_position": null,
            "order": null,
            "overflow": null,
            "overflow_x": null,
            "overflow_y": null,
            "padding": null,
            "right": null,
            "top": null,
            "visibility": null,
            "width": null
          }
        },
        "9f6db3c889a647dabb237ee922b5df7b": {
          "model_module": "@jupyter-widgets/controls",
          "model_name": "DescriptionStyleModel",
          "model_module_version": "1.5.0",
          "state": {
            "_model_module": "@jupyter-widgets/controls",
            "_model_module_version": "1.5.0",
            "_model_name": "DescriptionStyleModel",
            "_view_count": null,
            "_view_module": "@jupyter-widgets/base",
            "_view_module_version": "1.2.0",
            "_view_name": "StyleView",
            "description_width": ""
          }
        }
      }
    }
  },
  "nbformat": 4,
  "nbformat_minor": 0
}
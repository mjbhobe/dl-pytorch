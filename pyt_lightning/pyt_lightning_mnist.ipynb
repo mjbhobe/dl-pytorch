{
 "cells": [
  {
   "cell_type": "markdown",
   "metadata": {},
   "source": [
    "# MNIST Digits classification with Pytorch En(hanced) Lightning\n",
    "This notebook duplicates the code in the `./mnist/pyt_lightning_mnist.py` script. Notebook written to check if the Pytorch En(hanced)Lightning library works in a notebook setting too."
   ]
  },
  {
   "cell_type": "code",
   "execution_count": 3,
   "metadata": {},
   "outputs": [
    {
     "name": "stdout",
     "output_type": "stream",
     "text": [
      "Using Pytorch version:  2.2.0+cu121\n",
      "Using Pytorch Lightning version:  2.1.4\n",
      "Pytorch En(hanced)Lightning: 1.0.0.dev0\n",
      "lightning_fabric.utilities.seed - INFO - Seed set to 1490977099\n",
      "__main__ - INFO - Training model on cpu\n",
      "__main__ - INFO - Using data file c:\\Dev\\Code\\git-projects\\dl-pytorch\\mnist\\data\n"
     ]
    }
   ],
   "source": [
    "import sys, os\n",
    "import warnings\n",
    "\n",
    "# need Python >= 3.2 for pathlib\n",
    "# fmt: off\n",
    "if sys.version_info < (3, 2,):\n",
    "    import platform\n",
    "\n",
    "    raise ValueError(\n",
    "        f\"{__file__} required Python version >= 3.2. You are using Python \"\n",
    "        f\"{platform.python_version}\")\n",
    "\n",
    "# NOTE: @override decorator available from Python 3.12 onwards\n",
    "# Using override package which provides similar functionality in previous versions\n",
    "if sys.version_info < (3, 12,):\n",
    "    from overrides import override\n",
    "else:\n",
    "    from typing import override\n",
    "# fmt: on\n",
    "\n",
    "\n",
    "import pathlib\n",
    "import logging.config\n",
    "\n",
    "\n",
    "# BASE_PATH = pathlib.Path(__file__).parent.parent\n",
    "BASE_PATH = pathlib.Path(os.getcwd()).parent\n",
    "sys.path.append(str(BASE_PATH))\n",
    "\n",
    "warnings.filterwarnings(\"ignore\")\n",
    "logging.config.fileConfig(fname=BASE_PATH / \"logging.config\")\n",
    "\n",
    "import numpy as np\n",
    "import matplotlib.pyplot as plt\n",
    "import seaborn as sns\n",
    "\n",
    "# tweaks for libraries\n",
    "plt.style.use(\"seaborn-v0_8\")\n",
    "sns.set(style=\"whitegrid\", font_scale=1.1, palette=\"muted\")\n",
    "\n",
    "# Pytorch imports\n",
    "import torch\n",
    "import torch.nn as nn\n",
    "from torchvision import datasets, transforms\n",
    "from torch.utils.data import Dataset, DataLoader\n",
    "import pytorch_lightning as pl\n",
    "import torchmetrics\n",
    "import torchsummary\n",
    "\n",
    "print(\"Using Pytorch version: \", torch.__version__)\n",
    "print(\"Using Pytorch Lightning version: \", pl.__version__)\n",
    "\n",
    "# fmt: off\n",
    "# my utility functions to use with lightning\n",
    "import pytorch_enlightning as pel\n",
    "print(f\"Pytorch En(hanced)Lightning: {pel.__version__}\")\n",
    "# fmt: on\n",
    "\n",
    "SEED = pl.seed_everything()\n",
    "\n",
    "logger = logging.getLogger(__name__)\n",
    "\n",
    "DEVICE = torch.device(\"cuda\" if torch.cuda.is_available() else \"cpu\")\n",
    "DATA_FILE_PATH = pathlib.Path(os.getcwd()).parent / \"mnist\" / \"data\"\n",
    "# assert os.path.exists(DATA_FILE_PATH), f\"FATAL: {DATA_FILE_PATH} - data file does not exist!\"\n",
    "MODEL_STATE_NAME = \"pyt_mnist_dnn.pth\"\n",
    "MODEL_STATE_PATH = (\n",
    "    pathlib.Path(os.getcwd()).parent / \"mnist\" / \"model_state\" / MODEL_STATE_NAME\n",
    ")\n",
    "IMAGE_HEIGHT, IMAGE_WIDTH, NUM_CHANNELS, NUM_CLASSES = 28, 28, 1, 10\n",
    "\n",
    "logger.info(f\"Training model on {DEVICE}\")\n",
    "logger.info(f\"Using data file {DATA_FILE_PATH}\")"
   ]
  },
  {
   "cell_type": "code",
   "execution_count": 4,
   "metadata": {},
   "outputs": [],
   "source": [
    "def get_datasets():\n",
    "    xforms = transforms.Compose(\n",
    "        [\n",
    "            transforms.ToTensor(),\n",
    "        ]\n",
    "    )\n",
    "\n",
    "    train_dataset = datasets.MNIST(\n",
    "        root=DATA_FILE_PATH,\n",
    "        train=True,\n",
    "        download=True,\n",
    "        transform=xforms,\n",
    "    )\n",
    "\n",
    "    test_dataset = datasets.MNIST(\n",
    "        root=DATA_FILE_PATH,\n",
    "        train=False,\n",
    "        download=True,\n",
    "        transform=xforms,\n",
    "    )\n",
    "    val_dataset, test_dataset = torch.utils.data.random_split(\n",
    "        test_dataset,\n",
    "        [8000, 2000],\n",
    "    )\n",
    "    logger.info(\n",
    "        f\"get_datasets() -> train_dataset: {len(train_dataset)} recs - val_dataset: {len(val_dataset)} recs - test_dataset: {len(test_dataset)} recs\"\n",
    "    )\n",
    "    return train_dataset, val_dataset, test_dataset"
   ]
  },
  {
   "cell_type": "code",
   "execution_count": 5,
   "metadata": {},
   "outputs": [],
   "source": [
    "def display_sample(\n",
    "    sample_images,\n",
    "    sample_labels,\n",
    "    grid_shape=(10, 10),\n",
    "    plot_title=None,\n",
    "    sample_predictions=None,\n",
    "):\n",
    "    # just in case these are not imported!\n",
    "    import matplotlib.pyplot as plt\n",
    "    import seaborn as sns\n",
    "\n",
    "    plt.style.use(\"seaborn-v0_8\")\n",
    "\n",
    "    num_rows, num_cols = grid_shape\n",
    "    assert sample_images.shape[0] == num_rows * num_cols\n",
    "\n",
    "    with sns.axes_style(\"whitegrid\"):\n",
    "        sns.set_context(\"notebook\", font_scale=0.90)\n",
    "        sns.set_style(\n",
    "            {\n",
    "                \"font.sans-serif\": [\n",
    "                    \"SF Pro Rounded\",\n",
    "                    \"SF Pro Display\",\n",
    "                    \"SF UI Text\",\n",
    "                    \"Verdana\",\n",
    "                    \"Arial\",\n",
    "                    \"DejaVu Sans\",\n",
    "                    \"sans\",\n",
    "                ]\n",
    "            }\n",
    "        )\n",
    "\n",
    "        f, ax = plt.subplots(\n",
    "            num_rows,\n",
    "            num_cols,\n",
    "            figsize=(14, 10),\n",
    "            gridspec_kw={\"wspace\": 0.02, \"hspace\": 0.25},\n",
    "            squeeze=True,\n",
    "        )\n",
    "        # fig = ax[0].get_figure()\n",
    "        f.tight_layout()\n",
    "        f.subplots_adjust(top=0.90)\n",
    "\n",
    "        for r in range(num_rows):\n",
    "            for c in range(num_cols):\n",
    "                image_index = r * num_cols + c\n",
    "                ax[r, c].axis(\"off\")\n",
    "                # show selected image\n",
    "                ax[r, c].imshow(sample_images[image_index].squeeze(), cmap=\"Greys\")\n",
    "\n",
    "                if sample_predictions is None:\n",
    "                    # but show the prediction in the title\n",
    "                    title = ax[r, c].set_title(\"No: %d\" % sample_labels[image_index])\n",
    "                else:\n",
    "                    pred_matches_actual = (\n",
    "                        sample_labels[image_index] == sample_predictions[image_index]\n",
    "                    )\n",
    "                    if pred_matches_actual:\n",
    "                        # show title from prediction or actual in green font\n",
    "                        title = \"%s\" % sample_predictions[image_index]\n",
    "                        title_color = \"g\"\n",
    "                    else:\n",
    "                        # show title as actual/prediction in red font\n",
    "                        title = \"%s/%s\" % (\n",
    "                            [sample_labels[image_index]],\n",
    "                            [sample_predictions[image_index]],\n",
    "                        )\n",
    "                        title_color = \"r\"\n",
    "\n",
    "                    # but show the prediction in the title\n",
    "                    title = ax[r, c].set_title(title)\n",
    "                    # if prediction is incorrect title color is red, else green\n",
    "                    plt.setp(title, color=title_color)\n",
    "\n",
    "        if plot_title is not None:\n",
    "            plt.suptitle(plot_title)\n",
    "        plt.show()\n",
    "        plt.close()"
   ]
  },
  {
   "cell_type": "markdown",
   "metadata": {},
   "source": [
    "### Define the Module"
   ]
  },
  {
   "cell_type": "code",
   "execution_count": 6,
   "metadata": {},
   "outputs": [],
   "source": [
    "class MNISTModel(pel.EnLitModule):\n",
    "    def __init__(self, num_classes, lr):\n",
    "        super(MNISTModel, self).__init__()\n",
    "\n",
    "        self.num_classes = num_classes\n",
    "        self.lr = lr\n",
    "        self.loss_fn = nn.CrossEntropyLoss()\n",
    "        self.acc = torchmetrics.classification.MulticlassAccuracy(\n",
    "            num_classes=self.num_classes\n",
    "        )\n",
    "\n",
    "        self.net = nn.Sequential(\n",
    "            nn.Flatten(),\n",
    "            nn.Linear(IMAGE_HEIGHT * IMAGE_WIDTH * NUM_CHANNELS, 128),\n",
    "            nn.ReLU(),\n",
    "            nn.Dropout(0.1),\n",
    "            nn.Linear(128, 64),\n",
    "            nn.ReLU(),\n",
    "            nn.Dropout(0.1),\n",
    "            nn.Linear(64, self.num_classes),\n",
    "        )\n",
    "\n",
    "    def configure_optimizers(self):\n",
    "        optimizer = torch.optim.Adam(self.parameters(), lr=self.lr)\n",
    "        return optimizer\n",
    "\n",
    "    def process_batch(self, batch, batch_idx, dataset_name):\n",
    "        inputs, labels = batch\n",
    "        logits = self.forward(inputs)\n",
    "        loss = self.loss_fn(logits, labels)\n",
    "        acc = self.acc(logits, labels)\n",
    "        if dataset_name in [\"train\", \"val\"]:\n",
    "            self.log(\n",
    "                f\"{dataset_name}_loss\", loss, on_step=True, on_epoch=True, prog_bar=True\n",
    "            )\n",
    "            self.log(\n",
    "                f\"{dataset_name}_acc\", acc, on_step=True, on_epoch=True, prog_bar=True\n",
    "            )\n",
    "        else:\n",
    "            self.log(f\"{dataset_name}_loss\", loss, prog_bar=True)\n",
    "            self.log(f\"{dataset_name}_acc\", acc, prog_bar=True)\n",
    "        return {\"loss\": loss, \"acc\": acc}"
   ]
  },
  {
   "cell_type": "code",
   "execution_count": 22,
   "metadata": {},
   "outputs": [],
   "source": [
    "EPOCHS, BATCH_SIZE, LR = 2, 64, 1e-3\n",
    "DO_TRAIN, DO_EVAL, DO_PRED, SHOW_SAMPLE = True, True, True, False"
   ]
  },
  {
   "cell_type": "code",
   "execution_count": 19,
   "metadata": {},
   "outputs": [
    {
     "name": "stdout",
     "output_type": "stream",
     "text": [
      "__main__ - INFO - get_datasets() -> train_dataset: 60000 recs - val_dataset: 8000 recs - test_dataset: 2000 recs\n"
     ]
    }
   ],
   "source": [
    "train_dataset, val_dataset, test_dataset = get_datasets()\n",
    "\n",
    "# NOTE: Pytorch on Windows - DataLoader with num_workers > 0 is very slow\n",
    "# looks like a known issue\n",
    "# @see: https://github.com/pytorch/pytorch/issues/12831\n",
    "# This is a hack for Windows\n",
    "NUM_WORKERS = 0 if os.name == \"nt\" else 4\n",
    "\n",
    "train_loader = DataLoader(\n",
    "    train_dataset,\n",
    "    batch_size=BATCH_SIZE,\n",
    "    shuffle=True,\n",
    "    num_workers=NUM_WORKERS,\n",
    ")\n",
    "\n",
    "val_loader = DataLoader(\n",
    "    val_dataset,\n",
    "    batch_size=BATCH_SIZE,\n",
    "    shuffle=False,\n",
    "    num_workers=NUM_WORKERS,\n",
    ")\n",
    "\n",
    "test_loader = DataLoader(\n",
    "    test_dataset,\n",
    "    batch_size=BATCH_SIZE,\n",
    "    shuffle=False,\n",
    "    num_workers=NUM_WORKERS,\n",
    ")"
   ]
  },
  {
   "cell_type": "code",
   "execution_count": 20,
   "metadata": {},
   "outputs": [],
   "source": [
    "if SHOW_SAMPLE:\n",
    "    print(\"Displaying random sample from test dataset\")\n",
    "    data_iter = iter(test_loader)\n",
    "    # fetch first batch of 64 images & labels\n",
    "    images, labels = next(data_iter)\n",
    "    display_sample(\n",
    "        images.cpu().numpy(),\n",
    "        labels.cpu().numpy(),\n",
    "        grid_shape=(8, 8),\n",
    "        plot_title=\"Sample Images from Test Dataset\",\n",
    "    )"
   ]
  },
  {
   "cell_type": "code",
   "execution_count": 26,
   "metadata": {},
   "outputs": [
    {
     "name": "stdout",
     "output_type": "stream",
     "text": [
      "----------------------------------------------------------------\n",
      "        Layer (type)               Output Shape         Param #\n",
      "================================================================\n",
      "           Flatten-1                  [-1, 784]               0\n",
      "            Linear-2                  [-1, 128]         100,480\n",
      "              ReLU-3                  [-1, 128]               0\n",
      "           Dropout-4                  [-1, 128]               0\n",
      "            Linear-5                   [-1, 64]           8,256\n",
      "              ReLU-6                   [-1, 64]               0\n",
      "           Dropout-7                   [-1, 64]               0\n",
      "            Linear-8                   [-1, 10]             650\n",
      "================================================================\n",
      "Total params: 109,386\n",
      "Trainable params: 109,386\n",
      "Non-trainable params: 0\n",
      "----------------------------------------------------------------\n",
      "Input size (MB): 0.00\n",
      "Forward/backward pass size (MB): 0.01\n",
      "Params size (MB): 0.42\n",
      "Estimated Total Size (MB): 0.43\n",
      "----------------------------------------------------------------\n",
      "None\n",
      "pytorch_lightning.utilities.rank_zero - INFO - GPU available: False, used: False\n",
      "pytorch_lightning.utilities.rank_zero - INFO - TPU available: False, using: 0 TPU cores\n",
      "pytorch_lightning.utilities.rank_zero - INFO - IPU available: False, using: 0 IPUs\n",
      "pytorch_lightning.utilities.rank_zero - INFO - HPU available: False, using: 0 HPUs\n"
     ]
    },
    {
     "name": "stdout",
     "output_type": "stream",
     "text": [
      "pytorch_lightning.callbacks.model_summary - INFO - \n",
      "  | Name    | Type               | Params\n",
      "-----------------------------------------------\n",
      "0 | loss_fn | CrossEntropyLoss   | 0     \n",
      "1 | acc     | MulticlassAccuracy | 0     \n",
      "2 | net     | Sequential         | 109 K \n",
      "-----------------------------------------------\n",
      "109 K     Trainable params\n",
      "0         Non-trainable params\n",
      "109 K     Total params\n",
      "0.438     Total estimated model params size (MB)\n"
     ]
    },
    {
     "data": {
      "application/vnd.jupyter.widget-view+json": {
       "model_id": "f466e020108b4c15ae164c6ab890b5d2",
       "version_major": 2,
       "version_minor": 0
      },
      "text/plain": [
       "Validating:   0%|                                        | 0/125 [00:00<?, ?it/s]"
      ]
     },
     "metadata": {},
     "output_type": "display_data"
    },
    {
     "data": {
      "application/vnd.jupyter.widget-view+json": {
       "model_id": "eac3bf0beab1444388d899e73f04b530",
       "version_major": 2,
       "version_minor": 0
      },
      "text/plain": [
       "Epoch 1/2:   0%|                              | 0/938 [00:00<?, ?it/s]"
      ]
     },
     "metadata": {},
     "output_type": "display_data"
    },
    {
     "data": {
      "application/vnd.jupyter.widget-view+json": {
       "model_id": "d5077302f2d44407ba7bc93b9514ad2a",
       "version_major": 2,
       "version_minor": 0
      },
      "text/plain": [
       "Validating:   0%|                                        | 0/125 [00:00<?, ?it/s]"
      ]
     },
     "metadata": {},
     "output_type": "display_data"
    },
    {
     "data": {
      "application/vnd.jupyter.widget-view+json": {
       "model_id": "827ffbd79b01409a97263bcfe4f8d246",
       "version_major": 2,
       "version_minor": 0
      },
      "text/plain": [
       "Epoch 2/2:   0%|                              | 0/938 [00:00<?, ?it/s]"
      ]
     },
     "metadata": {},
     "output_type": "display_data"
    },
    {
     "data": {
      "application/vnd.jupyter.widget-view+json": {
       "model_id": "dc0efb4a5d2545a2a306e4eec8560846",
       "version_major": 2,
       "version_minor": 0
      },
      "text/plain": [
       "Validating:   0%|                                        | 0/125 [00:00<?, ?it/s]"
      ]
     },
     "metadata": {},
     "output_type": "display_data"
    },
    {
     "name": "stdout",
     "output_type": "stream",
     "text": [
      "pytorch_lightning.utilities.rank_zero - INFO - `Trainer.fit` stopped: `max_epochs=2` reached.\n"
     ]
    },
    {
     "data": {
      "image/png": "[encoded data removed]",
      "text/plain": [
       "<Figure size 1600x500 with 2 Axes>"
      ]
     },
     "metadata": {},
     "output_type": "display_data"
    },
    {
     "name": "stdout",
     "output_type": "stream",
     "text": [
      "Pytorch model saved to c:\\Dev\\Code\\git-projects\\dl-pytorch\\mnist\\model_state\\pyt_mnist_dnn.pth\n"
     ]
    }
   ],
   "source": [
    "if DO_TRAIN:\n",
    "    model = MNISTModel(NUM_CLASSES, LR)\n",
    "    print(torchsummary.summary(model, (NUM_CHANNELS, IMAGE_HEIGHT, IMAGE_WIDTH)))\n",
    "\n",
    "    metrics_history = pel.MetricsLogger()\n",
    "    progbar = pel.EnLitProgressBar()\n",
    "    trainer = pl.Trainer(max_epochs=EPOCHS, logger=metrics_history, callbacks=[progbar])\n",
    "    trainer.fit(\n",
    "        model,\n",
    "        train_dataloaders=train_loader,\n",
    "        val_dataloaders=val_loader,\n",
    "    )\n",
    "    metrics_history.plot_metrics(\"Model Performance\")\n",
    "    pel.save_model(model, MODEL_STATE_PATH)\n",
    "    del model\n",
    "    del metrics_history\n",
    "    del progbar"
   ]
  },
  {
   "cell_type": "code",
   "execution_count": 24,
   "metadata": {},
   "outputs": [
    {
     "name": "stdout",
     "output_type": "stream",
     "text": [
      "Pytorch model loaded from c:\\Dev\\Code\\git-projects\\dl-pytorch\\mnist\\model_state\\pyt_mnist_dnn.pth\n",
      "----------------------------------------------------------------\n",
      "        Layer (type)               Output Shape         Param #\n",
      "================================================================\n",
      "           Flatten-1                  [-1, 784]               0\n",
      "            Linear-2                  [-1, 128]         100,480\n",
      "              ReLU-3                  [-1, 128]               0\n",
      "           Dropout-4                  [-1, 128]               0\n",
      "            Linear-5                   [-1, 64]           8,256\n",
      "              ReLU-6                   [-1, 64]               0\n",
      "           Dropout-7                   [-1, 64]               0\n",
      "            Linear-8                   [-1, 10]             650\n",
      "================================================================\n",
      "Total params: 109,386\n",
      "Trainable params: 109,386\n",
      "Non-trainable params: 0\n",
      "----------------------------------------------------------------\n",
      "Input size (MB): 0.00\n",
      "Forward/backward pass size (MB): 0.01\n",
      "Params size (MB): 0.42\n",
      "Estimated Total Size (MB): 0.43\n",
      "----------------------------------------------------------------\n",
      "None\n",
      "pytorch_lightning.utilities.rank_zero - INFO - GPU available: False, used: False\n",
      "pytorch_lightning.utilities.rank_zero - INFO - TPU available: False, using: 0 TPU cores\n",
      "pytorch_lightning.utilities.rank_zero - INFO - IPU available: False, using: 0 IPUs\n",
      "pytorch_lightning.utilities.rank_zero - INFO - HPU available: False, using: 0 HPUs\n",
      "Validating on train-dataset...\n",
      "pytorch_lightning.loggers.tensorboard - WARNING - Missing logger folder: c:\\Dev\\Code\\git-projects\\dl-pytorch\\pyt_lightning\\lightning_logs\n"
     ]
    },
    {
     "data": {
      "application/vnd.jupyter.widget-view+json": {
       "model_id": "607db6b5fe004d439de39b103c2c1c87",
       "version_major": 2,
       "version_minor": 0
      },
      "text/plain": [
       "Validating:   0%|                                        | 0/938 [00:00<?, ?it/s]"
      ]
     },
     "metadata": {},
     "output_type": "display_data"
    },
    {
     "data": {
      "text/html": [
       "<pre style=\"white-space:pre;overflow-x:auto;line-height:normal;font-family:Menlo,'DejaVu Sans Mono',consolas,'Courier New',monospace\">┏━━━━━━━━━━━━━━━━━━━━━━━━━━━┳━━━━━━━━━━━━━━━━━━━━━━━━━━━┓\n",
       "┃<span style=\"font-weight: bold\">      Validate metric      </span>┃<span style=\"font-weight: bold\">       DataLoader 0        </span>┃\n",
       "┡━━━━━━━━━━━━━━━━━━━━━━━━━━━╇━━━━━━━━━━━━━━━━━━━━━━━━━━━┩\n",
       "│<span style=\"color: #008080; text-decoration-color: #008080\">       val_acc_epoch       </span>│<span style=\"color: #800080; text-decoration-color: #800080\">    0.9707396626472473     </span>│\n",
       "│<span style=\"color: #008080; text-decoration-color: #008080\">      val_loss_epoch       </span>│<span style=\"color: #800080; text-decoration-color: #800080\">    0.09802292287349701    </span>│\n",
       "└───────────────────────────┴───────────────────────────┘\n",
       "</pre>\n"
      ],
      "text/plain": [
       "┏━━━━━━━━━━━━━━━━━━━━━━━━━━━┳━━━━━━━━━━━━━━━━━━━━━━━━━━━┓\n",
       "┃\u001b[1m \u001b[0m\u001b[1m     Validate metric     \u001b[0m\u001b[1m \u001b[0m┃\u001b[1m \u001b[0m\u001b[1m      DataLoader 0       \u001b[0m\u001b[1m \u001b[0m┃\n",
       "┡━━━━━━━━━━━━━━━━━━━━━━━━━━━╇━━━━━━━━━━━━━━━━━━━━━━━━━━━┩\n",
       "│\u001b[36m \u001b[0m\u001b[36m      val_acc_epoch      \u001b[0m\u001b[36m \u001b[0m│\u001b[35m \u001b[0m\u001b[35m   0.9707396626472473    \u001b[0m\u001b[35m \u001b[0m│\n",
       "│\u001b[36m \u001b[0m\u001b[36m     val_loss_epoch      \u001b[0m\u001b[36m \u001b[0m│\u001b[35m \u001b[0m\u001b[35m   0.09802292287349701   \u001b[0m\u001b[35m \u001b[0m│\n",
       "└───────────────────────────┴───────────────────────────┘\n"
      ]
     },
     "metadata": {},
     "output_type": "display_data"
    },
    {
     "name": "stdout",
     "output_type": "stream",
     "text": [
      "Validating on val-dataset...\n"
     ]
    },
    {
     "data": {
      "application/vnd.jupyter.widget-view+json": {
       "model_id": "c689621edacb4115a2c9615456364ef5",
       "version_major": 2,
       "version_minor": 0
      },
      "text/plain": [
       "Validating:   0%|                                        | 0/125 [00:00<?, ?it/s]"
      ]
     },
     "metadata": {},
     "output_type": "display_data"
    },
    {
     "data": {
      "text/html": [
       "<pre style=\"white-space:pre;overflow-x:auto;line-height:normal;font-family:Menlo,'DejaVu Sans Mono',consolas,'Courier New',monospace\">┏━━━━━━━━━━━━━━━━━━━━━━━━━━━┳━━━━━━━━━━━━━━━━━━━━━━━━━━━┓\n",
       "┃<span style=\"font-weight: bold\">      Validate metric      </span>┃<span style=\"font-weight: bold\">       DataLoader 0        </span>┃\n",
       "┡━━━━━━━━━━━━━━━━━━━━━━━━━━━╇━━━━━━━━━━━━━━━━━━━━━━━━━━━┩\n",
       "│<span style=\"color: #008080; text-decoration-color: #008080\">       val_acc_epoch       </span>│<span style=\"color: #800080; text-decoration-color: #800080\">    0.9651146531105042     </span>│\n",
       "│<span style=\"color: #008080; text-decoration-color: #008080\">      val_loss_epoch       </span>│<span style=\"color: #800080; text-decoration-color: #800080\">    0.11253338307142258    </span>│\n",
       "└───────────────────────────┴───────────────────────────┘\n",
       "</pre>\n"
      ],
      "text/plain": [
       "┏━━━━━━━━━━━━━━━━━━━━━━━━━━━┳━━━━━━━━━━━━━━━━━━━━━━━━━━━┓\n",
       "┃\u001b[1m \u001b[0m\u001b[1m     Validate metric     \u001b[0m\u001b[1m \u001b[0m┃\u001b[1m \u001b[0m\u001b[1m      DataLoader 0       \u001b[0m\u001b[1m \u001b[0m┃\n",
       "┡━━━━━━━━━━━━━━━━━━━━━━━━━━━╇━━━━━━━━━━━━━━━━━━━━━━━━━━━┩\n",
       "│\u001b[36m \u001b[0m\u001b[36m      val_acc_epoch      \u001b[0m\u001b[36m \u001b[0m│\u001b[35m \u001b[0m\u001b[35m   0.9651146531105042    \u001b[0m\u001b[35m \u001b[0m│\n",
       "│\u001b[36m \u001b[0m\u001b[36m     val_loss_epoch      \u001b[0m\u001b[36m \u001b[0m│\u001b[35m \u001b[0m\u001b[35m   0.11253338307142258   \u001b[0m\u001b[35m \u001b[0m│\n",
       "└───────────────────────────┴───────────────────────────┘\n"
      ]
     },
     "metadata": {},
     "output_type": "display_data"
    },
    {
     "name": "stdout",
     "output_type": "stream",
     "text": [
      "Validating on test-dataset...\n"
     ]
    },
    {
     "data": {
      "application/vnd.jupyter.widget-view+json": {
       "model_id": "2c66926fd6ce480cba34b7def0f51d29",
       "version_major": 2,
       "version_minor": 0
      },
      "text/plain": [
       "Validating:   0%|                                        | 0/32 [00:00<?, ?it/s]"
      ]
     },
     "metadata": {},
     "output_type": "display_data"
    },
    {
     "data": {
      "text/html": [
       "<pre style=\"white-space:pre;overflow-x:auto;line-height:normal;font-family:Menlo,'DejaVu Sans Mono',consolas,'Courier New',monospace\">┏━━━━━━━━━━━━━━━━━━━━━━━━━━━┳━━━━━━━━━━━━━━━━━━━━━━━━━━━┓\n",
       "┃<span style=\"font-weight: bold\">      Validate metric      </span>┃<span style=\"font-weight: bold\">       DataLoader 0        </span>┃\n",
       "┡━━━━━━━━━━━━━━━━━━━━━━━━━━━╇━━━━━━━━━━━━━━━━━━━━━━━━━━━┩\n",
       "│<span style=\"color: #008080; text-decoration-color: #008080\">       val_acc_epoch       </span>│<span style=\"color: #800080; text-decoration-color: #800080\">    0.9743936061859131     </span>│\n",
       "│<span style=\"color: #008080; text-decoration-color: #008080\">      val_loss_epoch       </span>│<span style=\"color: #800080; text-decoration-color: #800080\">    0.1104322299361229     </span>│\n",
       "└───────────────────────────┴───────────────────────────┘\n",
       "</pre>\n"
      ],
      "text/plain": [
       "┏━━━━━━━━━━━━━━━━━━━━━━━━━━━┳━━━━━━━━━━━━━━━━━━━━━━━━━━━┓\n",
       "┃\u001b[1m \u001b[0m\u001b[1m     Validate metric     \u001b[0m\u001b[1m \u001b[0m┃\u001b[1m \u001b[0m\u001b[1m      DataLoader 0       \u001b[0m\u001b[1m \u001b[0m┃\n",
       "┡━━━━━━━━━━━━━━━━━━━━━━━━━━━╇━━━━━━━━━━━━━━━━━━━━━━━━━━━┩\n",
       "│\u001b[36m \u001b[0m\u001b[36m      val_acc_epoch      \u001b[0m\u001b[36m \u001b[0m│\u001b[35m \u001b[0m\u001b[35m   0.9743936061859131    \u001b[0m\u001b[35m \u001b[0m│\n",
       "│\u001b[36m \u001b[0m\u001b[36m     val_loss_epoch      \u001b[0m\u001b[36m \u001b[0m│\u001b[35m \u001b[0m\u001b[35m   0.1104322299361229    \u001b[0m\u001b[35m \u001b[0m│\n",
       "└───────────────────────────┴───────────────────────────┘\n"
      ]
     },
     "metadata": {},
     "output_type": "display_data"
    }
   ],
   "source": [
    "if DO_EVAL:\n",
    "    model = MNISTModel(NUM_CLASSES, LR)\n",
    "    # print(torchsummary.summary(model, (NUM_CHANNELS, IMAGE_HEIGHT, IMAGE_WIDTH)))\n",
    "    model = pel.load_model(model, MODEL_STATE_PATH)\n",
    "    print(torchsummary.summary(model, (NUM_CHANNELS, IMAGE_HEIGHT, IMAGE_WIDTH)))\n",
    "\n",
    "    # run a validation on Model\n",
    "    progbar = pel.EnLitProgressBar()\n",
    "    trainer = pl.Trainer(callbacks=[progbar])\n",
    "    print(f\"Validating on train-dataset...\")\n",
    "    trainer.validate(model, dataloaders=train_loader)\n",
    "    print(f\"Validating on val-dataset...\")\n",
    "    trainer.validate(model, dataloaders=val_loader)\n",
    "    print(f\"Validating on test-dataset...\")\n",
    "    trainer.validate(model, dataloaders=test_loader)\n",
    "    del model\n",
    "    del progbar"
   ]
  },
  {
   "cell_type": "code",
   "execution_count": 25,
   "metadata": {},
   "outputs": [
    {
     "name": "stdout",
     "output_type": "stream",
     "text": [
      "Pytorch model loaded from c:\\Dev\\Code\\git-projects\\dl-pytorch\\mnist\\model_state\\pyt_mnist_dnn.pth\n",
      "----------------------------------------------------------------\n",
      "        Layer (type)               Output Shape         Param #\n",
      "================================================================\n",
      "           Flatten-1                  [-1, 784]               0\n",
      "            Linear-2                  [-1, 128]         100,480\n",
      "              ReLU-3                  [-1, 128]               0\n",
      "           Dropout-4                  [-1, 128]               0\n",
      "            Linear-5                   [-1, 64]           8,256\n",
      "              ReLU-6                   [-1, 64]               0\n",
      "           Dropout-7                   [-1, 64]               0\n",
      "            Linear-8                   [-1, 10]             650\n",
      "================================================================\n",
      "Total params: 109,386\n",
      "Trainable params: 109,386\n",
      "Non-trainable params: 0\n",
      "----------------------------------------------------------------\n",
      "Input size (MB): 0.00\n",
      "Forward/backward pass size (MB): 0.01\n",
      "Params size (MB): 0.42\n",
      "Estimated Total Size (MB): 0.43\n",
      "----------------------------------------------------------------\n",
      "None\n",
      "Sample labels (50):  [7 0 9 7 0 7 2 4 6 6 6 2 8 6 1 1 3 7 5 1 8 5 0 2 7 5 8 9 8 5 5 1 6 0 2 6 8\n",
      " 4 4 3 3 6 0 5 7 8 4 9 9 9]\n",
      "Sample predictions:  [7 0 9 7 0 7 2 4 6 6 6 2 8 6 1 1 3 7 5 1 8 5 0 2 7 5 8 9 8 5 5 1 6 0 2 6 8\n",
      " 4 4 3 3 6 0 5 7 8 4 9 9 9]\n",
      "We got 57/2000 incorrect!\n"
     ]
    }
   ],
   "source": [
    "if DO_PRED:\n",
    "    model = MNISTModel(NUM_CLASSES, LR)\n",
    "    # print(torchsummary.summary(model, (NUM_CHANNELS, IMAGE_HEIGHT, IMAGE_WIDTH)))\n",
    "    model = pel.load_model(model, MODEL_STATE_PATH)\n",
    "    print(torchsummary.summary(model, (NUM_CHANNELS, IMAGE_HEIGHT, IMAGE_WIDTH)))\n",
    "\n",
    "    # predict from test_dataset\n",
    "    preds, actuals = pel.predict_module(model, test_loader, DEVICE)\n",
    "    preds = np.argmax(preds, axis=1)\n",
    "    print(\"Sample labels (50): \", actuals[:50])\n",
    "    print(\"Sample predictions: \", preds[:50])\n",
    "    print(\"We got %d/%d incorrect!\" % ((preds != actuals).sum(), len(actuals)))\n",
    "\n",
    "    if SHOW_SAMPLE:\n",
    "        # display sample predictions\n",
    "        data_iter = iter(test_loader)\n",
    "        images, labels = next(data_iter)\n",
    "        preds, actuals = pel.predict_module(\n",
    "            model,\n",
    "            (images.cpu().numpy(), labels.cpu().numpy()),\n",
    "            DEVICE,\n",
    "        )\n",
    "        preds = np.argmax(preds, axis=1)\n",
    "        accu = (preds == actuals).sum() / len(actuals)\n",
    "        display_sample(\n",
    "            images,\n",
    "            actuals[:BATCH_SIZE],\n",
    "            sample_predictions=preds[:BATCH_SIZE],\n",
    "            grid_shape=(8, 8),\n",
    "            plot_title=f\"Sample Predictions ({accu*100:.2f}% accuracy for sample)\",\n",
    "        )\n",
    "    del model"
   ]
  },
  {
   "cell_type": "code",
   "execution_count": null,
   "metadata": {},
   "outputs": [],
   "source": []
  }
 ],
 "metadata": {
  "kernelspec": {
   "display_name": "py311",
   "language": "python",
   "name": "python3"
  },
  "language_info": {
   "codemirror_mode": {
    "name": "ipython",
    "version": 3
   },
   "file_extension": ".py",
   "mimetype": "text/x-python",
   "name": "python",
   "nbconvert_exporter": "python",
   "pygments_lexer": "ipython3",
   "version": "3.11.0"
  }
 },
 "nbformat": 4,
 "nbformat_minor": 2
}

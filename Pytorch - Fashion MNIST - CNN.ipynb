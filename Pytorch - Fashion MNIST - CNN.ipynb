{
 "cells": [
  {
   "cell_type": "markdown",
   "metadata": {
    "colab_type": "text",
    "id": "zoDGip8qlCC8"
   },
   "source": [
    "# Pytorch Fashion MNIST\n",
    "\n",
    "<img src=\"https://drive.google.com/uc?id=1s6I1DGhf5FOh1lNszHj-Bl0puaxL8QkE\" width=\"800\"> \n",
    "\n",
    "* In this notebook we illustrate how to classify images of fashion items from the Fashin MNIST dataset\n",
    "* This is a multi-class classification problem, with 10 output classes, corresponding to 10 items\n",
    "<p/>\n",
    "<img width=\"700\" src=\"https://drive.google.com/uc?id=1zWS559utl0snWVyZ4wBHjSU6_cLUrkl2\"/>\n"
   ]
  },
  {
   "cell_type": "code",
   "execution_count": 1,
   "metadata": {
    "colab": {
     "base_uri": "https://localhost:8080/",
     "height": 197
    },
    "colab_type": "code",
    "id": "goCujv37lqRR",
    "outputId": "f5ff71ee-6e9a-4925-f23a-8737392e3232"
   },
   "outputs": [
    {
     "name": "stdout",
     "output_type": "stream",
     "text": [
      "MODEL_SAVE_DIR = ./model_states\n"
     ]
    }
   ],
   "source": [
    "# Connect to Google drive, so I can import modules from it into my workspace\n",
    "# set this flag to True when you run this Notebook on Google Collaboratory\n",
    "USE_COLAB = False\n",
    "\n",
    "import os\n",
    "\n",
    "#@see: https://colab.research.google.com/drive/1srw_HFWQ2SMgmWIawucXfusGzrj1_U0q\n",
    "if USE_COLAB:\n",
    "    # Load the Drive helper and mount\n",
    "    from google.colab import drive\n",
    "\n",
    "    # This will prompt for authorization.\n",
    "    gdrive_mount_point = '/content/drive/'\n",
    "    drive.mount(gdrive_mount_point)\n",
    "    grive_path = os.path.join(gdrive_mount_point, \"My Drive/\")\n",
    "    print('Your Google Drive is mounted at ', grive_path)\n",
    "    COLAB_NOTEBOOKS_PATH = os.path.join(grive_path, \"Colab Notebooks/\")\n",
    "    \n",
    "    if os.path.exists(COLAB_NOTEBOOKS_PATH):    \n",
    "        # display list of files\n",
    "        #!ls '/content/drive/My Drive/Colab Notebooks/'\n",
    "\n",
    "        # append our Google Drive folder to module search \n",
    "        # **NOTE:** comment this line out if you are NOT running this notebook on Google Colab\n",
    "        import sys\n",
    "        #sys.path.append(\"/content/drive/My Drive/Colab Notebooks/\")\n",
    "        pyt_path = os.path.join(COLAB_NOTEBOOKS_PATH, 'pytorch')\n",
    "        sys.path.append(pyt_path)\n",
    "        print('You Pytorch Colab notebooks are available at ', pyt_path)\n",
    "        print('NOTE: {} is appended to sys.path!'.format(pyt_path))\n",
    "        # and test it\n",
    "        import pytorch_toolkit as pytk\n",
    "        MODEL_SAVE_DIR = os.path.join(pyt_path, 'model_states')\n",
    "    else:\n",
    "        raise IOError(\"Unable to mount Google Drive!\")\n",
    "else:\n",
    "    MODEL_SAVE_DIR = os.path.join('.','model_states')\n",
    "    \n",
    "if not os.path.exists(MODEL_SAVE_DIR):\n",
    "    os.mkdir(MODEL_SAVE_DIR)\n",
    "\n",
    "assert os.path.exists(MODEL_SAVE_DIR)\n",
    "print('MODEL_SAVE_DIR = %s' % MODEL_SAVE_DIR)"
   ]
  },
  {
   "cell_type": "markdown",
   "metadata": {
    "colab_type": "text",
    "id": "T6esbhYqVWcK"
   },
   "source": [
    "## About the Dataset\n",
    "\n",
    "* The **MNIST digits dataset** is a database of handwritten digits. The latest & greatest version is [available from this page](http://yann.lecun.com/exdb/mnist/). \n",
    "* Pytorch ships with the MNIST dataset in `torchvision.datasets` package. We will be downloading from there."
   ]
  },
  {
   "cell_type": "code",
   "execution_count": 2,
   "metadata": {
    "colab": {
     "base_uri": "https://localhost:8080/",
     "height": 35
    },
    "colab_type": "code",
    "id": "s5W5xPqqk_V5",
    "outputId": "8571062b-6208-4245-f21c-7372403d6d65"
   },
   "outputs": [
    {
     "name": "stdout",
     "output_type": "stream",
     "text": [
      "Using Pytorch version 1.10.2. GPU IS **NOT** available\n"
     ]
    }
   ],
   "source": [
    "import warnings\n",
    "warnings.filterwarnings('ignore')\n",
    "\n",
    "import random\n",
    "import numpy as np\n",
    "import matplotlib.pyplot as plt\n",
    "import seaborn as sns\n",
    "import glob\n",
    "from PIL import Image\n",
    "%matplotlib inline\n",
    "\n",
    "# tweaks for libraries\n",
    "np.set_printoptions(precision=6, linewidth=1024, suppress=True)\n",
    "plt.style.use('seaborn')\n",
    "sns.set_style('darkgrid')\n",
    "sns.set_context('notebook',font_scale=1.10)\n",
    "\n",
    "# Pytorch imports\n",
    "import torch\n",
    "gpu_available = torch.cuda.is_available()\n",
    "print('Using Pytorch version %s. GPU %s available' % (torch.__version__, \"IS\" if gpu_available else \"IS **NOT**\"))\n",
    "import torch.nn as nn\n",
    "import torch.nn.functional as F\n",
    "from torchvision import datasets, transforms\n",
    "from torch import optim\n",
    "from torchsummary import summary\n",
    "\n",
    "# import the Pytorch Toolkit here....\n",
    "import pytorch_toolkit as pytk\n",
    "\n",
    "# to ensure that you get consistent results across various machines\n",
    "# @see: https://discuss.pytorch.org/t/reproducibility-over-different-machines/63047\n",
    "seed = 123\n",
    "random.seed(seed)\n",
    "os.environ['PYTHONHASHSEED'] = str(seed)\n",
    "np.random.seed(seed)\n",
    "torch.manual_seed(seed)\n",
    "if torch.cuda.is_available():\n",
    "    torch.cuda.manual_seed(seed)\n",
    "    torch.cuda.manual_seed_all(seed)\n",
    "    torch.backends.cudnn.deterministic = True\n",
    "    torch.backends.cudnn.benchmark = False\n",
    "    torch.backends.cudnn.enabled = True"
   ]
  },
  {
   "cell_type": "markdown",
   "metadata": {
    "colab_type": "text",
    "id": "4zq_VrXilc8q"
   },
   "source": [
    "### Loading and Pre-processing data\n",
    "\n",
    "* **Loading**: We load the dataset from the `keras.datasets.mnist` package using the `load_data()` call. \n",
    "    * This call returns 2 sets of data - the `train` set `(X_train/y_train)` comprising 60,000 samples and the `test` set `(X_test/y_test)` comprising 10,000 samples.\n",
    "* **Pre-processing**: Following pre-processing steps are applied\n",
    "    * Split the _test set_ into a _cross-validation_ set `(X_val/y_val)` and _test_ set, with 8,000 and 2,000 samples respectively\n",
    "    * Normalize the images (Xs) to values between 0-1 and one-hot-encode each label (y's) to 10 classes width\n",
    "    * Reshape each image file (i.e. X's) into 2D array of shape `(?, 28*28*1)` \n",
    "    * _NOTE:_ a non-pre-processed copy of `X_test/y_test` is also returned, used for visualization purposes only!"
   ]
  },
  {
   "cell_type": "code",
   "execution_count": 3,
   "metadata": {
    "colab": {},
    "colab_type": "code",
    "id": "VfWkljQooD8M"
   },
   "outputs": [],
   "source": [
    "def load_data():\n",
    "    \"\"\"\n",
    "    load the data using datasets API. We also split the test_dataset into \n",
    "    cross-val/test datasets using 80:20 ration\n",
    "    \"\"\"\n",
    "    transformations = transforms.Compose([transforms.ToTensor(),])\n",
    "\n",
    "    train_dataset = datasets.FashionMNIST(root='./data', train=True, download=True, transform=transformations)\n",
    "\n",
    "    print(\"No of training records: %d\" % len(train_dataset))\n",
    "\n",
    "    test_dataset = datasets.FashionMNIST('./data', download=True, train=False, transform=transformations)\n",
    "    print(\"No of test records: %d\" % len(test_dataset))\n",
    "\n",
    "    # lets split the test dataset into val_dataset & test_dataset -> 8000:2000 records\n",
    "    val_dataset, test_dataset = torch.utils.data.random_split(test_dataset, [8000, 2000])\n",
    "    print(\"No of cross-val records: %d\" % len(val_dataset))\n",
    "    print(\"No of test records: %d\" % len(test_dataset))\n",
    "\n",
    "    return train_dataset, val_dataset, test_dataset"
   ]
  },
  {
   "cell_type": "code",
   "execution_count": 4,
   "metadata": {
    "colab": {},
    "colab_type": "code",
    "id": "J5NhK8hAnxFL"
   },
   "outputs": [],
   "source": [
    "def display_sample(sample_images, sample_labels, grid_shape=(10, 10), plot_title=None,\n",
    "                   sample_predictions=None):\n",
    "    # just in case these are not imported!\n",
    "    import matplotlib.pyplot as plt\n",
    "    import seaborn as sns\n",
    "    plt.style.use('seaborn')\n",
    "\n",
    "    num_rows, num_cols = grid_shape\n",
    "    assert sample_images.shape[0] == num_rows * num_cols\n",
    "\n",
    "    # a dict to help encode/decode the labels\n",
    "    FASHION_LABELS = {\n",
    "        0: 'T-shirt/top',\n",
    "        1: 'Trouser',\n",
    "        2: 'Pullover',\n",
    "        3: 'Dress',\n",
    "        4: 'Coat',\n",
    "        5: 'Sandal',\n",
    "        6: 'Shirt',\n",
    "        7: 'Sneaker',\n",
    "        8: 'Bag',\n",
    "        9: 'Ankle boot',\n",
    "    }\n",
    "\n",
    "    with sns.axes_style(\"whitegrid\"):\n",
    "        sns.set_context(\"notebook\", font_scale=1.10)\n",
    "        sns.set_style({\"font.sans-serif\": [\"Verdana\", \"Arial\", \"Calibri\", \"DejaVu Sans\"]})\n",
    "\n",
    "        f, ax = plt.subplots(num_rows, num_cols, figsize=(14, 10),\n",
    "            gridspec_kw={\"wspace\": 0.05, \"hspace\": 0.35}, squeeze=True)  # 0.03, 0.25\n",
    "        #fig = ax[0].get_figure()\n",
    "        f.tight_layout()\n",
    "        f.subplots_adjust(top=0.90) # 0.93\n",
    "\n",
    "        for r in range(num_rows):\n",
    "            for c in range(num_cols):\n",
    "                image_index = r * num_cols + c\n",
    "                ax[r, c].axis(\"off\")\n",
    "                # show selected image\n",
    "                ax[r, c].imshow(sample_images[image_index].squeeze(), cmap=\"Greys\", interpolation='nearest')\n",
    "\n",
    "                if sample_predictions is None:\n",
    "                    # but show the prediction in the title\n",
    "                    title = ax[r, c].set_title(f\"{FASHION_LABELS[sample_labels[image_index]]}\")\n",
    "                else:\n",
    "                    pred_matches_actual = (\n",
    "                                sample_labels[image_index] == sample_predictions[image_index])\n",
    "                    if pred_matches_actual:\n",
    "                        # show title from prediction or actual in green font\n",
    "                        title = '%s' % FASHION_LABELS[sample_predictions[image_index]]\n",
    "                        title_color = 'g'\n",
    "                    else:\n",
    "                        # show title as actual/prediction in red font\n",
    "                        title = '%s/%s' % (FASHION_LABELS[sample_labels[image_index]],\n",
    "                                           FASHION_LABELS[sample_predictions[image_index]])\n",
    "                        title_color = 'r'\n",
    "\n",
    "                    # but show the prediction in the title\n",
    "                    title = ax[r, c].set_title(title)\n",
    "                    # if prediction is incorrect title color is red, else green\n",
    "                    plt.setp(title, color=title_color)\n",
    "\n",
    "        if plot_title is not None:\n",
    "            plt.suptitle(plot_title)\n",
    "        plt.show()\n",
    "        plt.close()"
   ]
  },
  {
   "cell_type": "code",
   "execution_count": 5,
   "metadata": {
    "colab": {
     "base_uri": "https://localhost:8080/",
     "height": 432,
     "referenced_widgets": [
      "8effdfb84ad74a04b2465d9ba2fa77ea",
      "4653f9ed4a134990ae6a5227795fe58e",
      "46f14cf16e934c90b49cfa623439a5f5",
      "89a6a1caa19b4a27bfeb2f2654a84922",
      "ff9cae5dd5684e20b111167a386603c7",
      "b6f253d0ffeb4775af30b9487967a3ab",
      "fce8982775b94fc392a745b21c29cd43",
      "a5960490a3df47eaa588916f91afb824",
      "c063f51db77c456ea47561f9719f7878",
      "117e3f5864e141ac8d2d7ea50a0cd23e",
      "8976837151e44b66adfbfe6ac5bba137",
      "2f8336246f4944448776fa8b98f2e464",
      "2afac8a90b6a4f6e890ad36bcd78ead7",
      "b96d5269614a4594baf4275c994baf41",
      "d49609b6be6448298b97e2d77c2ae4e4",
      "3a7cc0904e9c4eff8a78ba9088e69e55",
      "b56ef2595402499380df9e9cf23671fc",
      "26486a45062b4209a6de2c9e221786c1",
      "ea0e9d2f03fc40768f90df0d069c6144",
      "1ffb551139564b0f8355650e41f8d0bc",
      "3e55f56c61fa44d38fb400e5c96f002b",
      "5379e4c7b72141cfac269d4602cd421c",
      "68ae83bb736243a493e2b63bce03a0cb",
      "0479252ccd9b4b9f9c4a2f5b49b2eac6",
      "fd311d2b6d174ab9aa5c50d48ea33346",
      "785fcf3d334d4104b5f50ff91c878cd4",
      "ca4c459ea3804005824b0797a2c63e46",
      "edbffc997b0a4232afb574461b461faf",
      "015ba513944047e5a84254bd838a51ab",
      "6bd519cfbc7545cdb24fa2909f02f682",
      "7c0d17c7a5494951ab4ec3d8335e11e1",
      "198ba2e020fc4591a9e9d2f11f46969a"
     ]
    },
    "colab_type": "code",
    "id": "y-g8PmpMn2Si",
    "outputId": "4d6be869-489a-4a48-af3e-394bf0400255"
   },
   "outputs": [
    {
     "name": "stdout",
     "output_type": "stream",
     "text": [
      "No of training records: 60000\n",
      "No of test records: 10000\n",
      "No of cross-val records: 8000\n",
      "No of test records: 2000\n"
     ]
    }
   ],
   "source": [
    "# (down)load\n",
    "train_dataset, val_dataset, test_dataset = load_data()"
   ]
  },
  {
   "cell_type": "code",
   "execution_count": 6,
   "metadata": {
    "colab": {
     "base_uri": "https://localhost:8080/",
     "height": 717
    },
    "colab_type": "code",
    "id": "G05sa--joezg",
    "outputId": "632f46ea-c29e-47fe-b2cf-360208ec4bca"
   },
   "outputs": [
    {
     "name": "stdout",
     "output_type": "stream",
     "text": [
      "images.shape = torch.Size([64, 1, 28, 28]), labels.shape=torch.Size([64])\n"
     ]
    },
    {
     "data": {
      "image/png": "[encoded data removed]",
      "text/plain": [
       "<Figure size 1008x720 with 64 Axes>"
      ]
     },
     "metadata": {},
     "output_type": "display_data"
    }
   ],
   "source": [
    "# display a sample\n",
    "trainloader = torch.utils.data.DataLoader(test_dataset, batch_size=64, shuffle=True)\n",
    "data_iter = iter(trainloader)\n",
    "images, labels = data_iter.next()  # fetch first batch of 64 images & labels\n",
    "print(f'images.shape = {images.shape}, labels.shape={labels.shape}')\n",
    "#print(f'labels = {labels[:10]}')\n",
    "display_sample(images.cpu().numpy(), labels.cpu().numpy(), grid_shape=(8, 8), plot_title='Sample Images')"
   ]
  },
  {
   "cell_type": "markdown",
   "metadata": {
    "colab_type": "text",
    "id": "W5Q9YN0goduj"
   },
   "source": [
    "## Pytorch Model Development"
   ]
  },
  {
   "cell_type": "code",
   "execution_count": 7,
   "metadata": {
    "colab": {},
    "colab_type": "code",
    "id": "AVjSBrn7nsAn"
   },
   "outputs": [],
   "source": [
    "# some hyper-parameters\n",
    "IMAGE_HEIGHT, IMAGE_WIDTH, NUM_CHANNELS, NUM_CLASSES = 28, 28, 1, 10\n",
    "NUM_EPOCHS, BATCH_SIZE, LEARNING_RATE, L2_REG = 50, 128, 0.001, 0.04\n",
    "PY_MODEL_SAVE_PATH = os.path.join(MODEL_SAVE_DIR, 'pyt_fashion_mnist_dnn.pyt')"
   ]
  },
  {
   "cell_type": "code",
   "execution_count": 8,
   "metadata": {
    "colab": {},
    "colab_type": "code",
    "id": "UhpmGPcVoipX"
   },
   "outputs": [],
   "source": [
    "class Flatten(nn.Module):\n",
    "    def forward(self, input):\n",
    "        return input.view(input.size(0), -1)\n",
    "\n",
    "def build_model():\n",
    "    net = nn.Sequential(\n",
    "        pytk.Conv2d(1, 64, kernel_size=5, padding=1),\n",
    "        nn.ReLU(),\n",
    "        nn.BatchNorm2d(64),\n",
    "        # pytk.Conv2d(64, 64, kernel_size=5, padding=1),\n",
    "        # nn.ReLU(),\n",
    "        # nn.BatchNorm2d(64),\n",
    "        nn.MaxPool2d(kernel_size=2, stride=2),\n",
    "        nn.Dropout(0.20),\n",
    "\n",
    "        pytk.Conv2d(64, 128, kernel_size=5, padding=1),\n",
    "        nn.ReLU(),\n",
    "        nn.BatchNorm2d(128),\n",
    "        # pytk.Conv2d(128, 128, kernel_size=5, padding=1),\n",
    "        # nn.ReLU(),\n",
    "        # nn.BatchNorm2d(128),\n",
    "        nn.MaxPool2d(kernel_size=2, stride=2),\n",
    "        nn.Dropout(0.25),\n",
    "\n",
    "        pytk.Conv2d(128, 256, kernel_size=3, padding=1),\n",
    "        nn.ReLU(),\n",
    "        nn.BatchNorm2d(256),\n",
    "        # pytk.Conv2d(256, 256, kernel_size=3, padding=1),\n",
    "        # nn.ReLU(),\n",
    "        # nn.BatchNorm2d(256),\n",
    "        nn.MaxPool2d(kernel_size=2, stride=2),\n",
    "        nn.Dropout(0.30),\n",
    "\n",
    "        pytk.Conv2d(256, 512, kernel_size=3, padding=1),\n",
    "        nn.ReLU(),\n",
    "        nn.BatchNorm2d(512),\n",
    "        # pytk.Conv2d(512, 512, kernel_size=3, padding=1),\n",
    "        # nn.ReLU(),\n",
    "        # nn.BatchNorm2d(512),\n",
    "        nn.MaxPool2d(kernel_size=2, stride=2),\n",
    "        nn.Dropout(0.35),\n",
    "\n",
    "        nn.Flatten(),\n",
    "\n",
    "        nn.Linear(512*1*1, 512),\n",
    "        nn.ReLU(),\n",
    "        nn.Dropout(0.20),\n",
    "\n",
    "        # nn.Linear(1024, 512),\n",
    "        # nn.ReLU(),\n",
    "        # nn.Dropout(0.15),\n",
    "\n",
    "        # # nn.Linear(512, 128),\n",
    "        # # nn.ReLU(),\n",
    "        # #nn.Dropout(0.10),\n",
    "\n",
    "        nn.Linear(512, NUM_CLASSES)     \n",
    "    )\n",
    "\n",
    "    model = pytk.PytkModuleWrapper(net)\n",
    "    loss_fn = nn.CrossEntropyLoss()\n",
    "    optimizer = optim.Adam(params=model.parameters(), lr=LEARNING_RATE, weight_decay=L2_REG)\n",
    "    #optimizer = optim.SGD(params=model.parameters(), lr=LEARNING_RATE, momentum=0.0, nesterov=False, weight_decay=L2_REG)\n",
    "    model.compile(loss=loss_fn, optimizer=optimizer, metrics=['acc'])\n",
    "    return model, optimizer"
   ]
  },
  {
   "cell_type": "code",
   "execution_count": 9,
   "metadata": {
    "colab": {
     "base_uri": "https://localhost:8080/",
     "height": 712
    },
    "colab_type": "code",
    "id": "u1OwV617Gy6h",
    "outputId": "c30d06f5-cba8-4298-d3d2-90f6ef0bde54"
   },
   "outputs": [
    {
     "name": "stdout",
     "output_type": "stream",
     "text": [
      "----------------------------------------------------------------\n",
      "        Layer (type)               Output Shape         Param #\n",
      "================================================================\n",
      "            Conv2d-1           [-1, 64, 26, 26]           1,664\n",
      "              ReLU-2           [-1, 64, 26, 26]               0\n",
      "       BatchNorm2d-3           [-1, 64, 26, 26]             128\n",
      "         MaxPool2d-4           [-1, 64, 13, 13]               0\n",
      "           Dropout-5           [-1, 64, 13, 13]               0\n",
      "            Conv2d-6          [-1, 128, 11, 11]         204,928\n",
      "              ReLU-7          [-1, 128, 11, 11]               0\n",
      "       BatchNorm2d-8          [-1, 128, 11, 11]             256\n",
      "         MaxPool2d-9            [-1, 128, 5, 5]               0\n",
      "          Dropout-10            [-1, 128, 5, 5]               0\n",
      "           Conv2d-11            [-1, 256, 5, 5]         295,168\n",
      "             ReLU-12            [-1, 256, 5, 5]               0\n",
      "      BatchNorm2d-13            [-1, 256, 5, 5]             512\n",
      "        MaxPool2d-14            [-1, 256, 2, 2]               0\n",
      "          Dropout-15            [-1, 256, 2, 2]               0\n",
      "           Conv2d-16            [-1, 512, 2, 2]       1,180,160\n",
      "             ReLU-17            [-1, 512, 2, 2]               0\n",
      "      BatchNorm2d-18            [-1, 512, 2, 2]           1,024\n",
      "        MaxPool2d-19            [-1, 512, 1, 1]               0\n",
      "          Dropout-20            [-1, 512, 1, 1]               0\n",
      "          Flatten-21                  [-1, 512]               0\n",
      "           Linear-22                  [-1, 512]         262,656\n",
      "             ReLU-23                  [-1, 512]               0\n",
      "          Dropout-24                  [-1, 512]               0\n",
      "           Linear-25                   [-1, 10]           5,130\n",
      "================================================================\n",
      "Total params: 1,951,626\n",
      "Trainable params: 1,951,626\n",
      "Non-trainable params: 0\n",
      "----------------------------------------------------------------\n",
      "Input size (MB): 0.00\n",
      "Forward/backward pass size (MB): 1.79\n",
      "Params size (MB): 7.44\n",
      "Estimated Total Size (MB): 9.24\n",
      "----------------------------------------------------------------\n",
      "None\n"
     ]
    }
   ],
   "source": [
    "# build model\n",
    "model, optimizer = build_model()\n",
    "print(model.summary((NUM_CHANNELS, IMAGE_HEIGHT, IMAGE_WIDTH)))"
   ]
  },
  {
   "cell_type": "markdown",
   "metadata": {
    "colab_type": "text",
    "id": "npjnsuucoLwQ"
   },
   "source": [
    "## Training Model\n",
    "In this section, we will build & train several configurations of the model and evaluate performance"
   ]
  },
  {
   "cell_type": "code",
   "execution_count": 10,
   "metadata": {
    "colab": {
     "base_uri": "https://localhost:8080/",
     "height": 1000
    },
    "colab_type": "code",
    "id": "UD8F4DwBoCwp",
    "outputId": "6f32bdc4-6976-4f58-beba-9fa7ff987c35"
   },
   "outputs": [
    {
     "name": "stdout",
     "output_type": "stream",
     "text": [
      "Training on CPU...\n",
      "Training on 60000 samples, cross-validating on 8000 samples\n",
      "Epoch ( 1/50): (38528/60000) -> loss: 0.4513 - acc: 0.8281 - lr: ['0.00100000']"
     ]
    }
   ],
   "source": [
    "scheduler = torch.optim.lr_scheduler.StepLR(optimizer, step_size=10, gamma=0.2)\n",
    "hist = model.fit_dataset(train_dataset, validation_dataset=val_dataset, lr_scheduler=scheduler, \n",
    "                         epochs=NUM_EPOCHS, batch_size=BATCH_SIZE)"
   ]
  },
  {
   "cell_type": "code",
   "execution_count": null,
   "metadata": {
    "colab": {
     "base_uri": "https://localhost:8080/",
     "height": 362
    },
    "colab_type": "code",
    "id": "rJS2QAqARIev",
    "outputId": "e1f85738-df4a-4023-f41b-f0cbeff99895"
   },
   "outputs": [],
   "source": [
    "pytk.show_plots(hist, metric='acc')"
   ]
  },
  {
   "cell_type": "code",
   "execution_count": null,
   "metadata": {
    "colab": {
     "base_uri": "https://localhost:8080/",
     "height": 142
    },
    "colab_type": "code",
    "id": "IyKmrtd4en-r",
    "outputId": "16e3bb08-4fcf-4481-e1d6-691a198bf55d"
   },
   "outputs": [],
   "source": [
    "# evaluate performance\n",
    "print('Evaluating model performance...')\n",
    "loss, acc = model.evaluate_dataset(train_dataset)\n",
    "print6(f'  Training dataset -> loss: {loss:.4f} - acc: {acc:.4f}')\n",
    "loss, acc = model.evaluate_dataset(val_dataset)\n",
    "print(f'  Cross-val dataset -> loss: {loss:.4f} - acc: {acc:.4f}')\n",
    "oss, acc = model.evaluate_dataset(test_dataset)\n",
    "print(f'  Test dataset      -> loss: {loss:.4f} - acc: {acc:.4f}')"
   ]
  },
  {
   "cell_type": "markdown",
   "metadata": {
    "colab_type": "text",
    "id": "WYyGWVj8s06z"
   },
   "source": [
    "#### Observation:\n",
    "See [this Colab Notebook](https://colab.research.google.com/drive/1brSHFOnPQTo0-9vQRC6oslZjAGRbzWuY) for _examples on inserting tables inside markdown cells_\n",
    ">Configuration | Training Acc | Cross-val Acc | Test Acc | Observation\n",
    ">:---|:---:|:---:|:---:|:---:|\n",
    ">**Model**|95.64%|92.80%|92.43%|Some Overfitting\n"
   ]
  },
  {
   "cell_type": "code",
   "execution_count": null,
   "metadata": {
    "colab": {
     "base_uri": "https://localhost:8080/",
     "height": 35
    },
    "colab_type": "code",
    "id": "iSbVSvYJPyIM",
    "outputId": "2c7c6a8f-3d82-4b13-94aa-c462a1cf5e22"
   },
   "outputs": [],
   "source": [
    "model.save(PY_MODEL_SAVE_PATH)\n",
    "del model"
   ]
  },
  {
   "cell_type": "markdown",
   "metadata": {
    "colab_type": "text",
    "id": "00R9Zu2gMqmX"
   },
   "source": [
    "## Making Predictions"
   ]
  },
  {
   "cell_type": "code",
   "execution_count": null,
   "metadata": {
    "colab": {
     "base_uri": "https://localhost:8080/",
     "height": 730
    },
    "colab_type": "code",
    "id": "nrKK2pjYPxOB",
    "outputId": "e884058d-f281-40d4-bd3f-c5b01d2033a9"
   },
   "outputs": [],
   "source": [
    "model, optimizer = build_model()\n",
    "model.load(PY_MODEL_SAVE_PATH)\n",
    "print(model.summary((NUM_CHANNELS, IMAGE_HEIGHT, IMAGE_WIDTH)))"
   ]
  },
  {
   "cell_type": "code",
   "execution_count": null,
   "metadata": {
    "colab": {
     "base_uri": "https://localhost:8080/",
     "height": 70
    },
    "colab_type": "code",
    "id": "j9O1rejjPtv7",
    "outputId": "ad329ab0-7808-4893-d271-f95ecdf1020e"
   },
   "outputs": [],
   "source": [
    "# run predictions\n",
    "y_pred, y_true = model.predict_dataset(test_dataset)\n",
    "y_pred = np.argmax(y_pred, axis=1)\n",
    "print('Sample labels (50): ', y_true[:50])\n",
    "print('Sample predictions (50): ', y_true[:50])\n",
    "print('We got %d/%d incorrect!' % ((y_pred != y_true).sum(), len(y_true)))"
   ]
  },
  {
   "cell_type": "code",
   "execution_count": null,
   "metadata": {
    "colab": {
     "base_uri": "https://localhost:8080/",
     "height": 664
    },
    "colab_type": "code",
    "id": "0azBQjA0Ptd_",
    "outputId": "6ba8a6a1-af6e-478b-a9a2-3a4c68d17efe"
   },
   "outputs": [],
   "source": [
    "# display sample\n",
    "print('Displaying sample predictions...')\n",
    "trainloader = torch.utils.data.DataLoader(test_dataset, batch_size=64, shuffle=True)\n",
    "data_iter = iter(trainloader)\n",
    "images, labels = data_iter.next()  # fetch a batch of 64 random images\n",
    "preds = model.predict(images)\n",
    "preds = np.argmax(preds, axis=1)\n",
    "#type(images), type(labels), type(preds)\n",
    "display_sample(images, labels.cpu().numpy(), sample_predictions=preds,\n",
    "                grid_shape=(8, 8), plot_title='Sample Predictions')"
   ]
  },
  {
   "cell_type": "markdown",
   "metadata": {
    "colab_type": "text",
    "id": "P5ik0uDhfFwc"
   },
   "source": [
    "# <center> - - END - - </center>"
   ]
  }
 ],
 "metadata": {
  "accelerator": "GPU",
  "colab": {
   "collapsed_sections": [],
   "name": "Pytorch - Fashion-MNIST - CNN.ipynb",
   "provenance": []
  },
  "interpreter": {
   "hash": "9b4c3d67c64777cd162e2117a49304f4fb548d2afd0abbf2a017c9500e101fa9"
  },
  "kernelspec": {
   "display_name": "Python 3 (ipykernel)",
   "language": "python",
   "name": "python3"
  },
  "language_info": {
   "codemirror_mode": {
    "name": "ipython",
    "version": 3
   },
   "file_extension": ".py",
   "mimetype": "text/x-python",
   "name": "python",
   "nbconvert_exporter": "python",
   "pygments_lexer": "ipython3",
   "version": "3.9.12"
  },
  "widgets": {
   "application/vnd.jupyter.widget-state+json": {
    "015ba513944047e5a84254bd838a51ab": {
     "model_module": "@jupyter-widgets/controls",
     "model_name": "ProgressStyleModel",
     "state": {
      "_model_module": "@jupyter-widgets/controls",
      "_model_module_version": "1.5.0",
      "_model_name": "ProgressStyleModel",
      "_view_count": null,
      "_view_module": "@jupyter-widgets/base",
      "_view_module_version": "1.2.0",
      "_view_name": "StyleView",
      "bar_color": null,
      "description_width": "initial"
     }
    },
    "0479252ccd9b4b9f9c4a2f5b49b2eac6": {
     "model_module": "@jupyter-widgets/base",
     "model_name": "LayoutModel",
     "state": {
      "_model_module": "@jupyter-widgets/base",
      "_model_module_version": "1.2.0",
      "_model_name": "LayoutModel",
      "_view_count": null,
      "_view_module": "@jupyter-widgets/base",
      "_view_module_version": "1.2.0",
      "_view_name": "LayoutView",
      "align_content": null,
      "align_items": null,
      "align_self": null,
      "border": null,
      "bottom": null,
      "display": null,
      "flex": null,
      "flex_flow": null,
      "grid_area": null,
      "grid_auto_columns": null,
      "grid_auto_flow": null,
      "grid_auto_rows": null,
      "grid_column": null,
      "grid_gap": null,
      "grid_row": null,
      "grid_template_areas": null,
      "grid_template_columns": null,
      "grid_template_rows": null,
      "height": null,
      "justify_content": null,
      "justify_items": null,
      "left": null,
      "margin": null,
      "max_height": null,
      "max_width": null,
      "min_height": null,
      "min_width": null,
      "object_fit": null,
      "object_position": null,
      "order": null,
      "overflow": null,
      "overflow_x": null,
      "overflow_y": null,
      "padding": null,
      "right": null,
      "top": null,
      "visibility": null,
      "width": null
     }
    },
    "117e3f5864e141ac8d2d7ea50a0cd23e": {
     "model_module": "@jupyter-widgets/base",
     "model_name": "LayoutModel",
     "state": {
      "_model_module": "@jupyter-widgets/base",
      "_model_module_version": "1.2.0",
      "_model_name": "LayoutModel",
      "_view_count": null,
      "_view_module": "@jupyter-widgets/base",
      "_view_module_version": "1.2.0",
      "_view_name": "LayoutView",
      "align_content": null,
      "align_items": null,
      "align_self": null,
      "border": null,
      "bottom": null,
      "display": null,
      "flex": null,
      "flex_flow": null,
      "grid_area": null,
      "grid_auto_columns": null,
      "grid_auto_flow": null,
      "grid_auto_rows": null,
      "grid_column": null,
      "grid_gap": null,
      "grid_row": null,
      "grid_template_areas": null,
      "grid_template_columns": null,
      "grid_template_rows": null,
      "height": null,
      "justify_content": null,
      "justify_items": null,
      "left": null,
      "margin": null,
      "max_height": null,
      "max_width": null,
      "min_height": null,
      "min_width": null,
      "object_fit": null,
      "object_position": null,
      "order": null,
      "overflow": null,
      "overflow_x": null,
      "overflow_y": null,
      "padding": null,
      "right": null,
      "top": null,
      "visibility": null,
      "width": null
     }
    },
    "198ba2e020fc4591a9e9d2f11f46969a": {
     "model_module": "@jupyter-widgets/base",
     "model_name": "LayoutModel",
     "state": {
      "_model_module": "@jupyter-widgets/base",
      "_model_module_version": "1.2.0",
      "_model_name": "LayoutModel",
      "_view_count": null,
      "_view_module": "@jupyter-widgets/base",
      "_view_module_version": "1.2.0",
      "_view_name": "LayoutView",
      "align_content": null,
      "align_items": null,
      "align_self": null,
      "border": null,
      "bottom": null,
      "display": null,
      "flex": null,
      "flex_flow": null,
      "grid_area": null,
      "grid_auto_columns": null,
      "grid_auto_flow": null,
      "grid_auto_rows": null,
      "grid_column": null,
      "grid_gap": null,
      "grid_row": null,
      "grid_template_areas": null,
      "grid_template_columns": null,
      "grid_template_rows": null,
      "height": null,
      "justify_content": null,
      "justify_items": null,
      "left": null,
      "margin": null,
      "max_height": null,
      "max_width": null,
      "min_height": null,
      "min_width": null,
      "object_fit": null,
      "object_position": null,
      "order": null,
      "overflow": null,
      "overflow_x": null,
      "overflow_y": null,
      "padding": null,
      "right": null,
      "top": null,
      "visibility": null,
      "width": null
     }
    },
    "1ffb551139564b0f8355650e41f8d0bc": {
     "model_module": "@jupyter-widgets/controls",
     "model_name": "HTMLModel",
     "state": {
      "_dom_classes": [],
      "_model_module": "@jupyter-widgets/controls",
      "_model_module_version": "1.5.0",
      "_model_name": "HTMLModel",
      "_view_count": null,
      "_view_module": "@jupyter-widgets/controls",
      "_view_module_version": "1.5.0",
      "_view_name": "HTMLView",
      "description": "",
      "description_tooltip": null,
      "layout": "IPY_MODEL_0479252ccd9b4b9f9c4a2f5b49b2eac6",
      "placeholder": "​",
      "style": "IPY_MODEL_68ae83bb736243a493e2b63bce03a0cb",
      "value": " 4423680/? [00:01&lt;00:00, 3962600.51it/s]"
     }
    },
    "26486a45062b4209a6de2c9e221786c1": {
     "model_module": "@jupyter-widgets/base",
     "model_name": "LayoutModel",
     "state": {
      "_model_module": "@jupyter-widgets/base",
      "_model_module_version": "1.2.0",
      "_model_name": "LayoutModel",
      "_view_count": null,
      "_view_module": "@jupyter-widgets/base",
      "_view_module_version": "1.2.0",
      "_view_name": "LayoutView",
      "align_content": null,
      "align_items": null,
      "align_self": null,
      "border": null,
      "bottom": null,
      "display": null,
      "flex": null,
      "flex_flow": null,
      "grid_area": null,
      "grid_auto_columns": null,
      "grid_auto_flow": null,
      "grid_auto_rows": null,
      "grid_column": null,
      "grid_gap": null,
      "grid_row": null,
      "grid_template_areas": null,
      "grid_template_columns": null,
      "grid_template_rows": null,
      "height": null,
      "justify_content": null,
      "justify_items": null,
      "left": null,
      "margin": null,
      "max_height": null,
      "max_width": null,
      "min_height": null,
      "min_width": null,
      "object_fit": null,
      "object_position": null,
      "order": null,
      "overflow": null,
      "overflow_x": null,
      "overflow_y": null,
      "padding": null,
      "right": null,
      "top": null,
      "visibility": null,
      "width": null
     }
    },
    "2afac8a90b6a4f6e890ad36bcd78ead7": {
     "model_module": "@jupyter-widgets/controls",
     "model_name": "ProgressStyleModel",
     "state": {
      "_model_module": "@jupyter-widgets/controls",
      "_model_module_version": "1.5.0",
      "_model_name": "ProgressStyleModel",
      "_view_count": null,
      "_view_module": "@jupyter-widgets/base",
      "_view_module_version": "1.2.0",
      "_view_name": "StyleView",
      "bar_color": null,
      "description_width": "initial"
     }
    },
    "2f8336246f4944448776fa8b98f2e464": {
     "model_module": "@jupyter-widgets/controls",
     "model_name": "HTMLModel",
     "state": {
      "_dom_classes": [],
      "_model_module": "@jupyter-widgets/controls",
      "_model_module_version": "1.5.0",
      "_model_name": "HTMLModel",
      "_view_count": null,
      "_view_module": "@jupyter-widgets/controls",
      "_view_module_version": "1.5.0",
      "_view_name": "HTMLView",
      "description": "",
      "description_tooltip": null,
      "layout": "IPY_MODEL_3a7cc0904e9c4eff8a78ba9088e69e55",
      "placeholder": "​",
      "style": "IPY_MODEL_d49609b6be6448298b97e2d77c2ae4e4",
      "value": " 32768/? [00:00&lt;00:00, 410110.06it/s]"
     }
    },
    "3a7cc0904e9c4eff8a78ba9088e69e55": {
     "model_module": "@jupyter-widgets/base",
     "model_name": "LayoutModel",
     "state": {
      "_model_module": "@jupyter-widgets/base",
      "_model_module_version": "1.2.0",
      "_model_name": "LayoutModel",
      "_view_count": null,
      "_view_module": "@jupyter-widgets/base",
      "_view_module_version": "1.2.0",
      "_view_name": "LayoutView",
      "align_content": null,
      "align_items": null,
      "align_self": null,
      "border": null,
      "bottom": null,
      "display": null,
      "flex": null,
      "flex_flow": null,
      "grid_area": null,
      "grid_auto_columns": null,
      "grid_auto_flow": null,
      "grid_auto_rows": null,
      "grid_column": null,
      "grid_gap": null,
      "grid_row": null,
      "grid_template_areas": null,
      "grid_template_columns": null,
      "grid_template_rows": null,
      "height": null,
      "justify_content": null,
      "justify_items": null,
      "left": null,
      "margin": null,
      "max_height": null,
      "max_width": null,
      "min_height": null,
      "min_width": null,
      "object_fit": null,
      "object_position": null,
      "order": null,
      "overflow": null,
      "overflow_x": null,
      "overflow_y": null,
      "padding": null,
      "right": null,
      "top": null,
      "visibility": null,
      "width": null
     }
    },
    "3e55f56c61fa44d38fb400e5c96f002b": {
     "model_module": "@jupyter-widgets/controls",
     "model_name": "ProgressStyleModel",
     "state": {
      "_model_module": "@jupyter-widgets/controls",
      "_model_module_version": "1.5.0",
      "_model_name": "ProgressStyleModel",
      "_view_count": null,
      "_view_module": "@jupyter-widgets/base",
      "_view_module_version": "1.2.0",
      "_view_name": "StyleView",
      "bar_color": null,
      "description_width": "initial"
     }
    },
    "4653f9ed4a134990ae6a5227795fe58e": {
     "model_module": "@jupyter-widgets/base",
     "model_name": "LayoutModel",
     "state": {
      "_model_module": "@jupyter-widgets/base",
      "_model_module_version": "1.2.0",
      "_model_name": "LayoutModel",
      "_view_count": null,
      "_view_module": "@jupyter-widgets/base",
      "_view_module_version": "1.2.0",
      "_view_name": "LayoutView",
      "align_content": null,
      "align_items": null,
      "align_self": null,
      "border": null,
      "bottom": null,
      "display": null,
      "flex": null,
      "flex_flow": null,
      "grid_area": null,
      "grid_auto_columns": null,
      "grid_auto_flow": null,
      "grid_auto_rows": null,
      "grid_column": null,
      "grid_gap": null,
      "grid_row": null,
      "grid_template_areas": null,
      "grid_template_columns": null,
      "grid_template_rows": null,
      "height": null,
      "justify_content": null,
      "justify_items": null,
      "left": null,
      "margin": null,
      "max_height": null,
      "max_width": null,
      "min_height": null,
      "min_width": null,
      "object_fit": null,
      "object_position": null,
      "order": null,
      "overflow": null,
      "overflow_x": null,
      "overflow_y": null,
      "padding": null,
      "right": null,
      "top": null,
      "visibility": null,
      "width": null
     }
    },
    "46f14cf16e934c90b49cfa623439a5f5": {
     "model_module": "@jupyter-widgets/controls",
     "model_name": "IntProgressModel",
     "state": {
      "_dom_classes": [],
      "_model_module": "@jupyter-widgets/controls",
      "_model_module_version": "1.5.0",
      "_model_name": "IntProgressModel",
      "_view_count": null,
      "_view_module": "@jupyter-widgets/controls",
      "_view_module_version": "1.5.0",
      "_view_name": "ProgressView",
      "bar_style": "success",
      "description": "",
      "description_tooltip": null,
      "layout": "IPY_MODEL_b6f253d0ffeb4775af30b9487967a3ab",
      "max": 1,
      "min": 0,
      "orientation": "horizontal",
      "style": "IPY_MODEL_ff9cae5dd5684e20b111167a386603c7",
      "value": 1
     }
    },
    "5379e4c7b72141cfac269d4602cd421c": {
     "model_module": "@jupyter-widgets/base",
     "model_name": "LayoutModel",
     "state": {
      "_model_module": "@jupyter-widgets/base",
      "_model_module_version": "1.2.0",
      "_model_name": "LayoutModel",
      "_view_count": null,
      "_view_module": "@jupyter-widgets/base",
      "_view_module_version": "1.2.0",
      "_view_name": "LayoutView",
      "align_content": null,
      "align_items": null,
      "align_self": null,
      "border": null,
      "bottom": null,
      "display": null,
      "flex": null,
      "flex_flow": null,
      "grid_area": null,
      "grid_auto_columns": null,
      "grid_auto_flow": null,
      "grid_auto_rows": null,
      "grid_column": null,
      "grid_gap": null,
      "grid_row": null,
      "grid_template_areas": null,
      "grid_template_columns": null,
      "grid_template_rows": null,
      "height": null,
      "justify_content": null,
      "justify_items": null,
      "left": null,
      "margin": null,
      "max_height": null,
      "max_width": null,
      "min_height": null,
      "min_width": null,
      "object_fit": null,
      "object_position": null,
      "order": null,
      "overflow": null,
      "overflow_x": null,
      "overflow_y": null,
      "padding": null,
      "right": null,
      "top": null,
      "visibility": null,
      "width": null
     }
    },
    "68ae83bb736243a493e2b63bce03a0cb": {
     "model_module": "@jupyter-widgets/controls",
     "model_name": "DescriptionStyleModel",
     "state": {
      "_model_module": "@jupyter-widgets/controls",
      "_model_module_version": "1.5.0",
      "_model_name": "DescriptionStyleModel",
      "_view_count": null,
      "_view_module": "@jupyter-widgets/base",
      "_view_module_version": "1.2.0",
      "_view_name": "StyleView",
      "description_width": ""
     }
    },
    "6bd519cfbc7545cdb24fa2909f02f682": {
     "model_module": "@jupyter-widgets/base",
     "model_name": "LayoutModel",
     "state": {
      "_model_module": "@jupyter-widgets/base",
      "_model_module_version": "1.2.0",
      "_model_name": "LayoutModel",
      "_view_count": null,
      "_view_module": "@jupyter-widgets/base",
      "_view_module_version": "1.2.0",
      "_view_name": "LayoutView",
      "align_content": null,
      "align_items": null,
      "align_self": null,
      "border": null,
      "bottom": null,
      "display": null,
      "flex": null,
      "flex_flow": null,
      "grid_area": null,
      "grid_auto_columns": null,
      "grid_auto_flow": null,
      "grid_auto_rows": null,
      "grid_column": null,
      "grid_gap": null,
      "grid_row": null,
      "grid_template_areas": null,
      "grid_template_columns": null,
      "grid_template_rows": null,
      "height": null,
      "justify_content": null,
      "justify_items": null,
      "left": null,
      "margin": null,
      "max_height": null,
      "max_width": null,
      "min_height": null,
      "min_width": null,
      "object_fit": null,
      "object_position": null,
      "order": null,
      "overflow": null,
      "overflow_x": null,
      "overflow_y": null,
      "padding": null,
      "right": null,
      "top": null,
      "visibility": null,
      "width": null
     }
    },
    "785fcf3d334d4104b5f50ff91c878cd4": {
     "model_module": "@jupyter-widgets/base",
     "model_name": "LayoutModel",
     "state": {
      "_model_module": "@jupyter-widgets/base",
      "_model_module_version": "1.2.0",
      "_model_name": "LayoutModel",
      "_view_count": null,
      "_view_module": "@jupyter-widgets/base",
      "_view_module_version": "1.2.0",
      "_view_name": "LayoutView",
      "align_content": null,
      "align_items": null,
      "align_self": null,
      "border": null,
      "bottom": null,
      "display": null,
      "flex": null,
      "flex_flow": null,
      "grid_area": null,
      "grid_auto_columns": null,
      "grid_auto_flow": null,
      "grid_auto_rows": null,
      "grid_column": null,
      "grid_gap": null,
      "grid_row": null,
      "grid_template_areas": null,
      "grid_template_columns": null,
      "grid_template_rows": null,
      "height": null,
      "justify_content": null,
      "justify_items": null,
      "left": null,
      "margin": null,
      "max_height": null,
      "max_width": null,
      "min_height": null,
      "min_width": null,
      "object_fit": null,
      "object_position": null,
      "order": null,
      "overflow": null,
      "overflow_x": null,
      "overflow_y": null,
      "padding": null,
      "right": null,
      "top": null,
      "visibility": null,
      "width": null
     }
    },
    "7c0d17c7a5494951ab4ec3d8335e11e1": {
     "model_module": "@jupyter-widgets/controls",
     "model_name": "DescriptionStyleModel",
     "state": {
      "_model_module": "@jupyter-widgets/controls",
      "_model_module_version": "1.5.0",
      "_model_name": "DescriptionStyleModel",
      "_view_count": null,
      "_view_module": "@jupyter-widgets/base",
      "_view_module_version": "1.2.0",
      "_view_name": "StyleView",
      "description_width": ""
     }
    },
    "8976837151e44b66adfbfe6ac5bba137": {
     "model_module": "@jupyter-widgets/controls",
     "model_name": "IntProgressModel",
     "state": {
      "_dom_classes": [],
      "_model_module": "@jupyter-widgets/controls",
      "_model_module_version": "1.5.0",
      "_model_name": "IntProgressModel",
      "_view_count": null,
      "_view_module": "@jupyter-widgets/controls",
      "_view_module_version": "1.5.0",
      "_view_name": "ProgressView",
      "bar_style": "success",
      "description": "",
      "description_tooltip": null,
      "layout": "IPY_MODEL_b96d5269614a4594baf4275c994baf41",
      "max": 1,
      "min": 0,
      "orientation": "horizontal",
      "style": "IPY_MODEL_2afac8a90b6a4f6e890ad36bcd78ead7",
      "value": 1
     }
    },
    "89a6a1caa19b4a27bfeb2f2654a84922": {
     "model_module": "@jupyter-widgets/controls",
     "model_name": "HTMLModel",
     "state": {
      "_dom_classes": [],
      "_model_module": "@jupyter-widgets/controls",
      "_model_module_version": "1.5.0",
      "_model_name": "HTMLModel",
      "_view_count": null,
      "_view_module": "@jupyter-widgets/controls",
      "_view_module_version": "1.5.0",
      "_view_name": "HTMLView",
      "description": "",
      "description_tooltip": null,
      "layout": "IPY_MODEL_a5960490a3df47eaa588916f91afb824",
      "placeholder": "​",
      "style": "IPY_MODEL_fce8982775b94fc392a745b21c29cd43",
      "value": " 26427392/? [00:01&lt;00:00, 13405219.50it/s]"
     }
    },
    "8effdfb84ad74a04b2465d9ba2fa77ea": {
     "model_module": "@jupyter-widgets/controls",
     "model_name": "HBoxModel",
     "state": {
      "_dom_classes": [],
      "_model_module": "@jupyter-widgets/controls",
      "_model_module_version": "1.5.0",
      "_model_name": "HBoxModel",
      "_view_count": null,
      "_view_module": "@jupyter-widgets/controls",
      "_view_module_version": "1.5.0",
      "_view_name": "HBoxView",
      "box_style": "",
      "children": [
       "IPY_MODEL_46f14cf16e934c90b49cfa623439a5f5",
       "IPY_MODEL_89a6a1caa19b4a27bfeb2f2654a84922"
      ],
      "layout": "IPY_MODEL_4653f9ed4a134990ae6a5227795fe58e"
     }
    },
    "a5960490a3df47eaa588916f91afb824": {
     "model_module": "@jupyter-widgets/base",
     "model_name": "LayoutModel",
     "state": {
      "_model_module": "@jupyter-widgets/base",
      "_model_module_version": "1.2.0",
      "_model_name": "LayoutModel",
      "_view_count": null,
      "_view_module": "@jupyter-widgets/base",
      "_view_module_version": "1.2.0",
      "_view_name": "LayoutView",
      "align_content": null,
      "align_items": null,
      "align_self": null,
      "border": null,
      "bottom": null,
      "display": null,
      "flex": null,
      "flex_flow": null,
      "grid_area": null,
      "grid_auto_columns": null,
      "grid_auto_flow": null,
      "grid_auto_rows": null,
      "grid_column": null,
      "grid_gap": null,
      "grid_row": null,
      "grid_template_areas": null,
      "grid_template_columns": null,
      "grid_template_rows": null,
      "height": null,
      "justify_content": null,
      "justify_items": null,
      "left": null,
      "margin": null,
      "max_height": null,
      "max_width": null,
      "min_height": null,
      "min_width": null,
      "object_fit": null,
      "object_position": null,
      "order": null,
      "overflow": null,
      "overflow_x": null,
      "overflow_y": null,
      "padding": null,
      "right": null,
      "top": null,
      "visibility": null,
      "width": null
     }
    },
    "b56ef2595402499380df9e9cf23671fc": {
     "model_module": "@jupyter-widgets/controls",
     "model_name": "HBoxModel",
     "state": {
      "_dom_classes": [],
      "_model_module": "@jupyter-widgets/controls",
      "_model_module_version": "1.5.0",
      "_model_name": "HBoxModel",
      "_view_count": null,
      "_view_module": "@jupyter-widgets/controls",
      "_view_module_version": "1.5.0",
      "_view_name": "HBoxView",
      "box_style": "",
      "children": [
       "IPY_MODEL_ea0e9d2f03fc40768f90df0d069c6144",
       "IPY_MODEL_1ffb551139564b0f8355650e41f8d0bc"
      ],
      "layout": "IPY_MODEL_26486a45062b4209a6de2c9e221786c1"
     }
    },
    "b6f253d0ffeb4775af30b9487967a3ab": {
     "model_module": "@jupyter-widgets/base",
     "model_name": "LayoutModel",
     "state": {
      "_model_module": "@jupyter-widgets/base",
      "_model_module_version": "1.2.0",
      "_model_name": "LayoutModel",
      "_view_count": null,
      "_view_module": "@jupyter-widgets/base",
      "_view_module_version": "1.2.0",
      "_view_name": "LayoutView",
      "align_content": null,
      "align_items": null,
      "align_self": null,
      "border": null,
      "bottom": null,
      "display": null,
      "flex": null,
      "flex_flow": null,
      "grid_area": null,
      "grid_auto_columns": null,
      "grid_auto_flow": null,
      "grid_auto_rows": null,
      "grid_column": null,
      "grid_gap": null,
      "grid_row": null,
      "grid_template_areas": null,
      "grid_template_columns": null,
      "grid_template_rows": null,
      "height": null,
      "justify_content": null,
      "justify_items": null,
      "left": null,
      "margin": null,
      "max_height": null,
      "max_width": null,
      "min_height": null,
      "min_width": null,
      "object_fit": null,
      "object_position": null,
      "order": null,
      "overflow": null,
      "overflow_x": null,
      "overflow_y": null,
      "padding": null,
      "right": null,
      "top": null,
      "visibility": null,
      "width": null
     }
    },
    "b96d5269614a4594baf4275c994baf41": {
     "model_module": "@jupyter-widgets/base",
     "model_name": "LayoutModel",
     "state": {
      "_model_module": "@jupyter-widgets/base",
      "_model_module_version": "1.2.0",
      "_model_name": "LayoutModel",
      "_view_count": null,
      "_view_module": "@jupyter-widgets/base",
      "_view_module_version": "1.2.0",
      "_view_name": "LayoutView",
      "align_content": null,
      "align_items": null,
      "align_self": null,
      "border": null,
      "bottom": null,
      "display": null,
      "flex": null,
      "flex_flow": null,
      "grid_area": null,
      "grid_auto_columns": null,
      "grid_auto_flow": null,
      "grid_auto_rows": null,
      "grid_column": null,
      "grid_gap": null,
      "grid_row": null,
      "grid_template_areas": null,
      "grid_template_columns": null,
      "grid_template_rows": null,
      "height": null,
      "justify_content": null,
      "justify_items": null,
      "left": null,
      "margin": null,
      "max_height": null,
      "max_width": null,
      "min_height": null,
      "min_width": null,
      "object_fit": null,
      "object_position": null,
      "order": null,
      "overflow": null,
      "overflow_x": null,
      "overflow_y": null,
      "padding": null,
      "right": null,
      "top": null,
      "visibility": null,
      "width": null
     }
    },
    "c063f51db77c456ea47561f9719f7878": {
     "model_module": "@jupyter-widgets/controls",
     "model_name": "HBoxModel",
     "state": {
      "_dom_classes": [],
      "_model_module": "@jupyter-widgets/controls",
      "_model_module_version": "1.5.0",
      "_model_name": "HBoxModel",
      "_view_count": null,
      "_view_module": "@jupyter-widgets/controls",
      "_view_module_version": "1.5.0",
      "_view_name": "HBoxView",
      "box_style": "",
      "children": [
       "IPY_MODEL_8976837151e44b66adfbfe6ac5bba137",
       "IPY_MODEL_2f8336246f4944448776fa8b98f2e464"
      ],
      "layout": "IPY_MODEL_117e3f5864e141ac8d2d7ea50a0cd23e"
     }
    },
    "ca4c459ea3804005824b0797a2c63e46": {
     "model_module": "@jupyter-widgets/controls",
     "model_name": "IntProgressModel",
     "state": {
      "_dom_classes": [],
      "_model_module": "@jupyter-widgets/controls",
      "_model_module_version": "1.5.0",
      "_model_name": "IntProgressModel",
      "_view_count": null,
      "_view_module": "@jupyter-widgets/controls",
      "_view_module_version": "1.5.0",
      "_view_name": "ProgressView",
      "bar_style": "success",
      "description": "",
      "description_tooltip": null,
      "layout": "IPY_MODEL_6bd519cfbc7545cdb24fa2909f02f682",
      "max": 1,
      "min": 0,
      "orientation": "horizontal",
      "style": "IPY_MODEL_015ba513944047e5a84254bd838a51ab",
      "value": 1
     }
    },
    "d49609b6be6448298b97e2d77c2ae4e4": {
     "model_module": "@jupyter-widgets/controls",
     "model_name": "DescriptionStyleModel",
     "state": {
      "_model_module": "@jupyter-widgets/controls",
      "_model_module_version": "1.5.0",
      "_model_name": "DescriptionStyleModel",
      "_view_count": null,
      "_view_module": "@jupyter-widgets/base",
      "_view_module_version": "1.2.0",
      "_view_name": "StyleView",
      "description_width": ""
     }
    },
    "ea0e9d2f03fc40768f90df0d069c6144": {
     "model_module": "@jupyter-widgets/controls",
     "model_name": "IntProgressModel",
     "state": {
      "_dom_classes": [],
      "_model_module": "@jupyter-widgets/controls",
      "_model_module_version": "1.5.0",
      "_model_name": "IntProgressModel",
      "_view_count": null,
      "_view_module": "@jupyter-widgets/controls",
      "_view_module_version": "1.5.0",
      "_view_name": "ProgressView",
      "bar_style": "success",
      "description": "",
      "description_tooltip": null,
      "layout": "IPY_MODEL_5379e4c7b72141cfac269d4602cd421c",
      "max": 1,
      "min": 0,
      "orientation": "horizontal",
      "style": "IPY_MODEL_3e55f56c61fa44d38fb400e5c96f002b",
      "value": 1
     }
    },
    "edbffc997b0a4232afb574461b461faf": {
     "model_module": "@jupyter-widgets/controls",
     "model_name": "HTMLModel",
     "state": {
      "_dom_classes": [],
      "_model_module": "@jupyter-widgets/controls",
      "_model_module_version": "1.5.0",
      "_model_name": "HTMLModel",
      "_view_count": null,
      "_view_module": "@jupyter-widgets/controls",
      "_view_module_version": "1.5.0",
      "_view_name": "HTMLView",
      "description": "",
      "description_tooltip": null,
      "layout": "IPY_MODEL_198ba2e020fc4591a9e9d2f11f46969a",
      "placeholder": "​",
      "style": "IPY_MODEL_7c0d17c7a5494951ab4ec3d8335e11e1",
      "value": " 8192/? [00:00&lt;00:00, 9630.34it/s]"
     }
    },
    "fce8982775b94fc392a745b21c29cd43": {
     "model_module": "@jupyter-widgets/controls",
     "model_name": "DescriptionStyleModel",
     "state": {
      "_model_module": "@jupyter-widgets/controls",
      "_model_module_version": "1.5.0",
      "_model_name": "DescriptionStyleModel",
      "_view_count": null,
      "_view_module": "@jupyter-widgets/base",
      "_view_module_version": "1.2.0",
      "_view_name": "StyleView",
      "description_width": ""
     }
    },
    "fd311d2b6d174ab9aa5c50d48ea33346": {
     "model_module": "@jupyter-widgets/controls",
     "model_name": "HBoxModel",
     "state": {
      "_dom_classes": [],
      "_model_module": "@jupyter-widgets/controls",
      "_model_module_version": "1.5.0",
      "_model_name": "HBoxModel",
      "_view_count": null,
      "_view_module": "@jupyter-widgets/controls",
      "_view_module_version": "1.5.0",
      "_view_name": "HBoxView",
      "box_style": "",
      "children": [
       "IPY_MODEL_ca4c459ea3804005824b0797a2c63e46",
       "IPY_MODEL_edbffc997b0a4232afb574461b461faf"
      ],
      "layout": "IPY_MODEL_785fcf3d334d4104b5f50ff91c878cd4"
     }
    },
    "ff9cae5dd5684e20b111167a386603c7": {
     "model_module": "@jupyter-widgets/controls",
     "model_name": "ProgressStyleModel",
     "state": {
      "_model_module": "@jupyter-widgets/controls",
      "_model_module_version": "1.5.0",
      "_model_name": "ProgressStyleModel",
      "_view_count": null,
      "_view_module": "@jupyter-widgets/base",
      "_view_module_version": "1.2.0",
      "_view_name": "StyleView",
      "bar_color": null,
      "description_width": "initial"
     }
    }
   }
  }
 },
 "nbformat": 4,
 "nbformat_minor": 1
}

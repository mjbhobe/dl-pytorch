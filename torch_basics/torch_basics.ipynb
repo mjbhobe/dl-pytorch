{
 "cells": [
  {
   "cell_type": "code",
   "execution_count": 1,
   "id": "bad68ead-8b97-4b51-a2fc-4d6c28e40bb8",
   "metadata": {},
   "outputs": [
    {
     "name": "stdout",
     "output_type": "stream",
     "text": [
      "Using torch: 2.1.2+rocm5.6\n",
      "\n",
      "Torch Training Toolkit (t3): a library to make training, evaluating & predicting of Pytorch models easier.\n",
      "Created by Manish Bhobé, and released by Nämostuté Ltd. with MIT Licence (for personal or commercial use).\n",
      "Use at your own risk. Manish Bhobé (or Nämostuté Ltd.) are not liable for any damages from use of this software!\n"
     ]
    }
   ],
   "source": [
    "import numpy as np\n",
    "import pandas as pd\n",
    "import torch\n",
    "\n",
    "print(f\"Using torch: {torch.__version__}\")\n",
    "\n",
    "import torch_training_toolkit as t3\n",
    "print(t3.about())"
   ]
  },
  {
   "cell_type": "code",
   "execution_count": 2,
   "id": "a5fd7ad9-0fab-4121-b6db-fd4cdce7b4cd",
   "metadata": {},
   "outputs": [
    {
     "data": {
      "text/plain": [
       "array([1, 2, 3, 4, 5, 6, 7, 8, 9])"
      ]
     },
     "execution_count": 2,
     "metadata": {},
     "output_type": "execute_result"
    }
   ],
   "source": [
    "lst = [1,2,3,4,5,6,7,8,9]  \n",
    "arr = np.array(lst)\n",
    "arr"
   ]
  },
  {
   "cell_type": "code",
   "execution_count": 3,
   "id": "c8226433-3b89-4e40-b9b9-fced0f0f7678",
   "metadata": {},
   "outputs": [
    {
     "data": {
      "text/plain": [
       "(tensor([1, 2, 3, 4, 5, 6, 7, 8, 9]), torch.int64)"
      ]
     },
     "execution_count": 3,
     "metadata": {},
     "output_type": "execute_result"
    }
   ],
   "source": [
    "tt = torch.from_numpy(arr)\n",
    "tt, tt.dtype"
   ]
  },
  {
   "cell_type": "code",
   "execution_count": 4,
   "id": "46b2370f-7a9b-4c17-bac2-3ee8a371e8c9",
   "metadata": {},
   "outputs": [
    {
     "data": {
      "text/plain": [
       "(array([1, 2]),\n",
       " tensor([1, 2]),\n",
       " array([9]),\n",
       " tensor([9]),\n",
       " array([3, 5, 7, 9]),\n",
       " tensor([3, 5, 7, 9]))"
      ]
     },
     "execution_count": 4,
     "metadata": {},
     "output_type": "execute_result"
    }
   ],
   "source": [
    "# you can select data in torch similar to how you select in Numpy\n",
    "arr[:2], tt[:2], arr[-1:], tt[-1:], arr[2::2], tt[2::2]"
   ]
  },
  {
   "cell_type": "code",
   "execution_count": 5,
   "id": "91c3112f-bc9d-4226-b526-5bb6e9a2ace0",
   "metadata": {},
   "outputs": [
    {
     "data": {
      "text/plain": [
       "(torch.Size([5, 3]),\n",
       " tensor([[ 0,  1,  2],\n",
       "         [ 3,  4,  5],\n",
       "         [ 6,  7,  8],\n",
       "         [ 9, 10, 11],\n",
       "         [12, 13, 14]]))"
      ]
     },
     "execution_count": 5,
     "metadata": {},
     "output_type": "execute_result"
    }
   ],
   "source": [
    "t = torch.arange(0, 15).view(5, 3)\n",
    "t.shape, t"
   ]
  },
  {
   "cell_type": "code",
   "execution_count": null,
   "id": "7e451190-5dd5-4850-824f-e84cbbf944bc",
   "metadata": {},
   "outputs": [],
   "source": []
  }
 ],
 "metadata": {
  "kernelspec": {
   "display_name": "Python 3 (ipykernel)",
   "language": "python",
   "name": "python3"
  },
  "language_info": {
   "codemirror_mode": {
    "name": "ipython",
    "version": 3
   },
   "file_extension": ".py",
   "mimetype": "text/x-python",
   "name": "python",
   "nbconvert_exporter": "python",
   "pygments_lexer": "ipython3",
   "version": "3.11.0"
  }
 },
 "nbformat": 4,
 "nbformat_minor": 5
}

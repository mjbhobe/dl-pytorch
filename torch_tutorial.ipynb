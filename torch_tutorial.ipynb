{
 "cells": [
  {
   "cell_type": "code",
   "execution_count": 2,
   "metadata": {},
   "outputs": [
    {
     "name": "stdout",
     "output_type": "stream",
     "text": [
      "Using Pytorch: 1.13.0+cpu, torchmetrics: 0.10.2\n",
      "GPU is not available :(\n"
     ]
    }
   ],
   "source": [
    "import numpy as np\n",
    "import torch\n",
    "import torchmetrics\n",
    "import torchsummary\n",
    "import torch_training_toolkit as t3\n",
    "\n",
    "print(f\"Using Pytorch: {torch.__version__}, torchmetrics: {torchmetrics.__version__}\")\n",
    "print(f\"GPU is {'available :)' if torch.cuda.is_available() else 'not available :('}\")\n",
    "\n",
    "SEED = t3.seed_all(t3.T3_FAV_SEED)\n",
    "DEVICE = torch.device(\"cuda\" if torch.cuda.is_available() else \"cpu\")"
   ]
  },
  {
   "cell_type": "code",
   "execution_count": 4,
   "metadata": {},
   "outputs": [
    {
     "name": "stdout",
     "output_type": "stream",
     "text": [
      "[12, 23, 34, 45, 56, 67, 78, 89]\n"
     ]
    }
   ],
   "source": [
    "# x = [12, 23, 34...]\n",
    "x = [i * 10 + (i+1) for i in range(1,9)]\n",
    "print(x)"
   ]
  },
  {
   "cell_type": "code",
   "execution_count": 7,
   "metadata": {},
   "outputs": [
    {
     "data": {
      "text/plain": [
       "(False, False)"
      ]
     },
     "execution_count": 7,
     "metadata": {},
     "output_type": "execute_result"
    }
   ],
   "source": [
    "torch.is_tensor(x), torch.is_storage(x)"
   ]
  },
  {
   "cell_type": "code",
   "execution_count": 19,
   "metadata": {},
   "outputs": [
    {
     "data": {
      "text/plain": [
       "(5, 120, (1, 2, 3, 4, 5), True)"
      ]
     },
     "execution_count": 19,
     "metadata": {},
     "output_type": "execute_result"
    }
   ],
   "source": [
    "yn = np.random.randn(1, 2, 3, 4, 5) # 5 dimensional Numpy array of randoms (from normal dist)\n",
    "yn.ndim, yn.size, yn.shape, isinstance(yn, np.ndarray)"
   ]
  },
  {
   "cell_type": "code",
   "execution_count": 20,
   "metadata": {},
   "outputs": [
    {
     "data": {
      "text/plain": [
       "(5, 120, torch.Size([1, 2, 3, 4, 5]), True)"
      ]
     },
     "execution_count": 20,
     "metadata": {},
     "output_type": "execute_result"
    }
   ],
   "source": [
    "tn = torch.randn(1, 2, 3, 4, 5)\n",
    "tn.ndim, tn.numel(), tn.shape, torch.is_tensor(tn)"
   ]
  },
  {
   "cell_type": "code",
   "execution_count": null,
   "metadata": {},
   "outputs": [],
   "source": []
  }
 ],
 "metadata": {
  "kernelspec": {
   "display_name": "Python 3",
   "language": "python",
   "name": "python3"
  },
  "language_info": {
   "codemirror_mode": {
    "name": "ipython",
    "version": 3
   },
   "file_extension": ".py",
   "mimetype": "text/x-python",
   "name": "python",
   "nbconvert_exporter": "python",
   "pygments_lexer": "ipython3",
   "version": "3.8.13"
  },
  "orig_nbformat": 4,
  "vscode": {
   "interpreter": {
    "hash": "cdaf8329f684186bbce2a0d62033d09e4ac5ddaceb494be9d4c867dbc58bfadd"
   }
  }
 },
 "nbformat": 4,
 "nbformat_minor": 2
}

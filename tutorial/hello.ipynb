{
 "cells": [
  {
   "cell_type": "code",
   "execution_count": 1,
   "metadata": {},
   "outputs": [
    {
     "name": "stdout",
     "output_type": "stream",
     "text": [
      "os.getcwd() -> /home/mjbhobe/code/git-projects/dl-pytorch/tutorial\n",
      "BASE_PATH -> /home/mjbhobe/code/git-projects/dl-pytorch\n",
      "sys.path = ['/home/mjbhobe/code/git-projects/dl-pytorch', '/home/mjbhobe/code/git-projects/dl-pytorch/tutorial', '/home/mjbhobe/anaconda3/envs/py311/lib/python311.zip', '/home/mjbhobe/anaconda3/envs/py311/lib/python3.11', '/home/mjbhobe/anaconda3/envs/py311/lib/python3.11/lib-dynload', '', '/home/mjbhobe/anaconda3/envs/py311/lib/python3.11/site-packages']\n"
     ]
    }
   ],
   "source": [
    "%load_ext autoreload\n",
    "%autoreload 2\n",
    "\n",
    "import os, random, sys\n",
    "import pathlib\n",
    "\n",
    "import numpy as np\n",
    "import pandas as pd\n",
    "import scipy.stats as stats\n",
    "import matplotlib.pyplot as plt\n",
    "import seaborn as sns\n",
    "\n",
    "BASE_PATH = pathlib.Path(os.getcwd()).parent\n",
    "print(f\"os.getcwd() -> {os.getcwd()}\")\n",
    "print(f\"BASE_PATH -> {BASE_PATH}\")\n",
    "# sys.path.insert(0, str(BASE_PATH / \"ds_helper\"))\n",
    "sys.path.insert(0, str(BASE_PATH))\n",
    "\n",
    "\n",
    "# ASE_PATH = pathlib.Path(os.getcwd()).parent\n",
    "# print(f\"BASE_PATH: {BASE_PATH}\")\n",
    "# if BASE_PATH not in sys.path:\n",
    "#     sys.path.append(str(BASE_PATH))\n",
    "print(f\"sys.path = {sys.path}\")\n",
    "\n",
    "SEED = 41\n",
    "random.seed(SEED)\n",
    "np.random.seed(SEED)\n",
    "\n",
    "%matplotlib inline"
   ]
  },
  {
   "cell_type": "code",
   "execution_count": 3,
   "metadata": {},
   "outputs": [
    {
     "name": "stdout",
     "output_type": "stream",
     "text": [
      "Torch Training Toolkit (t3) by Manish Bhobé. Library to make training Pytorch models easier.\n",
      "Released by Nämostuté Ltd. with MIT Licence (for personal or commercial use).\n",
      "Use at your own risk. Manish Bhobé (or Nämostuté Ltd.) are not liable for any damages from use of this software!\n"
     ]
    }
   ],
   "source": [
    "import torch_training_toolkit as t3\n",
    "\n",
    "print(t3.about())"
   ]
  },
  {
   "cell_type": "code",
   "execution_count": null,
   "metadata": {},
   "outputs": [],
   "source": []
  }
 ],
 "metadata": {
  "kernelspec": {
   "display_name": "py311",
   "language": "python",
   "name": "python3"
  },
  "language_info": {
   "codemirror_mode": {
    "name": "ipython",
    "version": 3
   },
   "file_extension": ".py",
   "mimetype": "text/x-python",
   "name": "python",
   "nbconvert_exporter": "python",
   "pygments_lexer": "ipython3",
   "version": "3.11.0"
  }
 },
 "nbformat": 4,
 "nbformat_minor": 2
}

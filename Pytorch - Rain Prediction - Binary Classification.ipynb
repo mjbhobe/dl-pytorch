{
 "cells": [
  {
   "cell_type": "code",
   "execution_count": 2,
   "metadata": {},
   "outputs": [
    {
     "name": "stdout",
     "output_type": "stream",
     "text": [
      "Using Pytorch 1.7.1+cpu. GPU  is not available :(\n"
     ]
    }
   ],
   "source": [
    "import warnings\n",
    "warnings.filterwarnings('ignore')\n",
    "\n",
    "import os, sys, random\n",
    "import numpy as np\n",
    "import matplotlib.pyplot as plt\n",
    "import seaborn as sns\n",
    "from sklearn.preprocessing import StandardScaler\n",
    "from sklearn.model_selection import train_test_split\n",
    "from sklearn.metrics import classification_report, confusion_matrix, r2_score\n",
    "from sklearn.utils import shuffle\n",
    "\n",
    "# Pytorch imports\n",
    "import torch\n",
    "print(f\"Using Pytorch {torch.__version__}. GPU {' is available :)' if torch.cuda.is_available() else ' is not available :('}\")\n",
    "\n",
    "import torch.nn as nn\n",
    "import torch.nn.functional as F\n",
    "from torch import optim\n",
    "from torchsummary import summary\n",
    "\n",
    "# My helper functions for training/evaluating etc.\n",
    "import pytorch_toolkit as pytk"
   ]
  },
  {
   "cell_type": "code",
   "execution_count": 4,
   "metadata": {},
   "outputs": [],
   "source": [
    "# initialize random number generators\n",
    "seed = 42\n",
    "random.seed(seed)\n",
    "os.environ['PYTHONHASHSEED'] = str(seed)\n",
    "np.random.seed(seed)\n",
    "torch.manual_seed(seed)\n",
    "\n",
    "if torch.cuda.is_available():\n",
    "    torch.cuda.manual_seed(seed)\n",
    "    torch.cuda.manual_seed_all(seed)\n",
    "    torch.backends.cudnn.benchmark = True\n",
    "\n",
    "# tweaks for libraries\n",
    "np.set_printoptions(precision=6, linewidth=1024, suppress=True)\n",
    "plt.style.use('seaborn')\n",
    "sns.set(style='whitegrid', font_scale=1.1, palette='muted')"
   ]
  },
  {
   "cell_type": "code",
   "execution_count": 5,
   "metadata": {},
   "outputs": [
    {
     "name": "stdout",
     "output_type": "stream",
     "text": [
      "Data file: ./csv_files/weatherAUS.csv\n",
      "MODEL_SAVE_PATH: ./model_states/weather_model.pt\n"
     ]
    }
   ],
   "source": [
    "# some globals\n",
    "DATA_FILE = os.path.join('.', 'csv_files', 'weatherAUS.csv')\n",
    "print(f\"Data file: {DATA_FILE}\")\n",
    "MODEL_SAVE_PATH = os.path.join('.', 'model_states', 'weather_model.pt')\n",
    "print(f\"MODEL_SAVE_PATH: {MODEL_SAVE_PATH}\")\n",
    "\n",
    "NUM_EPOCHS = 2500\n",
    "BATCH_SIZE = 1024 * 3\n",
    "LR = 0.001"
   ]
  },
  {
   "cell_type": "markdown",
   "metadata": {},
   "source": [
    "## Load the Data"
   ]
  },
  {
   "cell_type": "code",
   "execution_count": 20,
   "metadata": {},
   "outputs": [],
   "source": [
    "# ---------------------------------------------------------------------------\n",
    "# load data, select fields & apply scaling\n",
    "# ---------------------------------------------------------------------------\n",
    "def get_data(test_split=0.20, shuffle_it=True, balance=True, sampling_strategy=0.85, debug=False):\n",
    "    from imblearn.over_sampling import SMOTE\n",
    "\n",
    "    df = pd.read_csv(DATA_FILE)\n",
    "\n",
    "    if shuffle_it:\n",
    "        df = shuffle(df)\n",
    "\n",
    "    cols = ['Rainfall', 'Humidity3pm',\n",
    "            'Pressure9am', 'RainToday', 'RainTomorrow']\n",
    "    df = df[cols]\n",
    "\n",
    "    # convert categorical cols - RainToday & RainTomorrow to numeric\n",
    "    df['RainToday'].replace({\"No\": 0, \"Yes\": 1}, inplace=True)\n",
    "    df['RainTomorrow'].replace({\"No\": 0, \"Yes\": 1}, inplace=True)\n",
    "\n",
    "    # drop all rows where any cols == Null\n",
    "    df = df.dropna(how='any')\n",
    "    \n",
    "    fig, axs = plt.subplots(1, 2, figsize=(14,4))\n",
    "    \n",
    "    # display plot of target\n",
    "    sns.countplot(df.RainTomorrow, ax=axs[0])\n",
    "    axs[0].set_title(\"Existing counts\")\n",
    "\n",
    "    X = df.drop(['RainTomorrow'], axis=1).values\n",
    "    y = df['RainTomorrow'].values\n",
    "    if debug:\n",
    "        print(f\"{'Before balancing ' if balance else ''} X.shape = {X.shape}, \"\n",
    "              f\"y.shape = {y.shape}, y-count = {np.bincount(y)}\")\n",
    "\n",
    "    if balance:\n",
    "        ros = SMOTE(sampling_strategy=sampling_strategy, random_state=seed)\n",
    "        X, y = ros.fit_resample(X, y)\n",
    "        if debug:\n",
    "            print(f\"Resampled -> X.shape = {X.shape}, y.shape = {y.shape}, \"\n",
    "                  f\"y-count = {np.bincount(y)}\")\n",
    "\n",
    "    # display plot of target\n",
    "    sns.countplot(y, ax=axs[1])\n",
    "    axs[1].set_title(\"After re-balancing\")\n",
    "    plt.suptitle(\"Chance of Rain Tomorrow\")\n",
    "    \n",
    "    for ax in axs.flat:\n",
    "        ax.set(xlabel='Rain Tomorrow', ylabel='Count')\n",
    "        \n",
    "    for ax in fig.get_axes():\n",
    "        ax.label_outer()\n",
    "    \n",
    "    plt.show()\n",
    "\n",
    "    X_train, X_test, y_train, y_test = \\\n",
    "        train_test_split(X, y, test_size=test_split, random_state=seed)\n",
    "    if debug:\n",
    "        print(f\"Split data -> X_train.shape = {X_train.shape}, y_train.shape = {y_train.shape}, \"\n",
    "              f\"X_test.shape = {X_test.shape}, y_test.shape = {y_test.shape}\")\n",
    "\n",
    "    ss = StandardScaler()\n",
    "    X_train = ss.fit_transform(X_train)\n",
    "    X_test = ss.transform(X_test)\n",
    "\n",
    "    X_train = X_train.astype('float32')\n",
    "    X_test = X_test.astype('float32')\n",
    "\n",
    "    # NOTE: BCELoss() expects labels to be floats - why???\n",
    "    y_train = y_train.astype('float32')\n",
    "    y_test = y_test.astype('float32')\n",
    "\n",
    "    y_train = y_train[:, np.newaxis]\n",
    "    y_test = y_test[:, np.newaxis]\n",
    "\n",
    "    return (X_train, y_train), (X_test, y_test)"
   ]
  },
  {
   "cell_type": "code",
   "execution_count": 22,
   "metadata": {},
   "outputs": [
    {
     "data": {
      "image/png": "[encoded data removed]",
      "text/plain": [
       "<Figure size 1008x288 with 2 Axes>"
      ]
     },
     "metadata": {},
     "output_type": "display_data"
    },
    {
     "name": "stdout",
     "output_type": "stream",
     "text": [
      "X_train.shape: (143712, 4) - y_train.shape: (143712, 1) - X_test.shape: (35928, 4) - y_test.shape: (35928, 1)\n"
     ]
    }
   ],
   "source": [
    "(X_train, y_train), (X_test, y_test) = get_data()\n",
    "print(f\"X_train.shape: {X_train.shape} - y_train.shape: {y_train.shape} - X_test.shape: {X_test.shape} - y_test.shape: {y_test.shape}\") "
   ]
  },
  {
   "cell_type": "markdown",
   "metadata": {},
   "source": [
    "## Build the model"
   ]
  },
  {
   "cell_type": "code",
   "execution_count": 26,
   "metadata": {},
   "outputs": [],
   "source": [
    "# our binary classification model\n",
    "class Net(pytk.PytkModule):\n",
    "    def __init__(self, features):\n",
    "        super(Net, self).__init__()\n",
    "        self.fc1 = pytk.Linear(features, 5)\n",
    "        self.fc2 = pytk.Linear(5, 3)\n",
    "        self.out = pytk.Linear(3, 1)\n",
    "\n",
    "    def forward(self, x):\n",
    "        x = F.relu(self.fc1(x))\n",
    "        x = F.relu(self.fc2(x))\n",
    "        x = torch.sigmoid(self.out(x))\n",
    "        return x"
   ]
  },
  {
   "cell_type": "code",
   "execution_count": 27,
   "metadata": {},
   "outputs": [
    {
     "name": "stdout",
     "output_type": "stream",
     "text": [
      "Net(\n",
      "  (fc1): Linear(in_features=4, out_features=5, bias=True)\n",
      "  (fc2): Linear(in_features=5, out_features=3, bias=True)\n",
      "  (out): Linear(in_features=3, out_features=1, bias=True)\n",
      "  (loss_fn): BCELoss()\n",
      ")\n"
     ]
    }
   ],
   "source": [
    "model = Net(X_train.shape[1])\n",
    "criterion = nn.BCELoss()\n",
    "optimizer = optim.Adam(model.parameters(), lr=LR)\n",
    "# optimizer = optim.SGD(model.parameters(), lr=LR)\n",
    "model.compile(loss=criterion, optimizer=optimizer, metrics=['accuracy'])\n",
    "print(model)"
   ]
  },
  {
   "cell_type": "code",
   "execution_count": 28,
   "metadata": {},
   "outputs": [
    {
     "name": "stdout",
     "output_type": "stream",
     "text": [
      "Training on CPU...\n",
      "Training on 114969 samples, cross-validating on 28743 samples\n",
      "NOTE: training progress will be reported after every 50 epochs\n",
      "Epoch (   1/2500): (114969/114969) -> loss: 0.6958 - accuracy: 0.4085 - val_loss: 0.6915 - val_accuracy: 0.4732 - lr: ['0.00100000']\n",
      "Epoch (  50/2500): (114969/114969) -> loss: 0.4870 - accuracy: 0.7637 - val_loss: 0.4879 - val_accuracy: 0.7650 - lr: ['0.00100000']\n",
      "Epoch ( 100/2500): (114969/114969) -> loss: 0.4862 - accuracy: 0.7638 - val_loss: 0.4870 - val_accuracy: 0.7655 - lr: ['0.00100000']\n",
      "Epoch ( 150/2500): (114969/114969) -> loss: 0.4851 - accuracy: 0.7636 - val_loss: 0.4863 - val_accuracy: 0.7658 - lr: ['0.00100000']\n",
      "Epoch ( 200/2500): (114969/114969) -> loss: 0.4840 - accuracy: 0.7647 - val_loss: 0.4854 - val_accuracy: 0.7666 - lr: ['0.00100000']\n",
      "Epoch ( 250/2500): (114969/114969) -> loss: 0.4837 - accuracy: 0.7646 - val_loss: 0.4853 - val_accuracy: 0.7664 - lr: ['0.00100000']\n",
      "Epoch ( 300/2500): (114969/114969) -> loss: 0.4839 - accuracy: 0.7643 - val_loss: 0.4851 - val_accuracy: 0.7669 - lr: ['0.00100000']\n",
      "Epoch ( 350/2500): (114969/114969) -> loss: 0.4835 - accuracy: 0.7644 - val_loss: 0.4851 - val_accuracy: 0.7670 - lr: ['0.00100000']\n",
      "Epoch ( 400/2500): (114969/114969) -> loss: 0.4838 - accuracy: 0.7643 - val_loss: 0.4851 - val_accuracy: 0.7673 - lr: ['0.00100000']\n",
      "Epoch ( 450/2500): (114969/114969) -> loss: 0.4836 - accuracy: 0.7647 - val_loss: 0.4852 - val_accuracy: 0.7667 - lr: ['0.00100000']\n",
      "Epoch ( 500/2500): (114969/114969) -> loss: 0.4838 - accuracy: 0.7640 - val_loss: 0.4851 - val_accuracy: 0.7670 - lr: ['0.00100000']\n",
      "Epoch ( 550/2500): (114969/114969) -> loss: 0.4835 - accuracy: 0.7650 - val_loss: 0.4851 - val_accuracy: 0.7673 - lr: ['0.00100000']\n",
      "Epoch ( 600/2500): (114969/114969) -> loss: 0.4839 - accuracy: 0.7644 - val_loss: 0.4852 - val_accuracy: 0.7674 - lr: ['0.00100000']\n",
      "Epoch ( 650/2500): (114969/114969) -> loss: 0.4835 - accuracy: 0.7648 - val_loss: 0.4850 - val_accuracy: 0.7670 - lr: ['0.00100000']\n",
      "Epoch ( 700/2500): (114969/114969) -> loss: 0.4838 - accuracy: 0.7647 - val_loss: 0.4849 - val_accuracy: 0.7674 - lr: ['0.00100000']\n",
      "Epoch ( 750/2500): (114969/114969) -> loss: 0.4834 - accuracy: 0.7650 - val_loss: 0.4848 - val_accuracy: 0.7671 - lr: ['0.00100000']\n",
      "Epoch ( 800/2500): (114969/114969) -> loss: 0.4835 - accuracy: 0.7648 - val_loss: 0.4849 - val_accuracy: 0.7674 - lr: ['0.00100000']\n",
      "Epoch ( 850/2500): (114969/114969) -> loss: 0.4837 - accuracy: 0.7645 - val_loss: 0.4849 - val_accuracy: 0.7674 - lr: ['0.00100000']\n",
      "Epoch ( 900/2500): (114969/114969) -> loss: 0.4838 - accuracy: 0.7645 - val_loss: 0.4850 - val_accuracy: 0.7671 - lr: ['0.00100000']\n",
      "Epoch ( 950/2500): (114969/114969) -> loss: 0.4833 - accuracy: 0.7649 - val_loss: 0.4848 - val_accuracy: 0.7675 - lr: ['0.00100000']\n",
      "Epoch (1000/2500): (114969/114969) -> loss: 0.4836 - accuracy: 0.7644 - val_loss: 0.4848 - val_accuracy: 0.7673 - lr: ['0.00100000']\n",
      "Epoch (1050/2500): (114969/114969) -> loss: 0.4833 - accuracy: 0.7651 - val_loss: 0.4848 - val_accuracy: 0.7671 - lr: ['0.00100000']\n",
      "Epoch (1100/2500): (114969/114969) -> loss: 0.4833 - accuracy: 0.7649 - val_loss: 0.4848 - val_accuracy: 0.7675 - lr: ['0.00100000']\n",
      "Epoch (1150/2500): (114969/114969) -> loss: 0.4829 - accuracy: 0.7651 - val_loss: 0.4848 - val_accuracy: 0.7673 - lr: ['0.00100000']\n",
      "Epoch (1200/2500): (114969/114969) -> loss: 0.4835 - accuracy: 0.7649 - val_loss: 0.4849 - val_accuracy: 0.7675 - lr: ['0.00100000']\n",
      "Epoch (1250/2500): (114969/114969) -> loss: 0.4832 - accuracy: 0.7651 - val_loss: 0.4848 - val_accuracy: 0.7677 - lr: ['0.00100000']\n",
      "Epoch (1300/2500): (114969/114969) -> loss: 0.4835 - accuracy: 0.7650 - val_loss: 0.4849 - val_accuracy: 0.7676 - lr: ['0.00100000']\n",
      "Epoch (1350/2500): (114969/114969) -> loss: 0.4835 - accuracy: 0.7647 - val_loss: 0.4849 - val_accuracy: 0.7674 - lr: ['0.00100000']\n",
      "Epoch (1400/2500): (114969/114969) -> loss: 0.4833 - accuracy: 0.7648 - val_loss: 0.4848 - val_accuracy: 0.7673 - lr: ['0.00100000']\n",
      "Epoch (1450/2500): (114969/114969) -> loss: 0.4834 - accuracy: 0.7648 - val_loss: 0.4848 - val_accuracy: 0.7675 - lr: ['0.00100000']\n",
      "Epoch (1500/2500): (114969/114969) -> loss: 0.4836 - accuracy: 0.7646 - val_loss: 0.4849 - val_accuracy: 0.7673 - lr: ['0.00100000']\n",
      "Epoch (1550/2500): (114969/114969) -> loss: 0.4836 - accuracy: 0.7648 - val_loss: 0.4849 - val_accuracy: 0.7676 - lr: ['0.00100000']\n",
      "Epoch (1600/2500): (114969/114969) -> loss: 0.4831 - accuracy: 0.7648 - val_loss: 0.4849 - val_accuracy: 0.7675 - lr: ['0.00100000']\n",
      "Epoch (1650/2500): (114969/114969) -> loss: 0.4833 - accuracy: 0.7651 - val_loss: 0.4849 - val_accuracy: 0.7673 - lr: ['0.00100000']\n",
      "Epoch (1700/2500): (114969/114969) -> loss: 0.4835 - accuracy: 0.7647 - val_loss: 0.4849 - val_accuracy: 0.7673 - lr: ['0.00100000']\n",
      "Epoch (1750/2500): (114969/114969) -> loss: 0.4833 - accuracy: 0.7648 - val_loss: 0.4848 - val_accuracy: 0.7673 - lr: ['0.00100000']\n",
      "Epoch (1800/2500): (114969/114969) -> loss: 0.4837 - accuracy: 0.7646 - val_loss: 0.4848 - val_accuracy: 0.7675 - lr: ['0.00100000']\n"
     ]
    },
    {
     "ename": "KeyboardInterrupt",
     "evalue": "",
     "output_type": "error",
     "traceback": [
      "\u001b[0;31m---------------------------------------------------------------------------\u001b[0m",
      "\u001b[0;31mKeyboardInterrupt\u001b[0m                         Traceback (most recent call last)",
      "\u001b[0;32m<ipython-input-28-a58dbfb89a75>\u001b[0m in \u001b[0;36m<module>\u001b[0;34m\u001b[0m\n\u001b[0;32m----> 1\u001b[0;31m hist = model.fit(X_train, y_train, validation_split=0.2, epochs=NUM_EPOCHS, batch_size=BATCH_SIZE,\n\u001b[0m\u001b[1;32m      2\u001b[0m                  report_interval=50, verbose=2)\n",
      "\u001b[0;32m~/code/python/pydata-book-master/git_projects/dl-pytorch/pytorch_toolkit.py\u001b[0m in \u001b[0;36mfit\u001b[0;34m(self, X_train, y_train, loss_fn, optimizer, validation_split, validation_data, lr_scheduler, epochs, batch_size, metrics, shuffle, num_workers, early_stopping, verbose, report_interval)\u001b[0m\n\u001b[1;32m   1271\u001b[0m         \u001b[0mself\u001b[0m\u001b[0;34m.\u001b[0m\u001b[0mloss_fn\u001b[0m \u001b[0;34m=\u001b[0m \u001b[0mloss\u001b[0m\u001b[0;34m\u001b[0m\u001b[0;34m\u001b[0m\u001b[0m\n\u001b[1;32m   1272\u001b[0m         \u001b[0mself\u001b[0m\u001b[0;34m.\u001b[0m\u001b[0moptimizer\u001b[0m \u001b[0;34m=\u001b[0m \u001b[0moptimizer\u001b[0m\u001b[0;34m\u001b[0m\u001b[0;34m\u001b[0m\u001b[0m\n\u001b[0;32m-> 1273\u001b[0;31m         \u001b[0mself\u001b[0m\u001b[0;34m.\u001b[0m\u001b[0mmetrics_list\u001b[0m \u001b[0;34m=\u001b[0m \u001b[0mmetrics\u001b[0m\u001b[0;34m\u001b[0m\u001b[0;34m\u001b[0m\u001b[0m\n\u001b[0m\u001b[1;32m   1274\u001b[0m \u001b[0;34m\u001b[0m\u001b[0m\n\u001b[1;32m   1275\u001b[0m     \u001b[0;32mdef\u001b[0m \u001b[0mforward\u001b[0m\u001b[0;34m(\u001b[0m\u001b[0mself\u001b[0m\u001b[0;34m,\u001b[0m \u001b[0minput\u001b[0m\u001b[0;34m)\u001b[0m\u001b[0;34m:\u001b[0m\u001b[0;34m\u001b[0m\u001b[0;34m\u001b[0m\u001b[0m\n",
      "\u001b[0;32m~/code/python/pydata-book-master/git_projects/dl-pytorch/pytorch_toolkit.py\u001b[0m in \u001b[0;36mfit_dataset\u001b[0;34m(self, train_dataset, loss_fn, optimizer, validation_split, validation_dataset, lr_scheduler, epochs, batch_size, metrics, shuffle, num_workers, early_stopping, verbose, report_interval)\u001b[0m\n\u001b[1;32m   1231\u001b[0m \u001b[0;34m\u001b[0m\u001b[0m\n\u001b[1;32m   1232\u001b[0m \u001b[0;31m# --------------------------------------------------------------------------------------------\u001b[0m\u001b[0;34m\u001b[0m\u001b[0;34m\u001b[0m\u001b[0;34m\u001b[0m\u001b[0m\n\u001b[0;32m-> 1233\u001b[0;31m \u001b[0;31m# Utility classes\u001b[0m\u001b[0;34m\u001b[0m\u001b[0;34m\u001b[0m\u001b[0;34m\u001b[0m\u001b[0m\n\u001b[0m\u001b[1;32m   1234\u001b[0m \u001b[0;31m# --------------------------------------------------------------------------------------------\u001b[0m\u001b[0;34m\u001b[0m\u001b[0;34m\u001b[0m\u001b[0;34m\u001b[0m\u001b[0m\n\u001b[1;32m   1235\u001b[0m \u001b[0;34m\u001b[0m\u001b[0m\n",
      "\u001b[0;32m~/code/python/pydata-book-master/git_projects/dl-pytorch/pytorch_toolkit.py\u001b[0m in \u001b[0;36mtrain_model\u001b[0;34m(model, train_dataset, loss_fn, optimizer, validation_split, validation_dataset, lr_scheduler, epochs, batch_size, metrics, shuffle, num_workers, early_stopping, verbose, report_interval)\u001b[0m\n\u001b[1;32m    668\u001b[0m         \u001b[0mgpu_available\u001b[0m \u001b[0;34m=\u001b[0m \u001b[0mtorch\u001b[0m\u001b[0;34m.\u001b[0m\u001b[0mcuda\u001b[0m\u001b[0;34m.\u001b[0m\u001b[0mis_available\u001b[0m\u001b[0;34m(\u001b[0m\u001b[0;34m)\u001b[0m\u001b[0;34m\u001b[0m\u001b[0;34m\u001b[0m\u001b[0m\n\u001b[1;32m    669\u001b[0m \u001b[0;34m\u001b[0m\u001b[0m\n\u001b[0;32m--> 670\u001b[0;31m         \u001b[0mprint\u001b[0m\u001b[0;34m(\u001b[0m\u001b[0;34m'Training on %s...'\u001b[0m \u001b[0;34m%\u001b[0m \u001b[0;34m(\u001b[0m\u001b[0;34m'GPU'\u001b[0m \u001b[0;32mif\u001b[0m \u001b[0mgpu_available\u001b[0m \u001b[0;32melse\u001b[0m \u001b[0;34m'CPU'\u001b[0m\u001b[0;34m)\u001b[0m\u001b[0;34m)\u001b[0m\u001b[0;34m\u001b[0m\u001b[0;34m\u001b[0m\u001b[0m\n\u001b[0m\u001b[1;32m    671\u001b[0m         \u001b[0mmodel\u001b[0m \u001b[0;34m=\u001b[0m \u001b[0mmodel\u001b[0m\u001b[0;34m.\u001b[0m\u001b[0mcuda\u001b[0m\u001b[0;34m(\u001b[0m\u001b[0;34m)\u001b[0m \u001b[0;32mif\u001b[0m \u001b[0mgpu_available\u001b[0m \u001b[0;32melse\u001b[0m \u001b[0mmodel\u001b[0m\u001b[0;34m.\u001b[0m\u001b[0mcpu\u001b[0m\u001b[0;34m(\u001b[0m\u001b[0;34m)\u001b[0m\u001b[0;34m\u001b[0m\u001b[0;34m\u001b[0m\u001b[0m\n\u001b[1;32m    672\u001b[0m \u001b[0;34m\u001b[0m\u001b[0m\n",
      "\u001b[0;32m~/anaconda3/envs/dlnlp/lib/python3.8/site-packages/torch/utils/data/dataloader.py\u001b[0m in \u001b[0;36m__next__\u001b[0;34m(self)\u001b[0m\n\u001b[1;32m    433\u001b[0m         \u001b[0;32mif\u001b[0m \u001b[0mself\u001b[0m\u001b[0;34m.\u001b[0m\u001b[0m_sampler_iter\u001b[0m \u001b[0;32mis\u001b[0m \u001b[0;32mNone\u001b[0m\u001b[0;34m:\u001b[0m\u001b[0;34m\u001b[0m\u001b[0;34m\u001b[0m\u001b[0m\n\u001b[1;32m    434\u001b[0m             \u001b[0mself\u001b[0m\u001b[0;34m.\u001b[0m\u001b[0m_reset\u001b[0m\u001b[0;34m(\u001b[0m\u001b[0;34m)\u001b[0m\u001b[0;34m\u001b[0m\u001b[0;34m\u001b[0m\u001b[0m\n\u001b[0;32m--> 435\u001b[0;31m         \u001b[0mdata\u001b[0m \u001b[0;34m=\u001b[0m \u001b[0mself\u001b[0m\u001b[0;34m.\u001b[0m\u001b[0m_next_data\u001b[0m\u001b[0;34m(\u001b[0m\u001b[0;34m)\u001b[0m\u001b[0;34m\u001b[0m\u001b[0;34m\u001b[0m\u001b[0m\n\u001b[0m\u001b[1;32m    436\u001b[0m         \u001b[0mself\u001b[0m\u001b[0;34m.\u001b[0m\u001b[0m_num_yielded\u001b[0m \u001b[0;34m+=\u001b[0m \u001b[0;36m1\u001b[0m\u001b[0;34m\u001b[0m\u001b[0;34m\u001b[0m\u001b[0m\n\u001b[1;32m    437\u001b[0m         \u001b[0;32mif\u001b[0m \u001b[0mself\u001b[0m\u001b[0;34m.\u001b[0m\u001b[0m_dataset_kind\u001b[0m \u001b[0;34m==\u001b[0m \u001b[0m_DatasetKind\u001b[0m\u001b[0;34m.\u001b[0m\u001b[0mIterable\u001b[0m \u001b[0;32mand\u001b[0m\u001b[0;31m \u001b[0m\u001b[0;31m\\\u001b[0m\u001b[0;34m\u001b[0m\u001b[0;34m\u001b[0m\u001b[0m\n",
      "\u001b[0;32m~/anaconda3/envs/dlnlp/lib/python3.8/site-packages/torch/utils/data/dataloader.py\u001b[0m in \u001b[0;36m_next_data\u001b[0;34m(self)\u001b[0m\n\u001b[1;32m    473\u001b[0m     \u001b[0;32mdef\u001b[0m \u001b[0m_next_data\u001b[0m\u001b[0;34m(\u001b[0m\u001b[0mself\u001b[0m\u001b[0;34m)\u001b[0m\u001b[0;34m:\u001b[0m\u001b[0;34m\u001b[0m\u001b[0;34m\u001b[0m\u001b[0m\n\u001b[1;32m    474\u001b[0m         \u001b[0mindex\u001b[0m \u001b[0;34m=\u001b[0m \u001b[0mself\u001b[0m\u001b[0;34m.\u001b[0m\u001b[0m_next_index\u001b[0m\u001b[0;34m(\u001b[0m\u001b[0;34m)\u001b[0m  \u001b[0;31m# may raise StopIteration\u001b[0m\u001b[0;34m\u001b[0m\u001b[0;34m\u001b[0m\u001b[0m\n\u001b[0;32m--> 475\u001b[0;31m         \u001b[0mdata\u001b[0m \u001b[0;34m=\u001b[0m \u001b[0mself\u001b[0m\u001b[0;34m.\u001b[0m\u001b[0m_dataset_fetcher\u001b[0m\u001b[0;34m.\u001b[0m\u001b[0mfetch\u001b[0m\u001b[0;34m(\u001b[0m\u001b[0mindex\u001b[0m\u001b[0;34m)\u001b[0m  \u001b[0;31m# may raise StopIteration\u001b[0m\u001b[0;34m\u001b[0m\u001b[0;34m\u001b[0m\u001b[0m\n\u001b[0m\u001b[1;32m    476\u001b[0m         \u001b[0;32mif\u001b[0m \u001b[0mself\u001b[0m\u001b[0;34m.\u001b[0m\u001b[0m_pin_memory\u001b[0m\u001b[0;34m:\u001b[0m\u001b[0;34m\u001b[0m\u001b[0;34m\u001b[0m\u001b[0m\n\u001b[1;32m    477\u001b[0m             \u001b[0mdata\u001b[0m \u001b[0;34m=\u001b[0m \u001b[0m_utils\u001b[0m\u001b[0;34m.\u001b[0m\u001b[0mpin_memory\u001b[0m\u001b[0;34m.\u001b[0m\u001b[0mpin_memory\u001b[0m\u001b[0;34m(\u001b[0m\u001b[0mdata\u001b[0m\u001b[0;34m)\u001b[0m\u001b[0;34m\u001b[0m\u001b[0;34m\u001b[0m\u001b[0m\n",
      "\u001b[0;32m~/anaconda3/envs/dlnlp/lib/python3.8/site-packages/torch/utils/data/_utils/fetch.py\u001b[0m in \u001b[0;36mfetch\u001b[0;34m(self, possibly_batched_index)\u001b[0m\n\u001b[1;32m     42\u001b[0m     \u001b[0;32mdef\u001b[0m \u001b[0mfetch\u001b[0m\u001b[0;34m(\u001b[0m\u001b[0mself\u001b[0m\u001b[0;34m,\u001b[0m \u001b[0mpossibly_batched_index\u001b[0m\u001b[0;34m)\u001b[0m\u001b[0;34m:\u001b[0m\u001b[0;34m\u001b[0m\u001b[0;34m\u001b[0m\u001b[0m\n\u001b[1;32m     43\u001b[0m         \u001b[0;32mif\u001b[0m \u001b[0mself\u001b[0m\u001b[0;34m.\u001b[0m\u001b[0mauto_collation\u001b[0m\u001b[0;34m:\u001b[0m\u001b[0;34m\u001b[0m\u001b[0;34m\u001b[0m\u001b[0m\n\u001b[0;32m---> 44\u001b[0;31m             \u001b[0mdata\u001b[0m \u001b[0;34m=\u001b[0m \u001b[0;34m[\u001b[0m\u001b[0mself\u001b[0m\u001b[0;34m.\u001b[0m\u001b[0mdataset\u001b[0m\u001b[0;34m[\u001b[0m\u001b[0midx\u001b[0m\u001b[0;34m]\u001b[0m \u001b[0;32mfor\u001b[0m \u001b[0midx\u001b[0m \u001b[0;32min\u001b[0m \u001b[0mpossibly_batched_index\u001b[0m\u001b[0;34m]\u001b[0m\u001b[0;34m\u001b[0m\u001b[0;34m\u001b[0m\u001b[0m\n\u001b[0m\u001b[1;32m     45\u001b[0m         \u001b[0;32melse\u001b[0m\u001b[0;34m:\u001b[0m\u001b[0;34m\u001b[0m\u001b[0;34m\u001b[0m\u001b[0m\n\u001b[1;32m     46\u001b[0m             \u001b[0mdata\u001b[0m \u001b[0;34m=\u001b[0m \u001b[0mself\u001b[0m\u001b[0;34m.\u001b[0m\u001b[0mdataset\u001b[0m\u001b[0;34m[\u001b[0m\u001b[0mpossibly_batched_index\u001b[0m\u001b[0;34m]\u001b[0m\u001b[0;34m\u001b[0m\u001b[0;34m\u001b[0m\u001b[0m\n",
      "\u001b[0;32m~/anaconda3/envs/dlnlp/lib/python3.8/site-packages/torch/utils/data/_utils/fetch.py\u001b[0m in \u001b[0;36m<listcomp>\u001b[0;34m(.0)\u001b[0m\n\u001b[1;32m     42\u001b[0m     \u001b[0;32mdef\u001b[0m \u001b[0mfetch\u001b[0m\u001b[0;34m(\u001b[0m\u001b[0mself\u001b[0m\u001b[0;34m,\u001b[0m \u001b[0mpossibly_batched_index\u001b[0m\u001b[0;34m)\u001b[0m\u001b[0;34m:\u001b[0m\u001b[0;34m\u001b[0m\u001b[0;34m\u001b[0m\u001b[0m\n\u001b[1;32m     43\u001b[0m         \u001b[0;32mif\u001b[0m \u001b[0mself\u001b[0m\u001b[0;34m.\u001b[0m\u001b[0mauto_collation\u001b[0m\u001b[0;34m:\u001b[0m\u001b[0;34m\u001b[0m\u001b[0;34m\u001b[0m\u001b[0m\n\u001b[0;32m---> 44\u001b[0;31m             \u001b[0mdata\u001b[0m \u001b[0;34m=\u001b[0m \u001b[0;34m[\u001b[0m\u001b[0mself\u001b[0m\u001b[0;34m.\u001b[0m\u001b[0mdataset\u001b[0m\u001b[0;34m[\u001b[0m\u001b[0midx\u001b[0m\u001b[0;34m]\u001b[0m \u001b[0;32mfor\u001b[0m \u001b[0midx\u001b[0m \u001b[0;32min\u001b[0m \u001b[0mpossibly_batched_index\u001b[0m\u001b[0;34m]\u001b[0m\u001b[0;34m\u001b[0m\u001b[0;34m\u001b[0m\u001b[0m\n\u001b[0m\u001b[1;32m     45\u001b[0m         \u001b[0;32melse\u001b[0m\u001b[0;34m:\u001b[0m\u001b[0;34m\u001b[0m\u001b[0;34m\u001b[0m\u001b[0m\n\u001b[1;32m     46\u001b[0m             \u001b[0mdata\u001b[0m \u001b[0;34m=\u001b[0m \u001b[0mself\u001b[0m\u001b[0;34m.\u001b[0m\u001b[0mdataset\u001b[0m\u001b[0;34m[\u001b[0m\u001b[0mpossibly_batched_index\u001b[0m\u001b[0;34m]\u001b[0m\u001b[0;34m\u001b[0m\u001b[0;34m\u001b[0m\u001b[0m\n",
      "\u001b[0;32m~/anaconda3/envs/dlnlp/lib/python3.8/site-packages/torch/utils/data/dataset.py\u001b[0m in \u001b[0;36m__getitem__\u001b[0;34m(self, idx)\u001b[0m\n\u001b[1;32m    270\u001b[0m \u001b[0;34m\u001b[0m\u001b[0m\n\u001b[1;32m    271\u001b[0m     \u001b[0;32mdef\u001b[0m \u001b[0m__getitem__\u001b[0m\u001b[0;34m(\u001b[0m\u001b[0mself\u001b[0m\u001b[0;34m,\u001b[0m \u001b[0midx\u001b[0m\u001b[0;34m)\u001b[0m\u001b[0;34m:\u001b[0m\u001b[0;34m\u001b[0m\u001b[0;34m\u001b[0m\u001b[0m\n\u001b[0;32m--> 272\u001b[0;31m         \u001b[0;32mreturn\u001b[0m \u001b[0mself\u001b[0m\u001b[0;34m.\u001b[0m\u001b[0mdataset\u001b[0m\u001b[0;34m[\u001b[0m\u001b[0mself\u001b[0m\u001b[0;34m.\u001b[0m\u001b[0mindices\u001b[0m\u001b[0;34m[\u001b[0m\u001b[0midx\u001b[0m\u001b[0;34m]\u001b[0m\u001b[0;34m]\u001b[0m\u001b[0;34m\u001b[0m\u001b[0;34m\u001b[0m\u001b[0m\n\u001b[0m\u001b[1;32m    273\u001b[0m \u001b[0;34m\u001b[0m\u001b[0m\n\u001b[1;32m    274\u001b[0m     \u001b[0;32mdef\u001b[0m \u001b[0m__len__\u001b[0m\u001b[0;34m(\u001b[0m\u001b[0mself\u001b[0m\u001b[0;34m)\u001b[0m\u001b[0;34m:\u001b[0m\u001b[0;34m\u001b[0m\u001b[0;34m\u001b[0m\u001b[0m\n",
      "\u001b[0;32m~/anaconda3/envs/dlnlp/lib/python3.8/site-packages/torch/utils/data/dataset.py\u001b[0m in \u001b[0;36m__getitem__\u001b[0;34m(self, index)\u001b[0m\n\u001b[1;32m    167\u001b[0m         \u001b[0mself\u001b[0m\u001b[0;34m.\u001b[0m\u001b[0mtensors\u001b[0m \u001b[0;34m=\u001b[0m \u001b[0mtensors\u001b[0m\u001b[0;34m\u001b[0m\u001b[0;34m\u001b[0m\u001b[0m\n\u001b[1;32m    168\u001b[0m \u001b[0;34m\u001b[0m\u001b[0m\n\u001b[0;32m--> 169\u001b[0;31m     \u001b[0;32mdef\u001b[0m \u001b[0m__getitem__\u001b[0m\u001b[0;34m(\u001b[0m\u001b[0mself\u001b[0m\u001b[0;34m,\u001b[0m \u001b[0mindex\u001b[0m\u001b[0;34m)\u001b[0m\u001b[0;34m:\u001b[0m\u001b[0;34m\u001b[0m\u001b[0;34m\u001b[0m\u001b[0m\n\u001b[0m\u001b[1;32m    170\u001b[0m         \u001b[0;32mreturn\u001b[0m \u001b[0mtuple\u001b[0m\u001b[0;34m(\u001b[0m\u001b[0mtensor\u001b[0m\u001b[0;34m[\u001b[0m\u001b[0mindex\u001b[0m\u001b[0;34m]\u001b[0m \u001b[0;32mfor\u001b[0m \u001b[0mtensor\u001b[0m \u001b[0;32min\u001b[0m \u001b[0mself\u001b[0m\u001b[0;34m.\u001b[0m\u001b[0mtensors\u001b[0m\u001b[0;34m)\u001b[0m\u001b[0;34m\u001b[0m\u001b[0;34m\u001b[0m\u001b[0m\n\u001b[1;32m    171\u001b[0m \u001b[0;34m\u001b[0m\u001b[0m\n",
      "\u001b[0;31mKeyboardInterrupt\u001b[0m: "
     ]
    }
   ],
   "source": [
    "hist = model.fit(X_train, y_train, validation_split=0.2, epochs=NUM_EPOCHS, batch_size=BATCH_SIZE,\n",
    "                 report_interval=50, verbose=2)"
   ]
  },
  {
   "cell_type": "code",
   "execution_count": 29,
   "metadata": {},
   "outputs": [
    {
     "ename": "NameError",
     "evalue": "name 'hist' is not defined",
     "output_type": "error",
     "traceback": [
      "\u001b[0;31m---------------------------------------------------------------------------\u001b[0m",
      "\u001b[0;31mNameError\u001b[0m                                 Traceback (most recent call last)",
      "\u001b[0;32m<ipython-input-29-50adf46fb3c3>\u001b[0m in \u001b[0;36m<module>\u001b[0;34m\u001b[0m\n\u001b[1;32m      1\u001b[0m \u001b[0;31m# display plots of loss & metric(s) used across epochs\u001b[0m\u001b[0;34m\u001b[0m\u001b[0;34m\u001b[0m\u001b[0;34m\u001b[0m\u001b[0m\n\u001b[0;32m----> 2\u001b[0;31m \u001b[0mpytk\u001b[0m\u001b[0;34m.\u001b[0m\u001b[0mshow_plots\u001b[0m\u001b[0;34m(\u001b[0m\u001b[0mhist\u001b[0m\u001b[0;34m)\u001b[0m\u001b[0;34m\u001b[0m\u001b[0;34m\u001b[0m\u001b[0m\n\u001b[0m",
      "\u001b[0;31mNameError\u001b[0m: name 'hist' is not defined"
     ]
    }
   ],
   "source": [
    "# display plots of loss & metric(s) used across epochs\n",
    "pytk.show_plots(hist)"
   ]
  },
  {
   "cell_type": "code",
   "execution_count": null,
   "metadata": {},
   "outputs": [],
   "source": []
  }
 ],
 "metadata": {
  "kernelspec": {
   "display_name": "Python 3",
   "language": "python",
   "name": "python3"
  },
  "language_info": {
   "codemirror_mode": {
    "name": "ipython",
    "version": 3
   },
   "file_extension": ".py",
   "mimetype": "text/x-python",
   "name": "python",
   "nbconvert_exporter": "python",
   "pygments_lexer": "ipython3",
   "version": "3.8.5"
  }
 },
 "nbformat": 4,
 "nbformat_minor": 4
}

{
 "cells": [
  {
   "cell_type": "code",
   "execution_count": 2,
   "metadata": {},
   "outputs": [
    {
     "name": "stdout",
     "output_type": "stream",
     "text": [
      "Using Pytorch version 1.10.2. GPU IS **NOT** available\n"
     ]
    }
   ],
   "source": [
    "import warnings\n",
    "warnings.filterwarnings('ignore')\n",
    "\n",
    "import sys, os, random\n",
    "import numpy as np\n",
    "import matplotlib.pyplot as plt\n",
    "import seaborn as sns\n",
    "import glob\n",
    "from PIL import Image\n",
    "import cv2\n",
    "%matplotlib inline\n",
    "\n",
    "# tweaks for libraries\n",
    "np.set_printoptions(precision=4, linewidth=1024, suppress=True)\n",
    "plt.style.use('seaborn')\n",
    "sns.set_style('darkgrid')\n",
    "sns.set(context='notebook',font_scale=1.10)\n",
    "\n",
    "# Pytorch imports\n",
    "import torch\n",
    "gpu_available = torch.cuda.is_available()\n",
    "print('Using Pytorch version %s. GPU %s available' % (torch.__version__, \"IS\" if gpu_available else \"IS **NOT**\"))\n",
    "import torch.nn as nn\n",
    "import torch.nn.functional as F\n",
    "from torch.utils.data import Dataset\n",
    "from torchvision import datasets, transforms\n",
    "from torch import optim\n",
    "from torchsummary import summary\n",
    "\n",
    "# import the Pytorch Toolkit here....\n",
    "import pytorch_toolkit as pytk\n",
    "\n",
    "# to ensure that you get consistent results across various machines\n",
    "# @see: https://discuss.pytorch.org/t/reproducibility-over-different-machines/63047\n",
    "seed = 42\n",
    "random.seed(seed)\n",
    "os.environ['PYTHONHASHSEED'] = str(seed)\n",
    "np.random.seed(seed)\n",
    "torch.manual_seed(seed)\n",
    "if torch.cuda.is_available():\n",
    "    torch.cuda.manual_seed(seed)\n",
    "    torch.cuda.manual_seed_all(seed)\n",
    "    torch.backends.cudnn.deterministic = True\n",
    "    torch.backends.cudnn.benchmark = False\n",
    "    torch.backends.cudnn.enabled = True"
   ]
  },
  {
   "cell_type": "code",
   "execution_count": 3,
   "metadata": {},
   "outputs": [],
   "source": [
    "# download an image\n",
    "!wget https://www.dropbox.com/s/l98leemr7r5stnm/Hemanvi.jpeg -o ./images/Hemanvi.jpeg "
   ]
  },
  {
   "cell_type": "code",
   "execution_count": 4,
   "metadata": {},
   "outputs": [
    {
     "ename": "TypeError",
     "evalue": "'NoneType' object is not subscriptable",
     "output_type": "error",
     "traceback": [
      "\u001b[0;31m---------------------------------------------------------------------------\u001b[0m",
      "\u001b[0;31mTypeError\u001b[0m                                 Traceback (most recent call last)",
      "Input \u001b[0;32mIn [4]\u001b[0m, in \u001b[0;36m<cell line: 2>\u001b[0;34m()\u001b[0m\n\u001b[1;32m      1\u001b[0m img \u001b[38;5;241m=\u001b[39m cv2\u001b[38;5;241m.\u001b[39mimread(\u001b[38;5;124m'\u001b[39m\u001b[38;5;124m./images/Hemanvi.jpeg\u001b[39m\u001b[38;5;124m'\u001b[39m)\n\u001b[0;32m----> 2\u001b[0m img2 \u001b[38;5;241m=\u001b[39m \u001b[43mimg\u001b[49m\u001b[43m[\u001b[49m\u001b[38;5;241;43m50\u001b[39;49m\u001b[43m:\u001b[49m\u001b[38;5;241;43m250\u001b[39;49m\u001b[43m,\u001b[49m\u001b[43m \u001b[49m\u001b[38;5;241;43m40\u001b[39;49m\u001b[43m:\u001b[49m\u001b[38;5;241;43m240\u001b[39;49m\u001b[43m]\u001b[49m\n\u001b[1;32m      3\u001b[0m \u001b[38;5;66;03m# show original image\u001b[39;00m\n\u001b[1;32m      4\u001b[0m img_color \u001b[38;5;241m=\u001b[39m cv2\u001b[38;5;241m.\u001b[39mcvtColor(img2, cv2\u001b[38;5;241m.\u001b[39mCOLOR_BGR2RGB)\n",
      "\u001b[0;31mTypeError\u001b[0m: 'NoneType' object is not subscriptable"
     ]
    }
   ],
   "source": [
    "img = cv2.imread('./images/Hemanvi.jpeg')\n",
    "img2 = img[50:250, 40:240]\n",
    "# show original image\n",
    "img_color = cv2.cvtColor(img2, cv2.COLOR_BGR2RGB)\n",
    "plt.imshow(img_color);\n",
    "plt.show()"
   ]
  },
  {
   "cell_type": "code",
   "execution_count": null,
   "metadata": {},
   "outputs": [],
   "source": [
    "img_gray = cv2.cvtColor(img2, cv2.COLOR_BGR2GRAY)\n",
    "plt.imshow(img_gray, cmap='gray');\n",
    "# plt.axis(\"off\")\n",
    "# plt.grid(False)\n",
    "plt.show()"
   ]
  },
  {
   "cell_type": "code",
   "execution_count": null,
   "metadata": {},
   "outputs": [],
   "source": [
    "img_gray_small = cv2.resize(img_gray, (32,32))\n",
    "plt.imshow(img_gray_small, cmap='gray');"
   ]
  },
  {
   "cell_type": "code",
   "execution_count": null,
   "metadata": {},
   "outputs": [],
   "source": [
    "data_dir = './data'\n",
    "# download the training & test Fashion MNIST datasets into ./data folder\n",
    "xforms = transforms.Compose([transforms.ToTensor(),])\n",
    "train_dataset = datasets.FashionMNIST(data_dir, download=True, train=True, transform=xforms)\n",
    "test_dataset = datasets.FashionMNIST(data_dir, download=True, train=False, transform=xforms)\n",
    "print(f\"Downloaded {len(train_dataset)} training records and {len(test_dataset)} testing records\")"
   ]
  },
  {
   "cell_type": "code",
   "execution_count": null,
   "metadata": {},
   "outputs": [],
   "source": [
    "# define our class\n",
    "from torch.optim import SGD\n",
    "\n",
    "net = nn.Sequential(\n",
    "    nn.Flatten(),\n",
    "    nn.Linear(28*28, 1000),\n",
    "    nn.ReLU(),\n",
    "    nn.Linear(1000, 10)\n",
    ")\n",
    "model = pytk.PytkModuleWrapper(net)\n",
    "optimizer = SGD(model.parameters(), lr=0.001)\n",
    "loss_fn = nn.CrossEntropyLoss()\n",
    "model.compile(loss=loss_fn, optimizer=optimizer, metrics=['accuracy'])\n",
    "print(model.summary((1, 28, 28)))"
   ]
  },
  {
   "cell_type": "code",
   "execution_count": null,
   "metadata": {},
   "outputs": [],
   "source": [
    "hist = model.fit_dataset(train_dataset, validation_split=0.20, epochs=10, batch_size=32)"
   ]
  },
  {
   "cell_type": "code",
   "execution_count": null,
   "metadata": {},
   "outputs": [],
   "source": [
    "pytk.show_plots(hist, metric='accuracy', plot_title='Model Performance')"
   ]
  },
  {
   "cell_type": "code",
   "execution_count": null,
   "metadata": {},
   "outputs": [],
   "source": [
    "del model\n",
    "model = pytk.PytkModuleWrapper(net)\n",
    "optimizer = SGD(model.parameters(), lr=0.001)\n",
    "loss_fn = nn.CrossEntropyLoss()\n",
    "model.compile(loss=loss_fn, optimizer=optimizer, metrics=['accuracy'])\n",
    "print(model.summary((1, 28, 28)))"
   ]
  },
  {
   "cell_type": "code",
   "execution_count": null,
   "metadata": {},
   "outputs": [],
   "source": [
    "hist = model.fit_dataset(train_dataset, validation_split=0.20, epochs=10, batch_size=10000)"
   ]
  },
  {
   "cell_type": "code",
   "execution_count": null,
   "metadata": {},
   "outputs": [],
   "source": [
    "pytk.show_plots(hist, metric='accuracy', plot_title='Model Performance')"
   ]
  },
  {
   "cell_type": "code",
   "execution_count": null,
   "metadata": {},
   "outputs": [],
   "source": []
  }
 ],
 "metadata": {
  "interpreter": {
   "hash": "3b852a655f0ec8f0ad7398e54d25c368bd088b28a7f21e5ecdef8590f9c3ea22"
  },
  "kernelspec": {
   "display_name": "Python 3 (ipykernel)",
   "language": "python",
   "name": "python3"
  },
  "language_info": {
   "codemirror_mode": {
    "name": "ipython",
    "version": 3
   },
   "file_extension": ".py",
   "mimetype": "text/x-python",
   "name": "python",
   "nbconvert_exporter": "python",
   "pygments_lexer": "ipython3",
   "version": "3.9.11"
  }
 },
 "nbformat": 4,
 "nbformat_minor": 2
}

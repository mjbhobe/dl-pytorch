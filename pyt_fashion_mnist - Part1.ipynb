{
  "cells": [
    {
      "cell_type": "markdown",
      "metadata": {
        "id": "3LxM6PKUKhXh"
      },
      "source": [
        "# Multiclass Classification of Fashion-MNIST dataset with Pytorch\n",
        "## Part-1: Training base model"
      ]
    },
    {
      "cell_type": "code",
      "execution_count": 1,
      "metadata": {
        "colab": {
          "base_uri": "https://localhost:8080/"
        },
        "id": "f9KdZqbBdLfT",
        "outputId": "92c0523c-2019-42f4-feba-8e2ef5472b14"
      },
      "outputs": [
        {
          "name": "stdout",
          "output_type": "stream",
          "text": [
            "\u001b[?25l     \u001b[90m━━━━━━━━━━━━━━━━━━━━━━━━━━━━━━━━━━━━━━━━\u001b[0m \u001b[32m0.0/517.2 KB\u001b[0m \u001b[31m?\u001b[0m eta \u001b[36m-:--:--\u001b[0m\r\u001b[2K     \u001b[91m━━━━━━━━━━━━━━━━━━━━━━━━━━━━━━━━━━━━━\u001b[0m\u001b[91m╸\u001b[0m \u001b[32m512.0/517.2 KB\u001b[0m \u001b[31m17.4 MB/s\u001b[0m eta \u001b[36m0:00:01\u001b[0m\r\u001b[2K     \u001b[90m━━━━━━━━━━━━━━━━━━━━━━━━━━━━━━━━━━━━━━\u001b[0m \u001b[32m517.2/517.2 KB\u001b[0m \u001b[31m13.5 MB/s\u001b[0m eta \u001b[36m0:00:00\u001b[0m\n",
            "\u001b[?25h"
          ]
        }
      ],
      "source": [
        "# torchmetrics is not available by default - install it\n",
        "!pip install torchmetrics --quiet"
      ]
    },
    {
      "cell_type": "code",
      "execution_count": 2,
      "metadata": {
        "colab": {
          "base_uri": "https://localhost:8080/"
        },
        "id": "wQO4YGZiCzEP",
        "outputId": "fa6f8f7a-6b2b-4e06-ea35-91b68d8d743f"
      },
      "outputs": [
        {
          "name": "stdout",
          "output_type": "stream",
          "text": [
            "Mounted at /content/drive/\n",
            "sys.path: ['/content/drive/My Drive/ColabNotebooks/Pytorch', '/content', '/env/python', '/usr/lib/python38.zip', '/usr/lib/python3.8', '/usr/lib/python3.8/lib-dynload', '', '/usr/local/lib/python3.8/dist-packages', '/usr/lib/python3/dist-packages', '/usr/local/lib/python3.8/dist-packages/IPython/extensions', '/root/.ipython']\n",
            "Model states will be saved to /content/drive/My Drive/ColabNotebooks/Pytorch/model_states\n"
          ]
        }
      ],
      "source": [
        "# set this flag to True when you run this Notebook on Google Collaboratory\n",
        "USE_COLAB = True\n",
        "\n",
        "import os\n",
        "import sys\n",
        "\n",
        "#@see: https://colab.research.google.com/drive/1srw_HFWQ2SMgmWIawucXfusGzrj1_U0q\n",
        "if USE_COLAB:\n",
        "    # Load the Drive helper and mount\n",
        "    from google.colab import drive\n",
        "\n",
        "    # This will prompt for authorization.\n",
        "    gdrive_mount_point = '/content/drive/'\n",
        "    drive.mount(gdrive_mount_point)\n",
        "    # now add correct module folder to sys.path\n",
        "    PYTORCH_NOTEBOOKS_PATH = \"/content/drive/My Drive/ColabNotebooks/Pytorch\"\n",
        "    assert os.path.exists(PYTORCH_NOTEBOOKS_PATH), f\"FATAL: {PYTORCH_NOTEBOOKS_PATH} does not exist!\"\n",
        "    sys.path.insert(0, PYTORCH_NOTEBOOKS_PATH)\n",
        "    print(f\"sys.path: {sys.path}\", flush=True)\n",
        "    assert os.path.exists(os.path.join(PYTORCH_NOTEBOOKS_PATH, \"torch_training_toolkit.py\")), \\\n",
        "        f\"FATAL ERROR: torch_training_toolkit not found!\"\n",
        "    MODEL_SAVE_DIR = os.path.join(PYTORCH_NOTEBOOKS_PATH, \"model_states\")\n",
        "else:\n",
        "    MODEL_SAVE_DIR = os.path.join('.','model_states')\n",
        "\n",
        "print(f\"Model states will be saved to {MODEL_SAVE_DIR}\")\n",
        "    \n",
        "if not os.path.exists(MODEL_SAVE_DIR):\n",
        "    os.mkdir(MODEL_SAVE_DIR)\n",
        "\n",
        "\n",
        "import torch_training_toolkit as t3"
      ]
    },
    {
      "cell_type": "markdown",
      "metadata": {
        "id": "0W4R-gsSKK_f"
      },
      "source": [
        "## Standard Imports"
      ]
    },
    {
      "cell_type": "code",
      "execution_count": 3,
      "metadata": {
        "colab": {
          "base_uri": "https://localhost:8080/"
        },
        "id": "MhOlv7y_-aHJ",
        "outputId": "317cf722-d9b0-46b8-a1d3-33f2807bdbe7"
      },
      "outputs": [
        {
          "name": "stdout",
          "output_type": "stream",
          "text": [
            "Using Pytorch version 1.13.1+cu116. GPU is available :)\n"
          ]
        }
      ],
      "source": [
        "import warnings\n",
        "warnings.filterwarnings('ignore')\n",
        "\n",
        "import sys, os, random\n",
        "import numpy as np\n",
        "import matplotlib.pyplot as plt\n",
        "import seaborn as sns\n",
        "\n",
        "# tweaks for libraries\n",
        "np.set_printoptions(precision=6, linewidth=1024, suppress=True)\n",
        "plt.style.use('seaborn')\n",
        "sns.set(style='darkgrid', context='notebook', font_scale=1.2)\n",
        "\n",
        "# Pytorch imports\n",
        "import torch\n",
        "print(f'Using Pytorch version {torch.__version__}. ' + \n",
        "      f'GPU {\"is available :)\" if torch.cuda.is_available() else \"is not available :(\"}')\n",
        "import torch.nn as nn\n",
        "from torchvision import datasets, transforms\n",
        "import torchmetrics\n",
        "import torchsummary\n",
        "# My helper functions for training/evaluating etc.\n",
        "import torch_training_toolkit as t3\n",
        "\n",
        "SEED = t3.seed_all()\n",
        "DEVICE = torch.device(\"cuda\" if torch.cuda.is_available() else \"cpu\")"
      ]
    },
    {
      "cell_type": "markdown",
      "metadata": {
        "id": "eEf7149YKOxd"
      },
      "source": [
        "## Helper Functions"
      ]
    },
    {
      "cell_type": "code",
      "execution_count": 4,
      "metadata": {
        "id": "O484Lf1S9W-A"
      },
      "outputs": [],
      "source": [
        "def load_data():\n",
        "    \"\"\"\n",
        "    load the data using datasets API. We also split the test_dataset into \n",
        "    cross-val/test datasets using 80:20 ration\n",
        "    \"\"\"\n",
        "    mean, std = 0.5, 0.5\n",
        "    transformations = transforms.Compose([\n",
        "        transforms.ToTensor(),\n",
        "        transforms.Normalize(mean, std)\n",
        "    ])\n",
        "\n",
        "    train_dataset =  datasets.FashionMNIST(root='./data', train=True, download=True,\n",
        "                                   transform=transformations)\n",
        "\n",
        "    print(\"No of training records: %d\" % len(train_dataset))\n",
        "\n",
        "    test_dataset = datasets.FashionMNIST('./data', train=False, download=True,\n",
        "                                  transform=transformations)\n",
        "    print(\"No of test records: %d\" % len(test_dataset))\n",
        "\n",
        "    # lets split the test dataset into val_dataset & test_dataset -> 8000:2000 records\n",
        "    val_dataset, test_dataset = torch.utils.data.random_split(test_dataset, [8000, 2000])\n",
        "    print(\"No of cross-val records: %d\" % len(val_dataset))\n",
        "    print(\"No of test records: %d\" % len(test_dataset))\n",
        "\n",
        "    return train_dataset, val_dataset, test_dataset"
      ]
    },
    {
      "cell_type": "code",
      "execution_count": 5,
      "metadata": {
        "id": "MqnO7KUwIkBI"
      },
      "outputs": [],
      "source": [
        "def display_sample(sample_images, sample_labels, grid_shape=(10, 10), plot_title=None,\n",
        "                   sample_predictions=None):\n",
        "    # just in case these are not imported!\n",
        "    import matplotlib.pyplot as plt\n",
        "    import seaborn as sns\n",
        "    plt.style.use('seaborn')\n",
        "\n",
        "    num_rows, num_cols = grid_shape\n",
        "    assert sample_images.shape[0] == num_rows * num_cols\n",
        "\n",
        "    # a dict to help encode/decode the labels\n",
        "    FASHION_LABELS = {\n",
        "        0: 'T-shirt/top',\n",
        "        1: 'Trouser',\n",
        "        2: 'Pullover',\n",
        "        3: 'Dress',\n",
        "        4: 'Coat',\n",
        "        5: 'Sandal',\n",
        "        6: 'Shirt',\n",
        "        7: 'Sneaker',\n",
        "        8: 'Bag',\n",
        "        9: 'Ankle boot',\n",
        "    }\n",
        "\n",
        "    with sns.axes_style(\"whitegrid\"):\n",
        "        sns.set_context(\"notebook\", font_scale=1.10)\n",
        "        sns.set_style({\"font.sans-serif\": [\"Verdana\", \"Arial\", \"Calibri\", \"DejaVu Sans\"]})\n",
        "\n",
        "        f, ax = plt.subplots(num_rows, num_cols, figsize=(14, 10),\n",
        "            gridspec_kw={\"wspace\": 0.05, \"hspace\": 0.35}, squeeze=True)  # 0.03, 0.25\n",
        "        #fig = ax[0].get_figure()\n",
        "        f.tight_layout()\n",
        "        f.subplots_adjust(top=0.90) # 0.93\n",
        "\n",
        "        for r in range(num_rows):\n",
        "            for c in range(num_cols):\n",
        "                image_index = r * num_cols + c\n",
        "                ax[r, c].axis(\"off\")\n",
        "                # show selected image\n",
        "                ax[r, c].imshow(sample_images[image_index].squeeze(), cmap=\"Greys\", interpolation='nearest')\n",
        "\n",
        "                if sample_predictions is None:\n",
        "                    # but show the prediction in the title\n",
        "                    title = ax[r, c].set_title(f\"{FASHION_LABELS[sample_labels[image_index]]}\")\n",
        "                else:\n",
        "                    pred_matches_actual = (\n",
        "                                sample_labels[image_index] == sample_predictions[image_index])\n",
        "                    if pred_matches_actual:\n",
        "                        # show title from prediction or actual in green font\n",
        "                        title = '%s' % FASHION_LABELS[sample_predictions[image_index]]\n",
        "                        title_color = 'g'\n",
        "                    else:\n",
        "                        # show title as actual/prediction in red font\n",
        "                        title = '%s/%s' % (FASHION_LABELS[sample_labels[image_index]],\n",
        "                                           FASHION_LABELS[sample_predictions[image_index]])\n",
        "                        title_color = 'r'\n",
        "\n",
        "                    # but show the prediction in the title\n",
        "                    title = ax[r, c].set_title(title)\n",
        "                    # if prediction is incorrect title color is red, else green\n",
        "                    plt.setp(title, color=title_color)\n",
        "\n",
        "        if plot_title is not None:\n",
        "            plt.suptitle(plot_title)\n",
        "        plt.show()\n",
        "        plt.close()"
      ]
    },
    {
      "cell_type": "code",
      "execution_count": 6,
      "metadata": {
        "colab": {
          "base_uri": "https://localhost:8080/",
          "height": 492,
          "referenced_widgets": [
            "9edae1b8c827439d91e595553e7fa13a",
            "e62a06ee4e754de5948abb56dd16d583",
            "2e49fa82bdb844c0bdc6db78d4006b0b",
            "e12ffd5d562b42ee805b0884c05c6005",
            "3f9291e1d4e443cda11d7fb77f8fde78",
            "c1fe5fe2a2774c6ba1ae3639387a40fa",
            "4298ec00ee4d4cf1a48265485a4dd9f5",
            "9de36e1829ff45e0bad65fe968296956",
            "0cfc13ff725d42d8a175d79865f4c322",
            "ebf298e6d16e4983a0e6196ec8cfdad5",
            "ad4a8d6e64c44f7cb6c20d3847a09e84",
            "959d269e575348bd8f7afcffbdff869d",
            "2dd44f5c6123425a8f1893bee99dcb22",
            "64235f883d5f45e381a33158c111fdfa",
            "0691ce4994b54abca5696ea60fbbda8f",
            "ba3330911bd34453a7d337b720b3a9e4",
            "2380fed45567483db6e7e6c5688550bb",
            "7b02d01fb3514fafb7aea98cd50a3fbd",
            "9fe81657293d40618e095169dbe99049",
            "f879492678ad486290b1328c92e7c1dd",
            "2e4ff7fbe6654580a6dde2c5ae250ef7",
            "e31002e52c124193b8e3149aaaaddf78",
            "4f8e20d73c7d4226aa8ee2bceaf645cc",
            "945a08e024f449799732ac46140d2ebe",
            "4d2946cfc832442f8030e0ef892b2548",
            "8c85a5f6243e4e6bbfaa54938f7e39fa",
            "0480ed1c7248426da6f81a0ffbeb8042",
            "0ce4ac62c34a4a81a1747b88c6a520c1",
            "5114b2377c5d4b708e5beae9660e518d",
            "b7c8d854b9044ea596e3b6ca8355222d",
            "e1b7448081c74c1388de6e974d7074d3",
            "5604fee473a746fab81ae765a2271a6c",
            "1cd8b5649314465e9493a34db7940ca4",
            "c2a8877eaceb44b8b0ef063b50aa41a9",
            "b8698bad77bf45208ecdeacbc1d338ba",
            "61708472c0b4404d92549b864e768b8c",
            "00eb1c32d8604eb3b67027255cbacf57",
            "152a69a1bd554b48ac335157ac65a128",
            "e477968cf81b4640afe2c4f6a3c96708",
            "836ee11cddf34da9a953f39b6836ef30",
            "91cb264e7a004fec8e7d0dd39c57b778",
            "1e65697cb40449b0b7072f21754f790e",
            "7f863aa46e294180a067669c4108f265",
            "bfdaff59ea6a4d4aa8000300b06877a0"
          ]
        },
        "id": "fEBZXVQoKRNV",
        "outputId": "0e01c987-068d-4263-e8f4-951301ad9d5f"
      },
      "outputs": [
        {
          "name": "stdout",
          "output_type": "stream",
          "text": [
            "Downloading http://fashion-mnist.s3-website.eu-central-1.amazonaws.com/train-images-idx3-ubyte.gz\n",
            "Downloading http://fashion-mnist.s3-website.eu-central-1.amazonaws.com/train-images-idx3-ubyte.gz to ./data/FashionMNIST/raw/train-images-idx3-ubyte.gz\n"
          ]
        },
        {
          "data": {
            "application/vnd.jupyter.widget-view+json": {
              "model_id": "9edae1b8c827439d91e595553e7fa13a",
              "version_major": 2,
              "version_minor": 0
            },
            "text/plain": [
              "  0%|          | 0/26421880 [00:00<?, ?it/s]"
            ]
          },
          "metadata": {},
          "output_type": "display_data"
        },
        {
          "name": "stdout",
          "output_type": "stream",
          "text": [
            "Extracting ./data/FashionMNIST/raw/train-images-idx3-ubyte.gz to ./data/FashionMNIST/raw\n",
            "\n",
            "Downloading http://fashion-mnist.s3-website.eu-central-1.amazonaws.com/train-labels-idx1-ubyte.gz\n",
            "Downloading http://fashion-mnist.s3-website.eu-central-1.amazonaws.com/train-labels-idx1-ubyte.gz to ./data/FashionMNIST/raw/train-labels-idx1-ubyte.gz\n"
          ]
        },
        {
          "data": {
            "application/vnd.jupyter.widget-view+json": {
              "model_id": "959d269e575348bd8f7afcffbdff869d",
              "version_major": 2,
              "version_minor": 0
            },
            "text/plain": [
              "  0%|          | 0/29515 [00:00<?, ?it/s]"
            ]
          },
          "metadata": {},
          "output_type": "display_data"
        },
        {
          "name": "stdout",
          "output_type": "stream",
          "text": [
            "Extracting ./data/FashionMNIST/raw/train-labels-idx1-ubyte.gz to ./data/FashionMNIST/raw\n",
            "\n",
            "Downloading http://fashion-mnist.s3-website.eu-central-1.amazonaws.com/t10k-images-idx3-ubyte.gz\n",
            "Downloading http://fashion-mnist.s3-website.eu-central-1.amazonaws.com/t10k-images-idx3-ubyte.gz to ./data/FashionMNIST/raw/t10k-images-idx3-ubyte.gz\n"
          ]
        },
        {
          "data": {
            "application/vnd.jupyter.widget-view+json": {
              "model_id": "4f8e20d73c7d4226aa8ee2bceaf645cc",
              "version_major": 2,
              "version_minor": 0
            },
            "text/plain": [
              "  0%|          | 0/4422102 [00:00<?, ?it/s]"
            ]
          },
          "metadata": {},
          "output_type": "display_data"
        },
        {
          "name": "stdout",
          "output_type": "stream",
          "text": [
            "Extracting ./data/FashionMNIST/raw/t10k-images-idx3-ubyte.gz to ./data/FashionMNIST/raw\n",
            "\n",
            "Downloading http://fashion-mnist.s3-website.eu-central-1.amazonaws.com/t10k-labels-idx1-ubyte.gz\n",
            "Downloading http://fashion-mnist.s3-website.eu-central-1.amazonaws.com/t10k-labels-idx1-ubyte.gz to ./data/FashionMNIST/raw/t10k-labels-idx1-ubyte.gz\n"
          ]
        },
        {
          "data": {
            "application/vnd.jupyter.widget-view+json": {
              "model_id": "c2a8877eaceb44b8b0ef063b50aa41a9",
              "version_major": 2,
              "version_minor": 0
            },
            "text/plain": [
              "  0%|          | 0/5148 [00:00<?, ?it/s]"
            ]
          },
          "metadata": {},
          "output_type": "display_data"
        },
        {
          "name": "stdout",
          "output_type": "stream",
          "text": [
            "Extracting ./data/FashionMNIST/raw/t10k-labels-idx1-ubyte.gz to ./data/FashionMNIST/raw\n",
            "\n",
            "No of training records: 60000\n",
            "No of test records: 10000\n",
            "No of cross-val records: 8000\n",
            "No of test records: 2000\n"
          ]
        }
      ],
      "source": [
        "# (down)load the data\n",
        "train_dataset, val_dataset, test_dataset = load_data()"
      ]
    },
    {
      "cell_type": "code",
      "execution_count": 7,
      "metadata": {
        "colab": {
          "base_uri": "https://localhost:8080/",
          "height": 663
        },
        "id": "rpqwY_OzLr7G",
        "outputId": "bf29ed39-f4b2-449a-c679-ef5a0d3f4340"
      },
      "outputs": [
        {
          "name": "stdout",
          "output_type": "stream",
          "text": [
            "images.shape = torch.Size([64, 1, 28, 28]), labels.shape=torch.Size([64])\n"
          ]
        },
        {
          "data": {
            "image/png": "[encoded data removed]",
            "text/plain": [
              "<Figure size 1008x720 with 64 Axes>"
            ]
          },
          "metadata": {},
          "output_type": "display_data"
        }
      ],
      "source": [
        "# display a sample\n",
        "trainloader = torch.utils.data.DataLoader(test_dataset, batch_size=64, shuffle=True)\n",
        "data_iter = iter(trainloader)\n",
        "images, labels = next(data_iter)  # fetch first batch of 64 images & labels\n",
        "print(f'images.shape = {images.shape}, labels.shape={labels.shape}')\n",
        "#print(f'labels = {labels[:10]}')\n",
        "display_sample(images.cpu().numpy(), labels.cpu().numpy(), grid_shape=(8, 8), \n",
        "               plot_title='Sample Images - Training dataset')"
      ]
    },
    {
      "cell_type": "markdown",
      "metadata": {
        "id": "Uc4Db-2_L8K2"
      },
      "source": [
        "## Pytorch Model development"
      ]
    },
    {
      "cell_type": "code",
      "execution_count": 8,
      "metadata": {
        "colab": {
          "base_uri": "https://localhost:8080/"
        },
        "id": "0q_R3rp0Izmc",
        "outputId": "8bce6de5-0f88-42c7-ae8a-aa41c1c0795c"
      },
      "outputs": [
        {
          "name": "stdout",
          "output_type": "stream",
          "text": [
            "Model will be saved to /content/drive/My Drive/ColabNotebooks/Pytorch/model_states/pyt_fashion_mnist_cnn.pyt\n"
          ]
        }
      ],
      "source": [
        "# some globals\n",
        "IMAGE_HEIGHT, IMAGE_WIDTH, NUM_CHANNELS, NUM_CLASSES = 28, 28, 1, 10\n",
        "NUM_EPOCHS, BATCH_SIZE, LEARNING_RATE, L2_REG = 25, 128, 0.001, 0.04\n",
        "PY_MODEL_SAVE_PATH = os.path.join(MODEL_SAVE_DIR, 'pyt_fashion_mnist_cnn.pyt')\n",
        "print(f\"Model will be saved to {PY_MODEL_SAVE_PATH}\")"
      ]
    },
    {
      "cell_type": "code",
      "execution_count": 9,
      "metadata": {
        "id": "JjaQ0jSBI545"
      },
      "outputs": [],
      "source": [
        "class FMNistNet(nn.Module):\n",
        "    def __init__(self):\n",
        "        super(FMNistNet, self).__init__()\n",
        "        self.net = nn.Sequential(\n",
        "            t3.Conv2d(1, 64, kernel_size=3, padding='same'),\n",
        "            nn.ReLU(),\n",
        "            nn.BatchNorm2d(64),\n",
        "            t3.Conv2d(64, 64, kernel_size=3, padding='same'),\n",
        "            nn.ReLU(),\n",
        "            nn.BatchNorm2d(64),\n",
        "            nn.MaxPool2d(kernel_size=2, stride=2),\n",
        "\n",
        "            t3.Conv2d(64, 128, kernel_size=3, padding='same'),\n",
        "            nn.ReLU(),\n",
        "            nn.BatchNorm2d(128),\n",
        "            t3.Conv2d(128, 128, kernel_size=3, padding='same'),\n",
        "            nn.ReLU(),\n",
        "            nn.BatchNorm2d(128),\n",
        "            nn.MaxPool2d(kernel_size=2, stride=2),\n",
        "\n",
        "            t3.Conv2d(128, 256, kernel_size=3, padding='same'),\n",
        "            nn.ReLU(),\n",
        "            nn.BatchNorm2d(256),\n",
        "            t3.Conv2d(256, 256, kernel_size=3, padding='same'),\n",
        "            nn.ReLU(),\n",
        "            nn.BatchNorm2d(256),\n",
        "            nn.MaxPool2d(kernel_size=2, stride=2),\n",
        "\n",
        "            # pytk.Conv2d(256, 512, kernel_size=3, padding=1),\n",
        "            # nn.ReLU(),\n",
        "            # nn.BatchNorm2d(512),\n",
        "            # # pytk.Conv2d(512, 512, kernel_size=3, padding=1),\n",
        "            # # nn.ReLU(),\n",
        "            # # nn.BatchNorm2d(512),\n",
        "            # nn.MaxPool2d(kernel_size=2, stride=2),\n",
        "            # nn.Dropout(0.35),\n",
        "\n",
        "            nn.Flatten(),\n",
        "\n",
        "            nn.Linear(256*3*3, 1024),\n",
        "            nn.ReLU(),\n",
        "\n",
        "            nn.Linear(1024, 512),\n",
        "            nn.ReLU(),\n",
        "\n",
        "            nn.Linear(512, NUM_CLASSES)     \n",
        "        )\n",
        "\n",
        "    def forward(self, x):\n",
        "        return self.net(x)"
      ]
    },
    {
      "cell_type": "code",
      "execution_count": 10,
      "metadata": {
        "colab": {
          "base_uri": "https://localhost:8080/"
        },
        "id": "PlJOYUNiND-i",
        "outputId": "034c2718-16d0-49d6-b7fe-e50e7980ed6e"
      },
      "outputs": [
        {
          "name": "stdout",
          "output_type": "stream",
          "text": [
            "----------------------------------------------------------------\n",
            "        Layer (type)               Output Shape         Param #\n",
            "================================================================\n",
            "            Conv2d-1           [-1, 64, 28, 28]             640\n",
            "              ReLU-2           [-1, 64, 28, 28]               0\n",
            "       BatchNorm2d-3           [-1, 64, 28, 28]             128\n",
            "            Conv2d-4           [-1, 64, 28, 28]          36,928\n",
            "              ReLU-5           [-1, 64, 28, 28]               0\n",
            "       BatchNorm2d-6           [-1, 64, 28, 28]             128\n",
            "         MaxPool2d-7           [-1, 64, 14, 14]               0\n",
            "            Conv2d-8          [-1, 128, 14, 14]          73,856\n",
            "              ReLU-9          [-1, 128, 14, 14]               0\n",
            "      BatchNorm2d-10          [-1, 128, 14, 14]             256\n",
            "           Conv2d-11          [-1, 128, 14, 14]         147,584\n",
            "             ReLU-12          [-1, 128, 14, 14]               0\n",
            "      BatchNorm2d-13          [-1, 128, 14, 14]             256\n",
            "        MaxPool2d-14            [-1, 128, 7, 7]               0\n",
            "           Conv2d-15            [-1, 256, 7, 7]         295,168\n",
            "             ReLU-16            [-1, 256, 7, 7]               0\n",
            "      BatchNorm2d-17            [-1, 256, 7, 7]             512\n",
            "           Conv2d-18            [-1, 256, 7, 7]         590,080\n",
            "             ReLU-19            [-1, 256, 7, 7]               0\n",
            "      BatchNorm2d-20            [-1, 256, 7, 7]             512\n",
            "        MaxPool2d-21            [-1, 256, 3, 3]               0\n",
            "          Flatten-22                 [-1, 2304]               0\n",
            "           Linear-23                 [-1, 1024]       2,360,320\n",
            "             ReLU-24                 [-1, 1024]               0\n",
            "           Linear-25                  [-1, 512]         524,800\n",
            "             ReLU-26                  [-1, 512]               0\n",
            "           Linear-27                   [-1, 10]           5,130\n",
            "================================================================\n",
            "Total params: 4,036,298\n",
            "Trainable params: 4,036,298\n",
            "Non-trainable params: 0\n",
            "----------------------------------------------------------------\n",
            "Input size (MB): 0.00\n",
            "Forward/backward pass size (MB): 4.22\n",
            "Params size (MB): 15.40\n",
            "Estimated Total Size (MB): 19.62\n",
            "----------------------------------------------------------------\n",
            "None\n"
          ]
        }
      ],
      "source": [
        "model = FMNistNet().to(DEVICE)\n",
        "print(torchsummary.summary(model, (NUM_CHANNELS, IMAGE_WIDTH, IMAGE_HEIGHT)))"
      ]
    },
    {
      "cell_type": "markdown",
      "metadata": {
        "id": "5uVChuNcN5rt"
      },
      "source": [
        "## Train the model"
      ]
    },
    {
      "cell_type": "code",
      "execution_count": 11,
      "metadata": {
        "id": "kEeOHatbPj4H"
      },
      "outputs": [],
      "source": [
        "loss_fn = nn.CrossEntropyLoss()\n",
        "metrics_map = {\n",
        "    \"acc\": torchmetrics.classification.MulticlassAccuracy(num_classes=NUM_CLASSES)\n",
        "}\n",
        "trainer = t3.Trainer(\n",
        "    loss_fn = loss_fn, device=DEVICE, metrics_map = metrics_map,\n",
        "    epochs=NUM_EPOCHS, batch_size=BATCH_SIZE\n",
        ")\n",
        "optimizer = torch.optim.Adam(model.parameters(), lr=LEARNING_RATE)"
      ]
    },
    {
      "cell_type": "code",
      "execution_count": 12,
      "metadata": {
        "colab": {
          "base_uri": "https://localhost:8080/"
        },
        "id": "ke932pN_N0LQ",
        "outputId": "8eee2cf0-9cd6-484f-be61-457f5d97d029"
      },
      "outputs": [
        {
          "name": "stdout",
          "output_type": "stream",
          "text": [
            "Cross training on 'cuda' with 60000 training and 8000 cross-validation records...\n",
            "Epoch ( 1/25): (60000/60000) -> loss: 0.3606 - acc: 0.8689 - val_loss: 0.3238 - val_acc: 0.8800\n",
            "Epoch ( 2/25): (60000/60000) -> loss: 0.2267 - acc: 0.9178 - val_loss: 0.2258 - val_acc: 0.9120\n",
            "Epoch ( 3/25): (60000/60000) -> loss: 0.1839 - acc: 0.9326 - val_loss: 0.2166 - val_acc: 0.9169\n",
            "Epoch ( 4/25): (60000/60000) -> loss: 0.1548 - acc: 0.9444 - val_loss: 0.2470 - val_acc: 0.9684\n",
            "Epoch ( 5/25): (60000/60000) -> loss: 0.1306 - acc: 0.9516 - val_loss: 0.2191 - val_acc: 0.9546\n",
            "Epoch ( 6/25): (60000/60000) -> loss: 0.1119 - acc: 0.9595 - val_loss: 0.2245 - val_acc: 0.9544\n",
            "Epoch ( 7/25): (60000/60000) -> loss: 0.0890 - acc: 0.9672 - val_loss: 0.2331 - val_acc: 0.9656\n",
            "Epoch ( 8/25): (60000/60000) -> loss: 0.0772 - acc: 0.9717 - val_loss: 0.2500 - val_acc: 0.9556\n",
            "Epoch ( 9/25): (60000/60000) -> loss: 0.0685 - acc: 0.9756 - val_loss: 0.2695 - val_acc: 0.9727\n",
            "Epoch (10/25): (60000/60000) -> loss: 0.0571 - acc: 0.9798 - val_loss: 0.2820 - val_acc: 0.9698\n",
            "Epoch (11/25): (60000/60000) -> loss: 0.0424 - acc: 0.9853 - val_loss: 0.3349 - val_acc: 0.9631\n",
            "Epoch (12/25): (60000/60000) -> loss: 0.0439 - acc: 0.9843 - val_loss: 0.2855 - val_acc: 0.9833\n",
            "Epoch (13/25): (60000/60000) -> loss: 0.0355 - acc: 0.9875 - val_loss: 0.3401 - val_acc: 1.0000\n",
            "Epoch (14/25): (60000/60000) -> loss: 0.0303 - acc: 0.9904 - val_loss: 0.3166 - val_acc: 1.0000\n",
            "Epoch (15/25): (60000/60000) -> loss: 0.0312 - acc: 0.9892 - val_loss: 0.3503 - val_acc: 0.9909\n",
            "Epoch (16/25): (60000/60000) -> loss: 0.0279 - acc: 0.9903 - val_loss: 0.4074 - val_acc: 0.9938\n",
            "Epoch (17/25): (60000/60000) -> loss: 0.0271 - acc: 0.9911 - val_loss: 0.3883 - val_acc: 0.9875\n",
            "Epoch (18/25): (60000/60000) -> loss: 0.0275 - acc: 0.9915 - val_loss: 0.4313 - val_acc: 0.9786\n",
            "Epoch (19/25): (60000/60000) -> loss: 0.0219 - acc: 0.9933 - val_loss: 0.4220 - val_acc: 0.9909\n",
            "Epoch (20/25): (60000/60000) -> loss: 0.0229 - acc: 0.9931 - val_loss: 0.4046 - val_acc: 1.0000\n",
            "Epoch (21/25): (60000/60000) -> loss: 0.0188 - acc: 0.9936 - val_loss: 0.4122 - val_acc: 1.0000\n",
            "Epoch (22/25): (60000/60000) -> loss: 0.0236 - acc: 0.9932 - val_loss: 0.3623 - val_acc: 1.0000\n",
            "Epoch (23/25): (60000/60000) -> loss: 0.0160 - acc: 0.9949 - val_loss: 0.4416 - val_acc: 1.0000\n",
            "Epoch (24/25): (60000/60000) -> loss: 0.0146 - acc: 0.9956 - val_loss: 0.4568 - val_acc: 1.0000\n",
            "Epoch (25/25): (60000/60000) -> loss: 0.0196 - acc: 0.9937 - val_loss: 0.4112 - val_acc: 1.0000\n"
          ]
        }
      ],
      "source": [
        "hist = trainer.fit(model, optimizer, train_dataset, validation_dataset=val_dataset)"
      ]
    },
    {
      "cell_type": "code",
      "execution_count": 28,
      "metadata": {
        "colab": {
          "base_uri": "https://localhost:8080/",
          "height": 425
        },
        "id": "EqY3luoAOQXy",
        "outputId": "4fa7a55a-d314-4988-a76c-11208e73310f"
      },
      "outputs": [
        {
          "data": {
            "image/png": "[encoded data removed]",
            "text/plain": [
              "<Figure size 1008x432 with 2 Axes>"
            ]
          },
          "metadata": {},
          "output_type": "display_data"
        }
      ],
      "source": [
        "hist.plot_metrics(title = \"Model Training Metrics\", fig_size = (14, 6))"
      ]
    },
    {
      "cell_type": "markdown",
      "metadata": {
        "id": "83p0e1RZRuLR"
      },
      "source": [
        "## Evaluate Performance"
      ]
    },
    {
      "cell_type": "code",
      "execution_count": 26,
      "metadata": {
        "colab": {
          "base_uri": "https://localhost:8080/"
        },
        "id": "kzwJdtFORxI7",
        "outputId": "ae190d2d-b256-4f7f-daab-fdf282870d01"
      },
      "outputs": [
        {
          "name": "stdout",
          "output_type": "stream",
          "text": [
            "Evaluating model performance...\n",
            "Evaluating (60000/60000) -> loss: 0.0213 - acc: 0.9939\n",
            "Training metrics -> loss: 0.0213 - acc: 0.9939\n",
            "Evaluating (8000/8000) -> loss: 0.4193 - acc: 0.9294\n",
            "Cross-val metrics -> loss: 0.4193 - acc: 0.9294\n",
            "Evaluating (2000/2000) -> loss: 0.4543 - acc: 0.9269\n",
            "Testing metrics   -> loss: 0.4543 - acc: 0.9269\n"
          ]
        }
      ],
      "source": [
        "# evaluate performance\n",
        "print('Evaluating model performance...')\n",
        "metrics = trainer.evaluate(model, train_dataset)\n",
        "print(f\"Training metrics -> loss: {metrics['loss']:.4f} - acc: {metrics['acc']:.4f}\")\n",
        "metrics = trainer.evaluate(model, val_dataset)\n",
        "print(f\"Cross-val metrics -> loss: {metrics['loss']:.4f} - acc: {metrics['acc']:.4f}\")\n",
        "metrics = trainer.evaluate(model, test_dataset)\n",
        "print(f\"Testing metrics   -> loss: {metrics['loss']:.4f} - acc: {metrics['acc']:.4f}\")"
      ]
    },
    {
      "cell_type": "markdown",
      "metadata": {
        "id": "FUmypSWySD1Z"
      },
      "source": [
        "### Observations\n",
        ">Configuration | Training Acc | Cross-val Acc | Test Acc | Observation\n",
        ">:---|:---:|:---:|:---:|:---:|\n",
        ">**Model**|99.52%|93.35%|92.72%| Overfitting\n",
        "\n",
        "From the table & graphs we observe that:\n",
        "* The model is significantly overfitting the data - `training accuracy >> cross-val accuracy`\n",
        "* The training/cross-val loss plots start diverging significantly after the 3-4 th epoch itself\n",
        "* The gap between `cross-val accuracy` and `test accuracy` is not that much (expected as the samples are drawn randomly from the same distribution)"
      ]
    },
    {
      "cell_type": "code",
      "execution_count": 29,
      "metadata": {
        "colab": {
          "base_uri": "https://localhost:8080/"
        },
        "id": "O81FA-GIR1CJ",
        "outputId": "45c413cc-18f7-46b9-faeb-d13251314bd1"
      },
      "outputs": [
        {
          "name": "stdout",
          "output_type": "stream",
          "text": [
            "Pytorch model saved to /content/drive/My Drive/ColabNotebooks/Pytorch/model_states/pyt_fashion_mnist_cnn.pyt\n"
          ]
        }
      ],
      "source": [
        "t3.save_model(model, PY_MODEL_SAVE_PATH)\n",
        "del model"
      ]
    },
    {
      "cell_type": "markdown",
      "metadata": {
        "id": "aWr-DL3lR125"
      },
      "source": [
        "## Making Predictions"
      ]
    },
    {
      "cell_type": "code",
      "execution_count": 30,
      "metadata": {
        "colab": {
          "base_uri": "https://localhost:8080/"
        },
        "id": "hkuZ35JSR363",
        "outputId": "64e8009e-a9c0-4739-9d6d-5503197dac65"
      },
      "outputs": [
        {
          "name": "stdout",
          "output_type": "stream",
          "text": [
            "Pytorch model loaded from /content/drive/My Drive/ColabNotebooks/Pytorch/model_states/pyt_fashion_mnist_cnn.pyt\n",
            "----------------------------------------------------------------\n",
            "        Layer (type)               Output Shape         Param #\n",
            "================================================================\n",
            "            Conv2d-1           [-1, 64, 28, 28]             640\n",
            "              ReLU-2           [-1, 64, 28, 28]               0\n",
            "       BatchNorm2d-3           [-1, 64, 28, 28]             128\n",
            "            Conv2d-4           [-1, 64, 28, 28]          36,928\n",
            "              ReLU-5           [-1, 64, 28, 28]               0\n",
            "       BatchNorm2d-6           [-1, 64, 28, 28]             128\n",
            "         MaxPool2d-7           [-1, 64, 14, 14]               0\n",
            "            Conv2d-8          [-1, 128, 14, 14]          73,856\n",
            "              ReLU-9          [-1, 128, 14, 14]               0\n",
            "      BatchNorm2d-10          [-1, 128, 14, 14]             256\n",
            "           Conv2d-11          [-1, 128, 14, 14]         147,584\n",
            "             ReLU-12          [-1, 128, 14, 14]               0\n",
            "      BatchNorm2d-13          [-1, 128, 14, 14]             256\n",
            "        MaxPool2d-14            [-1, 128, 7, 7]               0\n",
            "           Conv2d-15            [-1, 256, 7, 7]         295,168\n",
            "             ReLU-16            [-1, 256, 7, 7]               0\n",
            "      BatchNorm2d-17            [-1, 256, 7, 7]             512\n",
            "           Conv2d-18            [-1, 256, 7, 7]         590,080\n",
            "             ReLU-19            [-1, 256, 7, 7]               0\n",
            "      BatchNorm2d-20            [-1, 256, 7, 7]             512\n",
            "        MaxPool2d-21            [-1, 256, 3, 3]               0\n",
            "          Flatten-22                 [-1, 2304]               0\n",
            "           Linear-23                 [-1, 1024]       2,360,320\n",
            "             ReLU-24                 [-1, 1024]               0\n",
            "           Linear-25                  [-1, 512]         524,800\n",
            "             ReLU-26                  [-1, 512]               0\n",
            "           Linear-27                   [-1, 10]           5,130\n",
            "================================================================\n",
            "Total params: 4,036,298\n",
            "Trainable params: 4,036,298\n",
            "Non-trainable params: 0\n",
            "----------------------------------------------------------------\n",
            "Input size (MB): 0.00\n",
            "Forward/backward pass size (MB): 4.22\n",
            "Params size (MB): 15.40\n",
            "Estimated Total Size (MB): 19.62\n",
            "----------------------------------------------------------------\n",
            "None\n"
          ]
        }
      ],
      "source": [
        "model = FMNistNet().to(DEVICE)\n",
        "t3.load_model(model, PY_MODEL_SAVE_PATH)\n",
        "print(torchsummary.summary(model, (NUM_CHANNELS, IMAGE_WIDTH, IMAGE_HEIGHT)))"
      ]
    },
    {
      "cell_type": "code",
      "execution_count": 31,
      "metadata": {
        "colab": {
          "base_uri": "https://localhost:8080/"
        },
        "id": "tFb_0ryYR3ub",
        "outputId": "feb6b59f-9770-40a5-826c-69250f5a8f61"
      },
      "outputs": [
        {
          "name": "stdout",
          "output_type": "stream",
          "text": [
            "Sample labels (50):  [0 6 5 0 6 7 3 3 9 4 4 3 4 1 7 5 1 9 1 5 8 1 0 9 2 6 8 9 3 2 1 6 4 6 7 8 8 0 1 5 3 8 8 2 3 0 5 7 1 9]\n",
            "Sample predictions:  [0 6 5 0 6 7 3 3 9 4 4 3 4 1 7 5 1 9 1 5 8 1 0 9 2 6 8 9 3 2 1 6 4 6 7 8 8 0 1 5 3 8 8 2 3 0 5 7 1 9]\n",
            "We got 149/2000 incorrect!\n"
          ]
        }
      ],
      "source": [
        "# run predictions\n",
        "y_pred, y_true = trainer.predict_dataset(model, test_dataset)\n",
        "y_pred = np.argmax(y_pred, axis = 1)\n",
        "print('Sample labels (50): ', y_true[:50])\n",
        "print('Sample predictions: ', y_true[:50])\n",
        "print('We got %d/%d incorrect!' % ((y_pred != y_true).sum(), len(y_true)))"
      ]
    },
    {
      "cell_type": "code",
      "execution_count": 32,
      "metadata": {
        "colab": {
          "base_uri": "https://localhost:8080/",
          "height": 663
        },
        "id": "ztZQ3tlLS3pW",
        "outputId": "5c923fd0-7208-44ef-e950-2f45d91928d3"
      },
      "outputs": [
        {
          "name": "stdout",
          "output_type": "stream",
          "text": [
            "Displaying sample predictions...\n"
          ]
        },
        {
          "data": {
            "image/png": "[encoded data removed]",
            "text/plain": [
              "<Figure size 1008x720 with 64 Axes>"
            ]
          },
          "metadata": {},
          "output_type": "display_data"
        }
      ],
      "source": [
        "# display sample\n",
        "print('Displaying sample predictions...')\n",
        "trainloader = torch.utils.data.DataLoader(\n",
        "    test_dataset, batch_size = 64, shuffle = True\n",
        ")\n",
        "data_iter = iter(trainloader)\n",
        "images, labels = next(data_iter)  # fetch a batch of 64 random images\n",
        "preds = trainer.predict(model, images)\n",
        "preds = np.argmax(preds, axis = 1)\n",
        "display_sample(\n",
        "    images, labels.numpy(), sample_predictions = preds,\n",
        "    grid_shape = (8, 8), plot_title = 'Sample Predictions'\n",
        ")"
      ]
    },
    {
      "cell_type": "markdown",
      "metadata": {
        "id": "3zresuieTF12"
      },
      "source": [
        "## Observations\n",
        "* The base model is significantly overfitting the data\n",
        "* We get 143/2000 incorrect predictions from test dataset - this is expected, as model is overfitting, so cannot generalize well.\n",
        "\n",
        "In the next part we will try to reduce the overfitting by implementing 2 types of regularization - Dropout regularization and L2 Regularization. This may reduce the training accuracy of the model, but should reduce the gap between training & cross-val accuracy (i.e. reduce overfitting)"
      ]
    },
    {
      "cell_type": "markdown",
      "metadata": {
        "id": "moJ-XRBlTsk3"
      },
      "source": [
        "# <center> -- END -- </center>"
      ]
    }
  ],
  "metadata": {
    "accelerator": "GPU",
    "colab": {
      "collapsed_sections": [
        "3zresuieTF12",
        "moJ-XRBlTsk3"
      ],
      "machine_shape": "hm",
      "provenance": []
    },
    "gpuClass": "premium",
    "kernelspec": {
      "display_name": "Python 3",
      "language": "python",
      "name": "python3"
    },
    "language_info": {
      "name": "python",
      "version": "3.8.13"
    },
    "vscode": {
      "interpreter": {
        "hash": "cdaf8329f684186bbce2a0d62033d09e4ac5ddaceb494be9d4c867dbc58bfadd"
      }
    },
    "widgets": {
      "application/vnd.jupyter.widget-state+json": {
        "00eb1c32d8604eb3b67027255cbacf57": {
          "model_module": "@jupyter-widgets/controls",
          "model_module_version": "1.5.0",
          "model_name": "HTMLModel",
          "state": {
            "_dom_classes": [],
            "_model_module": "@jupyter-widgets/controls",
            "_model_module_version": "1.5.0",
            "_model_name": "HTMLModel",
            "_view_count": null,
            "_view_module": "@jupyter-widgets/controls",
            "_view_module_version": "1.5.0",
            "_view_name": "HTMLView",
            "description": "",
            "description_tooltip": null,
            "layout": "IPY_MODEL_7f863aa46e294180a067669c4108f265",
            "placeholder": "​",
            "style": "IPY_MODEL_bfdaff59ea6a4d4aa8000300b06877a0",
            "value": " 5148/5148 [00:00&lt;00:00, 449623.66it/s]"
          }
        },
        "0480ed1c7248426da6f81a0ffbeb8042": {
          "model_module": "@jupyter-widgets/base",
          "model_module_version": "1.2.0",
          "model_name": "LayoutModel",
          "state": {
            "_model_module": "@jupyter-widgets/base",
            "_model_module_version": "1.2.0",
            "_model_name": "LayoutModel",
            "_view_count": null,
            "_view_module": "@jupyter-widgets/base",
            "_view_module_version": "1.2.0",
            "_view_name": "LayoutView",
            "align_content": null,
            "align_items": null,
            "align_self": null,
            "border": null,
            "bottom": null,
            "display": null,
            "flex": null,
            "flex_flow": null,
            "grid_area": null,
            "grid_auto_columns": null,
            "grid_auto_flow": null,
            "grid_auto_rows": null,
            "grid_column": null,
            "grid_gap": null,
            "grid_row": null,
            "grid_template_areas": null,
            "grid_template_columns": null,
            "grid_template_rows": null,
            "height": null,
            "justify_content": null,
            "justify_items": null,
            "left": null,
            "margin": null,
            "max_height": null,
            "max_width": null,
            "min_height": null,
            "min_width": null,
            "object_fit": null,
            "object_position": null,
            "order": null,
            "overflow": null,
            "overflow_x": null,
            "overflow_y": null,
            "padding": null,
            "right": null,
            "top": null,
            "visibility": null,
            "width": null
          }
        },
        "0691ce4994b54abca5696ea60fbbda8f": {
          "model_module": "@jupyter-widgets/controls",
          "model_module_version": "1.5.0",
          "model_name": "HTMLModel",
          "state": {
            "_dom_classes": [],
            "_model_module": "@jupyter-widgets/controls",
            "_model_module_version": "1.5.0",
            "_model_name": "HTMLModel",
            "_view_count": null,
            "_view_module": "@jupyter-widgets/controls",
            "_view_module_version": "1.5.0",
            "_view_name": "HTMLView",
            "description": "",
            "description_tooltip": null,
            "layout": "IPY_MODEL_2e4ff7fbe6654580a6dde2c5ae250ef7",
            "placeholder": "​",
            "style": "IPY_MODEL_e31002e52c124193b8e3149aaaaddf78",
            "value": " 29515/29515 [00:00&lt;00:00, 199868.39it/s]"
          }
        },
        "0ce4ac62c34a4a81a1747b88c6a520c1": {
          "model_module": "@jupyter-widgets/base",
          "model_module_version": "1.2.0",
          "model_name": "LayoutModel",
          "state": {
            "_model_module": "@jupyter-widgets/base",
            "_model_module_version": "1.2.0",
            "_model_name": "LayoutModel",
            "_view_count": null,
            "_view_module": "@jupyter-widgets/base",
            "_view_module_version": "1.2.0",
            "_view_name": "LayoutView",
            "align_content": null,
            "align_items": null,
            "align_self": null,
            "border": null,
            "bottom": null,
            "display": null,
            "flex": null,
            "flex_flow": null,
            "grid_area": null,
            "grid_auto_columns": null,
            "grid_auto_flow": null,
            "grid_auto_rows": null,
            "grid_column": null,
            "grid_gap": null,
            "grid_row": null,
            "grid_template_areas": null,
            "grid_template_columns": null,
            "grid_template_rows": null,
            "height": null,
            "justify_content": null,
            "justify_items": null,
            "left": null,
            "margin": null,
            "max_height": null,
            "max_width": null,
            "min_height": null,
            "min_width": null,
            "object_fit": null,
            "object_position": null,
            "order": null,
            "overflow": null,
            "overflow_x": null,
            "overflow_y": null,
            "padding": null,
            "right": null,
            "top": null,
            "visibility": null,
            "width": null
          }
        },
        "0cfc13ff725d42d8a175d79865f4c322": {
          "model_module": "@jupyter-widgets/controls",
          "model_module_version": "1.5.0",
          "model_name": "ProgressStyleModel",
          "state": {
            "_model_module": "@jupyter-widgets/controls",
            "_model_module_version": "1.5.0",
            "_model_name": "ProgressStyleModel",
            "_view_count": null,
            "_view_module": "@jupyter-widgets/base",
            "_view_module_version": "1.2.0",
            "_view_name": "StyleView",
            "bar_color": null,
            "description_width": ""
          }
        },
        "152a69a1bd554b48ac335157ac65a128": {
          "model_module": "@jupyter-widgets/base",
          "model_module_version": "1.2.0",
          "model_name": "LayoutModel",
          "state": {
            "_model_module": "@jupyter-widgets/base",
            "_model_module_version": "1.2.0",
            "_model_name": "LayoutModel",
            "_view_count": null,
            "_view_module": "@jupyter-widgets/base",
            "_view_module_version": "1.2.0",
            "_view_name": "LayoutView",
            "align_content": null,
            "align_items": null,
            "align_self": null,
            "border": null,
            "bottom": null,
            "display": null,
            "flex": null,
            "flex_flow": null,
            "grid_area": null,
            "grid_auto_columns": null,
            "grid_auto_flow": null,
            "grid_auto_rows": null,
            "grid_column": null,
            "grid_gap": null,
            "grid_row": null,
            "grid_template_areas": null,
            "grid_template_columns": null,
            "grid_template_rows": null,
            "height": null,
            "justify_content": null,
            "justify_items": null,
            "left": null,
            "margin": null,
            "max_height": null,
            "max_width": null,
            "min_height": null,
            "min_width": null,
            "object_fit": null,
            "object_position": null,
            "order": null,
            "overflow": null,
            "overflow_x": null,
            "overflow_y": null,
            "padding": null,
            "right": null,
            "top": null,
            "visibility": null,
            "width": null
          }
        },
        "1cd8b5649314465e9493a34db7940ca4": {
          "model_module": "@jupyter-widgets/controls",
          "model_module_version": "1.5.0",
          "model_name": "DescriptionStyleModel",
          "state": {
            "_model_module": "@jupyter-widgets/controls",
            "_model_module_version": "1.5.0",
            "_model_name": "DescriptionStyleModel",
            "_view_count": null,
            "_view_module": "@jupyter-widgets/base",
            "_view_module_version": "1.2.0",
            "_view_name": "StyleView",
            "description_width": ""
          }
        },
        "1e65697cb40449b0b7072f21754f790e": {
          "model_module": "@jupyter-widgets/controls",
          "model_module_version": "1.5.0",
          "model_name": "ProgressStyleModel",
          "state": {
            "_model_module": "@jupyter-widgets/controls",
            "_model_module_version": "1.5.0",
            "_model_name": "ProgressStyleModel",
            "_view_count": null,
            "_view_module": "@jupyter-widgets/base",
            "_view_module_version": "1.2.0",
            "_view_name": "StyleView",
            "bar_color": null,
            "description_width": ""
          }
        },
        "2380fed45567483db6e7e6c5688550bb": {
          "model_module": "@jupyter-widgets/base",
          "model_module_version": "1.2.0",
          "model_name": "LayoutModel",
          "state": {
            "_model_module": "@jupyter-widgets/base",
            "_model_module_version": "1.2.0",
            "_model_name": "LayoutModel",
            "_view_count": null,
            "_view_module": "@jupyter-widgets/base",
            "_view_module_version": "1.2.0",
            "_view_name": "LayoutView",
            "align_content": null,
            "align_items": null,
            "align_self": null,
            "border": null,
            "bottom": null,
            "display": null,
            "flex": null,
            "flex_flow": null,
            "grid_area": null,
            "grid_auto_columns": null,
            "grid_auto_flow": null,
            "grid_auto_rows": null,
            "grid_column": null,
            "grid_gap": null,
            "grid_row": null,
            "grid_template_areas": null,
            "grid_template_columns": null,
            "grid_template_rows": null,
            "height": null,
            "justify_content": null,
            "justify_items": null,
            "left": null,
            "margin": null,
            "max_height": null,
            "max_width": null,
            "min_height": null,
            "min_width": null,
            "object_fit": null,
            "object_position": null,
            "order": null,
            "overflow": null,
            "overflow_x": null,
            "overflow_y": null,
            "padding": null,
            "right": null,
            "top": null,
            "visibility": null,
            "width": null
          }
        },
        "2dd44f5c6123425a8f1893bee99dcb22": {
          "model_module": "@jupyter-widgets/controls",
          "model_module_version": "1.5.0",
          "model_name": "HTMLModel",
          "state": {
            "_dom_classes": [],
            "_model_module": "@jupyter-widgets/controls",
            "_model_module_version": "1.5.0",
            "_model_name": "HTMLModel",
            "_view_count": null,
            "_view_module": "@jupyter-widgets/controls",
            "_view_module_version": "1.5.0",
            "_view_name": "HTMLView",
            "description": "",
            "description_tooltip": null,
            "layout": "IPY_MODEL_2380fed45567483db6e7e6c5688550bb",
            "placeholder": "​",
            "style": "IPY_MODEL_7b02d01fb3514fafb7aea98cd50a3fbd",
            "value": "100%"
          }
        },
        "2e49fa82bdb844c0bdc6db78d4006b0b": {
          "model_module": "@jupyter-widgets/controls",
          "model_module_version": "1.5.0",
          "model_name": "FloatProgressModel",
          "state": {
            "_dom_classes": [],
            "_model_module": "@jupyter-widgets/controls",
            "_model_module_version": "1.5.0",
            "_model_name": "FloatProgressModel",
            "_view_count": null,
            "_view_module": "@jupyter-widgets/controls",
            "_view_module_version": "1.5.0",
            "_view_name": "ProgressView",
            "bar_style": "success",
            "description": "",
            "description_tooltip": null,
            "layout": "IPY_MODEL_9de36e1829ff45e0bad65fe968296956",
            "max": 26421880,
            "min": 0,
            "orientation": "horizontal",
            "style": "IPY_MODEL_0cfc13ff725d42d8a175d79865f4c322",
            "value": 26421880
          }
        },
        "2e4ff7fbe6654580a6dde2c5ae250ef7": {
          "model_module": "@jupyter-widgets/base",
          "model_module_version": "1.2.0",
          "model_name": "LayoutModel",
          "state": {
            "_model_module": "@jupyter-widgets/base",
            "_model_module_version": "1.2.0",
            "_model_name": "LayoutModel",
            "_view_count": null,
            "_view_module": "@jupyter-widgets/base",
            "_view_module_version": "1.2.0",
            "_view_name": "LayoutView",
            "align_content": null,
            "align_items": null,
            "align_self": null,
            "border": null,
            "bottom": null,
            "display": null,
            "flex": null,
            "flex_flow": null,
            "grid_area": null,
            "grid_auto_columns": null,
            "grid_auto_flow": null,
            "grid_auto_rows": null,
            "grid_column": null,
            "grid_gap": null,
            "grid_row": null,
            "grid_template_areas": null,
            "grid_template_columns": null,
            "grid_template_rows": null,
            "height": null,
            "justify_content": null,
            "justify_items": null,
            "left": null,
            "margin": null,
            "max_height": null,
            "max_width": null,
            "min_height": null,
            "min_width": null,
            "object_fit": null,
            "object_position": null,
            "order": null,
            "overflow": null,
            "overflow_x": null,
            "overflow_y": null,
            "padding": null,
            "right": null,
            "top": null,
            "visibility": null,
            "width": null
          }
        },
        "3f9291e1d4e443cda11d7fb77f8fde78": {
          "model_module": "@jupyter-widgets/base",
          "model_module_version": "1.2.0",
          "model_name": "LayoutModel",
          "state": {
            "_model_module": "@jupyter-widgets/base",
            "_model_module_version": "1.2.0",
            "_model_name": "LayoutModel",
            "_view_count": null,
            "_view_module": "@jupyter-widgets/base",
            "_view_module_version": "1.2.0",
            "_view_name": "LayoutView",
            "align_content": null,
            "align_items": null,
            "align_self": null,
            "border": null,
            "bottom": null,
            "display": null,
            "flex": null,
            "flex_flow": null,
            "grid_area": null,
            "grid_auto_columns": null,
            "grid_auto_flow": null,
            "grid_auto_rows": null,
            "grid_column": null,
            "grid_gap": null,
            "grid_row": null,
            "grid_template_areas": null,
            "grid_template_columns": null,
            "grid_template_rows": null,
            "height": null,
            "justify_content": null,
            "justify_items": null,
            "left": null,
            "margin": null,
            "max_height": null,
            "max_width": null,
            "min_height": null,
            "min_width": null,
            "object_fit": null,
            "object_position": null,
            "order": null,
            "overflow": null,
            "overflow_x": null,
            "overflow_y": null,
            "padding": null,
            "right": null,
            "top": null,
            "visibility": null,
            "width": null
          }
        },
        "4298ec00ee4d4cf1a48265485a4dd9f5": {
          "model_module": "@jupyter-widgets/controls",
          "model_module_version": "1.5.0",
          "model_name": "DescriptionStyleModel",
          "state": {
            "_model_module": "@jupyter-widgets/controls",
            "_model_module_version": "1.5.0",
            "_model_name": "DescriptionStyleModel",
            "_view_count": null,
            "_view_module": "@jupyter-widgets/base",
            "_view_module_version": "1.2.0",
            "_view_name": "StyleView",
            "description_width": ""
          }
        },
        "4d2946cfc832442f8030e0ef892b2548": {
          "model_module": "@jupyter-widgets/controls",
          "model_module_version": "1.5.0",
          "model_name": "FloatProgressModel",
          "state": {
            "_dom_classes": [],
            "_model_module": "@jupyter-widgets/controls",
            "_model_module_version": "1.5.0",
            "_model_name": "FloatProgressModel",
            "_view_count": null,
            "_view_module": "@jupyter-widgets/controls",
            "_view_module_version": "1.5.0",
            "_view_name": "ProgressView",
            "bar_style": "success",
            "description": "",
            "description_tooltip": null,
            "layout": "IPY_MODEL_b7c8d854b9044ea596e3b6ca8355222d",
            "max": 4422102,
            "min": 0,
            "orientation": "horizontal",
            "style": "IPY_MODEL_e1b7448081c74c1388de6e974d7074d3",
            "value": 4422102
          }
        },
        "4f8e20d73c7d4226aa8ee2bceaf645cc": {
          "model_module": "@jupyter-widgets/controls",
          "model_module_version": "1.5.0",
          "model_name": "HBoxModel",
          "state": {
            "_dom_classes": [],
            "_model_module": "@jupyter-widgets/controls",
            "_model_module_version": "1.5.0",
            "_model_name": "HBoxModel",
            "_view_count": null,
            "_view_module": "@jupyter-widgets/controls",
            "_view_module_version": "1.5.0",
            "_view_name": "HBoxView",
            "box_style": "",
            "children": [
              "IPY_MODEL_945a08e024f449799732ac46140d2ebe",
              "IPY_MODEL_4d2946cfc832442f8030e0ef892b2548",
              "IPY_MODEL_8c85a5f6243e4e6bbfaa54938f7e39fa"
            ],
            "layout": "IPY_MODEL_0480ed1c7248426da6f81a0ffbeb8042"
          }
        },
        "5114b2377c5d4b708e5beae9660e518d": {
          "model_module": "@jupyter-widgets/controls",
          "model_module_version": "1.5.0",
          "model_name": "DescriptionStyleModel",
          "state": {
            "_model_module": "@jupyter-widgets/controls",
            "_model_module_version": "1.5.0",
            "_model_name": "DescriptionStyleModel",
            "_view_count": null,
            "_view_module": "@jupyter-widgets/base",
            "_view_module_version": "1.2.0",
            "_view_name": "StyleView",
            "description_width": ""
          }
        },
        "5604fee473a746fab81ae765a2271a6c": {
          "model_module": "@jupyter-widgets/base",
          "model_module_version": "1.2.0",
          "model_name": "LayoutModel",
          "state": {
            "_model_module": "@jupyter-widgets/base",
            "_model_module_version": "1.2.0",
            "_model_name": "LayoutModel",
            "_view_count": null,
            "_view_module": "@jupyter-widgets/base",
            "_view_module_version": "1.2.0",
            "_view_name": "LayoutView",
            "align_content": null,
            "align_items": null,
            "align_self": null,
            "border": null,
            "bottom": null,
            "display": null,
            "flex": null,
            "flex_flow": null,
            "grid_area": null,
            "grid_auto_columns": null,
            "grid_auto_flow": null,
            "grid_auto_rows": null,
            "grid_column": null,
            "grid_gap": null,
            "grid_row": null,
            "grid_template_areas": null,
            "grid_template_columns": null,
            "grid_template_rows": null,
            "height": null,
            "justify_content": null,
            "justify_items": null,
            "left": null,
            "margin": null,
            "max_height": null,
            "max_width": null,
            "min_height": null,
            "min_width": null,
            "object_fit": null,
            "object_position": null,
            "order": null,
            "overflow": null,
            "overflow_x": null,
            "overflow_y": null,
            "padding": null,
            "right": null,
            "top": null,
            "visibility": null,
            "width": null
          }
        },
        "61708472c0b4404d92549b864e768b8c": {
          "model_module": "@jupyter-widgets/controls",
          "model_module_version": "1.5.0",
          "model_name": "FloatProgressModel",
          "state": {
            "_dom_classes": [],
            "_model_module": "@jupyter-widgets/controls",
            "_model_module_version": "1.5.0",
            "_model_name": "FloatProgressModel",
            "_view_count": null,
            "_view_module": "@jupyter-widgets/controls",
            "_view_module_version": "1.5.0",
            "_view_name": "ProgressView",
            "bar_style": "success",
            "description": "",
            "description_tooltip": null,
            "layout": "IPY_MODEL_91cb264e7a004fec8e7d0dd39c57b778",
            "max": 5148,
            "min": 0,
            "orientation": "horizontal",
            "style": "IPY_MODEL_1e65697cb40449b0b7072f21754f790e",
            "value": 5148
          }
        },
        "64235f883d5f45e381a33158c111fdfa": {
          "model_module": "@jupyter-widgets/controls",
          "model_module_version": "1.5.0",
          "model_name": "FloatProgressModel",
          "state": {
            "_dom_classes": [],
            "_model_module": "@jupyter-widgets/controls",
            "_model_module_version": "1.5.0",
            "_model_name": "FloatProgressModel",
            "_view_count": null,
            "_view_module": "@jupyter-widgets/controls",
            "_view_module_version": "1.5.0",
            "_view_name": "ProgressView",
            "bar_style": "success",
            "description": "",
            "description_tooltip": null,
            "layout": "IPY_MODEL_9fe81657293d40618e095169dbe99049",
            "max": 29515,
            "min": 0,
            "orientation": "horizontal",
            "style": "IPY_MODEL_f879492678ad486290b1328c92e7c1dd",
            "value": 29515
          }
        },
        "7b02d01fb3514fafb7aea98cd50a3fbd": {
          "model_module": "@jupyter-widgets/controls",
          "model_module_version": "1.5.0",
          "model_name": "DescriptionStyleModel",
          "state": {
            "_model_module": "@jupyter-widgets/controls",
            "_model_module_version": "1.5.0",
            "_model_name": "DescriptionStyleModel",
            "_view_count": null,
            "_view_module": "@jupyter-widgets/base",
            "_view_module_version": "1.2.0",
            "_view_name": "StyleView",
            "description_width": ""
          }
        },
        "7f863aa46e294180a067669c4108f265": {
          "model_module": "@jupyter-widgets/base",
          "model_module_version": "1.2.0",
          "model_name": "LayoutModel",
          "state": {
            "_model_module": "@jupyter-widgets/base",
            "_model_module_version": "1.2.0",
            "_model_name": "LayoutModel",
            "_view_count": null,
            "_view_module": "@jupyter-widgets/base",
            "_view_module_version": "1.2.0",
            "_view_name": "LayoutView",
            "align_content": null,
            "align_items": null,
            "align_self": null,
            "border": null,
            "bottom": null,
            "display": null,
            "flex": null,
            "flex_flow": null,
            "grid_area": null,
            "grid_auto_columns": null,
            "grid_auto_flow": null,
            "grid_auto_rows": null,
            "grid_column": null,
            "grid_gap": null,
            "grid_row": null,
            "grid_template_areas": null,
            "grid_template_columns": null,
            "grid_template_rows": null,
            "height": null,
            "justify_content": null,
            "justify_items": null,
            "left": null,
            "margin": null,
            "max_height": null,
            "max_width": null,
            "min_height": null,
            "min_width": null,
            "object_fit": null,
            "object_position": null,
            "order": null,
            "overflow": null,
            "overflow_x": null,
            "overflow_y": null,
            "padding": null,
            "right": null,
            "top": null,
            "visibility": null,
            "width": null
          }
        },
        "836ee11cddf34da9a953f39b6836ef30": {
          "model_module": "@jupyter-widgets/controls",
          "model_module_version": "1.5.0",
          "model_name": "DescriptionStyleModel",
          "state": {
            "_model_module": "@jupyter-widgets/controls",
            "_model_module_version": "1.5.0",
            "_model_name": "DescriptionStyleModel",
            "_view_count": null,
            "_view_module": "@jupyter-widgets/base",
            "_view_module_version": "1.2.0",
            "_view_name": "StyleView",
            "description_width": ""
          }
        },
        "8c85a5f6243e4e6bbfaa54938f7e39fa": {
          "model_module": "@jupyter-widgets/controls",
          "model_module_version": "1.5.0",
          "model_name": "HTMLModel",
          "state": {
            "_dom_classes": [],
            "_model_module": "@jupyter-widgets/controls",
            "_model_module_version": "1.5.0",
            "_model_name": "HTMLModel",
            "_view_count": null,
            "_view_module": "@jupyter-widgets/controls",
            "_view_module_version": "1.5.0",
            "_view_name": "HTMLView",
            "description": "",
            "description_tooltip": null,
            "layout": "IPY_MODEL_5604fee473a746fab81ae765a2271a6c",
            "placeholder": "​",
            "style": "IPY_MODEL_1cd8b5649314465e9493a34db7940ca4",
            "value": " 4422102/4422102 [00:01&lt;00:00, 5921786.76it/s]"
          }
        },
        "91cb264e7a004fec8e7d0dd39c57b778": {
          "model_module": "@jupyter-widgets/base",
          "model_module_version": "1.2.0",
          "model_name": "LayoutModel",
          "state": {
            "_model_module": "@jupyter-widgets/base",
            "_model_module_version": "1.2.0",
            "_model_name": "LayoutModel",
            "_view_count": null,
            "_view_module": "@jupyter-widgets/base",
            "_view_module_version": "1.2.0",
            "_view_name": "LayoutView",
            "align_content": null,
            "align_items": null,
            "align_self": null,
            "border": null,
            "bottom": null,
            "display": null,
            "flex": null,
            "flex_flow": null,
            "grid_area": null,
            "grid_auto_columns": null,
            "grid_auto_flow": null,
            "grid_auto_rows": null,
            "grid_column": null,
            "grid_gap": null,
            "grid_row": null,
            "grid_template_areas": null,
            "grid_template_columns": null,
            "grid_template_rows": null,
            "height": null,
            "justify_content": null,
            "justify_items": null,
            "left": null,
            "margin": null,
            "max_height": null,
            "max_width": null,
            "min_height": null,
            "min_width": null,
            "object_fit": null,
            "object_position": null,
            "order": null,
            "overflow": null,
            "overflow_x": null,
            "overflow_y": null,
            "padding": null,
            "right": null,
            "top": null,
            "visibility": null,
            "width": null
          }
        },
        "945a08e024f449799732ac46140d2ebe": {
          "model_module": "@jupyter-widgets/controls",
          "model_module_version": "1.5.0",
          "model_name": "HTMLModel",
          "state": {
            "_dom_classes": [],
            "_model_module": "@jupyter-widgets/controls",
            "_model_module_version": "1.5.0",
            "_model_name": "HTMLModel",
            "_view_count": null,
            "_view_module": "@jupyter-widgets/controls",
            "_view_module_version": "1.5.0",
            "_view_name": "HTMLView",
            "description": "",
            "description_tooltip": null,
            "layout": "IPY_MODEL_0ce4ac62c34a4a81a1747b88c6a520c1",
            "placeholder": "​",
            "style": "IPY_MODEL_5114b2377c5d4b708e5beae9660e518d",
            "value": "100%"
          }
        },
        "959d269e575348bd8f7afcffbdff869d": {
          "model_module": "@jupyter-widgets/controls",
          "model_module_version": "1.5.0",
          "model_name": "HBoxModel",
          "state": {
            "_dom_classes": [],
            "_model_module": "@jupyter-widgets/controls",
            "_model_module_version": "1.5.0",
            "_model_name": "HBoxModel",
            "_view_count": null,
            "_view_module": "@jupyter-widgets/controls",
            "_view_module_version": "1.5.0",
            "_view_name": "HBoxView",
            "box_style": "",
            "children": [
              "IPY_MODEL_2dd44f5c6123425a8f1893bee99dcb22",
              "IPY_MODEL_64235f883d5f45e381a33158c111fdfa",
              "IPY_MODEL_0691ce4994b54abca5696ea60fbbda8f"
            ],
            "layout": "IPY_MODEL_ba3330911bd34453a7d337b720b3a9e4"
          }
        },
        "9de36e1829ff45e0bad65fe968296956": {
          "model_module": "@jupyter-widgets/base",
          "model_module_version": "1.2.0",
          "model_name": "LayoutModel",
          "state": {
            "_model_module": "@jupyter-widgets/base",
            "_model_module_version": "1.2.0",
            "_model_name": "LayoutModel",
            "_view_count": null,
            "_view_module": "@jupyter-widgets/base",
            "_view_module_version": "1.2.0",
            "_view_name": "LayoutView",
            "align_content": null,
            "align_items": null,
            "align_self": null,
            "border": null,
            "bottom": null,
            "display": null,
            "flex": null,
            "flex_flow": null,
            "grid_area": null,
            "grid_auto_columns": null,
            "grid_auto_flow": null,
            "grid_auto_rows": null,
            "grid_column": null,
            "grid_gap": null,
            "grid_row": null,
            "grid_template_areas": null,
            "grid_template_columns": null,
            "grid_template_rows": null,
            "height": null,
            "justify_content": null,
            "justify_items": null,
            "left": null,
            "margin": null,
            "max_height": null,
            "max_width": null,
            "min_height": null,
            "min_width": null,
            "object_fit": null,
            "object_position": null,
            "order": null,
            "overflow": null,
            "overflow_x": null,
            "overflow_y": null,
            "padding": null,
            "right": null,
            "top": null,
            "visibility": null,
            "width": null
          }
        },
        "9edae1b8c827439d91e595553e7fa13a": {
          "model_module": "@jupyter-widgets/controls",
          "model_module_version": "1.5.0",
          "model_name": "HBoxModel",
          "state": {
            "_dom_classes": [],
            "_model_module": "@jupyter-widgets/controls",
            "_model_module_version": "1.5.0",
            "_model_name": "HBoxModel",
            "_view_count": null,
            "_view_module": "@jupyter-widgets/controls",
            "_view_module_version": "1.5.0",
            "_view_name": "HBoxView",
            "box_style": "",
            "children": [
              "IPY_MODEL_e62a06ee4e754de5948abb56dd16d583",
              "IPY_MODEL_2e49fa82bdb844c0bdc6db78d4006b0b",
              "IPY_MODEL_e12ffd5d562b42ee805b0884c05c6005"
            ],
            "layout": "IPY_MODEL_3f9291e1d4e443cda11d7fb77f8fde78"
          }
        },
        "9fe81657293d40618e095169dbe99049": {
          "model_module": "@jupyter-widgets/base",
          "model_module_version": "1.2.0",
          "model_name": "LayoutModel",
          "state": {
            "_model_module": "@jupyter-widgets/base",
            "_model_module_version": "1.2.0",
            "_model_name": "LayoutModel",
            "_view_count": null,
            "_view_module": "@jupyter-widgets/base",
            "_view_module_version": "1.2.0",
            "_view_name": "LayoutView",
            "align_content": null,
            "align_items": null,
            "align_self": null,
            "border": null,
            "bottom": null,
            "display": null,
            "flex": null,
            "flex_flow": null,
            "grid_area": null,
            "grid_auto_columns": null,
            "grid_auto_flow": null,
            "grid_auto_rows": null,
            "grid_column": null,
            "grid_gap": null,
            "grid_row": null,
            "grid_template_areas": null,
            "grid_template_columns": null,
            "grid_template_rows": null,
            "height": null,
            "justify_content": null,
            "justify_items": null,
            "left": null,
            "margin": null,
            "max_height": null,
            "max_width": null,
            "min_height": null,
            "min_width": null,
            "object_fit": null,
            "object_position": null,
            "order": null,
            "overflow": null,
            "overflow_x": null,
            "overflow_y": null,
            "padding": null,
            "right": null,
            "top": null,
            "visibility": null,
            "width": null
          }
        },
        "ad4a8d6e64c44f7cb6c20d3847a09e84": {
          "model_module": "@jupyter-widgets/controls",
          "model_module_version": "1.5.0",
          "model_name": "DescriptionStyleModel",
          "state": {
            "_model_module": "@jupyter-widgets/controls",
            "_model_module_version": "1.5.0",
            "_model_name": "DescriptionStyleModel",
            "_view_count": null,
            "_view_module": "@jupyter-widgets/base",
            "_view_module_version": "1.2.0",
            "_view_name": "StyleView",
            "description_width": ""
          }
        },
        "b7c8d854b9044ea596e3b6ca8355222d": {
          "model_module": "@jupyter-widgets/base",
          "model_module_version": "1.2.0",
          "model_name": "LayoutModel",
          "state": {
            "_model_module": "@jupyter-widgets/base",
            "_model_module_version": "1.2.0",
            "_model_name": "LayoutModel",
            "_view_count": null,
            "_view_module": "@jupyter-widgets/base",
            "_view_module_version": "1.2.0",
            "_view_name": "LayoutView",
            "align_content": null,
            "align_items": null,
            "align_self": null,
            "border": null,
            "bottom": null,
            "display": null,
            "flex": null,
            "flex_flow": null,
            "grid_area": null,
            "grid_auto_columns": null,
            "grid_auto_flow": null,
            "grid_auto_rows": null,
            "grid_column": null,
            "grid_gap": null,
            "grid_row": null,
            "grid_template_areas": null,
            "grid_template_columns": null,
            "grid_template_rows": null,
            "height": null,
            "justify_content": null,
            "justify_items": null,
            "left": null,
            "margin": null,
            "max_height": null,
            "max_width": null,
            "min_height": null,
            "min_width": null,
            "object_fit": null,
            "object_position": null,
            "order": null,
            "overflow": null,
            "overflow_x": null,
            "overflow_y": null,
            "padding": null,
            "right": null,
            "top": null,
            "visibility": null,
            "width": null
          }
        },
        "b8698bad77bf45208ecdeacbc1d338ba": {
          "model_module": "@jupyter-widgets/controls",
          "model_module_version": "1.5.0",
          "model_name": "HTMLModel",
          "state": {
            "_dom_classes": [],
            "_model_module": "@jupyter-widgets/controls",
            "_model_module_version": "1.5.0",
            "_model_name": "HTMLModel",
            "_view_count": null,
            "_view_module": "@jupyter-widgets/controls",
            "_view_module_version": "1.5.0",
            "_view_name": "HTMLView",
            "description": "",
            "description_tooltip": null,
            "layout": "IPY_MODEL_e477968cf81b4640afe2c4f6a3c96708",
            "placeholder": "​",
            "style": "IPY_MODEL_836ee11cddf34da9a953f39b6836ef30",
            "value": "100%"
          }
        },
        "ba3330911bd34453a7d337b720b3a9e4": {
          "model_module": "@jupyter-widgets/base",
          "model_module_version": "1.2.0",
          "model_name": "LayoutModel",
          "state": {
            "_model_module": "@jupyter-widgets/base",
            "_model_module_version": "1.2.0",
            "_model_name": "LayoutModel",
            "_view_count": null,
            "_view_module": "@jupyter-widgets/base",
            "_view_module_version": "1.2.0",
            "_view_name": "LayoutView",
            "align_content": null,
            "align_items": null,
            "align_self": null,
            "border": null,
            "bottom": null,
            "display": null,
            "flex": null,
            "flex_flow": null,
            "grid_area": null,
            "grid_auto_columns": null,
            "grid_auto_flow": null,
            "grid_auto_rows": null,
            "grid_column": null,
            "grid_gap": null,
            "grid_row": null,
            "grid_template_areas": null,
            "grid_template_columns": null,
            "grid_template_rows": null,
            "height": null,
            "justify_content": null,
            "justify_items": null,
            "left": null,
            "margin": null,
            "max_height": null,
            "max_width": null,
            "min_height": null,
            "min_width": null,
            "object_fit": null,
            "object_position": null,
            "order": null,
            "overflow": null,
            "overflow_x": null,
            "overflow_y": null,
            "padding": null,
            "right": null,
            "top": null,
            "visibility": null,
            "width": null
          }
        },
        "bfdaff59ea6a4d4aa8000300b06877a0": {
          "model_module": "@jupyter-widgets/controls",
          "model_module_version": "1.5.0",
          "model_name": "DescriptionStyleModel",
          "state": {
            "_model_module": "@jupyter-widgets/controls",
            "_model_module_version": "1.5.0",
            "_model_name": "DescriptionStyleModel",
            "_view_count": null,
            "_view_module": "@jupyter-widgets/base",
            "_view_module_version": "1.2.0",
            "_view_name": "StyleView",
            "description_width": ""
          }
        },
        "c1fe5fe2a2774c6ba1ae3639387a40fa": {
          "model_module": "@jupyter-widgets/base",
          "model_module_version": "1.2.0",
          "model_name": "LayoutModel",
          "state": {
            "_model_module": "@jupyter-widgets/base",
            "_model_module_version": "1.2.0",
            "_model_name": "LayoutModel",
            "_view_count": null,
            "_view_module": "@jupyter-widgets/base",
            "_view_module_version": "1.2.0",
            "_view_name": "LayoutView",
            "align_content": null,
            "align_items": null,
            "align_self": null,
            "border": null,
            "bottom": null,
            "display": null,
            "flex": null,
            "flex_flow": null,
            "grid_area": null,
            "grid_auto_columns": null,
            "grid_auto_flow": null,
            "grid_auto_rows": null,
            "grid_column": null,
            "grid_gap": null,
            "grid_row": null,
            "grid_template_areas": null,
            "grid_template_columns": null,
            "grid_template_rows": null,
            "height": null,
            "justify_content": null,
            "justify_items": null,
            "left": null,
            "margin": null,
            "max_height": null,
            "max_width": null,
            "min_height": null,
            "min_width": null,
            "object_fit": null,
            "object_position": null,
            "order": null,
            "overflow": null,
            "overflow_x": null,
            "overflow_y": null,
            "padding": null,
            "right": null,
            "top": null,
            "visibility": null,
            "width": null
          }
        },
        "c2a8877eaceb44b8b0ef063b50aa41a9": {
          "model_module": "@jupyter-widgets/controls",
          "model_module_version": "1.5.0",
          "model_name": "HBoxModel",
          "state": {
            "_dom_classes": [],
            "_model_module": "@jupyter-widgets/controls",
            "_model_module_version": "1.5.0",
            "_model_name": "HBoxModel",
            "_view_count": null,
            "_view_module": "@jupyter-widgets/controls",
            "_view_module_version": "1.5.0",
            "_view_name": "HBoxView",
            "box_style": "",
            "children": [
              "IPY_MODEL_b8698bad77bf45208ecdeacbc1d338ba",
              "IPY_MODEL_61708472c0b4404d92549b864e768b8c",
              "IPY_MODEL_00eb1c32d8604eb3b67027255cbacf57"
            ],
            "layout": "IPY_MODEL_152a69a1bd554b48ac335157ac65a128"
          }
        },
        "e12ffd5d562b42ee805b0884c05c6005": {
          "model_module": "@jupyter-widgets/controls",
          "model_module_version": "1.5.0",
          "model_name": "HTMLModel",
          "state": {
            "_dom_classes": [],
            "_model_module": "@jupyter-widgets/controls",
            "_model_module_version": "1.5.0",
            "_model_name": "HTMLModel",
            "_view_count": null,
            "_view_module": "@jupyter-widgets/controls",
            "_view_module_version": "1.5.0",
            "_view_name": "HTMLView",
            "description": "",
            "description_tooltip": null,
            "layout": "IPY_MODEL_ebf298e6d16e4983a0e6196ec8cfdad5",
            "placeholder": "​",
            "style": "IPY_MODEL_ad4a8d6e64c44f7cb6c20d3847a09e84",
            "value": " 26421880/26421880 [00:02&lt;00:00, 12307621.46it/s]"
          }
        },
        "e1b7448081c74c1388de6e974d7074d3": {
          "model_module": "@jupyter-widgets/controls",
          "model_module_version": "1.5.0",
          "model_name": "ProgressStyleModel",
          "state": {
            "_model_module": "@jupyter-widgets/controls",
            "_model_module_version": "1.5.0",
            "_model_name": "ProgressStyleModel",
            "_view_count": null,
            "_view_module": "@jupyter-widgets/base",
            "_view_module_version": "1.2.0",
            "_view_name": "StyleView",
            "bar_color": null,
            "description_width": ""
          }
        },
        "e31002e52c124193b8e3149aaaaddf78": {
          "model_module": "@jupyter-widgets/controls",
          "model_module_version": "1.5.0",
          "model_name": "DescriptionStyleModel",
          "state": {
            "_model_module": "@jupyter-widgets/controls",
            "_model_module_version": "1.5.0",
            "_model_name": "DescriptionStyleModel",
            "_view_count": null,
            "_view_module": "@jupyter-widgets/base",
            "_view_module_version": "1.2.0",
            "_view_name": "StyleView",
            "description_width": ""
          }
        },
        "e477968cf81b4640afe2c4f6a3c96708": {
          "model_module": "@jupyter-widgets/base",
          "model_module_version": "1.2.0",
          "model_name": "LayoutModel",
          "state": {
            "_model_module": "@jupyter-widgets/base",
            "_model_module_version": "1.2.0",
            "_model_name": "LayoutModel",
            "_view_count": null,
            "_view_module": "@jupyter-widgets/base",
            "_view_module_version": "1.2.0",
            "_view_name": "LayoutView",
            "align_content": null,
            "align_items": null,
            "align_self": null,
            "border": null,
            "bottom": null,
            "display": null,
            "flex": null,
            "flex_flow": null,
            "grid_area": null,
            "grid_auto_columns": null,
            "grid_auto_flow": null,
            "grid_auto_rows": null,
            "grid_column": null,
            "grid_gap": null,
            "grid_row": null,
            "grid_template_areas": null,
            "grid_template_columns": null,
            "grid_template_rows": null,
            "height": null,
            "justify_content": null,
            "justify_items": null,
            "left": null,
            "margin": null,
            "max_height": null,
            "max_width": null,
            "min_height": null,
            "min_width": null,
            "object_fit": null,
            "object_position": null,
            "order": null,
            "overflow": null,
            "overflow_x": null,
            "overflow_y": null,
            "padding": null,
            "right": null,
            "top": null,
            "visibility": null,
            "width": null
          }
        },
        "e62a06ee4e754de5948abb56dd16d583": {
          "model_module": "@jupyter-widgets/controls",
          "model_module_version": "1.5.0",
          "model_name": "HTMLModel",
          "state": {
            "_dom_classes": [],
            "_model_module": "@jupyter-widgets/controls",
            "_model_module_version": "1.5.0",
            "_model_name": "HTMLModel",
            "_view_count": null,
            "_view_module": "@jupyter-widgets/controls",
            "_view_module_version": "1.5.0",
            "_view_name": "HTMLView",
            "description": "",
            "description_tooltip": null,
            "layout": "IPY_MODEL_c1fe5fe2a2774c6ba1ae3639387a40fa",
            "placeholder": "​",
            "style": "IPY_MODEL_4298ec00ee4d4cf1a48265485a4dd9f5",
            "value": "100%"
          }
        },
        "ebf298e6d16e4983a0e6196ec8cfdad5": {
          "model_module": "@jupyter-widgets/base",
          "model_module_version": "1.2.0",
          "model_name": "LayoutModel",
          "state": {
            "_model_module": "@jupyter-widgets/base",
            "_model_module_version": "1.2.0",
            "_model_name": "LayoutModel",
            "_view_count": null,
            "_view_module": "@jupyter-widgets/base",
            "_view_module_version": "1.2.0",
            "_view_name": "LayoutView",
            "align_content": null,
            "align_items": null,
            "align_self": null,
            "border": null,
            "bottom": null,
            "display": null,
            "flex": null,
            "flex_flow": null,
            "grid_area": null,
            "grid_auto_columns": null,
            "grid_auto_flow": null,
            "grid_auto_rows": null,
            "grid_column": null,
            "grid_gap": null,
            "grid_row": null,
            "grid_template_areas": null,
            "grid_template_columns": null,
            "grid_template_rows": null,
            "height": null,
            "justify_content": null,
            "justify_items": null,
            "left": null,
            "margin": null,
            "max_height": null,
            "max_width": null,
            "min_height": null,
            "min_width": null,
            "object_fit": null,
            "object_position": null,
            "order": null,
            "overflow": null,
            "overflow_x": null,
            "overflow_y": null,
            "padding": null,
            "right": null,
            "top": null,
            "visibility": null,
            "width": null
          }
        },
        "f879492678ad486290b1328c92e7c1dd": {
          "model_module": "@jupyter-widgets/controls",
          "model_module_version": "1.5.0",
          "model_name": "ProgressStyleModel",
          "state": {
            "_model_module": "@jupyter-widgets/controls",
            "_model_module_version": "1.5.0",
            "_model_name": "ProgressStyleModel",
            "_view_count": null,
            "_view_module": "@jupyter-widgets/base",
            "_view_module_version": "1.2.0",
            "_view_name": "StyleView",
            "bar_color": null,
            "description_width": ""
          }
        }
      }
    }
  },
  "nbformat": 4,
  "nbformat_minor": 0
}

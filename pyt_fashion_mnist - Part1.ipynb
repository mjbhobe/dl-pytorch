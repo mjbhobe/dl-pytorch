{
  "nbformat": 4,
  "nbformat_minor": 0,
  "metadata": {
    "colab": {
      "name": "pyt_fashion_mnist-Part1.ipynb",
      "provenance": [],
      "collapsed_sections": [],
      "machine_shape": "hm"
    },
    "kernelspec": {
      "name": "python3",
      "display_name": "Python 3"
    },
    "accelerator": "GPU",
    "widgets": {
      "application/vnd.jupyter.widget-state+json": {
        "9979f50c11de4fa981b3e56c2b0d99d7": {
          "model_module": "@jupyter-widgets/controls",
          "model_name": "HBoxModel",
          "model_module_version": "1.5.0",
          "state": {
            "_dom_classes": [],
            "_model_module": "@jupyter-widgets/controls",
            "_model_module_version": "1.5.0",
            "_model_name": "HBoxModel",
            "_view_count": null,
            "_view_module": "@jupyter-widgets/controls",
            "_view_module_version": "1.5.0",
            "_view_name": "HBoxView",
            "box_style": "",
            "children": [
              "IPY_MODEL_21da49cf857e4106b5fc068f9dcf2795",
              "IPY_MODEL_962e01c01d6a4aa2a649d9854d7f6455",
              "IPY_MODEL_ed0c6e8da5f54fcd99159f1c6bf9429a"
            ],
            "layout": "IPY_MODEL_d4ae4242364542c7bdd7152f0a5a11c7"
          }
        },
        "21da49cf857e4106b5fc068f9dcf2795": {
          "model_module": "@jupyter-widgets/controls",
          "model_name": "HTMLModel",
          "model_module_version": "1.5.0",
          "state": {
            "_dom_classes": [],
            "_model_module": "@jupyter-widgets/controls",
            "_model_module_version": "1.5.0",
            "_model_name": "HTMLModel",
            "_view_count": null,
            "_view_module": "@jupyter-widgets/controls",
            "_view_module_version": "1.5.0",
            "_view_name": "HTMLView",
            "description": "",
            "description_tooltip": null,
            "layout": "IPY_MODEL_a428fe71f245463e9d775f40147b2d12",
            "placeholder": "​",
            "style": "IPY_MODEL_70461fea6ab949fd8d672e64658d8f18",
            "value": ""
          }
        },
        "962e01c01d6a4aa2a649d9854d7f6455": {
          "model_module": "@jupyter-widgets/controls",
          "model_name": "FloatProgressModel",
          "model_module_version": "1.5.0",
          "state": {
            "_dom_classes": [],
            "_model_module": "@jupyter-widgets/controls",
            "_model_module_version": "1.5.0",
            "_model_name": "FloatProgressModel",
            "_view_count": null,
            "_view_module": "@jupyter-widgets/controls",
            "_view_module_version": "1.5.0",
            "_view_name": "ProgressView",
            "bar_style": "success",
            "description": "",
            "description_tooltip": null,
            "layout": "IPY_MODEL_623a73280a644877a0dfd9feac833ab6",
            "max": 26421880,
            "min": 0,
            "orientation": "horizontal",
            "style": "IPY_MODEL_95fb8054cc464addbddb7888c6bf6118",
            "value": 26421880
          }
        },
        "ed0c6e8da5f54fcd99159f1c6bf9429a": {
          "model_module": "@jupyter-widgets/controls",
          "model_name": "HTMLModel",
          "model_module_version": "1.5.0",
          "state": {
            "_dom_classes": [],
            "_model_module": "@jupyter-widgets/controls",
            "_model_module_version": "1.5.0",
            "_model_name": "HTMLModel",
            "_view_count": null,
            "_view_module": "@jupyter-widgets/controls",
            "_view_module_version": "1.5.0",
            "_view_name": "HTMLView",
            "description": "",
            "description_tooltip": null,
            "layout": "IPY_MODEL_627298d0c5ba4845910b132197098279",
            "placeholder": "​",
            "style": "IPY_MODEL_02ec1a1c986c4c318a663a21a53c9e2b",
            "value": " 26422272/? [00:04&lt;00:00, 10316408.53it/s]"
          }
        },
        "d4ae4242364542c7bdd7152f0a5a11c7": {
          "model_module": "@jupyter-widgets/base",
          "model_name": "LayoutModel",
          "model_module_version": "1.2.0",
          "state": {
            "_model_module": "@jupyter-widgets/base",
            "_model_module_version": "1.2.0",
            "_model_name": "LayoutModel",
            "_view_count": null,
            "_view_module": "@jupyter-widgets/base",
            "_view_module_version": "1.2.0",
            "_view_name": "LayoutView",
            "align_content": null,
            "align_items": null,
            "align_self": null,
            "border": null,
            "bottom": null,
            "display": null,
            "flex": null,
            "flex_flow": null,
            "grid_area": null,
            "grid_auto_columns": null,
            "grid_auto_flow": null,
            "grid_auto_rows": null,
            "grid_column": null,
            "grid_gap": null,
            "grid_row": null,
            "grid_template_areas": null,
            "grid_template_columns": null,
            "grid_template_rows": null,
            "height": null,
            "justify_content": null,
            "justify_items": null,
            "left": null,
            "margin": null,
            "max_height": null,
            "max_width": null,
            "min_height": null,
            "min_width": null,
            "object_fit": null,
            "object_position": null,
            "order": null,
            "overflow": null,
            "overflow_x": null,
            "overflow_y": null,
            "padding": null,
            "right": null,
            "top": null,
            "visibility": null,
            "width": null
          }
        },
        "a428fe71f245463e9d775f40147b2d12": {
          "model_module": "@jupyter-widgets/base",
          "model_name": "LayoutModel",
          "model_module_version": "1.2.0",
          "state": {
            "_model_module": "@jupyter-widgets/base",
            "_model_module_version": "1.2.0",
            "_model_name": "LayoutModel",
            "_view_count": null,
            "_view_module": "@jupyter-widgets/base",
            "_view_module_version": "1.2.0",
            "_view_name": "LayoutView",
            "align_content": null,
            "align_items": null,
            "align_self": null,
            "border": null,
            "bottom": null,
            "display": null,
            "flex": null,
            "flex_flow": null,
            "grid_area": null,
            "grid_auto_columns": null,
            "grid_auto_flow": null,
            "grid_auto_rows": null,
            "grid_column": null,
            "grid_gap": null,
            "grid_row": null,
            "grid_template_areas": null,
            "grid_template_columns": null,
            "grid_template_rows": null,
            "height": null,
            "justify_content": null,
            "justify_items": null,
            "left": null,
            "margin": null,
            "max_height": null,
            "max_width": null,
            "min_height": null,
            "min_width": null,
            "object_fit": null,
            "object_position": null,
            "order": null,
            "overflow": null,
            "overflow_x": null,
            "overflow_y": null,
            "padding": null,
            "right": null,
            "top": null,
            "visibility": null,
            "width": null
          }
        },
        "70461fea6ab949fd8d672e64658d8f18": {
          "model_module": "@jupyter-widgets/controls",
          "model_name": "DescriptionStyleModel",
          "model_module_version": "1.5.0",
          "state": {
            "_model_module": "@jupyter-widgets/controls",
            "_model_module_version": "1.5.0",
            "_model_name": "DescriptionStyleModel",
            "_view_count": null,
            "_view_module": "@jupyter-widgets/base",
            "_view_module_version": "1.2.0",
            "_view_name": "StyleView",
            "description_width": ""
          }
        },
        "623a73280a644877a0dfd9feac833ab6": {
          "model_module": "@jupyter-widgets/base",
          "model_name": "LayoutModel",
          "model_module_version": "1.2.0",
          "state": {
            "_model_module": "@jupyter-widgets/base",
            "_model_module_version": "1.2.0",
            "_model_name": "LayoutModel",
            "_view_count": null,
            "_view_module": "@jupyter-widgets/base",
            "_view_module_version": "1.2.0",
            "_view_name": "LayoutView",
            "align_content": null,
            "align_items": null,
            "align_self": null,
            "border": null,
            "bottom": null,
            "display": null,
            "flex": null,
            "flex_flow": null,
            "grid_area": null,
            "grid_auto_columns": null,
            "grid_auto_flow": null,
            "grid_auto_rows": null,
            "grid_column": null,
            "grid_gap": null,
            "grid_row": null,
            "grid_template_areas": null,
            "grid_template_columns": null,
            "grid_template_rows": null,
            "height": null,
            "justify_content": null,
            "justify_items": null,
            "left": null,
            "margin": null,
            "max_height": null,
            "max_width": null,
            "min_height": null,
            "min_width": null,
            "object_fit": null,
            "object_position": null,
            "order": null,
            "overflow": null,
            "overflow_x": null,
            "overflow_y": null,
            "padding": null,
            "right": null,
            "top": null,
            "visibility": null,
            "width": null
          }
        },
        "95fb8054cc464addbddb7888c6bf6118": {
          "model_module": "@jupyter-widgets/controls",
          "model_name": "ProgressStyleModel",
          "model_module_version": "1.5.0",
          "state": {
            "_model_module": "@jupyter-widgets/controls",
            "_model_module_version": "1.5.0",
            "_model_name": "ProgressStyleModel",
            "_view_count": null,
            "_view_module": "@jupyter-widgets/base",
            "_view_module_version": "1.2.0",
            "_view_name": "StyleView",
            "bar_color": null,
            "description_width": ""
          }
        },
        "627298d0c5ba4845910b132197098279": {
          "model_module": "@jupyter-widgets/base",
          "model_name": "LayoutModel",
          "model_module_version": "1.2.0",
          "state": {
            "_model_module": "@jupyter-widgets/base",
            "_model_module_version": "1.2.0",
            "_model_name": "LayoutModel",
            "_view_count": null,
            "_view_module": "@jupyter-widgets/base",
            "_view_module_version": "1.2.0",
            "_view_name": "LayoutView",
            "align_content": null,
            "align_items": null,
            "align_self": null,
            "border": null,
            "bottom": null,
            "display": null,
            "flex": null,
            "flex_flow": null,
            "grid_area": null,
            "grid_auto_columns": null,
            "grid_auto_flow": null,
            "grid_auto_rows": null,
            "grid_column": null,
            "grid_gap": null,
            "grid_row": null,
            "grid_template_areas": null,
            "grid_template_columns": null,
            "grid_template_rows": null,
            "height": null,
            "justify_content": null,
            "justify_items": null,
            "left": null,
            "margin": null,
            "max_height": null,
            "max_width": null,
            "min_height": null,
            "min_width": null,
            "object_fit": null,
            "object_position": null,
            "order": null,
            "overflow": null,
            "overflow_x": null,
            "overflow_y": null,
            "padding": null,
            "right": null,
            "top": null,
            "visibility": null,
            "width": null
          }
        },
        "02ec1a1c986c4c318a663a21a53c9e2b": {
          "model_module": "@jupyter-widgets/controls",
          "model_name": "DescriptionStyleModel",
          "model_module_version": "1.5.0",
          "state": {
            "_model_module": "@jupyter-widgets/controls",
            "_model_module_version": "1.5.0",
            "_model_name": "DescriptionStyleModel",
            "_view_count": null,
            "_view_module": "@jupyter-widgets/base",
            "_view_module_version": "1.2.0",
            "_view_name": "StyleView",
            "description_width": ""
          }
        },
        "94bf57809abd4d7f9a2bb48466f25cbc": {
          "model_module": "@jupyter-widgets/controls",
          "model_name": "HBoxModel",
          "model_module_version": "1.5.0",
          "state": {
            "_dom_classes": [],
            "_model_module": "@jupyter-widgets/controls",
            "_model_module_version": "1.5.0",
            "_model_name": "HBoxModel",
            "_view_count": null,
            "_view_module": "@jupyter-widgets/controls",
            "_view_module_version": "1.5.0",
            "_view_name": "HBoxView",
            "box_style": "",
            "children": [
              "IPY_MODEL_f727d13cfa8b425e880bb86d2ac588c5",
              "IPY_MODEL_0632b6aec2884648b6eff110f4492ee1",
              "IPY_MODEL_6d468d615e814080806b15f4b2305d4a"
            ],
            "layout": "IPY_MODEL_51bc6b149ec546cc85d653e97df4a34f"
          }
        },
        "f727d13cfa8b425e880bb86d2ac588c5": {
          "model_module": "@jupyter-widgets/controls",
          "model_name": "HTMLModel",
          "model_module_version": "1.5.0",
          "state": {
            "_dom_classes": [],
            "_model_module": "@jupyter-widgets/controls",
            "_model_module_version": "1.5.0",
            "_model_name": "HTMLModel",
            "_view_count": null,
            "_view_module": "@jupyter-widgets/controls",
            "_view_module_version": "1.5.0",
            "_view_name": "HTMLView",
            "description": "",
            "description_tooltip": null,
            "layout": "IPY_MODEL_9a8544ca6e1f4adaa84f2392adfd3600",
            "placeholder": "​",
            "style": "IPY_MODEL_389e0b565d344919a888cf0ef5639630",
            "value": ""
          }
        },
        "0632b6aec2884648b6eff110f4492ee1": {
          "model_module": "@jupyter-widgets/controls",
          "model_name": "FloatProgressModel",
          "model_module_version": "1.5.0",
          "state": {
            "_dom_classes": [],
            "_model_module": "@jupyter-widgets/controls",
            "_model_module_version": "1.5.0",
            "_model_name": "FloatProgressModel",
            "_view_count": null,
            "_view_module": "@jupyter-widgets/controls",
            "_view_module_version": "1.5.0",
            "_view_name": "ProgressView",
            "bar_style": "success",
            "description": "",
            "description_tooltip": null,
            "layout": "IPY_MODEL_f83b8d9b7a314b8abc3f2f6b76c34826",
            "max": 29515,
            "min": 0,
            "orientation": "horizontal",
            "style": "IPY_MODEL_e7c9db82c39e4241a63278d466c024e5",
            "value": 29515
          }
        },
        "6d468d615e814080806b15f4b2305d4a": {
          "model_module": "@jupyter-widgets/controls",
          "model_name": "HTMLModel",
          "model_module_version": "1.5.0",
          "state": {
            "_dom_classes": [],
            "_model_module": "@jupyter-widgets/controls",
            "_model_module_version": "1.5.0",
            "_model_name": "HTMLModel",
            "_view_count": null,
            "_view_module": "@jupyter-widgets/controls",
            "_view_module_version": "1.5.0",
            "_view_name": "HTMLView",
            "description": "",
            "description_tooltip": null,
            "layout": "IPY_MODEL_ab6e79154a124a26a604a40c2095ce3a",
            "placeholder": "​",
            "style": "IPY_MODEL_7500496cf61b43db8111502856757988",
            "value": " 29696/? [00:00&lt;00:00, 49175.26it/s]"
          }
        },
        "51bc6b149ec546cc85d653e97df4a34f": {
          "model_module": "@jupyter-widgets/base",
          "model_name": "LayoutModel",
          "model_module_version": "1.2.0",
          "state": {
            "_model_module": "@jupyter-widgets/base",
            "_model_module_version": "1.2.0",
            "_model_name": "LayoutModel",
            "_view_count": null,
            "_view_module": "@jupyter-widgets/base",
            "_view_module_version": "1.2.0",
            "_view_name": "LayoutView",
            "align_content": null,
            "align_items": null,
            "align_self": null,
            "border": null,
            "bottom": null,
            "display": null,
            "flex": null,
            "flex_flow": null,
            "grid_area": null,
            "grid_auto_columns": null,
            "grid_auto_flow": null,
            "grid_auto_rows": null,
            "grid_column": null,
            "grid_gap": null,
            "grid_row": null,
            "grid_template_areas": null,
            "grid_template_columns": null,
            "grid_template_rows": null,
            "height": null,
            "justify_content": null,
            "justify_items": null,
            "left": null,
            "margin": null,
            "max_height": null,
            "max_width": null,
            "min_height": null,
            "min_width": null,
            "object_fit": null,
            "object_position": null,
            "order": null,
            "overflow": null,
            "overflow_x": null,
            "overflow_y": null,
            "padding": null,
            "right": null,
            "top": null,
            "visibility": null,
            "width": null
          }
        },
        "9a8544ca6e1f4adaa84f2392adfd3600": {
          "model_module": "@jupyter-widgets/base",
          "model_name": "LayoutModel",
          "model_module_version": "1.2.0",
          "state": {
            "_model_module": "@jupyter-widgets/base",
            "_model_module_version": "1.2.0",
            "_model_name": "LayoutModel",
            "_view_count": null,
            "_view_module": "@jupyter-widgets/base",
            "_view_module_version": "1.2.0",
            "_view_name": "LayoutView",
            "align_content": null,
            "align_items": null,
            "align_self": null,
            "border": null,
            "bottom": null,
            "display": null,
            "flex": null,
            "flex_flow": null,
            "grid_area": null,
            "grid_auto_columns": null,
            "grid_auto_flow": null,
            "grid_auto_rows": null,
            "grid_column": null,
            "grid_gap": null,
            "grid_row": null,
            "grid_template_areas": null,
            "grid_template_columns": null,
            "grid_template_rows": null,
            "height": null,
            "justify_content": null,
            "justify_items": null,
            "left": null,
            "margin": null,
            "max_height": null,
            "max_width": null,
            "min_height": null,
            "min_width": null,
            "object_fit": null,
            "object_position": null,
            "order": null,
            "overflow": null,
            "overflow_x": null,
            "overflow_y": null,
            "padding": null,
            "right": null,
            "top": null,
            "visibility": null,
            "width": null
          }
        },
        "389e0b565d344919a888cf0ef5639630": {
          "model_module": "@jupyter-widgets/controls",
          "model_name": "DescriptionStyleModel",
          "model_module_version": "1.5.0",
          "state": {
            "_model_module": "@jupyter-widgets/controls",
            "_model_module_version": "1.5.0",
            "_model_name": "DescriptionStyleModel",
            "_view_count": null,
            "_view_module": "@jupyter-widgets/base",
            "_view_module_version": "1.2.0",
            "_view_name": "StyleView",
            "description_width": ""
          }
        },
        "f83b8d9b7a314b8abc3f2f6b76c34826": {
          "model_module": "@jupyter-widgets/base",
          "model_name": "LayoutModel",
          "model_module_version": "1.2.0",
          "state": {
            "_model_module": "@jupyter-widgets/base",
            "_model_module_version": "1.2.0",
            "_model_name": "LayoutModel",
            "_view_count": null,
            "_view_module": "@jupyter-widgets/base",
            "_view_module_version": "1.2.0",
            "_view_name": "LayoutView",
            "align_content": null,
            "align_items": null,
            "align_self": null,
            "border": null,
            "bottom": null,
            "display": null,
            "flex": null,
            "flex_flow": null,
            "grid_area": null,
            "grid_auto_columns": null,
            "grid_auto_flow": null,
            "grid_auto_rows": null,
            "grid_column": null,
            "grid_gap": null,
            "grid_row": null,
            "grid_template_areas": null,
            "grid_template_columns": null,
            "grid_template_rows": null,
            "height": null,
            "justify_content": null,
            "justify_items": null,
            "left": null,
            "margin": null,
            "max_height": null,
            "max_width": null,
            "min_height": null,
            "min_width": null,
            "object_fit": null,
            "object_position": null,
            "order": null,
            "overflow": null,
            "overflow_x": null,
            "overflow_y": null,
            "padding": null,
            "right": null,
            "top": null,
            "visibility": null,
            "width": null
          }
        },
        "e7c9db82c39e4241a63278d466c024e5": {
          "model_module": "@jupyter-widgets/controls",
          "model_name": "ProgressStyleModel",
          "model_module_version": "1.5.0",
          "state": {
            "_model_module": "@jupyter-widgets/controls",
            "_model_module_version": "1.5.0",
            "_model_name": "ProgressStyleModel",
            "_view_count": null,
            "_view_module": "@jupyter-widgets/base",
            "_view_module_version": "1.2.0",
            "_view_name": "StyleView",
            "bar_color": null,
            "description_width": ""
          }
        },
        "ab6e79154a124a26a604a40c2095ce3a": {
          "model_module": "@jupyter-widgets/base",
          "model_name": "LayoutModel",
          "model_module_version": "1.2.0",
          "state": {
            "_model_module": "@jupyter-widgets/base",
            "_model_module_version": "1.2.0",
            "_model_name": "LayoutModel",
            "_view_count": null,
            "_view_module": "@jupyter-widgets/base",
            "_view_module_version": "1.2.0",
            "_view_name": "LayoutView",
            "align_content": null,
            "align_items": null,
            "align_self": null,
            "border": null,
            "bottom": null,
            "display": null,
            "flex": null,
            "flex_flow": null,
            "grid_area": null,
            "grid_auto_columns": null,
            "grid_auto_flow": null,
            "grid_auto_rows": null,
            "grid_column": null,
            "grid_gap": null,
            "grid_row": null,
            "grid_template_areas": null,
            "grid_template_columns": null,
            "grid_template_rows": null,
            "height": null,
            "justify_content": null,
            "justify_items": null,
            "left": null,
            "margin": null,
            "max_height": null,
            "max_width": null,
            "min_height": null,
            "min_width": null,
            "object_fit": null,
            "object_position": null,
            "order": null,
            "overflow": null,
            "overflow_x": null,
            "overflow_y": null,
            "padding": null,
            "right": null,
            "top": null,
            "visibility": null,
            "width": null
          }
        },
        "7500496cf61b43db8111502856757988": {
          "model_module": "@jupyter-widgets/controls",
          "model_name": "DescriptionStyleModel",
          "model_module_version": "1.5.0",
          "state": {
            "_model_module": "@jupyter-widgets/controls",
            "_model_module_version": "1.5.0",
            "_model_name": "DescriptionStyleModel",
            "_view_count": null,
            "_view_module": "@jupyter-widgets/base",
            "_view_module_version": "1.2.0",
            "_view_name": "StyleView",
            "description_width": ""
          }
        },
        "48b86a0c2d8e4a4f84ebff13e71fbee4": {
          "model_module": "@jupyter-widgets/controls",
          "model_name": "HBoxModel",
          "model_module_version": "1.5.0",
          "state": {
            "_dom_classes": [],
            "_model_module": "@jupyter-widgets/controls",
            "_model_module_version": "1.5.0",
            "_model_name": "HBoxModel",
            "_view_count": null,
            "_view_module": "@jupyter-widgets/controls",
            "_view_module_version": "1.5.0",
            "_view_name": "HBoxView",
            "box_style": "",
            "children": [
              "IPY_MODEL_0c27cd38386c48829c431e9dd6564927",
              "IPY_MODEL_cefbc662a23a4af3a72d2cf70a2eceb6",
              "IPY_MODEL_d5694a7a59354cb2b211694ed5011d6e"
            ],
            "layout": "IPY_MODEL_e58e20d140e04e6ab24ff598bef33f11"
          }
        },
        "0c27cd38386c48829c431e9dd6564927": {
          "model_module": "@jupyter-widgets/controls",
          "model_name": "HTMLModel",
          "model_module_version": "1.5.0",
          "state": {
            "_dom_classes": [],
            "_model_module": "@jupyter-widgets/controls",
            "_model_module_version": "1.5.0",
            "_model_name": "HTMLModel",
            "_view_count": null,
            "_view_module": "@jupyter-widgets/controls",
            "_view_module_version": "1.5.0",
            "_view_name": "HTMLView",
            "description": "",
            "description_tooltip": null,
            "layout": "IPY_MODEL_b571887e75cd4adc961431adda5022cb",
            "placeholder": "​",
            "style": "IPY_MODEL_5c6cb03bf32e41e0a6f833847d67a196",
            "value": ""
          }
        },
        "cefbc662a23a4af3a72d2cf70a2eceb6": {
          "model_module": "@jupyter-widgets/controls",
          "model_name": "FloatProgressModel",
          "model_module_version": "1.5.0",
          "state": {
            "_dom_classes": [],
            "_model_module": "@jupyter-widgets/controls",
            "_model_module_version": "1.5.0",
            "_model_name": "FloatProgressModel",
            "_view_count": null,
            "_view_module": "@jupyter-widgets/controls",
            "_view_module_version": "1.5.0",
            "_view_name": "ProgressView",
            "bar_style": "success",
            "description": "",
            "description_tooltip": null,
            "layout": "IPY_MODEL_117a1c88931d4a048417c4773e5127db",
            "max": 4422102,
            "min": 0,
            "orientation": "horizontal",
            "style": "IPY_MODEL_9b30a6cb379a4619a41dfb131078782b",
            "value": 4422102
          }
        },
        "d5694a7a59354cb2b211694ed5011d6e": {
          "model_module": "@jupyter-widgets/controls",
          "model_name": "HTMLModel",
          "model_module_version": "1.5.0",
          "state": {
            "_dom_classes": [],
            "_model_module": "@jupyter-widgets/controls",
            "_model_module_version": "1.5.0",
            "_model_name": "HTMLModel",
            "_view_count": null,
            "_view_module": "@jupyter-widgets/controls",
            "_view_module_version": "1.5.0",
            "_view_name": "HTMLView",
            "description": "",
            "description_tooltip": null,
            "layout": "IPY_MODEL_27223b57ed164ff2911073baaf32f0e5",
            "placeholder": "​",
            "style": "IPY_MODEL_f872171d42584569afe4b576c029cef7",
            "value": " 4422656/? [00:02&lt;00:00, 3474226.11it/s]"
          }
        },
        "e58e20d140e04e6ab24ff598bef33f11": {
          "model_module": "@jupyter-widgets/base",
          "model_name": "LayoutModel",
          "model_module_version": "1.2.0",
          "state": {
            "_model_module": "@jupyter-widgets/base",
            "_model_module_version": "1.2.0",
            "_model_name": "LayoutModel",
            "_view_count": null,
            "_view_module": "@jupyter-widgets/base",
            "_view_module_version": "1.2.0",
            "_view_name": "LayoutView",
            "align_content": null,
            "align_items": null,
            "align_self": null,
            "border": null,
            "bottom": null,
            "display": null,
            "flex": null,
            "flex_flow": null,
            "grid_area": null,
            "grid_auto_columns": null,
            "grid_auto_flow": null,
            "grid_auto_rows": null,
            "grid_column": null,
            "grid_gap": null,
            "grid_row": null,
            "grid_template_areas": null,
            "grid_template_columns": null,
            "grid_template_rows": null,
            "height": null,
            "justify_content": null,
            "justify_items": null,
            "left": null,
            "margin": null,
            "max_height": null,
            "max_width": null,
            "min_height": null,
            "min_width": null,
            "object_fit": null,
            "object_position": null,
            "order": null,
            "overflow": null,
            "overflow_x": null,
            "overflow_y": null,
            "padding": null,
            "right": null,
            "top": null,
            "visibility": null,
            "width": null
          }
        },
        "b571887e75cd4adc961431adda5022cb": {
          "model_module": "@jupyter-widgets/base",
          "model_name": "LayoutModel",
          "model_module_version": "1.2.0",
          "state": {
            "_model_module": "@jupyter-widgets/base",
            "_model_module_version": "1.2.0",
            "_model_name": "LayoutModel",
            "_view_count": null,
            "_view_module": "@jupyter-widgets/base",
            "_view_module_version": "1.2.0",
            "_view_name": "LayoutView",
            "align_content": null,
            "align_items": null,
            "align_self": null,
            "border": null,
            "bottom": null,
            "display": null,
            "flex": null,
            "flex_flow": null,
            "grid_area": null,
            "grid_auto_columns": null,
            "grid_auto_flow": null,
            "grid_auto_rows": null,
            "grid_column": null,
            "grid_gap": null,
            "grid_row": null,
            "grid_template_areas": null,
            "grid_template_columns": null,
            "grid_template_rows": null,
            "height": null,
            "justify_content": null,
            "justify_items": null,
            "left": null,
            "margin": null,
            "max_height": null,
            "max_width": null,
            "min_height": null,
            "min_width": null,
            "object_fit": null,
            "object_position": null,
            "order": null,
            "overflow": null,
            "overflow_x": null,
            "overflow_y": null,
            "padding": null,
            "right": null,
            "top": null,
            "visibility": null,
            "width": null
          }
        },
        "5c6cb03bf32e41e0a6f833847d67a196": {
          "model_module": "@jupyter-widgets/controls",
          "model_name": "DescriptionStyleModel",
          "model_module_version": "1.5.0",
          "state": {
            "_model_module": "@jupyter-widgets/controls",
            "_model_module_version": "1.5.0",
            "_model_name": "DescriptionStyleModel",
            "_view_count": null,
            "_view_module": "@jupyter-widgets/base",
            "_view_module_version": "1.2.0",
            "_view_name": "StyleView",
            "description_width": ""
          }
        },
        "117a1c88931d4a048417c4773e5127db": {
          "model_module": "@jupyter-widgets/base",
          "model_name": "LayoutModel",
          "model_module_version": "1.2.0",
          "state": {
            "_model_module": "@jupyter-widgets/base",
            "_model_module_version": "1.2.0",
            "_model_name": "LayoutModel",
            "_view_count": null,
            "_view_module": "@jupyter-widgets/base",
            "_view_module_version": "1.2.0",
            "_view_name": "LayoutView",
            "align_content": null,
            "align_items": null,
            "align_self": null,
            "border": null,
            "bottom": null,
            "display": null,
            "flex": null,
            "flex_flow": null,
            "grid_area": null,
            "grid_auto_columns": null,
            "grid_auto_flow": null,
            "grid_auto_rows": null,
            "grid_column": null,
            "grid_gap": null,
            "grid_row": null,
            "grid_template_areas": null,
            "grid_template_columns": null,
            "grid_template_rows": null,
            "height": null,
            "justify_content": null,
            "justify_items": null,
            "left": null,
            "margin": null,
            "max_height": null,
            "max_width": null,
            "min_height": null,
            "min_width": null,
            "object_fit": null,
            "object_position": null,
            "order": null,
            "overflow": null,
            "overflow_x": null,
            "overflow_y": null,
            "padding": null,
            "right": null,
            "top": null,
            "visibility": null,
            "width": null
          }
        },
        "9b30a6cb379a4619a41dfb131078782b": {
          "model_module": "@jupyter-widgets/controls",
          "model_name": "ProgressStyleModel",
          "model_module_version": "1.5.0",
          "state": {
            "_model_module": "@jupyter-widgets/controls",
            "_model_module_version": "1.5.0",
            "_model_name": "ProgressStyleModel",
            "_view_count": null,
            "_view_module": "@jupyter-widgets/base",
            "_view_module_version": "1.2.0",
            "_view_name": "StyleView",
            "bar_color": null,
            "description_width": ""
          }
        },
        "27223b57ed164ff2911073baaf32f0e5": {
          "model_module": "@jupyter-widgets/base",
          "model_name": "LayoutModel",
          "model_module_version": "1.2.0",
          "state": {
            "_model_module": "@jupyter-widgets/base",
            "_model_module_version": "1.2.0",
            "_model_name": "LayoutModel",
            "_view_count": null,
            "_view_module": "@jupyter-widgets/base",
            "_view_module_version": "1.2.0",
            "_view_name": "LayoutView",
            "align_content": null,
            "align_items": null,
            "align_self": null,
            "border": null,
            "bottom": null,
            "display": null,
            "flex": null,
            "flex_flow": null,
            "grid_area": null,
            "grid_auto_columns": null,
            "grid_auto_flow": null,
            "grid_auto_rows": null,
            "grid_column": null,
            "grid_gap": null,
            "grid_row": null,
            "grid_template_areas": null,
            "grid_template_columns": null,
            "grid_template_rows": null,
            "height": null,
            "justify_content": null,
            "justify_items": null,
            "left": null,
            "margin": null,
            "max_height": null,
            "max_width": null,
            "min_height": null,
            "min_width": null,
            "object_fit": null,
            "object_position": null,
            "order": null,
            "overflow": null,
            "overflow_x": null,
            "overflow_y": null,
            "padding": null,
            "right": null,
            "top": null,
            "visibility": null,
            "width": null
          }
        },
        "f872171d42584569afe4b576c029cef7": {
          "model_module": "@jupyter-widgets/controls",
          "model_name": "DescriptionStyleModel",
          "model_module_version": "1.5.0",
          "state": {
            "_model_module": "@jupyter-widgets/controls",
            "_model_module_version": "1.5.0",
            "_model_name": "DescriptionStyleModel",
            "_view_count": null,
            "_view_module": "@jupyter-widgets/base",
            "_view_module_version": "1.2.0",
            "_view_name": "StyleView",
            "description_width": ""
          }
        },
        "5488986a1f3d47e0b754bed62e226ed0": {
          "model_module": "@jupyter-widgets/controls",
          "model_name": "HBoxModel",
          "model_module_version": "1.5.0",
          "state": {
            "_dom_classes": [],
            "_model_module": "@jupyter-widgets/controls",
            "_model_module_version": "1.5.0",
            "_model_name": "HBoxModel",
            "_view_count": null,
            "_view_module": "@jupyter-widgets/controls",
            "_view_module_version": "1.5.0",
            "_view_name": "HBoxView",
            "box_style": "",
            "children": [
              "IPY_MODEL_794d29ce44c8433b8111b0538663c4f6",
              "IPY_MODEL_8645af63e6704ac9bd47423cda3201cb",
              "IPY_MODEL_22da1e9224384b60a9ea908154cce258"
            ],
            "layout": "IPY_MODEL_714c4e773d884003b1761788498b795d"
          }
        },
        "794d29ce44c8433b8111b0538663c4f6": {
          "model_module": "@jupyter-widgets/controls",
          "model_name": "HTMLModel",
          "model_module_version": "1.5.0",
          "state": {
            "_dom_classes": [],
            "_model_module": "@jupyter-widgets/controls",
            "_model_module_version": "1.5.0",
            "_model_name": "HTMLModel",
            "_view_count": null,
            "_view_module": "@jupyter-widgets/controls",
            "_view_module_version": "1.5.0",
            "_view_name": "HTMLView",
            "description": "",
            "description_tooltip": null,
            "layout": "IPY_MODEL_d8aea6aeeb9048c89b1af8e9eb54426c",
            "placeholder": "​",
            "style": "IPY_MODEL_fcaf623f9c7e4c0aa4868aec60fed791",
            "value": ""
          }
        },
        "8645af63e6704ac9bd47423cda3201cb": {
          "model_module": "@jupyter-widgets/controls",
          "model_name": "FloatProgressModel",
          "model_module_version": "1.5.0",
          "state": {
            "_dom_classes": [],
            "_model_module": "@jupyter-widgets/controls",
            "_model_module_version": "1.5.0",
            "_model_name": "FloatProgressModel",
            "_view_count": null,
            "_view_module": "@jupyter-widgets/controls",
            "_view_module_version": "1.5.0",
            "_view_name": "ProgressView",
            "bar_style": "success",
            "description": "",
            "description_tooltip": null,
            "layout": "IPY_MODEL_2cebdf50dec6466b856ff70e392d970d",
            "max": 5148,
            "min": 0,
            "orientation": "horizontal",
            "style": "IPY_MODEL_a6ec81c5909b45b6b3f925b3814cd595",
            "value": 5148
          }
        },
        "22da1e9224384b60a9ea908154cce258": {
          "model_module": "@jupyter-widgets/controls",
          "model_name": "HTMLModel",
          "model_module_version": "1.5.0",
          "state": {
            "_dom_classes": [],
            "_model_module": "@jupyter-widgets/controls",
            "_model_module_version": "1.5.0",
            "_model_name": "HTMLModel",
            "_view_count": null,
            "_view_module": "@jupyter-widgets/controls",
            "_view_module_version": "1.5.0",
            "_view_name": "HTMLView",
            "description": "",
            "description_tooltip": null,
            "layout": "IPY_MODEL_2c913d0762f04798894be14e14c06693",
            "placeholder": "​",
            "style": "IPY_MODEL_20541fa224204f969f91100701d25631",
            "value": " 6144/? [00:00&lt;00:00, 234347.64it/s]"
          }
        },
        "714c4e773d884003b1761788498b795d": {
          "model_module": "@jupyter-widgets/base",
          "model_name": "LayoutModel",
          "model_module_version": "1.2.0",
          "state": {
            "_model_module": "@jupyter-widgets/base",
            "_model_module_version": "1.2.0",
            "_model_name": "LayoutModel",
            "_view_count": null,
            "_view_module": "@jupyter-widgets/base",
            "_view_module_version": "1.2.0",
            "_view_name": "LayoutView",
            "align_content": null,
            "align_items": null,
            "align_self": null,
            "border": null,
            "bottom": null,
            "display": null,
            "flex": null,
            "flex_flow": null,
            "grid_area": null,
            "grid_auto_columns": null,
            "grid_auto_flow": null,
            "grid_auto_rows": null,
            "grid_column": null,
            "grid_gap": null,
            "grid_row": null,
            "grid_template_areas": null,
            "grid_template_columns": null,
            "grid_template_rows": null,
            "height": null,
            "justify_content": null,
            "justify_items": null,
            "left": null,
            "margin": null,
            "max_height": null,
            "max_width": null,
            "min_height": null,
            "min_width": null,
            "object_fit": null,
            "object_position": null,
            "order": null,
            "overflow": null,
            "overflow_x": null,
            "overflow_y": null,
            "padding": null,
            "right": null,
            "top": null,
            "visibility": null,
            "width": null
          }
        },
        "d8aea6aeeb9048c89b1af8e9eb54426c": {
          "model_module": "@jupyter-widgets/base",
          "model_name": "LayoutModel",
          "model_module_version": "1.2.0",
          "state": {
            "_model_module": "@jupyter-widgets/base",
            "_model_module_version": "1.2.0",
            "_model_name": "LayoutModel",
            "_view_count": null,
            "_view_module": "@jupyter-widgets/base",
            "_view_module_version": "1.2.0",
            "_view_name": "LayoutView",
            "align_content": null,
            "align_items": null,
            "align_self": null,
            "border": null,
            "bottom": null,
            "display": null,
            "flex": null,
            "flex_flow": null,
            "grid_area": null,
            "grid_auto_columns": null,
            "grid_auto_flow": null,
            "grid_auto_rows": null,
            "grid_column": null,
            "grid_gap": null,
            "grid_row": null,
            "grid_template_areas": null,
            "grid_template_columns": null,
            "grid_template_rows": null,
            "height": null,
            "justify_content": null,
            "justify_items": null,
            "left": null,
            "margin": null,
            "max_height": null,
            "max_width": null,
            "min_height": null,
            "min_width": null,
            "object_fit": null,
            "object_position": null,
            "order": null,
            "overflow": null,
            "overflow_x": null,
            "overflow_y": null,
            "padding": null,
            "right": null,
            "top": null,
            "visibility": null,
            "width": null
          }
        },
        "fcaf623f9c7e4c0aa4868aec60fed791": {
          "model_module": "@jupyter-widgets/controls",
          "model_name": "DescriptionStyleModel",
          "model_module_version": "1.5.0",
          "state": {
            "_model_module": "@jupyter-widgets/controls",
            "_model_module_version": "1.5.0",
            "_model_name": "DescriptionStyleModel",
            "_view_count": null,
            "_view_module": "@jupyter-widgets/base",
            "_view_module_version": "1.2.0",
            "_view_name": "StyleView",
            "description_width": ""
          }
        },
        "2cebdf50dec6466b856ff70e392d970d": {
          "model_module": "@jupyter-widgets/base",
          "model_name": "LayoutModel",
          "model_module_version": "1.2.0",
          "state": {
            "_model_module": "@jupyter-widgets/base",
            "_model_module_version": "1.2.0",
            "_model_name": "LayoutModel",
            "_view_count": null,
            "_view_module": "@jupyter-widgets/base",
            "_view_module_version": "1.2.0",
            "_view_name": "LayoutView",
            "align_content": null,
            "align_items": null,
            "align_self": null,
            "border": null,
            "bottom": null,
            "display": null,
            "flex": null,
            "flex_flow": null,
            "grid_area": null,
            "grid_auto_columns": null,
            "grid_auto_flow": null,
            "grid_auto_rows": null,
            "grid_column": null,
            "grid_gap": null,
            "grid_row": null,
            "grid_template_areas": null,
            "grid_template_columns": null,
            "grid_template_rows": null,
            "height": null,
            "justify_content": null,
            "justify_items": null,
            "left": null,
            "margin": null,
            "max_height": null,
            "max_width": null,
            "min_height": null,
            "min_width": null,
            "object_fit": null,
            "object_position": null,
            "order": null,
            "overflow": null,
            "overflow_x": null,
            "overflow_y": null,
            "padding": null,
            "right": null,
            "top": null,
            "visibility": null,
            "width": null
          }
        },
        "a6ec81c5909b45b6b3f925b3814cd595": {
          "model_module": "@jupyter-widgets/controls",
          "model_name": "ProgressStyleModel",
          "model_module_version": "1.5.0",
          "state": {
            "_model_module": "@jupyter-widgets/controls",
            "_model_module_version": "1.5.0",
            "_model_name": "ProgressStyleModel",
            "_view_count": null,
            "_view_module": "@jupyter-widgets/base",
            "_view_module_version": "1.2.0",
            "_view_name": "StyleView",
            "bar_color": null,
            "description_width": ""
          }
        },
        "2c913d0762f04798894be14e14c06693": {
          "model_module": "@jupyter-widgets/base",
          "model_name": "LayoutModel",
          "model_module_version": "1.2.0",
          "state": {
            "_model_module": "@jupyter-widgets/base",
            "_model_module_version": "1.2.0",
            "_model_name": "LayoutModel",
            "_view_count": null,
            "_view_module": "@jupyter-widgets/base",
            "_view_module_version": "1.2.0",
            "_view_name": "LayoutView",
            "align_content": null,
            "align_items": null,
            "align_self": null,
            "border": null,
            "bottom": null,
            "display": null,
            "flex": null,
            "flex_flow": null,
            "grid_area": null,
            "grid_auto_columns": null,
            "grid_auto_flow": null,
            "grid_auto_rows": null,
            "grid_column": null,
            "grid_gap": null,
            "grid_row": null,
            "grid_template_areas": null,
            "grid_template_columns": null,
            "grid_template_rows": null,
            "height": null,
            "justify_content": null,
            "justify_items": null,
            "left": null,
            "margin": null,
            "max_height": null,
            "max_width": null,
            "min_height": null,
            "min_width": null,
            "object_fit": null,
            "object_position": null,
            "order": null,
            "overflow": null,
            "overflow_x": null,
            "overflow_y": null,
            "padding": null,
            "right": null,
            "top": null,
            "visibility": null,
            "width": null
          }
        },
        "20541fa224204f969f91100701d25631": {
          "model_module": "@jupyter-widgets/controls",
          "model_name": "DescriptionStyleModel",
          "model_module_version": "1.5.0",
          "state": {
            "_model_module": "@jupyter-widgets/controls",
            "_model_module_version": "1.5.0",
            "_model_name": "DescriptionStyleModel",
            "_view_count": null,
            "_view_module": "@jupyter-widgets/base",
            "_view_module_version": "1.2.0",
            "_view_name": "StyleView",
            "description_width": ""
          }
        }
      }
    },
    "gpuClass": "standard"
  },
  "cells": [
    {
      "cell_type": "markdown",
      "source": [
        "# Multiclass Classification of Fashion-MNIST dataset with Pytorch\n",
        "## Part-1: Training base model"
      ],
      "metadata": {
        "id": "3LxM6PKUKhXh"
      }
    },
    {
      "cell_type": "code",
      "source": [
        "!pip install torchmetrics --quiet"
      ],
      "metadata": {
        "id": "f9KdZqbBdLfT"
      },
      "execution_count": null,
      "outputs": []
    },
    {
      "cell_type": "code",
      "metadata": {
        "id": "wQO4YGZiCzEP",
        "outputId": "3dda58be-a2c6-496e-ec47-1acf8184f2ad",
        "colab": {
          "base_uri": "https://localhost:8080/"
        }
      },
      "source": [
        "# set this flag to True when you run this Notebook on Google Collaboratory\n",
        "USE_COLAB = True\n",
        "\n",
        "import os\n",
        "\n",
        "#@see: https://colab.research.google.com/drive/1srw_HFWQ2SMgmWIawucXfusGzrj1_U0q\n",
        "if USE_COLAB:\n",
        "    # Load the Drive helper and mount\n",
        "    from google.colab import drive\n",
        "\n",
        "    # This will prompt for authorization.\n",
        "    gdrive_mount_point = '/content/drive/'\n",
        "    drive.mount(gdrive_mount_point)\n",
        "    gdrive_path = os.path.join(gdrive_mount_point, \"My Drive/\")\n",
        "    print('Your Google Drive is mounted at ', gdrive_path)\n",
        "    COLAB_NOTEBOOKS_PATH = os.path.join(gdrive_path, \"Colab Notebooks\",\"Pytorch\")\n",
        "    \n",
        "    if os.path.exists(COLAB_NOTEBOOKS_PATH):\n",
        "        print('You Colab notebooks are available at ', COLAB_NOTEBOOKS_PATH)\n",
        "    \n",
        "        # display list of files\n",
        "        #!ls '/content/drive/My Drive/Colab Notebooks/'\n",
        "\n",
        "        # append our Google Drive folder to module search \n",
        "        # **NOTE:** comment this line out if you are NOT running this notebook on Google Colab\n",
        "        import sys\n",
        "        #sys.path.append(\"/content/drive/My Drive/Colab Notebooks/\")\n",
        "        sys.path.append(COLAB_NOTEBOOKS_PATH)\n",
        "        print('NOTE: {} is appended to sys.path!'.format(COLAB_NOTEBOOKS_PATH))\n",
        "        # and test it\n",
        "        import pytorch_toolkit as pytk\n",
        "        MODEL_SAVE_DIR = os.path.join(COLAB_NOTEBOOKS_PATH, \"model_states\")\n",
        "        #IMAGES_ZIP_DIR = \"/content/drive/My Drive/Colab Notebooks/data/kaggle/malaria\"\n",
        "    else:\n",
        "        raise IOError(\"Unable to mount Google Drive!\")\n",
        "else:\n",
        "    MODEL_SAVE_DIR = os.path.join('.','model_states')\n",
        "    #IMAGES_ZIP_DIR = \"./images/kaggle/malaria\"\n",
        "\n",
        "print(f\"Model states will be saved to {MODEL_SAVE_DIR}\")\n",
        "    \n",
        "if not os.path.exists(MODEL_SAVE_DIR):\n",
        "    os.mkdir(MODEL_SAVE_DIR)"
      ],
      "execution_count": null,
      "outputs": [
        {
          "output_type": "stream",
          "name": "stdout",
          "text": [
            "Drive already mounted at /content/drive/; to attempt to forcibly remount, call drive.mount(\"/content/drive/\", force_remount=True).\n",
            "Your Google Drive is mounted at  /content/drive/My Drive/\n",
            "You Colab notebooks are available at  /content/drive/My Drive/Colab Notebooks/Pytorch\n",
            "NOTE: /content/drive/My Drive/Colab Notebooks/Pytorch is appended to sys.path!\n",
            "Model states will be saved to /content/drive/My Drive/Colab Notebooks/Pytorch/model_states\n"
          ]
        }
      ]
    },
    {
      "cell_type": "markdown",
      "source": [
        "## Standard Imports"
      ],
      "metadata": {
        "id": "0W4R-gsSKK_f"
      }
    },
    {
      "cell_type": "code",
      "metadata": {
        "id": "MhOlv7y_-aHJ",
        "outputId": "58051ed0-63f7-488a-fd9d-9737b873f405",
        "colab": {
          "base_uri": "https://localhost:8080/"
        }
      },
      "source": [
        "import warnings\n",
        "warnings.filterwarnings('ignore')\n",
        "\n",
        "import sys, os, random\n",
        "import numpy as np\n",
        "import matplotlib.pyplot as plt\n",
        "import seaborn as sns\n",
        "\n",
        "# tweaks for libraries\n",
        "np.set_printoptions(precision=6, linewidth=1024, suppress=True)\n",
        "plt.style.use('seaborn')\n",
        "sns.set(style='darkgrid', context='notebook', font_scale=1.2)\n",
        "\n",
        "# Pytorch imports\n",
        "import torch\n",
        "print(f'Using Pytorch version {torch.__version__}. ' + \n",
        "      f'GPU {\"is available :)\" if torch.cuda.is_available() else \"is not available :(\"}')\n",
        "import torch.nn as nn\n",
        "import torch.nn.functional as F\n",
        "from torchvision import datasets, transforms\n",
        "from torch import optim\n",
        "from torchsummary import summary\n",
        "# My helper functions for training/evaluating etc.\n",
        "import pytorch_toolkit as pytk\n",
        "\n",
        "# to ensure that you get consistent results across runs & machines\n",
        "# @see: https://discuss.pytorch.org/t/reproducibility-over-different-machines/63047\n",
        "# SEED = 41\n",
        "# random.seed(SEED)\n",
        "# os.environ['PYTHONHASHSEED'] = str(SEED)\n",
        "# np.random.seed(SEED)\n",
        "# torch.manual_seed(SEED);\n",
        "\n",
        "# if torch.cuda.is_available():\n",
        "#     torch.cuda.manual_seed(SEED)\n",
        "#     torch.cuda.manual_seed_all(SEED)\n",
        "#     torch.backends.cudnn.deterministic = True\n",
        "#     torch.backends.cudnn.benchmark = False\n",
        "#     #torch.backends.cudnn.enabled = False\n",
        "\n",
        "pytk.seed_all(41)"
      ],
      "execution_count": null,
      "outputs": [
        {
          "output_type": "stream",
          "name": "stdout",
          "text": [
            "Using Pytorch version 1.11.0+cu113. GPU is available :)\n"
          ]
        }
      ]
    },
    {
      "cell_type": "markdown",
      "source": [
        "## Helper Functions"
      ],
      "metadata": {
        "id": "eEf7149YKOxd"
      }
    },
    {
      "cell_type": "code",
      "metadata": {
        "id": "O484Lf1S9W-A"
      },
      "source": [
        "def load_data():\n",
        "    \"\"\"\n",
        "    load the data using datasets API. We also split the test_dataset into \n",
        "    cross-val/test datasets using 80:20 ration\n",
        "    \"\"\"\n",
        "    mean, std = 0.5, 0.5\n",
        "    transformations = transforms.Compose([\n",
        "        transforms.ToTensor(),\n",
        "        transforms.Normalize(mean, std)\n",
        "    ])\n",
        "\n",
        "    train_dataset =  datasets.FashionMNIST(root='./data', train=True, download=True,\n",
        "                                   transform=transformations)\n",
        "\n",
        "    print(\"No of training records: %d\" % len(train_dataset))\n",
        "\n",
        "    test_dataset = datasets.FashionMNIST('./data', train=False, download=True,\n",
        "                                  transform=transformations)\n",
        "    print(\"No of test records: %d\" % len(test_dataset))\n",
        "\n",
        "    # lets split the test dataset into val_dataset & test_dataset -> 8000:2000 records\n",
        "    val_dataset, test_dataset = torch.utils.data.random_split(test_dataset, [8000, 2000])\n",
        "    print(\"No of cross-val records: %d\" % len(val_dataset))\n",
        "    print(\"No of test records: %d\" % len(test_dataset))\n",
        "\n",
        "    return train_dataset, val_dataset, test_dataset"
      ],
      "execution_count": null,
      "outputs": []
    },
    {
      "cell_type": "code",
      "source": [
        "def display_sample(sample_images, sample_labels, grid_shape=(10, 10), plot_title=None,\n",
        "                   sample_predictions=None):\n",
        "    # just in case these are not imported!\n",
        "    import matplotlib.pyplot as plt\n",
        "    import seaborn as sns\n",
        "    plt.style.use('seaborn')\n",
        "\n",
        "    num_rows, num_cols = grid_shape\n",
        "    assert sample_images.shape[0] == num_rows * num_cols\n",
        "\n",
        "    # a dict to help encode/decode the labels\n",
        "    FASHION_LABELS = {\n",
        "        0: 'T-shirt/top',\n",
        "        1: 'Trouser',\n",
        "        2: 'Pullover',\n",
        "        3: 'Dress',\n",
        "        4: 'Coat',\n",
        "        5: 'Sandal',\n",
        "        6: 'Shirt',\n",
        "        7: 'Sneaker',\n",
        "        8: 'Bag',\n",
        "        9: 'Ankle boot',\n",
        "    }\n",
        "\n",
        "    with sns.axes_style(\"whitegrid\"):\n",
        "        sns.set_context(\"notebook\", font_scale=1.10)\n",
        "        sns.set_style({\"font.sans-serif\": [\"Verdana\", \"Arial\", \"Calibri\", \"DejaVu Sans\"]})\n",
        "\n",
        "        f, ax = plt.subplots(num_rows, num_cols, figsize=(14, 10),\n",
        "            gridspec_kw={\"wspace\": 0.05, \"hspace\": 0.35}, squeeze=True)  # 0.03, 0.25\n",
        "        #fig = ax[0].get_figure()\n",
        "        f.tight_layout()\n",
        "        f.subplots_adjust(top=0.90) # 0.93\n",
        "\n",
        "        for r in range(num_rows):\n",
        "            for c in range(num_cols):\n",
        "                image_index = r * num_cols + c\n",
        "                ax[r, c].axis(\"off\")\n",
        "                # show selected image\n",
        "                ax[r, c].imshow(sample_images[image_index].squeeze(), cmap=\"Greys\", interpolation='nearest')\n",
        "\n",
        "                if sample_predictions is None:\n",
        "                    # but show the prediction in the title\n",
        "                    title = ax[r, c].set_title(f\"{FASHION_LABELS[sample_labels[image_index]]}\")\n",
        "                else:\n",
        "                    pred_matches_actual = (\n",
        "                                sample_labels[image_index] == sample_predictions[image_index])\n",
        "                    if pred_matches_actual:\n",
        "                        # show title from prediction or actual in green font\n",
        "                        title = '%s' % FASHION_LABELS[sample_predictions[image_index]]\n",
        "                        title_color = 'g'\n",
        "                    else:\n",
        "                        # show title as actual/prediction in red font\n",
        "                        title = '%s/%s' % (FASHION_LABELS[sample_labels[image_index]],\n",
        "                                           FASHION_LABELS[sample_predictions[image_index]])\n",
        "                        title_color = 'r'\n",
        "\n",
        "                    # but show the prediction in the title\n",
        "                    title = ax[r, c].set_title(title)\n",
        "                    # if prediction is incorrect title color is red, else green\n",
        "                    plt.setp(title, color=title_color)\n",
        "\n",
        "        if plot_title is not None:\n",
        "            plt.suptitle(plot_title)\n",
        "        plt.show()\n",
        "        plt.close()"
      ],
      "metadata": {
        "id": "MqnO7KUwIkBI"
      },
      "execution_count": null,
      "outputs": []
    },
    {
      "cell_type": "code",
      "source": [
        "# (down)load the data\n",
        "train_dataset, val_dataset, test_dataset = load_data()"
      ],
      "metadata": {
        "colab": {
          "base_uri": "https://localhost:8080/",
          "height": 532,
          "referenced_widgets": [
            "9979f50c11de4fa981b3e56c2b0d99d7",
            "21da49cf857e4106b5fc068f9dcf2795",
            "962e01c01d6a4aa2a649d9854d7f6455",
            "ed0c6e8da5f54fcd99159f1c6bf9429a",
            "d4ae4242364542c7bdd7152f0a5a11c7",
            "a428fe71f245463e9d775f40147b2d12",
            "70461fea6ab949fd8d672e64658d8f18",
            "623a73280a644877a0dfd9feac833ab6",
            "95fb8054cc464addbddb7888c6bf6118",
            "627298d0c5ba4845910b132197098279",
            "02ec1a1c986c4c318a663a21a53c9e2b",
            "94bf57809abd4d7f9a2bb48466f25cbc",
            "f727d13cfa8b425e880bb86d2ac588c5",
            "0632b6aec2884648b6eff110f4492ee1",
            "6d468d615e814080806b15f4b2305d4a",
            "51bc6b149ec546cc85d653e97df4a34f",
            "9a8544ca6e1f4adaa84f2392adfd3600",
            "389e0b565d344919a888cf0ef5639630",
            "f83b8d9b7a314b8abc3f2f6b76c34826",
            "e7c9db82c39e4241a63278d466c024e5",
            "ab6e79154a124a26a604a40c2095ce3a",
            "7500496cf61b43db8111502856757988",
            "48b86a0c2d8e4a4f84ebff13e71fbee4",
            "0c27cd38386c48829c431e9dd6564927",
            "cefbc662a23a4af3a72d2cf70a2eceb6",
            "d5694a7a59354cb2b211694ed5011d6e",
            "e58e20d140e04e6ab24ff598bef33f11",
            "b571887e75cd4adc961431adda5022cb",
            "5c6cb03bf32e41e0a6f833847d67a196",
            "117a1c88931d4a048417c4773e5127db",
            "9b30a6cb379a4619a41dfb131078782b",
            "27223b57ed164ff2911073baaf32f0e5",
            "f872171d42584569afe4b576c029cef7",
            "5488986a1f3d47e0b754bed62e226ed0",
            "794d29ce44c8433b8111b0538663c4f6",
            "8645af63e6704ac9bd47423cda3201cb",
            "22da1e9224384b60a9ea908154cce258",
            "714c4e773d884003b1761788498b795d",
            "d8aea6aeeb9048c89b1af8e9eb54426c",
            "fcaf623f9c7e4c0aa4868aec60fed791",
            "2cebdf50dec6466b856ff70e392d970d",
            "a6ec81c5909b45b6b3f925b3814cd595",
            "2c913d0762f04798894be14e14c06693",
            "20541fa224204f969f91100701d25631"
          ]
        },
        "id": "fEBZXVQoKRNV",
        "outputId": "6104bc54-c310-4464-d601-3f833a4d8e69"
      },
      "execution_count": null,
      "outputs": [
        {
          "output_type": "stream",
          "name": "stdout",
          "text": [
            "Downloading http://fashion-mnist.s3-website.eu-central-1.amazonaws.com/train-images-idx3-ubyte.gz\n",
            "Downloading http://fashion-mnist.s3-website.eu-central-1.amazonaws.com/train-images-idx3-ubyte.gz to ./data/FashionMNIST/raw/train-images-idx3-ubyte.gz\n"
          ]
        },
        {
          "output_type": "display_data",
          "data": {
            "text/plain": [
              "  0%|          | 0/26421880 [00:00<?, ?it/s]"
            ],
            "application/vnd.jupyter.widget-view+json": {
              "version_major": 2,
              "version_minor": 0,
              "model_id": "9979f50c11de4fa981b3e56c2b0d99d7"
            }
          },
          "metadata": {}
        },
        {
          "output_type": "stream",
          "name": "stdout",
          "text": [
            "Extracting ./data/FashionMNIST/raw/train-images-idx3-ubyte.gz to ./data/FashionMNIST/raw\n",
            "\n",
            "Downloading http://fashion-mnist.s3-website.eu-central-1.amazonaws.com/train-labels-idx1-ubyte.gz\n",
            "Downloading http://fashion-mnist.s3-website.eu-central-1.amazonaws.com/train-labels-idx1-ubyte.gz to ./data/FashionMNIST/raw/train-labels-idx1-ubyte.gz\n"
          ]
        },
        {
          "output_type": "display_data",
          "data": {
            "text/plain": [
              "  0%|          | 0/29515 [00:00<?, ?it/s]"
            ],
            "application/vnd.jupyter.widget-view+json": {
              "version_major": 2,
              "version_minor": 0,
              "model_id": "94bf57809abd4d7f9a2bb48466f25cbc"
            }
          },
          "metadata": {}
        },
        {
          "output_type": "stream",
          "name": "stdout",
          "text": [
            "Extracting ./data/FashionMNIST/raw/train-labels-idx1-ubyte.gz to ./data/FashionMNIST/raw\n",
            "\n",
            "Downloading http://fashion-mnist.s3-website.eu-central-1.amazonaws.com/t10k-images-idx3-ubyte.gz\n",
            "Downloading http://fashion-mnist.s3-website.eu-central-1.amazonaws.com/t10k-images-idx3-ubyte.gz to ./data/FashionMNIST/raw/t10k-images-idx3-ubyte.gz\n"
          ]
        },
        {
          "output_type": "display_data",
          "data": {
            "text/plain": [
              "  0%|          | 0/4422102 [00:00<?, ?it/s]"
            ],
            "application/vnd.jupyter.widget-view+json": {
              "version_major": 2,
              "version_minor": 0,
              "model_id": "48b86a0c2d8e4a4f84ebff13e71fbee4"
            }
          },
          "metadata": {}
        },
        {
          "output_type": "stream",
          "name": "stdout",
          "text": [
            "Extracting ./data/FashionMNIST/raw/t10k-images-idx3-ubyte.gz to ./data/FashionMNIST/raw\n",
            "\n",
            "Downloading http://fashion-mnist.s3-website.eu-central-1.amazonaws.com/t10k-labels-idx1-ubyte.gz\n",
            "Downloading http://fashion-mnist.s3-website.eu-central-1.amazonaws.com/t10k-labels-idx1-ubyte.gz to ./data/FashionMNIST/raw/t10k-labels-idx1-ubyte.gz\n"
          ]
        },
        {
          "output_type": "display_data",
          "data": {
            "text/plain": [
              "  0%|          | 0/5148 [00:00<?, ?it/s]"
            ],
            "application/vnd.jupyter.widget-view+json": {
              "version_major": 2,
              "version_minor": 0,
              "model_id": "5488986a1f3d47e0b754bed62e226ed0"
            }
          },
          "metadata": {}
        },
        {
          "output_type": "stream",
          "name": "stdout",
          "text": [
            "Extracting ./data/FashionMNIST/raw/t10k-labels-idx1-ubyte.gz to ./data/FashionMNIST/raw\n",
            "\n",
            "No of training records: 60000\n",
            "No of test records: 10000\n",
            "No of cross-val records: 8000\n",
            "No of test records: 2000\n"
          ]
        }
      ]
    },
    {
      "cell_type": "code",
      "source": [
        "# display a sample\n",
        "trainloader = torch.utils.data.DataLoader(test_dataset, batch_size=64, shuffle=True)\n",
        "data_iter = iter(trainloader)\n",
        "images, labels = data_iter.next()  # fetch first batch of 64 images & labels\n",
        "print(f'images.shape = {images.shape}, labels.shape={labels.shape}')\n",
        "#print(f'labels = {labels[:10]}')\n",
        "display_sample(images.cpu().numpy(), labels.cpu().numpy(), grid_shape=(8, 8), \n",
        "               plot_title='Sample Images - Training dataset')"
      ],
      "metadata": {
        "colab": {
          "base_uri": "https://localhost:8080/",
          "height": 665
        },
        "id": "rpqwY_OzLr7G",
        "outputId": "a4601546-18f8-4bb2-aa3a-c07165a874a8"
      },
      "execution_count": null,
      "outputs": [
        {
          "output_type": "stream",
          "name": "stdout",
          "text": [
            "images.shape = torch.Size([64, 1, 28, 28]), labels.shape=torch.Size([64])\n"
          ]
        },
        {
          "output_type": "display_data",
          "data": {
            "text/plain": [
              "<Figure size 1008x720 with 64 Axes>"
            ],
            "image/png": "[encoded data removed]"
          },
          "metadata": {}
        }
      ]
    },
    {
      "cell_type": "markdown",
      "source": [
        "## Pytorch Model development"
      ],
      "metadata": {
        "id": "Uc4Db-2_L8K2"
      }
    },
    {
      "cell_type": "code",
      "source": [
        "# some globals\n",
        "IMAGE_HEIGHT, IMAGE_WIDTH, NUM_CHANNELS, NUM_CLASSES = 28, 28, 1, 10\n",
        "NUM_EPOCHS, BATCH_SIZE, LEARNING_RATE, L2_REG = 25, 128, 0.001, 0.04\n",
        "PY_MODEL_SAVE_PATH = os.path.join(MODEL_SAVE_DIR, 'pyt_fashion_mnist_cnn.pyt')\n",
        "print(f\"Model will be saved to {PY_MODEL_SAVE_PATH}\")"
      ],
      "metadata": {
        "colab": {
          "base_uri": "https://localhost:8080/"
        },
        "id": "0q_R3rp0Izmc",
        "outputId": "d8dcc9de-46f1-4c20-d9c8-633b736687a7"
      },
      "execution_count": null,
      "outputs": [
        {
          "output_type": "stream",
          "name": "stdout",
          "text": [
            "Model will be saved to /content/drive/My Drive/Colab Notebooks/Pytorch/model_states/pyt_fashion_mnist_cnn.pyt\n"
          ]
        }
      ]
    },
    {
      "cell_type": "code",
      "source": [
        "def build_model():\n",
        "    net = nn.Sequential(\n",
        "        pytk.Conv2d(1, 64, kernel_size=3, padding='same'),\n",
        "        nn.ReLU(),\n",
        "        nn.BatchNorm2d(64),\n",
        "        pytk.Conv2d(64, 64, kernel_size=3, padding='same'),\n",
        "        nn.ReLU(),\n",
        "        nn.BatchNorm2d(64),\n",
        "        nn.MaxPool2d(kernel_size=2, stride=2),\n",
        "\n",
        "        pytk.Conv2d(64, 128, kernel_size=3, padding='same'),\n",
        "        nn.ReLU(),\n",
        "        nn.BatchNorm2d(128),\n",
        "        pytk.Conv2d(128, 128, kernel_size=3, padding='same'),\n",
        "        nn.ReLU(),\n",
        "        nn.BatchNorm2d(128),\n",
        "        nn.MaxPool2d(kernel_size=2, stride=2),\n",
        "\n",
        "        pytk.Conv2d(128, 256, kernel_size=3, padding='same'),\n",
        "        nn.ReLU(),\n",
        "        nn.BatchNorm2d(256),\n",
        "        pytk.Conv2d(256, 256, kernel_size=3, padding='same'),\n",
        "        nn.ReLU(),\n",
        "        nn.BatchNorm2d(256),\n",
        "        nn.MaxPool2d(kernel_size=2, stride=2),\n",
        "\n",
        "        # pytk.Conv2d(256, 512, kernel_size=3, padding=1),\n",
        "        # nn.ReLU(),\n",
        "        # nn.BatchNorm2d(512),\n",
        "        # # pytk.Conv2d(512, 512, kernel_size=3, padding=1),\n",
        "        # # nn.ReLU(),\n",
        "        # # nn.BatchNorm2d(512),\n",
        "        # nn.MaxPool2d(kernel_size=2, stride=2),\n",
        "        # nn.Dropout(0.35),\n",
        "\n",
        "        nn.Flatten(),\n",
        "\n",
        "        nn.Linear(256*3*3, 1024),\n",
        "        nn.ReLU(),\n",
        "\n",
        "        nn.Linear(1024, 512),\n",
        "        nn.ReLU(),\n",
        "\n",
        "        nn.Linear(512, NUM_CLASSES)     \n",
        "    )\n",
        "\n",
        "    model = pytk.PytkModuleWrapper(net)\n",
        "    loss_fn = nn.CrossEntropyLoss()\n",
        "    optimizer = optim.Adam(params=model.parameters(), lr=LEARNING_RATE)\n",
        "    #optimizer = optim.SGD(params=model.parameters(), lr=LEARNING_RATE, momentum=0.0, nesterov=False, weight_decay=L2_REG)\n",
        "    model.compile(loss=loss_fn, optimizer=optimizer, metrics=['acc'])\n",
        "    return model, optimizer"
      ],
      "metadata": {
        "id": "JjaQ0jSBI545"
      },
      "execution_count": null,
      "outputs": []
    },
    {
      "cell_type": "code",
      "source": [
        "model, optimizer = build_model()\n",
        "model.summary((NUM_CHANNELS, IMAGE_HEIGHT, IMAGE_WIDTH))"
      ],
      "metadata": {
        "colab": {
          "base_uri": "https://localhost:8080/"
        },
        "id": "PlJOYUNiND-i",
        "outputId": "cd7416ae-dbd1-4c8a-8a74-fa8a57e40a8b"
      },
      "execution_count": null,
      "outputs": [
        {
          "output_type": "stream",
          "name": "stdout",
          "text": [
            "----------------------------------------------------------------\n",
            "        Layer (type)               Output Shape         Param #\n",
            "================================================================\n",
            "            Conv2d-1           [-1, 64, 28, 28]             640\n",
            "              ReLU-2           [-1, 64, 28, 28]               0\n",
            "       BatchNorm2d-3           [-1, 64, 28, 28]             128\n",
            "            Conv2d-4           [-1, 64, 28, 28]          36,928\n",
            "              ReLU-5           [-1, 64, 28, 28]               0\n",
            "       BatchNorm2d-6           [-1, 64, 28, 28]             128\n",
            "         MaxPool2d-7           [-1, 64, 14, 14]               0\n",
            "            Conv2d-8          [-1, 128, 14, 14]          73,856\n",
            "              ReLU-9          [-1, 128, 14, 14]               0\n",
            "      BatchNorm2d-10          [-1, 128, 14, 14]             256\n",
            "           Conv2d-11          [-1, 128, 14, 14]         147,584\n",
            "             ReLU-12          [-1, 128, 14, 14]               0\n",
            "      BatchNorm2d-13          [-1, 128, 14, 14]             256\n",
            "        MaxPool2d-14            [-1, 128, 7, 7]               0\n",
            "           Conv2d-15            [-1, 256, 7, 7]         295,168\n",
            "             ReLU-16            [-1, 256, 7, 7]               0\n",
            "      BatchNorm2d-17            [-1, 256, 7, 7]             512\n",
            "           Conv2d-18            [-1, 256, 7, 7]         590,080\n",
            "             ReLU-19            [-1, 256, 7, 7]               0\n",
            "      BatchNorm2d-20            [-1, 256, 7, 7]             512\n",
            "        MaxPool2d-21            [-1, 256, 3, 3]               0\n",
            "          Flatten-22                 [-1, 2304]               0\n",
            "           Linear-23                 [-1, 1024]       2,360,320\n",
            "             ReLU-24                 [-1, 1024]               0\n",
            "           Linear-25                  [-1, 512]         524,800\n",
            "             ReLU-26                  [-1, 512]               0\n",
            "           Linear-27                   [-1, 10]           5,130\n",
            "================================================================\n",
            "Total params: 4,036,298\n",
            "Trainable params: 4,036,298\n",
            "Non-trainable params: 0\n",
            "----------------------------------------------------------------\n",
            "Input size (MB): 0.00\n",
            "Forward/backward pass size (MB): 4.22\n",
            "Params size (MB): 15.40\n",
            "Estimated Total Size (MB): 19.62\n",
            "----------------------------------------------------------------\n"
          ]
        }
      ]
    },
    {
      "cell_type": "markdown",
      "source": [
        "## Train the model"
      ],
      "metadata": {
        "id": "5uVChuNcN5rt"
      }
    },
    {
      "cell_type": "code",
      "source": [
        "hist = model.fit_dataset(train_dataset, validation_dataset=val_dataset, \n",
        "                         epochs=NUM_EPOCHS, batch_size=BATCH_SIZE)"
      ],
      "metadata": {
        "colab": {
          "base_uri": "https://localhost:8080/"
        },
        "id": "ke932pN_N0LQ",
        "outputId": "51054747-251b-4446-dec1-8cd5dda54440"
      },
      "execution_count": null,
      "outputs": [
        {
          "output_type": "stream",
          "name": "stdout",
          "text": [
            "Training on GPU...\n",
            "Training on 60000 samples, cross-validating on 8000 samples\n",
            "Epoch ( 1/25): (60000/60000) -> loss: 0.3774 - acc: 0.8620 - val_loss: 0.2833 - val_acc: 0.8965 - lr: ['0.00100000']\n",
            "Epoch ( 2/25): (60000/60000) -> loss: 0.3044 - acc: 0.8887 - val_loss: 0.2857 - val_acc: 0.8978 - lr: ['0.00100000']\n",
            "Epoch ( 3/25): (60000/60000) -> loss: 0.2654 - acc: 0.9032 - val_loss: 0.2814 - val_acc: 0.9004 - lr: ['0.00100000']\n",
            "Epoch ( 4/25): (60000/60000) -> loss: 0.2386 - acc: 0.9128 - val_loss: 0.2627 - val_acc: 0.9073 - lr: ['0.00100000']\n",
            "Epoch ( 5/25): (60000/60000) -> loss: 0.2181 - acc: 0.9203 - val_loss: 0.2540 - val_acc: 0.9115 - lr: ['0.00100000']\n",
            "Epoch ( 6/25): (60000/60000) -> loss: 0.2003 - acc: 0.9269 - val_loss: 0.2523 - val_acc: 0.9134 - lr: ['0.00100000']\n",
            "Epoch ( 7/25): (60000/60000) -> loss: 0.1857 - acc: 0.9323 - val_loss: 0.2498 - val_acc: 0.9157 - lr: ['0.00100000']\n",
            "Epoch ( 8/25): (60000/60000) -> loss: 0.1722 - acc: 0.9370 - val_loss: 0.2511 - val_acc: 0.9172 - lr: ['0.00100000']\n",
            "Epoch ( 9/25): (60000/60000) -> loss: 0.1609 - acc: 0.9412 - val_loss: 0.2498 - val_acc: 0.9186 - lr: ['0.00100000']\n",
            "Epoch (10/25): (60000/60000) -> loss: 0.1501 - acc: 0.9452 - val_loss: 0.2545 - val_acc: 0.9195 - lr: ['0.00100000']\n",
            "Epoch (11/25): (60000/60000) -> loss: 0.1406 - acc: 0.9486 - val_loss: 0.2614 - val_acc: 0.9201 - lr: ['0.00100000']\n",
            "Epoch (12/25): (60000/60000) -> loss: 0.1324 - acc: 0.9517 - val_loss: 0.2642 - val_acc: 0.9210 - lr: ['0.00100000']\n",
            "Epoch (13/25): (60000/60000) -> loss: 0.1253 - acc: 0.9543 - val_loss: 0.2685 - val_acc: 0.9220 - lr: ['0.00100000']\n",
            "Epoch (14/25): (60000/60000) -> loss: 0.1186 - acc: 0.9568 - val_loss: 0.2730 - val_acc: 0.9226 - lr: ['0.00100000']\n",
            "Epoch (15/25): (60000/60000) -> loss: 0.1127 - acc: 0.9590 - val_loss: 0.2760 - val_acc: 0.9231 - lr: ['0.00100000']\n",
            "Epoch (16/25): (60000/60000) -> loss: 0.1077 - acc: 0.9609 - val_loss: 0.2803 - val_acc: 0.9239 - lr: ['0.00100000']\n",
            "Epoch (17/25): (60000/60000) -> loss: 0.1029 - acc: 0.9627 - val_loss: 0.2864 - val_acc: 0.9241 - lr: ['0.00100000']\n",
            "Epoch (18/25): (60000/60000) -> loss: 0.0985 - acc: 0.9644 - val_loss: 0.2903 - val_acc: 0.9246 - lr: ['0.00100000']\n",
            "Epoch (19/25): (60000/60000) -> loss: 0.0944 - acc: 0.9659 - val_loss: 0.2965 - val_acc: 0.9250 - lr: ['0.00100000']\n",
            "Epoch (20/25): (60000/60000) -> loss: 0.0908 - acc: 0.9672 - val_loss: 0.3007 - val_acc: 0.9253 - lr: ['0.00100000']\n",
            "Epoch (21/25): (60000/60000) -> loss: 0.0877 - acc: 0.9684 - val_loss: 0.3067 - val_acc: 0.9257 - lr: ['0.00100000']\n",
            "Epoch (22/25): (60000/60000) -> loss: 0.0845 - acc: 0.9696 - val_loss: 0.3122 - val_acc: 0.9262 - lr: ['0.00100000']\n",
            "Epoch (23/25): (60000/60000) -> loss: 0.0816 - acc: 0.9706 - val_loss: 0.3174 - val_acc: 0.9265 - lr: ['0.00100000']\n",
            "Epoch (24/25): (60000/60000) -> loss: 0.0791 - acc: 0.9716 - val_loss: 0.3216 - val_acc: 0.9266 - lr: ['0.00100000']\n",
            "Epoch (25/25): (60000/60000) -> loss: 0.0767 - acc: 0.9725 - val_loss: 0.3270 - val_acc: 0.9269 - lr: ['0.00100000']\n"
          ]
        }
      ]
    },
    {
      "cell_type": "code",
      "source": [
        "pytk.show_plots(hist, metric='acc')"
      ],
      "metadata": {
        "colab": {
          "base_uri": "https://localhost:8080/",
          "height": 346
        },
        "id": "EqY3luoAOQXy",
        "outputId": "bff8650f-1ab3-47c9-9489-35a27ed469c4"
      },
      "execution_count": null,
      "outputs": [
        {
          "output_type": "display_data",
          "data": {
            "text/plain": [
              "<Figure size 1152x360 with 2 Axes>"
            ],
            "image/png": "[encoded data removed]"
          },
          "metadata": {}
        }
      ]
    },
    {
      "cell_type": "markdown",
      "source": [
        "## Evaluate Performance"
      ],
      "metadata": {
        "id": "83p0e1RZRuLR"
      }
    },
    {
      "cell_type": "code",
      "source": [
        "# evaluate performance\n",
        "print('Evaluating model performance...')\n",
        "loss, acc = model.evaluate_dataset(train_dataset)\n",
        "print(f'  Training dataset -> loss: {loss:.4f} - acc: {acc:.4f}')\n",
        "loss, acc = model.evaluate_dataset(val_dataset)\n",
        "print(f'  Cross-val dataset -> loss: {loss:.4f} - acc: {acc:.4f}')\n",
        "loss, acc = model.evaluate_dataset(test_dataset)\n",
        "print(f'  Test dataset      -> loss: {loss:.4f} - acc: {acc:.4f}')"
      ],
      "metadata": {
        "colab": {
          "base_uri": "https://localhost:8080/"
        },
        "id": "kzwJdtFORxI7",
        "outputId": "f495bc1e-832e-45fc-ae38-85bab73426bb"
      },
      "execution_count": null,
      "outputs": [
        {
          "output_type": "stream",
          "name": "stdout",
          "text": [
            "Evaluating model performance...\n",
            "Evaluating (60000/60000) -> loss: 0.0216 - acc: 0.9952\n",
            "  Training dataset -> loss: 0.0216 - acc: 0.9952\n",
            "Evaluating (8000/8000) -> loss: 0.4582 - acc: 0.9335\n",
            "  Cross-val dataset -> loss: 0.4582 - acc: 0.9335\n",
            "Evaluating (2000/2000) -> loss: 0.5187 - acc: 0.9272\n",
            "  Test dataset      -> loss: 0.5187 - acc: 0.9272\n"
          ]
        }
      ]
    },
    {
      "cell_type": "markdown",
      "source": [
        "### Observations\n",
        ">Configuration | Training Acc | Cross-val Acc | Test Acc | Observation\n",
        ">:---|:---:|:---:|:---:|:---:|\n",
        ">**Model**|99.69%|93.39%|93.07%| Overfitting\n",
        "\n",
        "From the table & graphs we observe that:\n",
        "* The model is significantly overfitting the data - `training accuracy >> cross-val accuracy`\n",
        "* The training/cross-val loss plots start diverging significantly after the 3-4 th epoch itself\n",
        "* The gap between `cross-val accuracy` and `test accuracy` is not that much (expected as the samples are drawn randomly from the same distribution)"
      ],
      "metadata": {
        "id": "FUmypSWySD1Z"
      }
    },
    {
      "cell_type": "code",
      "source": [
        "model.save(PY_MODEL_SAVE_PATH)\n",
        "del model"
      ],
      "metadata": {
        "colab": {
          "base_uri": "https://localhost:8080/"
        },
        "id": "O81FA-GIR1CJ",
        "outputId": "bb96067a-696c-4a88-a2b7-1198637ea585"
      },
      "execution_count": null,
      "outputs": [
        {
          "output_type": "stream",
          "name": "stdout",
          "text": [
            "Pytorch model saved to /content/drive/My Drive/Colab Notebooks/Pytorch/model_states/pyt_fashion_mnist_cnn.pyt\n"
          ]
        }
      ]
    },
    {
      "cell_type": "markdown",
      "source": [
        "## Making Predictions"
      ],
      "metadata": {
        "id": "aWr-DL3lR125"
      }
    },
    {
      "cell_type": "code",
      "source": [
        "model, optimizer = build_model()\n",
        "model.load(PY_MODEL_SAVE_PATH)\n",
        "print(model.summary((NUM_CHANNELS, IMAGE_HEIGHT, IMAGE_WIDTH)))"
      ],
      "metadata": {
        "colab": {
          "base_uri": "https://localhost:8080/"
        },
        "id": "hkuZ35JSR363",
        "outputId": "7e23d862-9d41-4f3d-a2e9-647004ae6279"
      },
      "execution_count": null,
      "outputs": [
        {
          "output_type": "stream",
          "name": "stdout",
          "text": [
            "Pytorch model loaded from /content/drive/My Drive/Colab Notebooks/Pytorch/model_states/pyt_fashion_mnist_cnn.pyt\n",
            "----------------------------------------------------------------\n",
            "        Layer (type)               Output Shape         Param #\n",
            "================================================================\n",
            "            Conv2d-1           [-1, 64, 28, 28]             640\n",
            "              ReLU-2           [-1, 64, 28, 28]               0\n",
            "       BatchNorm2d-3           [-1, 64, 28, 28]             128\n",
            "            Conv2d-4           [-1, 64, 28, 28]          36,928\n",
            "              ReLU-5           [-1, 64, 28, 28]               0\n",
            "       BatchNorm2d-6           [-1, 64, 28, 28]             128\n",
            "         MaxPool2d-7           [-1, 64, 14, 14]               0\n",
            "            Conv2d-8          [-1, 128, 14, 14]          73,856\n",
            "              ReLU-9          [-1, 128, 14, 14]               0\n",
            "      BatchNorm2d-10          [-1, 128, 14, 14]             256\n",
            "           Conv2d-11          [-1, 128, 14, 14]         147,584\n",
            "             ReLU-12          [-1, 128, 14, 14]               0\n",
            "      BatchNorm2d-13          [-1, 128, 14, 14]             256\n",
            "        MaxPool2d-14            [-1, 128, 7, 7]               0\n",
            "           Conv2d-15            [-1, 256, 7, 7]         295,168\n",
            "             ReLU-16            [-1, 256, 7, 7]               0\n",
            "      BatchNorm2d-17            [-1, 256, 7, 7]             512\n",
            "           Conv2d-18            [-1, 256, 7, 7]         590,080\n",
            "             ReLU-19            [-1, 256, 7, 7]               0\n",
            "      BatchNorm2d-20            [-1, 256, 7, 7]             512\n",
            "        MaxPool2d-21            [-1, 256, 3, 3]               0\n",
            "          Flatten-22                 [-1, 2304]               0\n",
            "           Linear-23                 [-1, 1024]       2,360,320\n",
            "             ReLU-24                 [-1, 1024]               0\n",
            "           Linear-25                  [-1, 512]         524,800\n",
            "             ReLU-26                  [-1, 512]               0\n",
            "           Linear-27                   [-1, 10]           5,130\n",
            "================================================================\n",
            "Total params: 4,036,298\n",
            "Trainable params: 4,036,298\n",
            "Non-trainable params: 0\n",
            "----------------------------------------------------------------\n",
            "Input size (MB): 0.00\n",
            "Forward/backward pass size (MB): 4.22\n",
            "Params size (MB): 15.40\n",
            "Estimated Total Size (MB): 19.62\n",
            "----------------------------------------------------------------\n",
            "None\n"
          ]
        }
      ]
    },
    {
      "cell_type": "code",
      "source": [
        "# run predictions\n",
        "y_pred, y_true = model.predict_dataset(test_dataset)\n",
        "y_pred = np.argmax(y_pred, axis=1)\n",
        "print('Sample labels (50): ', y_true[:50])\n",
        "print('Sample predictions (50): ', y_true[:50])\n",
        "print('We got %d/%d incorrect!' % ((y_pred != y_true).sum(), len(y_true)))"
      ],
      "metadata": {
        "colab": {
          "base_uri": "https://localhost:8080/"
        },
        "id": "tFb_0ryYR3ub",
        "outputId": "ed16dcfb-1035-4b4c-9f83-f63341ab05ae"
      },
      "execution_count": null,
      "outputs": [
        {
          "output_type": "stream",
          "name": "stdout",
          "text": [
            "Sample labels (50):  [6 4 5 4 8 0 8 9 5 3 5 4 3 3 0 9 1 2 5 0 8 9 8 0 6 4 7 6 5 0 1 8 1 1 9 7 0 7 5 3 4 4 2 1 9 5 8 4 8 0]\n",
            "Sample predictions (50):  [6 4 5 4 8 0 8 9 5 3 5 4 3 3 0 9 1 2 5 0 8 9 8 0 6 4 7 6 5 0 1 8 1 1 9 7 0 7 5 3 4 4 2 1 9 5 8 4 8 0]\n",
            "We got 149/2000 incorrect!\n"
          ]
        }
      ]
    },
    {
      "cell_type": "code",
      "source": [
        "# display sample\n",
        "print('Displaying sample predictions...')\n",
        "trainloader = torch.utils.data.DataLoader(test_dataset, batch_size=64, shuffle=True)\n",
        "data_iter = iter(trainloader)\n",
        "images, labels = data_iter.next()  # fetch a batch of 64 random images\n",
        "preds = model.predict(images)\n",
        "preds = np.argmax(preds, axis=1)\n",
        "#type(images), type(labels), type(preds)\n",
        "display_sample(images, labels.cpu().numpy(), sample_predictions=preds,\n",
        "                grid_shape=(8, 8), plot_title='Sample Predictions - Test Dataset')"
      ],
      "metadata": {
        "colab": {
          "base_uri": "https://localhost:8080/",
          "height": 665
        },
        "id": "ztZQ3tlLS3pW",
        "outputId": "3a43d8cc-acc3-4fa8-9619-a97ff6bb93f5"
      },
      "execution_count": null,
      "outputs": [
        {
          "output_type": "stream",
          "name": "stdout",
          "text": [
            "Displaying sample predictions...\n"
          ]
        },
        {
          "output_type": "display_data",
          "data": {
            "text/plain": [
              "<Figure size 1008x720 with 64 Axes>"
            ],
            "image/png": "[encoded data removed]"
          },
          "metadata": {}
        }
      ]
    },
    {
      "cell_type": "markdown",
      "source": [
        "## Observations\n",
        "* The base model is significantly overfitting the data\n",
        "* We get 153/2000 incorrect predictions from test dataset - this is expected, as model is overfitting, so cannot generalize well.\n",
        "\n",
        "In the next part we will try to reduce the overfitting by implementing 2 types of regularization - Dropout regularization and L2 Regularization. This may reduce the training accuracy of the model, but should reduce the gap between training & cross-val accuracy (i.e. reduce overfitting)"
      ],
      "metadata": {
        "id": "3zresuieTF12"
      }
    },
    {
      "cell_type": "markdown",
      "source": [
        "# <center> -- END -- </center>"
      ],
      "metadata": {
        "id": "moJ-XRBlTsk3"
      }
    }
  ]
}
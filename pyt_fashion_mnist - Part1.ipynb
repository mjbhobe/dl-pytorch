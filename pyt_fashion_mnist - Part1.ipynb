{
  "nbformat": 4,
  "nbformat_minor": 0,
  "metadata": {
    "colab": {
      "name": "pyt_fashion_mnist-Part1.ipynb",
      "provenance": [],
      "collapsed_sections": [],
      "machine_shape": "hm"
    },
    "kernelspec": {
      "name": "python3",
      "display_name": "Python 3"
    },
    "accelerator": "GPU",
    "widgets": {
      "application/vnd.jupyter.widget-state+json": {
        "5f8d126797c545da81a7ddd710b5541f": {
          "model_module": "@jupyter-widgets/controls",
          "model_name": "HBoxModel",
          "model_module_version": "1.5.0",
          "state": {
            "_dom_classes": [],
            "_model_module": "@jupyter-widgets/controls",
            "_model_module_version": "1.5.0",
            "_model_name": "HBoxModel",
            "_view_count": null,
            "_view_module": "@jupyter-widgets/controls",
            "_view_module_version": "1.5.0",
            "_view_name": "HBoxView",
            "box_style": "",
            "children": [
              "IPY_MODEL_7e31cf93c9ac43e192faaa839b2ef53d",
              "IPY_MODEL_6a2562e9bbd74c3f9089f76006fd504f",
              "IPY_MODEL_510b187bbceb426482790b6706956088"
            ],
            "layout": "IPY_MODEL_36d0978bd4c944beb60cf55ba38d5d99"
          }
        },
        "7e31cf93c9ac43e192faaa839b2ef53d": {
          "model_module": "@jupyter-widgets/controls",
          "model_name": "HTMLModel",
          "model_module_version": "1.5.0",
          "state": {
            "_dom_classes": [],
            "_model_module": "@jupyter-widgets/controls",
            "_model_module_version": "1.5.0",
            "_model_name": "HTMLModel",
            "_view_count": null,
            "_view_module": "@jupyter-widgets/controls",
            "_view_module_version": "1.5.0",
            "_view_name": "HTMLView",
            "description": "",
            "description_tooltip": null,
            "layout": "IPY_MODEL_f5dfea3caee54292b7074f22ef39986e",
            "placeholder": "​",
            "style": "IPY_MODEL_0d869aed8df14e93a19e45b4d4d36d92",
            "value": ""
          }
        },
        "6a2562e9bbd74c3f9089f76006fd504f": {
          "model_module": "@jupyter-widgets/controls",
          "model_name": "FloatProgressModel",
          "model_module_version": "1.5.0",
          "state": {
            "_dom_classes": [],
            "_model_module": "@jupyter-widgets/controls",
            "_model_module_version": "1.5.0",
            "_model_name": "FloatProgressModel",
            "_view_count": null,
            "_view_module": "@jupyter-widgets/controls",
            "_view_module_version": "1.5.0",
            "_view_name": "ProgressView",
            "bar_style": "success",
            "description": "",
            "description_tooltip": null,
            "layout": "IPY_MODEL_619ed6d5edb443d3945126e42eeae313",
            "max": 26421880,
            "min": 0,
            "orientation": "horizontal",
            "style": "IPY_MODEL_ab03310980c04828bd926238ccc28ae2",
            "value": 26421880
          }
        },
        "510b187bbceb426482790b6706956088": {
          "model_module": "@jupyter-widgets/controls",
          "model_name": "HTMLModel",
          "model_module_version": "1.5.0",
          "state": {
            "_dom_classes": [],
            "_model_module": "@jupyter-widgets/controls",
            "_model_module_version": "1.5.0",
            "_model_name": "HTMLModel",
            "_view_count": null,
            "_view_module": "@jupyter-widgets/controls",
            "_view_module_version": "1.5.0",
            "_view_name": "HTMLView",
            "description": "",
            "description_tooltip": null,
            "layout": "IPY_MODEL_a88f20ec754346b3be3bfb61c0edcebb",
            "placeholder": "​",
            "style": "IPY_MODEL_c501ed15d1f745469f4586209393698f",
            "value": " 26422272/? [00:02&lt;00:00, 17683629.84it/s]"
          }
        },
        "36d0978bd4c944beb60cf55ba38d5d99": {
          "model_module": "@jupyter-widgets/base",
          "model_name": "LayoutModel",
          "model_module_version": "1.2.0",
          "state": {
            "_model_module": "@jupyter-widgets/base",
            "_model_module_version": "1.2.0",
            "_model_name": "LayoutModel",
            "_view_count": null,
            "_view_module": "@jupyter-widgets/base",
            "_view_module_version": "1.2.0",
            "_view_name": "LayoutView",
            "align_content": null,
            "align_items": null,
            "align_self": null,
            "border": null,
            "bottom": null,
            "display": null,
            "flex": null,
            "flex_flow": null,
            "grid_area": null,
            "grid_auto_columns": null,
            "grid_auto_flow": null,
            "grid_auto_rows": null,
            "grid_column": null,
            "grid_gap": null,
            "grid_row": null,
            "grid_template_areas": null,
            "grid_template_columns": null,
            "grid_template_rows": null,
            "height": null,
            "justify_content": null,
            "justify_items": null,
            "left": null,
            "margin": null,
            "max_height": null,
            "max_width": null,
            "min_height": null,
            "min_width": null,
            "object_fit": null,
            "object_position": null,
            "order": null,
            "overflow": null,
            "overflow_x": null,
            "overflow_y": null,
            "padding": null,
            "right": null,
            "top": null,
            "visibility": null,
            "width": null
          }
        },
        "f5dfea3caee54292b7074f22ef39986e": {
          "model_module": "@jupyter-widgets/base",
          "model_name": "LayoutModel",
          "model_module_version": "1.2.0",
          "state": {
            "_model_module": "@jupyter-widgets/base",
            "_model_module_version": "1.2.0",
            "_model_name": "LayoutModel",
            "_view_count": null,
            "_view_module": "@jupyter-widgets/base",
            "_view_module_version": "1.2.0",
            "_view_name": "LayoutView",
            "align_content": null,
            "align_items": null,
            "align_self": null,
            "border": null,
            "bottom": null,
            "display": null,
            "flex": null,
            "flex_flow": null,
            "grid_area": null,
            "grid_auto_columns": null,
            "grid_auto_flow": null,
            "grid_auto_rows": null,
            "grid_column": null,
            "grid_gap": null,
            "grid_row": null,
            "grid_template_areas": null,
            "grid_template_columns": null,
            "grid_template_rows": null,
            "height": null,
            "justify_content": null,
            "justify_items": null,
            "left": null,
            "margin": null,
            "max_height": null,
            "max_width": null,
            "min_height": null,
            "min_width": null,
            "object_fit": null,
            "object_position": null,
            "order": null,
            "overflow": null,
            "overflow_x": null,
            "overflow_y": null,
            "padding": null,
            "right": null,
            "top": null,
            "visibility": null,
            "width": null
          }
        },
        "0d869aed8df14e93a19e45b4d4d36d92": {
          "model_module": "@jupyter-widgets/controls",
          "model_name": "DescriptionStyleModel",
          "model_module_version": "1.5.0",
          "state": {
            "_model_module": "@jupyter-widgets/controls",
            "_model_module_version": "1.5.0",
            "_model_name": "DescriptionStyleModel",
            "_view_count": null,
            "_view_module": "@jupyter-widgets/base",
            "_view_module_version": "1.2.0",
            "_view_name": "StyleView",
            "description_width": ""
          }
        },
        "619ed6d5edb443d3945126e42eeae313": {
          "model_module": "@jupyter-widgets/base",
          "model_name": "LayoutModel",
          "model_module_version": "1.2.0",
          "state": {
            "_model_module": "@jupyter-widgets/base",
            "_model_module_version": "1.2.0",
            "_model_name": "LayoutModel",
            "_view_count": null,
            "_view_module": "@jupyter-widgets/base",
            "_view_module_version": "1.2.0",
            "_view_name": "LayoutView",
            "align_content": null,
            "align_items": null,
            "align_self": null,
            "border": null,
            "bottom": null,
            "display": null,
            "flex": null,
            "flex_flow": null,
            "grid_area": null,
            "grid_auto_columns": null,
            "grid_auto_flow": null,
            "grid_auto_rows": null,
            "grid_column": null,
            "grid_gap": null,
            "grid_row": null,
            "grid_template_areas": null,
            "grid_template_columns": null,
            "grid_template_rows": null,
            "height": null,
            "justify_content": null,
            "justify_items": null,
            "left": null,
            "margin": null,
            "max_height": null,
            "max_width": null,
            "min_height": null,
            "min_width": null,
            "object_fit": null,
            "object_position": null,
            "order": null,
            "overflow": null,
            "overflow_x": null,
            "overflow_y": null,
            "padding": null,
            "right": null,
            "top": null,
            "visibility": null,
            "width": null
          }
        },
        "ab03310980c04828bd926238ccc28ae2": {
          "model_module": "@jupyter-widgets/controls",
          "model_name": "ProgressStyleModel",
          "model_module_version": "1.5.0",
          "state": {
            "_model_module": "@jupyter-widgets/controls",
            "_model_module_version": "1.5.0",
            "_model_name": "ProgressStyleModel",
            "_view_count": null,
            "_view_module": "@jupyter-widgets/base",
            "_view_module_version": "1.2.0",
            "_view_name": "StyleView",
            "bar_color": null,
            "description_width": ""
          }
        },
        "a88f20ec754346b3be3bfb61c0edcebb": {
          "model_module": "@jupyter-widgets/base",
          "model_name": "LayoutModel",
          "model_module_version": "1.2.0",
          "state": {
            "_model_module": "@jupyter-widgets/base",
            "_model_module_version": "1.2.0",
            "_model_name": "LayoutModel",
            "_view_count": null,
            "_view_module": "@jupyter-widgets/base",
            "_view_module_version": "1.2.0",
            "_view_name": "LayoutView",
            "align_content": null,
            "align_items": null,
            "align_self": null,
            "border": null,
            "bottom": null,
            "display": null,
            "flex": null,
            "flex_flow": null,
            "grid_area": null,
            "grid_auto_columns": null,
            "grid_auto_flow": null,
            "grid_auto_rows": null,
            "grid_column": null,
            "grid_gap": null,
            "grid_row": null,
            "grid_template_areas": null,
            "grid_template_columns": null,
            "grid_template_rows": null,
            "height": null,
            "justify_content": null,
            "justify_items": null,
            "left": null,
            "margin": null,
            "max_height": null,
            "max_width": null,
            "min_height": null,
            "min_width": null,
            "object_fit": null,
            "object_position": null,
            "order": null,
            "overflow": null,
            "overflow_x": null,
            "overflow_y": null,
            "padding": null,
            "right": null,
            "top": null,
            "visibility": null,
            "width": null
          }
        },
        "c501ed15d1f745469f4586209393698f": {
          "model_module": "@jupyter-widgets/controls",
          "model_name": "DescriptionStyleModel",
          "model_module_version": "1.5.0",
          "state": {
            "_model_module": "@jupyter-widgets/controls",
            "_model_module_version": "1.5.0",
            "_model_name": "DescriptionStyleModel",
            "_view_count": null,
            "_view_module": "@jupyter-widgets/base",
            "_view_module_version": "1.2.0",
            "_view_name": "StyleView",
            "description_width": ""
          }
        },
        "c1fb9c55f85349cdb127f1bb21b62188": {
          "model_module": "@jupyter-widgets/controls",
          "model_name": "HBoxModel",
          "model_module_version": "1.5.0",
          "state": {
            "_dom_classes": [],
            "_model_module": "@jupyter-widgets/controls",
            "_model_module_version": "1.5.0",
            "_model_name": "HBoxModel",
            "_view_count": null,
            "_view_module": "@jupyter-widgets/controls",
            "_view_module_version": "1.5.0",
            "_view_name": "HBoxView",
            "box_style": "",
            "children": [
              "IPY_MODEL_e8fcb06ce60d4aca98770ce6e62da9a9",
              "IPY_MODEL_3a609d162f024b48b7643ae49a3ea7f1",
              "IPY_MODEL_c9f66f34ba3a49e79802107eb8329d2d"
            ],
            "layout": "IPY_MODEL_0b26d57b5a29414ea8d59706ebca5335"
          }
        },
        "e8fcb06ce60d4aca98770ce6e62da9a9": {
          "model_module": "@jupyter-widgets/controls",
          "model_name": "HTMLModel",
          "model_module_version": "1.5.0",
          "state": {
            "_dom_classes": [],
            "_model_module": "@jupyter-widgets/controls",
            "_model_module_version": "1.5.0",
            "_model_name": "HTMLModel",
            "_view_count": null,
            "_view_module": "@jupyter-widgets/controls",
            "_view_module_version": "1.5.0",
            "_view_name": "HTMLView",
            "description": "",
            "description_tooltip": null,
            "layout": "IPY_MODEL_d383eb3563334b6d89a2f0cf40cce7f6",
            "placeholder": "​",
            "style": "IPY_MODEL_2be5dc189fcc4678a235fcdea7ba2a0a",
            "value": ""
          }
        },
        "3a609d162f024b48b7643ae49a3ea7f1": {
          "model_module": "@jupyter-widgets/controls",
          "model_name": "FloatProgressModel",
          "model_module_version": "1.5.0",
          "state": {
            "_dom_classes": [],
            "_model_module": "@jupyter-widgets/controls",
            "_model_module_version": "1.5.0",
            "_model_name": "FloatProgressModel",
            "_view_count": null,
            "_view_module": "@jupyter-widgets/controls",
            "_view_module_version": "1.5.0",
            "_view_name": "ProgressView",
            "bar_style": "success",
            "description": "",
            "description_tooltip": null,
            "layout": "IPY_MODEL_47aef01a147e459a9d720e5938204efb",
            "max": 29515,
            "min": 0,
            "orientation": "horizontal",
            "style": "IPY_MODEL_a1bb3c0423d7439d927d800180a9dde6",
            "value": 29515
          }
        },
        "c9f66f34ba3a49e79802107eb8329d2d": {
          "model_module": "@jupyter-widgets/controls",
          "model_name": "HTMLModel",
          "model_module_version": "1.5.0",
          "state": {
            "_dom_classes": [],
            "_model_module": "@jupyter-widgets/controls",
            "_model_module_version": "1.5.0",
            "_model_name": "HTMLModel",
            "_view_count": null,
            "_view_module": "@jupyter-widgets/controls",
            "_view_module_version": "1.5.0",
            "_view_name": "HTMLView",
            "description": "",
            "description_tooltip": null,
            "layout": "IPY_MODEL_9e2657de3ac94467ba27f0ded9c2cad5",
            "placeholder": "​",
            "style": "IPY_MODEL_8f0beb2f6eaf438d8279e2a94c1cce36",
            "value": " 29696/? [00:00&lt;00:00, 103335.43it/s]"
          }
        },
        "0b26d57b5a29414ea8d59706ebca5335": {
          "model_module": "@jupyter-widgets/base",
          "model_name": "LayoutModel",
          "model_module_version": "1.2.0",
          "state": {
            "_model_module": "@jupyter-widgets/base",
            "_model_module_version": "1.2.0",
            "_model_name": "LayoutModel",
            "_view_count": null,
            "_view_module": "@jupyter-widgets/base",
            "_view_module_version": "1.2.0",
            "_view_name": "LayoutView",
            "align_content": null,
            "align_items": null,
            "align_self": null,
            "border": null,
            "bottom": null,
            "display": null,
            "flex": null,
            "flex_flow": null,
            "grid_area": null,
            "grid_auto_columns": null,
            "grid_auto_flow": null,
            "grid_auto_rows": null,
            "grid_column": null,
            "grid_gap": null,
            "grid_row": null,
            "grid_template_areas": null,
            "grid_template_columns": null,
            "grid_template_rows": null,
            "height": null,
            "justify_content": null,
            "justify_items": null,
            "left": null,
            "margin": null,
            "max_height": null,
            "max_width": null,
            "min_height": null,
            "min_width": null,
            "object_fit": null,
            "object_position": null,
            "order": null,
            "overflow": null,
            "overflow_x": null,
            "overflow_y": null,
            "padding": null,
            "right": null,
            "top": null,
            "visibility": null,
            "width": null
          }
        },
        "d383eb3563334b6d89a2f0cf40cce7f6": {
          "model_module": "@jupyter-widgets/base",
          "model_name": "LayoutModel",
          "model_module_version": "1.2.0",
          "state": {
            "_model_module": "@jupyter-widgets/base",
            "_model_module_version": "1.2.0",
            "_model_name": "LayoutModel",
            "_view_count": null,
            "_view_module": "@jupyter-widgets/base",
            "_view_module_version": "1.2.0",
            "_view_name": "LayoutView",
            "align_content": null,
            "align_items": null,
            "align_self": null,
            "border": null,
            "bottom": null,
            "display": null,
            "flex": null,
            "flex_flow": null,
            "grid_area": null,
            "grid_auto_columns": null,
            "grid_auto_flow": null,
            "grid_auto_rows": null,
            "grid_column": null,
            "grid_gap": null,
            "grid_row": null,
            "grid_template_areas": null,
            "grid_template_columns": null,
            "grid_template_rows": null,
            "height": null,
            "justify_content": null,
            "justify_items": null,
            "left": null,
            "margin": null,
            "max_height": null,
            "max_width": null,
            "min_height": null,
            "min_width": null,
            "object_fit": null,
            "object_position": null,
            "order": null,
            "overflow": null,
            "overflow_x": null,
            "overflow_y": null,
            "padding": null,
            "right": null,
            "top": null,
            "visibility": null,
            "width": null
          }
        },
        "2be5dc189fcc4678a235fcdea7ba2a0a": {
          "model_module": "@jupyter-widgets/controls",
          "model_name": "DescriptionStyleModel",
          "model_module_version": "1.5.0",
          "state": {
            "_model_module": "@jupyter-widgets/controls",
            "_model_module_version": "1.5.0",
            "_model_name": "DescriptionStyleModel",
            "_view_count": null,
            "_view_module": "@jupyter-widgets/base",
            "_view_module_version": "1.2.0",
            "_view_name": "StyleView",
            "description_width": ""
          }
        },
        "47aef01a147e459a9d720e5938204efb": {
          "model_module": "@jupyter-widgets/base",
          "model_name": "LayoutModel",
          "model_module_version": "1.2.0",
          "state": {
            "_model_module": "@jupyter-widgets/base",
            "_model_module_version": "1.2.0",
            "_model_name": "LayoutModel",
            "_view_count": null,
            "_view_module": "@jupyter-widgets/base",
            "_view_module_version": "1.2.0",
            "_view_name": "LayoutView",
            "align_content": null,
            "align_items": null,
            "align_self": null,
            "border": null,
            "bottom": null,
            "display": null,
            "flex": null,
            "flex_flow": null,
            "grid_area": null,
            "grid_auto_columns": null,
            "grid_auto_flow": null,
            "grid_auto_rows": null,
            "grid_column": null,
            "grid_gap": null,
            "grid_row": null,
            "grid_template_areas": null,
            "grid_template_columns": null,
            "grid_template_rows": null,
            "height": null,
            "justify_content": null,
            "justify_items": null,
            "left": null,
            "margin": null,
            "max_height": null,
            "max_width": null,
            "min_height": null,
            "min_width": null,
            "object_fit": null,
            "object_position": null,
            "order": null,
            "overflow": null,
            "overflow_x": null,
            "overflow_y": null,
            "padding": null,
            "right": null,
            "top": null,
            "visibility": null,
            "width": null
          }
        },
        "a1bb3c0423d7439d927d800180a9dde6": {
          "model_module": "@jupyter-widgets/controls",
          "model_name": "ProgressStyleModel",
          "model_module_version": "1.5.0",
          "state": {
            "_model_module": "@jupyter-widgets/controls",
            "_model_module_version": "1.5.0",
            "_model_name": "ProgressStyleModel",
            "_view_count": null,
            "_view_module": "@jupyter-widgets/base",
            "_view_module_version": "1.2.0",
            "_view_name": "StyleView",
            "bar_color": null,
            "description_width": ""
          }
        },
        "9e2657de3ac94467ba27f0ded9c2cad5": {
          "model_module": "@jupyter-widgets/base",
          "model_name": "LayoutModel",
          "model_module_version": "1.2.0",
          "state": {
            "_model_module": "@jupyter-widgets/base",
            "_model_module_version": "1.2.0",
            "_model_name": "LayoutModel",
            "_view_count": null,
            "_view_module": "@jupyter-widgets/base",
            "_view_module_version": "1.2.0",
            "_view_name": "LayoutView",
            "align_content": null,
            "align_items": null,
            "align_self": null,
            "border": null,
            "bottom": null,
            "display": null,
            "flex": null,
            "flex_flow": null,
            "grid_area": null,
            "grid_auto_columns": null,
            "grid_auto_flow": null,
            "grid_auto_rows": null,
            "grid_column": null,
            "grid_gap": null,
            "grid_row": null,
            "grid_template_areas": null,
            "grid_template_columns": null,
            "grid_template_rows": null,
            "height": null,
            "justify_content": null,
            "justify_items": null,
            "left": null,
            "margin": null,
            "max_height": null,
            "max_width": null,
            "min_height": null,
            "min_width": null,
            "object_fit": null,
            "object_position": null,
            "order": null,
            "overflow": null,
            "overflow_x": null,
            "overflow_y": null,
            "padding": null,
            "right": null,
            "top": null,
            "visibility": null,
            "width": null
          }
        },
        "8f0beb2f6eaf438d8279e2a94c1cce36": {
          "model_module": "@jupyter-widgets/controls",
          "model_name": "DescriptionStyleModel",
          "model_module_version": "1.5.0",
          "state": {
            "_model_module": "@jupyter-widgets/controls",
            "_model_module_version": "1.5.0",
            "_model_name": "DescriptionStyleModel",
            "_view_count": null,
            "_view_module": "@jupyter-widgets/base",
            "_view_module_version": "1.2.0",
            "_view_name": "StyleView",
            "description_width": ""
          }
        },
        "4931dc1555fa423aac42c1ba2763abb5": {
          "model_module": "@jupyter-widgets/controls",
          "model_name": "HBoxModel",
          "model_module_version": "1.5.0",
          "state": {
            "_dom_classes": [],
            "_model_module": "@jupyter-widgets/controls",
            "_model_module_version": "1.5.0",
            "_model_name": "HBoxModel",
            "_view_count": null,
            "_view_module": "@jupyter-widgets/controls",
            "_view_module_version": "1.5.0",
            "_view_name": "HBoxView",
            "box_style": "",
            "children": [
              "IPY_MODEL_3fb4c3ae0fd04570954c870e56daa19a",
              "IPY_MODEL_9babca2e982a497b9c564446d49a3970",
              "IPY_MODEL_5c799a964aea405a953e8c7e4ef61ab6"
            ],
            "layout": "IPY_MODEL_f4501a8379b54579a57449c9e30dda37"
          }
        },
        "3fb4c3ae0fd04570954c870e56daa19a": {
          "model_module": "@jupyter-widgets/controls",
          "model_name": "HTMLModel",
          "model_module_version": "1.5.0",
          "state": {
            "_dom_classes": [],
            "_model_module": "@jupyter-widgets/controls",
            "_model_module_version": "1.5.0",
            "_model_name": "HTMLModel",
            "_view_count": null,
            "_view_module": "@jupyter-widgets/controls",
            "_view_module_version": "1.5.0",
            "_view_name": "HTMLView",
            "description": "",
            "description_tooltip": null,
            "layout": "IPY_MODEL_371518da188d49caa664d4e7bb315fab",
            "placeholder": "​",
            "style": "IPY_MODEL_9c83de99a8a84b20bd1ec104c1140240",
            "value": ""
          }
        },
        "9babca2e982a497b9c564446d49a3970": {
          "model_module": "@jupyter-widgets/controls",
          "model_name": "FloatProgressModel",
          "model_module_version": "1.5.0",
          "state": {
            "_dom_classes": [],
            "_model_module": "@jupyter-widgets/controls",
            "_model_module_version": "1.5.0",
            "_model_name": "FloatProgressModel",
            "_view_count": null,
            "_view_module": "@jupyter-widgets/controls",
            "_view_module_version": "1.5.0",
            "_view_name": "ProgressView",
            "bar_style": "success",
            "description": "",
            "description_tooltip": null,
            "layout": "IPY_MODEL_cd2da003d8ea4c64ab45cf614feebffe",
            "max": 4422102,
            "min": 0,
            "orientation": "horizontal",
            "style": "IPY_MODEL_3fb7af476a05452fb8c7287eb8cb95ef",
            "value": 4422102
          }
        },
        "5c799a964aea405a953e8c7e4ef61ab6": {
          "model_module": "@jupyter-widgets/controls",
          "model_name": "HTMLModel",
          "model_module_version": "1.5.0",
          "state": {
            "_dom_classes": [],
            "_model_module": "@jupyter-widgets/controls",
            "_model_module_version": "1.5.0",
            "_model_name": "HTMLModel",
            "_view_count": null,
            "_view_module": "@jupyter-widgets/controls",
            "_view_module_version": "1.5.0",
            "_view_name": "HTMLView",
            "description": "",
            "description_tooltip": null,
            "layout": "IPY_MODEL_a5a03bf5bd5846aca0e43d0544a266b8",
            "placeholder": "​",
            "style": "IPY_MODEL_ce62527adbb944218a5feb46254455df",
            "value": " 4422656/? [00:01&lt;00:00, 5964762.07it/s]"
          }
        },
        "f4501a8379b54579a57449c9e30dda37": {
          "model_module": "@jupyter-widgets/base",
          "model_name": "LayoutModel",
          "model_module_version": "1.2.0",
          "state": {
            "_model_module": "@jupyter-widgets/base",
            "_model_module_version": "1.2.0",
            "_model_name": "LayoutModel",
            "_view_count": null,
            "_view_module": "@jupyter-widgets/base",
            "_view_module_version": "1.2.0",
            "_view_name": "LayoutView",
            "align_content": null,
            "align_items": null,
            "align_self": null,
            "border": null,
            "bottom": null,
            "display": null,
            "flex": null,
            "flex_flow": null,
            "grid_area": null,
            "grid_auto_columns": null,
            "grid_auto_flow": null,
            "grid_auto_rows": null,
            "grid_column": null,
            "grid_gap": null,
            "grid_row": null,
            "grid_template_areas": null,
            "grid_template_columns": null,
            "grid_template_rows": null,
            "height": null,
            "justify_content": null,
            "justify_items": null,
            "left": null,
            "margin": null,
            "max_height": null,
            "max_width": null,
            "min_height": null,
            "min_width": null,
            "object_fit": null,
            "object_position": null,
            "order": null,
            "overflow": null,
            "overflow_x": null,
            "overflow_y": null,
            "padding": null,
            "right": null,
            "top": null,
            "visibility": null,
            "width": null
          }
        },
        "371518da188d49caa664d4e7bb315fab": {
          "model_module": "@jupyter-widgets/base",
          "model_name": "LayoutModel",
          "model_module_version": "1.2.0",
          "state": {
            "_model_module": "@jupyter-widgets/base",
            "_model_module_version": "1.2.0",
            "_model_name": "LayoutModel",
            "_view_count": null,
            "_view_module": "@jupyter-widgets/base",
            "_view_module_version": "1.2.0",
            "_view_name": "LayoutView",
            "align_content": null,
            "align_items": null,
            "align_self": null,
            "border": null,
            "bottom": null,
            "display": null,
            "flex": null,
            "flex_flow": null,
            "grid_area": null,
            "grid_auto_columns": null,
            "grid_auto_flow": null,
            "grid_auto_rows": null,
            "grid_column": null,
            "grid_gap": null,
            "grid_row": null,
            "grid_template_areas": null,
            "grid_template_columns": null,
            "grid_template_rows": null,
            "height": null,
            "justify_content": null,
            "justify_items": null,
            "left": null,
            "margin": null,
            "max_height": null,
            "max_width": null,
            "min_height": null,
            "min_width": null,
            "object_fit": null,
            "object_position": null,
            "order": null,
            "overflow": null,
            "overflow_x": null,
            "overflow_y": null,
            "padding": null,
            "right": null,
            "top": null,
            "visibility": null,
            "width": null
          }
        },
        "9c83de99a8a84b20bd1ec104c1140240": {
          "model_module": "@jupyter-widgets/controls",
          "model_name": "DescriptionStyleModel",
          "model_module_version": "1.5.0",
          "state": {
            "_model_module": "@jupyter-widgets/controls",
            "_model_module_version": "1.5.0",
            "_model_name": "DescriptionStyleModel",
            "_view_count": null,
            "_view_module": "@jupyter-widgets/base",
            "_view_module_version": "1.2.0",
            "_view_name": "StyleView",
            "description_width": ""
          }
        },
        "cd2da003d8ea4c64ab45cf614feebffe": {
          "model_module": "@jupyter-widgets/base",
          "model_name": "LayoutModel",
          "model_module_version": "1.2.0",
          "state": {
            "_model_module": "@jupyter-widgets/base",
            "_model_module_version": "1.2.0",
            "_model_name": "LayoutModel",
            "_view_count": null,
            "_view_module": "@jupyter-widgets/base",
            "_view_module_version": "1.2.0",
            "_view_name": "LayoutView",
            "align_content": null,
            "align_items": null,
            "align_self": null,
            "border": null,
            "bottom": null,
            "display": null,
            "flex": null,
            "flex_flow": null,
            "grid_area": null,
            "grid_auto_columns": null,
            "grid_auto_flow": null,
            "grid_auto_rows": null,
            "grid_column": null,
            "grid_gap": null,
            "grid_row": null,
            "grid_template_areas": null,
            "grid_template_columns": null,
            "grid_template_rows": null,
            "height": null,
            "justify_content": null,
            "justify_items": null,
            "left": null,
            "margin": null,
            "max_height": null,
            "max_width": null,
            "min_height": null,
            "min_width": null,
            "object_fit": null,
            "object_position": null,
            "order": null,
            "overflow": null,
            "overflow_x": null,
            "overflow_y": null,
            "padding": null,
            "right": null,
            "top": null,
            "visibility": null,
            "width": null
          }
        },
        "3fb7af476a05452fb8c7287eb8cb95ef": {
          "model_module": "@jupyter-widgets/controls",
          "model_name": "ProgressStyleModel",
          "model_module_version": "1.5.0",
          "state": {
            "_model_module": "@jupyter-widgets/controls",
            "_model_module_version": "1.5.0",
            "_model_name": "ProgressStyleModel",
            "_view_count": null,
            "_view_module": "@jupyter-widgets/base",
            "_view_module_version": "1.2.0",
            "_view_name": "StyleView",
            "bar_color": null,
            "description_width": ""
          }
        },
        "a5a03bf5bd5846aca0e43d0544a266b8": {
          "model_module": "@jupyter-widgets/base",
          "model_name": "LayoutModel",
          "model_module_version": "1.2.0",
          "state": {
            "_model_module": "@jupyter-widgets/base",
            "_model_module_version": "1.2.0",
            "_model_name": "LayoutModel",
            "_view_count": null,
            "_view_module": "@jupyter-widgets/base",
            "_view_module_version": "1.2.0",
            "_view_name": "LayoutView",
            "align_content": null,
            "align_items": null,
            "align_self": null,
            "border": null,
            "bottom": null,
            "display": null,
            "flex": null,
            "flex_flow": null,
            "grid_area": null,
            "grid_auto_columns": null,
            "grid_auto_flow": null,
            "grid_auto_rows": null,
            "grid_column": null,
            "grid_gap": null,
            "grid_row": null,
            "grid_template_areas": null,
            "grid_template_columns": null,
            "grid_template_rows": null,
            "height": null,
            "justify_content": null,
            "justify_items": null,
            "left": null,
            "margin": null,
            "max_height": null,
            "max_width": null,
            "min_height": null,
            "min_width": null,
            "object_fit": null,
            "object_position": null,
            "order": null,
            "overflow": null,
            "overflow_x": null,
            "overflow_y": null,
            "padding": null,
            "right": null,
            "top": null,
            "visibility": null,
            "width": null
          }
        },
        "ce62527adbb944218a5feb46254455df": {
          "model_module": "@jupyter-widgets/controls",
          "model_name": "DescriptionStyleModel",
          "model_module_version": "1.5.0",
          "state": {
            "_model_module": "@jupyter-widgets/controls",
            "_model_module_version": "1.5.0",
            "_model_name": "DescriptionStyleModel",
            "_view_count": null,
            "_view_module": "@jupyter-widgets/base",
            "_view_module_version": "1.2.0",
            "_view_name": "StyleView",
            "description_width": ""
          }
        },
        "ad8c692e2f3a4aea8603e9702b676512": {
          "model_module": "@jupyter-widgets/controls",
          "model_name": "HBoxModel",
          "model_module_version": "1.5.0",
          "state": {
            "_dom_classes": [],
            "_model_module": "@jupyter-widgets/controls",
            "_model_module_version": "1.5.0",
            "_model_name": "HBoxModel",
            "_view_count": null,
            "_view_module": "@jupyter-widgets/controls",
            "_view_module_version": "1.5.0",
            "_view_name": "HBoxView",
            "box_style": "",
            "children": [
              "IPY_MODEL_ab816668179d4f6299240db86ce26477",
              "IPY_MODEL_07f5a0d1bd25411497df961bdac847fe",
              "IPY_MODEL_5bd924bd1a24481dbcae9deb7c83592d"
            ],
            "layout": "IPY_MODEL_2eb4b47c8bf04a4bbd2a30cf56db2623"
          }
        },
        "ab816668179d4f6299240db86ce26477": {
          "model_module": "@jupyter-widgets/controls",
          "model_name": "HTMLModel",
          "model_module_version": "1.5.0",
          "state": {
            "_dom_classes": [],
            "_model_module": "@jupyter-widgets/controls",
            "_model_module_version": "1.5.0",
            "_model_name": "HTMLModel",
            "_view_count": null,
            "_view_module": "@jupyter-widgets/controls",
            "_view_module_version": "1.5.0",
            "_view_name": "HTMLView",
            "description": "",
            "description_tooltip": null,
            "layout": "IPY_MODEL_573af73ef5d541cfa4ce7c084333fb4b",
            "placeholder": "​",
            "style": "IPY_MODEL_254abf9163d34807a13912695faf4a43",
            "value": ""
          }
        },
        "07f5a0d1bd25411497df961bdac847fe": {
          "model_module": "@jupyter-widgets/controls",
          "model_name": "FloatProgressModel",
          "model_module_version": "1.5.0",
          "state": {
            "_dom_classes": [],
            "_model_module": "@jupyter-widgets/controls",
            "_model_module_version": "1.5.0",
            "_model_name": "FloatProgressModel",
            "_view_count": null,
            "_view_module": "@jupyter-widgets/controls",
            "_view_module_version": "1.5.0",
            "_view_name": "ProgressView",
            "bar_style": "success",
            "description": "",
            "description_tooltip": null,
            "layout": "IPY_MODEL_196a39c2d0d542468a92fbe08581df72",
            "max": 5148,
            "min": 0,
            "orientation": "horizontal",
            "style": "IPY_MODEL_4d57ea30f8014c3da69d434b996c4eb5",
            "value": 5148
          }
        },
        "5bd924bd1a24481dbcae9deb7c83592d": {
          "model_module": "@jupyter-widgets/controls",
          "model_name": "HTMLModel",
          "model_module_version": "1.5.0",
          "state": {
            "_dom_classes": [],
            "_model_module": "@jupyter-widgets/controls",
            "_model_module_version": "1.5.0",
            "_model_name": "HTMLModel",
            "_view_count": null,
            "_view_module": "@jupyter-widgets/controls",
            "_view_module_version": "1.5.0",
            "_view_name": "HTMLView",
            "description": "",
            "description_tooltip": null,
            "layout": "IPY_MODEL_b2108cefba064b289256544b0c5df5d4",
            "placeholder": "​",
            "style": "IPY_MODEL_b7136bc373c740f79f2f0760235ec87a",
            "value": " 6144/? [00:00&lt;00:00, 261330.53it/s]"
          }
        },
        "2eb4b47c8bf04a4bbd2a30cf56db2623": {
          "model_module": "@jupyter-widgets/base",
          "model_name": "LayoutModel",
          "model_module_version": "1.2.0",
          "state": {
            "_model_module": "@jupyter-widgets/base",
            "_model_module_version": "1.2.0",
            "_model_name": "LayoutModel",
            "_view_count": null,
            "_view_module": "@jupyter-widgets/base",
            "_view_module_version": "1.2.0",
            "_view_name": "LayoutView",
            "align_content": null,
            "align_items": null,
            "align_self": null,
            "border": null,
            "bottom": null,
            "display": null,
            "flex": null,
            "flex_flow": null,
            "grid_area": null,
            "grid_auto_columns": null,
            "grid_auto_flow": null,
            "grid_auto_rows": null,
            "grid_column": null,
            "grid_gap": null,
            "grid_row": null,
            "grid_template_areas": null,
            "grid_template_columns": null,
            "grid_template_rows": null,
            "height": null,
            "justify_content": null,
            "justify_items": null,
            "left": null,
            "margin": null,
            "max_height": null,
            "max_width": null,
            "min_height": null,
            "min_width": null,
            "object_fit": null,
            "object_position": null,
            "order": null,
            "overflow": null,
            "overflow_x": null,
            "overflow_y": null,
            "padding": null,
            "right": null,
            "top": null,
            "visibility": null,
            "width": null
          }
        },
        "573af73ef5d541cfa4ce7c084333fb4b": {
          "model_module": "@jupyter-widgets/base",
          "model_name": "LayoutModel",
          "model_module_version": "1.2.0",
          "state": {
            "_model_module": "@jupyter-widgets/base",
            "_model_module_version": "1.2.0",
            "_model_name": "LayoutModel",
            "_view_count": null,
            "_view_module": "@jupyter-widgets/base",
            "_view_module_version": "1.2.0",
            "_view_name": "LayoutView",
            "align_content": null,
            "align_items": null,
            "align_self": null,
            "border": null,
            "bottom": null,
            "display": null,
            "flex": null,
            "flex_flow": null,
            "grid_area": null,
            "grid_auto_columns": null,
            "grid_auto_flow": null,
            "grid_auto_rows": null,
            "grid_column": null,
            "grid_gap": null,
            "grid_row": null,
            "grid_template_areas": null,
            "grid_template_columns": null,
            "grid_template_rows": null,
            "height": null,
            "justify_content": null,
            "justify_items": null,
            "left": null,
            "margin": null,
            "max_height": null,
            "max_width": null,
            "min_height": null,
            "min_width": null,
            "object_fit": null,
            "object_position": null,
            "order": null,
            "overflow": null,
            "overflow_x": null,
            "overflow_y": null,
            "padding": null,
            "right": null,
            "top": null,
            "visibility": null,
            "width": null
          }
        },
        "254abf9163d34807a13912695faf4a43": {
          "model_module": "@jupyter-widgets/controls",
          "model_name": "DescriptionStyleModel",
          "model_module_version": "1.5.0",
          "state": {
            "_model_module": "@jupyter-widgets/controls",
            "_model_module_version": "1.5.0",
            "_model_name": "DescriptionStyleModel",
            "_view_count": null,
            "_view_module": "@jupyter-widgets/base",
            "_view_module_version": "1.2.0",
            "_view_name": "StyleView",
            "description_width": ""
          }
        },
        "196a39c2d0d542468a92fbe08581df72": {
          "model_module": "@jupyter-widgets/base",
          "model_name": "LayoutModel",
          "model_module_version": "1.2.0",
          "state": {
            "_model_module": "@jupyter-widgets/base",
            "_model_module_version": "1.2.0",
            "_model_name": "LayoutModel",
            "_view_count": null,
            "_view_module": "@jupyter-widgets/base",
            "_view_module_version": "1.2.0",
            "_view_name": "LayoutView",
            "align_content": null,
            "align_items": null,
            "align_self": null,
            "border": null,
            "bottom": null,
            "display": null,
            "flex": null,
            "flex_flow": null,
            "grid_area": null,
            "grid_auto_columns": null,
            "grid_auto_flow": null,
            "grid_auto_rows": null,
            "grid_column": null,
            "grid_gap": null,
            "grid_row": null,
            "grid_template_areas": null,
            "grid_template_columns": null,
            "grid_template_rows": null,
            "height": null,
            "justify_content": null,
            "justify_items": null,
            "left": null,
            "margin": null,
            "max_height": null,
            "max_width": null,
            "min_height": null,
            "min_width": null,
            "object_fit": null,
            "object_position": null,
            "order": null,
            "overflow": null,
            "overflow_x": null,
            "overflow_y": null,
            "padding": null,
            "right": null,
            "top": null,
            "visibility": null,
            "width": null
          }
        },
        "4d57ea30f8014c3da69d434b996c4eb5": {
          "model_module": "@jupyter-widgets/controls",
          "model_name": "ProgressStyleModel",
          "model_module_version": "1.5.0",
          "state": {
            "_model_module": "@jupyter-widgets/controls",
            "_model_module_version": "1.5.0",
            "_model_name": "ProgressStyleModel",
            "_view_count": null,
            "_view_module": "@jupyter-widgets/base",
            "_view_module_version": "1.2.0",
            "_view_name": "StyleView",
            "bar_color": null,
            "description_width": ""
          }
        },
        "b2108cefba064b289256544b0c5df5d4": {
          "model_module": "@jupyter-widgets/base",
          "model_name": "LayoutModel",
          "model_module_version": "1.2.0",
          "state": {
            "_model_module": "@jupyter-widgets/base",
            "_model_module_version": "1.2.0",
            "_model_name": "LayoutModel",
            "_view_count": null,
            "_view_module": "@jupyter-widgets/base",
            "_view_module_version": "1.2.0",
            "_view_name": "LayoutView",
            "align_content": null,
            "align_items": null,
            "align_self": null,
            "border": null,
            "bottom": null,
            "display": null,
            "flex": null,
            "flex_flow": null,
            "grid_area": null,
            "grid_auto_columns": null,
            "grid_auto_flow": null,
            "grid_auto_rows": null,
            "grid_column": null,
            "grid_gap": null,
            "grid_row": null,
            "grid_template_areas": null,
            "grid_template_columns": null,
            "grid_template_rows": null,
            "height": null,
            "justify_content": null,
            "justify_items": null,
            "left": null,
            "margin": null,
            "max_height": null,
            "max_width": null,
            "min_height": null,
            "min_width": null,
            "object_fit": null,
            "object_position": null,
            "order": null,
            "overflow": null,
            "overflow_x": null,
            "overflow_y": null,
            "padding": null,
            "right": null,
            "top": null,
            "visibility": null,
            "width": null
          }
        },
        "b7136bc373c740f79f2f0760235ec87a": {
          "model_module": "@jupyter-widgets/controls",
          "model_name": "DescriptionStyleModel",
          "model_module_version": "1.5.0",
          "state": {
            "_model_module": "@jupyter-widgets/controls",
            "_model_module_version": "1.5.0",
            "_model_name": "DescriptionStyleModel",
            "_view_count": null,
            "_view_module": "@jupyter-widgets/base",
            "_view_module_version": "1.2.0",
            "_view_name": "StyleView",
            "description_width": ""
          }
        }
      }
    }
  },
  "cells": [
    {
      "cell_type": "markdown",
      "source": [
        "# Multiclass Classification of Fashion-MNIST dataset with Pytorch\n",
        "## Part-1: Training base model"
      ],
      "metadata": {
        "id": "3LxM6PKUKhXh"
      }
    },
    {
      "cell_type": "code",
      "metadata": {
        "id": "wQO4YGZiCzEP",
        "outputId": "224d1cef-028e-4e3b-827d-e7c253f1634f",
        "colab": {
          "base_uri": "https://localhost:8080/"
        }
      },
      "source": [
        "# set this flag to True when you run this Notebook on Google Collaboratory\n",
        "USE_COLAB = True\n",
        "\n",
        "import os\n",
        "\n",
        "#@see: https://colab.research.google.com/drive/1srw_HFWQ2SMgmWIawucXfusGzrj1_U0q\n",
        "if USE_COLAB:\n",
        "    # Load the Drive helper and mount\n",
        "    from google.colab import drive\n",
        "\n",
        "    # This will prompt for authorization.\n",
        "    gdrive_mount_point = '/content/drive/'\n",
        "    drive.mount(gdrive_mount_point)\n",
        "    gdrive_path = os.path.join(gdrive_mount_point, \"My Drive/\")\n",
        "    print('Your Google Drive is mounted at ', gdrive_path)\n",
        "    COLAB_NOTEBOOKS_PATH = os.path.join(gdrive_path, \"Colab Notebooks\",\"Pytorch\")\n",
        "    \n",
        "    if os.path.exists(COLAB_NOTEBOOKS_PATH):\n",
        "        print('You Colab notebooks are available at ', COLAB_NOTEBOOKS_PATH)\n",
        "    \n",
        "        # display list of files\n",
        "        #!ls '/content/drive/My Drive/Colab Notebooks/'\n",
        "\n",
        "        # append our Google Drive folder to module search \n",
        "        # **NOTE:** comment this line out if you are NOT running this notebook on Google Colab\n",
        "        import sys\n",
        "        #sys.path.append(\"/content/drive/My Drive/Colab Notebooks/\")\n",
        "        sys.path.append(COLAB_NOTEBOOKS_PATH)\n",
        "        print('NOTE: {} is appended to sys.path!'.format(COLAB_NOTEBOOKS_PATH))\n",
        "        # and test it\n",
        "        import pytorch_toolkit as pytk\n",
        "        MODEL_SAVE_DIR = os.path.join(COLAB_NOTEBOOKS_PATH, \"model_states\")\n",
        "        #IMAGES_ZIP_DIR = \"/content/drive/My Drive/Colab Notebooks/data/kaggle/malaria\"\n",
        "    else:\n",
        "        raise IOError(\"Unable to mount Google Drive!\")\n",
        "else:\n",
        "    MODEL_SAVE_DIR = os.path.join('.','model_states')\n",
        "    #IMAGES_ZIP_DIR = \"./images/kaggle/malaria\"\n",
        "\n",
        "print(f\"Model states will be saved to {MODEL_SAVE_DIR}\")\n",
        "    \n",
        "if not os.path.exists(MODEL_SAVE_DIR):\n",
        "    os.mkdir(MODEL_SAVE_DIR)"
      ],
      "execution_count": null,
      "outputs": [
        {
          "output_type": "stream",
          "name": "stdout",
          "text": [
            "Mounted at /content/drive/\n",
            "Your Google Drive is mounted at  /content/drive/My Drive/\n",
            "You Colab notebooks are available at  /content/drive/My Drive/Colab Notebooks/Pytorch\n",
            "NOTE: /content/drive/My Drive/Colab Notebooks/Pytorch is appended to sys.path!\n",
            "Model states will be saved to /content/drive/My Drive/Colab Notebooks/Pytorch/model_states\n"
          ]
        }
      ]
    },
    {
      "cell_type": "markdown",
      "source": [
        "## Standard Imports"
      ],
      "metadata": {
        "id": "0W4R-gsSKK_f"
      }
    },
    {
      "cell_type": "code",
      "metadata": {
        "id": "MhOlv7y_-aHJ",
        "outputId": "ceaa400a-c4d4-4106-c259-9f018b99bef5",
        "colab": {
          "base_uri": "https://localhost:8080/"
        }
      },
      "source": [
        "import warnings\n",
        "warnings.filterwarnings('ignore')\n",
        "\n",
        "import sys, os, random\n",
        "import numpy as np\n",
        "import matplotlib.pyplot as plt\n",
        "import seaborn as sns\n",
        "\n",
        "# tweaks for libraries\n",
        "np.set_printoptions(precision=6, linewidth=1024, suppress=True)\n",
        "plt.style.use('seaborn')\n",
        "sns.set(style='darkgrid', context='notebook', font_scale=1.2)\n",
        "\n",
        "# Pytorch imports\n",
        "import torch\n",
        "print(f'Using Pytorch version {torch.__version__}. ' + \n",
        "      f'GPU {\"is available :)\" if torch.cuda.is_available() else \"is not available :(\"}')\n",
        "import torch.nn as nn\n",
        "import torch.nn.functional as F\n",
        "from torchvision import datasets, transforms\n",
        "from torch import optim\n",
        "from torchsummary import summary\n",
        "# My helper functions for training/evaluating etc.\n",
        "import pytorch_toolkit as pytk\n",
        "\n",
        "# to ensure that you get consistent results across runs & machines\n",
        "# @see: https://discuss.pytorch.org/t/reproducibility-over-different-machines/63047\n",
        "SEED = 41\n",
        "random.seed(SEED)\n",
        "os.environ['PYTHONHASHSEED'] = str(SEED)\n",
        "np.random.seed(SEED)\n",
        "torch.manual_seed(SEED);\n",
        "\n",
        "if torch.cuda.is_available():\n",
        "    torch.cuda.manual_seed(SEED)\n",
        "    torch.cuda.manual_seed_all(SEED)\n",
        "    torch.backends.cudnn.deterministic = True\n",
        "    torch.backends.cudnn.benchmark = False\n",
        "    #torch.backends.cudnn.enabled = False"
      ],
      "execution_count": null,
      "outputs": [
        {
          "output_type": "stream",
          "name": "stdout",
          "text": [
            "Using Pytorch version 1.11.0+cu113. GPU is available :)\n"
          ]
        }
      ]
    },
    {
      "cell_type": "markdown",
      "source": [
        "## Helper Functions"
      ],
      "metadata": {
        "id": "eEf7149YKOxd"
      }
    },
    {
      "cell_type": "code",
      "metadata": {
        "id": "O484Lf1S9W-A"
      },
      "source": [
        "def load_data():\n",
        "    \"\"\"\n",
        "    load the data using datasets API. We also split the test_dataset into \n",
        "    cross-val/test datasets using 80:20 ration\n",
        "    \"\"\"\n",
        "    mean, std = 0.5, 0.5\n",
        "    transformations = transforms.Compose([\n",
        "        transforms.ToTensor(),\n",
        "        transforms.Normalize(mean, std)\n",
        "    ])\n",
        "\n",
        "    train_dataset =  datasets.FashionMNIST(root='./data', train=True, download=True,\n",
        "                                   transform=transformations)\n",
        "\n",
        "    print(\"No of training records: %d\" % len(train_dataset))\n",
        "\n",
        "    test_dataset = datasets.FashionMNIST('./data', train=False, download=True,\n",
        "                                  transform=transformations)\n",
        "    print(\"No of test records: %d\" % len(test_dataset))\n",
        "\n",
        "    # lets split the test dataset into val_dataset & test_dataset -> 8000:2000 records\n",
        "    val_dataset, test_dataset = torch.utils.data.random_split(test_dataset, [8000, 2000])\n",
        "    print(\"No of cross-val records: %d\" % len(val_dataset))\n",
        "    print(\"No of test records: %d\" % len(test_dataset))\n",
        "\n",
        "    return train_dataset, val_dataset, test_dataset"
      ],
      "execution_count": null,
      "outputs": []
    },
    {
      "cell_type": "code",
      "source": [
        "def display_sample(sample_images, sample_labels, grid_shape=(10, 10), plot_title=None,\n",
        "                   sample_predictions=None):\n",
        "    # just in case these are not imported!\n",
        "    import matplotlib.pyplot as plt\n",
        "    import seaborn as sns\n",
        "    plt.style.use('seaborn')\n",
        "\n",
        "    num_rows, num_cols = grid_shape\n",
        "    assert sample_images.shape[0] == num_rows * num_cols\n",
        "\n",
        "    # a dict to help encode/decode the labels\n",
        "    FASHION_LABELS = {\n",
        "        0: 'T-shirt/top',\n",
        "        1: 'Trouser',\n",
        "        2: 'Pullover',\n",
        "        3: 'Dress',\n",
        "        4: 'Coat',\n",
        "        5: 'Sandal',\n",
        "        6: 'Shirt',\n",
        "        7: 'Sneaker',\n",
        "        8: 'Bag',\n",
        "        9: 'Ankle boot',\n",
        "    }\n",
        "\n",
        "    with sns.axes_style(\"whitegrid\"):\n",
        "        sns.set_context(\"notebook\", font_scale=1.10)\n",
        "        sns.set_style({\"font.sans-serif\": [\"Verdana\", \"Arial\", \"Calibri\", \"DejaVu Sans\"]})\n",
        "\n",
        "        f, ax = plt.subplots(num_rows, num_cols, figsize=(14, 10),\n",
        "            gridspec_kw={\"wspace\": 0.05, \"hspace\": 0.35}, squeeze=True)  # 0.03, 0.25\n",
        "        #fig = ax[0].get_figure()\n",
        "        f.tight_layout()\n",
        "        f.subplots_adjust(top=0.90) # 0.93\n",
        "\n",
        "        for r in range(num_rows):\n",
        "            for c in range(num_cols):\n",
        "                image_index = r * num_cols + c\n",
        "                ax[r, c].axis(\"off\")\n",
        "                # show selected image\n",
        "                ax[r, c].imshow(sample_images[image_index].squeeze(), cmap=\"Greys\", interpolation='nearest')\n",
        "\n",
        "                if sample_predictions is None:\n",
        "                    # but show the prediction in the title\n",
        "                    title = ax[r, c].set_title(f\"{FASHION_LABELS[sample_labels[image_index]]}\")\n",
        "                else:\n",
        "                    pred_matches_actual = (\n",
        "                                sample_labels[image_index] == sample_predictions[image_index])\n",
        "                    if pred_matches_actual:\n",
        "                        # show title from prediction or actual in green font\n",
        "                        title = '%s' % FASHION_LABELS[sample_predictions[image_index]]\n",
        "                        title_color = 'g'\n",
        "                    else:\n",
        "                        # show title as actual/prediction in red font\n",
        "                        title = '%s/%s' % (FASHION_LABELS[sample_labels[image_index]],\n",
        "                                           FASHION_LABELS[sample_predictions[image_index]])\n",
        "                        title_color = 'r'\n",
        "\n",
        "                    # but show the prediction in the title\n",
        "                    title = ax[r, c].set_title(title)\n",
        "                    # if prediction is incorrect title color is red, else green\n",
        "                    plt.setp(title, color=title_color)\n",
        "\n",
        "        if plot_title is not None:\n",
        "            plt.suptitle(plot_title)\n",
        "        plt.show()\n",
        "        plt.close()"
      ],
      "metadata": {
        "id": "MqnO7KUwIkBI"
      },
      "execution_count": null,
      "outputs": []
    },
    {
      "cell_type": "code",
      "source": [
        "# (down)load the data\n",
        "train_dataset, val_dataset, test_dataset = load_data()"
      ],
      "metadata": {
        "colab": {
          "base_uri": "https://localhost:8080/",
          "height": 532,
          "referenced_widgets": [
            "5f8d126797c545da81a7ddd710b5541f",
            "7e31cf93c9ac43e192faaa839b2ef53d",
            "6a2562e9bbd74c3f9089f76006fd504f",
            "510b187bbceb426482790b6706956088",
            "36d0978bd4c944beb60cf55ba38d5d99",
            "f5dfea3caee54292b7074f22ef39986e",
            "0d869aed8df14e93a19e45b4d4d36d92",
            "619ed6d5edb443d3945126e42eeae313",
            "ab03310980c04828bd926238ccc28ae2",
            "a88f20ec754346b3be3bfb61c0edcebb",
            "c501ed15d1f745469f4586209393698f",
            "c1fb9c55f85349cdb127f1bb21b62188",
            "e8fcb06ce60d4aca98770ce6e62da9a9",
            "3a609d162f024b48b7643ae49a3ea7f1",
            "c9f66f34ba3a49e79802107eb8329d2d",
            "0b26d57b5a29414ea8d59706ebca5335",
            "d383eb3563334b6d89a2f0cf40cce7f6",
            "2be5dc189fcc4678a235fcdea7ba2a0a",
            "47aef01a147e459a9d720e5938204efb",
            "a1bb3c0423d7439d927d800180a9dde6",
            "9e2657de3ac94467ba27f0ded9c2cad5",
            "8f0beb2f6eaf438d8279e2a94c1cce36",
            "4931dc1555fa423aac42c1ba2763abb5",
            "3fb4c3ae0fd04570954c870e56daa19a",
            "9babca2e982a497b9c564446d49a3970",
            "5c799a964aea405a953e8c7e4ef61ab6",
            "f4501a8379b54579a57449c9e30dda37",
            "371518da188d49caa664d4e7bb315fab",
            "9c83de99a8a84b20bd1ec104c1140240",
            "cd2da003d8ea4c64ab45cf614feebffe",
            "3fb7af476a05452fb8c7287eb8cb95ef",
            "a5a03bf5bd5846aca0e43d0544a266b8",
            "ce62527adbb944218a5feb46254455df",
            "ad8c692e2f3a4aea8603e9702b676512",
            "ab816668179d4f6299240db86ce26477",
            "07f5a0d1bd25411497df961bdac847fe",
            "5bd924bd1a24481dbcae9deb7c83592d",
            "2eb4b47c8bf04a4bbd2a30cf56db2623",
            "573af73ef5d541cfa4ce7c084333fb4b",
            "254abf9163d34807a13912695faf4a43",
            "196a39c2d0d542468a92fbe08581df72",
            "4d57ea30f8014c3da69d434b996c4eb5",
            "b2108cefba064b289256544b0c5df5d4",
            "b7136bc373c740f79f2f0760235ec87a"
          ]
        },
        "id": "fEBZXVQoKRNV",
        "outputId": "0b31e97e-c73e-48e8-da40-c3599ba2c1ed"
      },
      "execution_count": null,
      "outputs": [
        {
          "output_type": "stream",
          "name": "stdout",
          "text": [
            "Downloading http://fashion-mnist.s3-website.eu-central-1.amazonaws.com/train-images-idx3-ubyte.gz\n",
            "Downloading http://fashion-mnist.s3-website.eu-central-1.amazonaws.com/train-images-idx3-ubyte.gz to ./data/FashionMNIST/raw/train-images-idx3-ubyte.gz\n"
          ]
        },
        {
          "output_type": "display_data",
          "data": {
            "text/plain": [
              "  0%|          | 0/26421880 [00:00<?, ?it/s]"
            ],
            "application/vnd.jupyter.widget-view+json": {
              "version_major": 2,
              "version_minor": 0,
              "model_id": "5f8d126797c545da81a7ddd710b5541f"
            }
          },
          "metadata": {}
        },
        {
          "output_type": "stream",
          "name": "stdout",
          "text": [
            "Extracting ./data/FashionMNIST/raw/train-images-idx3-ubyte.gz to ./data/FashionMNIST/raw\n",
            "\n",
            "Downloading http://fashion-mnist.s3-website.eu-central-1.amazonaws.com/train-labels-idx1-ubyte.gz\n",
            "Downloading http://fashion-mnist.s3-website.eu-central-1.amazonaws.com/train-labels-idx1-ubyte.gz to ./data/FashionMNIST/raw/train-labels-idx1-ubyte.gz\n"
          ]
        },
        {
          "output_type": "display_data",
          "data": {
            "text/plain": [
              "  0%|          | 0/29515 [00:00<?, ?it/s]"
            ],
            "application/vnd.jupyter.widget-view+json": {
              "version_major": 2,
              "version_minor": 0,
              "model_id": "c1fb9c55f85349cdb127f1bb21b62188"
            }
          },
          "metadata": {}
        },
        {
          "output_type": "stream",
          "name": "stdout",
          "text": [
            "Extracting ./data/FashionMNIST/raw/train-labels-idx1-ubyte.gz to ./data/FashionMNIST/raw\n",
            "\n",
            "Downloading http://fashion-mnist.s3-website.eu-central-1.amazonaws.com/t10k-images-idx3-ubyte.gz\n",
            "Downloading http://fashion-mnist.s3-website.eu-central-1.amazonaws.com/t10k-images-idx3-ubyte.gz to ./data/FashionMNIST/raw/t10k-images-idx3-ubyte.gz\n"
          ]
        },
        {
          "output_type": "display_data",
          "data": {
            "text/plain": [
              "  0%|          | 0/4422102 [00:00<?, ?it/s]"
            ],
            "application/vnd.jupyter.widget-view+json": {
              "version_major": 2,
              "version_minor": 0,
              "model_id": "4931dc1555fa423aac42c1ba2763abb5"
            }
          },
          "metadata": {}
        },
        {
          "output_type": "stream",
          "name": "stdout",
          "text": [
            "Extracting ./data/FashionMNIST/raw/t10k-images-idx3-ubyte.gz to ./data/FashionMNIST/raw\n",
            "\n",
            "Downloading http://fashion-mnist.s3-website.eu-central-1.amazonaws.com/t10k-labels-idx1-ubyte.gz\n",
            "Downloading http://fashion-mnist.s3-website.eu-central-1.amazonaws.com/t10k-labels-idx1-ubyte.gz to ./data/FashionMNIST/raw/t10k-labels-idx1-ubyte.gz\n"
          ]
        },
        {
          "output_type": "display_data",
          "data": {
            "text/plain": [
              "  0%|          | 0/5148 [00:00<?, ?it/s]"
            ],
            "application/vnd.jupyter.widget-view+json": {
              "version_major": 2,
              "version_minor": 0,
              "model_id": "ad8c692e2f3a4aea8603e9702b676512"
            }
          },
          "metadata": {}
        },
        {
          "output_type": "stream",
          "name": "stdout",
          "text": [
            "Extracting ./data/FashionMNIST/raw/t10k-labels-idx1-ubyte.gz to ./data/FashionMNIST/raw\n",
            "\n",
            "No of training records: 60000\n",
            "No of test records: 10000\n",
            "No of cross-val records: 8000\n",
            "No of test records: 2000\n"
          ]
        }
      ]
    },
    {
      "cell_type": "code",
      "source": [
        "# display a sample\n",
        "trainloader = torch.utils.data.DataLoader(test_dataset, batch_size=64, shuffle=True)\n",
        "data_iter = iter(trainloader)\n",
        "images, labels = data_iter.next()  # fetch first batch of 64 images & labels\n",
        "print(f'images.shape = {images.shape}, labels.shape={labels.shape}')\n",
        "#print(f'labels = {labels[:10]}')\n",
        "display_sample(images.cpu().numpy(), labels.cpu().numpy(), grid_shape=(8, 8), \n",
        "               plot_title='Sample Images - Training dataset')"
      ],
      "metadata": {
        "colab": {
          "base_uri": "https://localhost:8080/",
          "height": 665
        },
        "id": "rpqwY_OzLr7G",
        "outputId": "d8fb077d-3d68-4f5f-dfe4-c1fc91b79265"
      },
      "execution_count": null,
      "outputs": [
        {
          "output_type": "stream",
          "name": "stdout",
          "text": [
            "images.shape = torch.Size([64, 1, 28, 28]), labels.shape=torch.Size([64])\n"
          ]
        },
        {
          "output_type": "display_data",
          "data": {
            "text/plain": [
              "<Figure size 1008x720 with 64 Axes>"
            ],
            "image/png": "[encoded data removed]"
          },
          "metadata": {}
        }
      ]
    },
    {
      "cell_type": "markdown",
      "source": [
        "## Pytorch Model development"
      ],
      "metadata": {
        "id": "Uc4Db-2_L8K2"
      }
    },
    {
      "cell_type": "code",
      "source": [
        "# some globals\n",
        "IMAGE_HEIGHT, IMAGE_WIDTH, NUM_CHANNELS, NUM_CLASSES = 28, 28, 1, 10\n",
        "NUM_EPOCHS, BATCH_SIZE, LEARNING_RATE, L2_REG = 25, 128, 0.001, 0.04\n",
        "PY_MODEL_SAVE_PATH = os.path.join(MODEL_SAVE_DIR, 'pyt_fashion_mnist_cnn.pyt')\n",
        "print(f\"Model will be saved to {PY_MODEL_SAVE_PATH}\")"
      ],
      "metadata": {
        "colab": {
          "base_uri": "https://localhost:8080/"
        },
        "id": "0q_R3rp0Izmc",
        "outputId": "f1de0301-2d52-46fa-ea65-c268d0d8aa82"
      },
      "execution_count": null,
      "outputs": [
        {
          "output_type": "stream",
          "name": "stdout",
          "text": [
            "Model will be saved to /content/drive/My Drive/Colab Notebooks/Pytorch/model_states/pyt_fashion_mnist_cnn.pyt\n"
          ]
        }
      ]
    },
    {
      "cell_type": "code",
      "source": [
        "def build_model():\n",
        "    net = nn.Sequential(\n",
        "        pytk.Conv2d(1, 64, kernel_size=3, padding='same'),\n",
        "        nn.ReLU(),\n",
        "        nn.BatchNorm2d(64),\n",
        "        pytk.Conv2d(64, 64, kernel_size=3, padding='same'),\n",
        "        nn.ReLU(),\n",
        "        nn.BatchNorm2d(64),\n",
        "        nn.MaxPool2d(kernel_size=2, stride=2),\n",
        "\n",
        "        pytk.Conv2d(64, 128, kernel_size=3, padding='same'),\n",
        "        nn.ReLU(),\n",
        "        nn.BatchNorm2d(128),\n",
        "        pytk.Conv2d(128, 128, kernel_size=3, padding='same'),\n",
        "        nn.ReLU(),\n",
        "        nn.BatchNorm2d(128),\n",
        "        nn.MaxPool2d(kernel_size=2, stride=2),\n",
        "\n",
        "        pytk.Conv2d(128, 256, kernel_size=3, padding='same'),\n",
        "        nn.ReLU(),\n",
        "        nn.BatchNorm2d(256),\n",
        "        pytk.Conv2d(256, 256, kernel_size=3, padding='same'),\n",
        "        nn.ReLU(),\n",
        "        nn.BatchNorm2d(256),\n",
        "        nn.MaxPool2d(kernel_size=2, stride=2),\n",
        "\n",
        "        # pytk.Conv2d(256, 512, kernel_size=3, padding=1),\n",
        "        # nn.ReLU(),\n",
        "        # nn.BatchNorm2d(512),\n",
        "        # # pytk.Conv2d(512, 512, kernel_size=3, padding=1),\n",
        "        # # nn.ReLU(),\n",
        "        # # nn.BatchNorm2d(512),\n",
        "        # nn.MaxPool2d(kernel_size=2, stride=2),\n",
        "        # nn.Dropout(0.35),\n",
        "\n",
        "        nn.Flatten(),\n",
        "\n",
        "        nn.Linear(256*3*3, 1024),\n",
        "        nn.ReLU(),\n",
        "\n",
        "        nn.Linear(1024, 512),\n",
        "        nn.ReLU(),\n",
        "\n",
        "        nn.Linear(512, NUM_CLASSES)     \n",
        "    )\n",
        "\n",
        "    model = pytk.PytkModuleWrapper(net)\n",
        "    loss_fn = nn.CrossEntropyLoss()\n",
        "    optimizer = optim.Adam(params=model.parameters(), lr=LEARNING_RATE)\n",
        "    #optimizer = optim.SGD(params=model.parameters(), lr=LEARNING_RATE, momentum=0.0, nesterov=False, weight_decay=L2_REG)\n",
        "    model.compile(loss=loss_fn, optimizer=optimizer, metrics=['acc'])\n",
        "    return model, optimizer"
      ],
      "metadata": {
        "id": "JjaQ0jSBI545"
      },
      "execution_count": null,
      "outputs": []
    },
    {
      "cell_type": "code",
      "source": [
        "model, optimizer = build_model()\n",
        "model.summary((NUM_CHANNELS, IMAGE_HEIGHT, IMAGE_WIDTH))"
      ],
      "metadata": {
        "colab": {
          "base_uri": "https://localhost:8080/"
        },
        "id": "PlJOYUNiND-i",
        "outputId": "7ef114e8-2503-42d3-db6c-df870c0b010c"
      },
      "execution_count": null,
      "outputs": [
        {
          "output_type": "stream",
          "name": "stdout",
          "text": [
            "----------------------------------------------------------------\n",
            "        Layer (type)               Output Shape         Param #\n",
            "================================================================\n",
            "            Conv2d-1           [-1, 64, 28, 28]             640\n",
            "              ReLU-2           [-1, 64, 28, 28]               0\n",
            "       BatchNorm2d-3           [-1, 64, 28, 28]             128\n",
            "            Conv2d-4           [-1, 64, 28, 28]          36,928\n",
            "              ReLU-5           [-1, 64, 28, 28]               0\n",
            "       BatchNorm2d-6           [-1, 64, 28, 28]             128\n",
            "         MaxPool2d-7           [-1, 64, 14, 14]               0\n",
            "            Conv2d-8          [-1, 128, 14, 14]          73,856\n",
            "              ReLU-9          [-1, 128, 14, 14]               0\n",
            "      BatchNorm2d-10          [-1, 128, 14, 14]             256\n",
            "           Conv2d-11          [-1, 128, 14, 14]         147,584\n",
            "             ReLU-12          [-1, 128, 14, 14]               0\n",
            "      BatchNorm2d-13          [-1, 128, 14, 14]             256\n",
            "        MaxPool2d-14            [-1, 128, 7, 7]               0\n",
            "           Conv2d-15            [-1, 256, 7, 7]         295,168\n",
            "             ReLU-16            [-1, 256, 7, 7]               0\n",
            "      BatchNorm2d-17            [-1, 256, 7, 7]             512\n",
            "           Conv2d-18            [-1, 256, 7, 7]         590,080\n",
            "             ReLU-19            [-1, 256, 7, 7]               0\n",
            "      BatchNorm2d-20            [-1, 256, 7, 7]             512\n",
            "        MaxPool2d-21            [-1, 256, 3, 3]               0\n",
            "          Flatten-22                 [-1, 2304]               0\n",
            "           Linear-23                 [-1, 1024]       2,360,320\n",
            "             ReLU-24                 [-1, 1024]               0\n",
            "           Linear-25                  [-1, 512]         524,800\n",
            "             ReLU-26                  [-1, 512]               0\n",
            "           Linear-27                   [-1, 10]           5,130\n",
            "================================================================\n",
            "Total params: 4,036,298\n",
            "Trainable params: 4,036,298\n",
            "Non-trainable params: 0\n",
            "----------------------------------------------------------------\n",
            "Input size (MB): 0.00\n",
            "Forward/backward pass size (MB): 4.22\n",
            "Params size (MB): 15.40\n",
            "Estimated Total Size (MB): 19.62\n",
            "----------------------------------------------------------------\n"
          ]
        }
      ]
    },
    {
      "cell_type": "markdown",
      "source": [
        "## Train the model"
      ],
      "metadata": {
        "id": "5uVChuNcN5rt"
      }
    },
    {
      "cell_type": "code",
      "source": [
        "hist = model.fit_dataset(train_dataset, validation_dataset=val_dataset, \n",
        "                         epochs=NUM_EPOCHS, batch_size=BATCH_SIZE)"
      ],
      "metadata": {
        "colab": {
          "base_uri": "https://localhost:8080/"
        },
        "id": "ke932pN_N0LQ",
        "outputId": "e58eed09-acc3-4419-fff7-005a721744f8"
      },
      "execution_count": null,
      "outputs": [
        {
          "output_type": "stream",
          "name": "stdout",
          "text": [
            "Training on GPU...\n",
            "Training on 60000 samples, cross-validating on 8000 samples\n",
            "Epoch ( 1/25): (60000/60000) -> loss: 0.3759 - acc: 0.8621 - val_loss: 0.2725 - val_acc: 0.9033 - lr: ['0.00100000']\n",
            "Epoch ( 2/25): (60000/60000) -> loss: 0.2272 - acc: 0.9170 - val_loss: 0.2205 - val_acc: 0.9188 - lr: ['0.00100000']\n",
            "Epoch ( 3/25): (60000/60000) -> loss: 0.1891 - acc: 0.9307 - val_loss: 0.2451 - val_acc: 0.9105 - lr: ['0.00100000']\n",
            "Epoch ( 4/25): (60000/60000) -> loss: 0.1600 - acc: 0.9405 - val_loss: 0.2181 - val_acc: 0.9240 - lr: ['0.00100000']\n",
            "Epoch ( 5/25): (60000/60000) -> loss: 0.1337 - acc: 0.9499 - val_loss: 0.2079 - val_acc: 0.9313 - lr: ['0.00100000']\n",
            "Epoch ( 6/25): (60000/60000) -> loss: 0.1107 - acc: 0.9584 - val_loss: 0.2308 - val_acc: 0.9284 - lr: ['0.00100000']\n",
            "Epoch ( 7/25): (60000/60000) -> loss: 0.0971 - acc: 0.9639 - val_loss: 0.2284 - val_acc: 0.9313 - lr: ['0.00100000']\n",
            "Epoch ( 8/25): (60000/60000) -> loss: 0.0737 - acc: 0.9725 - val_loss: 0.2557 - val_acc: 0.9244 - lr: ['0.00100000']\n",
            "Epoch ( 9/25): (60000/60000) -> loss: 0.0636 - acc: 0.9774 - val_loss: 0.2691 - val_acc: 0.9298 - lr: ['0.00100000']\n",
            "Epoch (10/25): (60000/60000) -> loss: 0.0592 - acc: 0.9795 - val_loss: 0.3023 - val_acc: 0.9271 - lr: ['0.00100000']\n",
            "Epoch (11/25): (60000/60000) -> loss: 0.0457 - acc: 0.9833 - val_loss: 0.2980 - val_acc: 0.9309 - lr: ['0.00100000']\n",
            "Epoch (12/25): (60000/60000) -> loss: 0.0441 - acc: 0.9845 - val_loss: 0.3036 - val_acc: 0.9369 - lr: ['0.00100000']\n",
            "Epoch (13/25): (60000/60000) -> loss: 0.0319 - acc: 0.9891 - val_loss: 0.3421 - val_acc: 0.9312 - lr: ['0.00100000']\n",
            "Epoch (14/25): (60000/60000) -> loss: 0.0333 - acc: 0.9885 - val_loss: 0.3337 - val_acc: 0.9354 - lr: ['0.00100000']\n",
            "Epoch (15/25): (60000/60000) -> loss: 0.0312 - acc: 0.9892 - val_loss: 0.3305 - val_acc: 0.9307 - lr: ['0.00100000']\n",
            "Epoch (16/25): (60000/60000) -> loss: 0.0288 - acc: 0.9904 - val_loss: 0.3325 - val_acc: 0.9322 - lr: ['0.00100000']\n",
            "Epoch (17/25): (60000/60000) -> loss: 0.0235 - acc: 0.9926 - val_loss: 0.3776 - val_acc: 0.9373 - lr: ['0.00100000']\n",
            "Epoch (18/25): (60000/60000) -> loss: 0.0255 - acc: 0.9917 - val_loss: 0.4088 - val_acc: 0.9329 - lr: ['0.00100000']\n",
            "Epoch (19/25): (60000/60000) -> loss: 0.0204 - acc: 0.9933 - val_loss: 0.3649 - val_acc: 0.9366 - lr: ['0.00100000']\n",
            "Epoch (20/25): (60000/60000) -> loss: 0.0192 - acc: 0.9938 - val_loss: 0.3549 - val_acc: 0.9387 - lr: ['0.00100000']\n",
            "Epoch (21/25): (60000/60000) -> loss: 0.0312 - acc: 0.9910 - val_loss: 0.3386 - val_acc: 0.9349 - lr: ['0.00100000']\n",
            "Epoch (22/25): (60000/60000) -> loss: 0.0203 - acc: 0.9939 - val_loss: 0.4008 - val_acc: 0.9340 - lr: ['0.00100000']\n",
            "Epoch (23/25): (60000/60000) -> loss: 0.0135 - acc: 0.9954 - val_loss: 0.4088 - val_acc: 0.9351 - lr: ['0.00100000']\n",
            "Epoch (24/25): (60000/60000) -> loss: 0.0182 - acc: 0.9940 - val_loss: 0.3971 - val_acc: 0.9338 - lr: ['0.00100000']\n",
            "Epoch (25/25): (60000/60000) -> loss: 0.0187 - acc: 0.9940 - val_loss: 0.4049 - val_acc: 0.9386 - lr: ['0.00100000']\n"
          ]
        }
      ]
    },
    {
      "cell_type": "code",
      "source": [
        "pytk.show_plots(hist, metric='acc')"
      ],
      "metadata": {
        "colab": {
          "base_uri": "https://localhost:8080/",
          "height": 346
        },
        "id": "EqY3luoAOQXy",
        "outputId": "fda67b93-111d-49f8-8ac4-ccc6a0a7395e"
      },
      "execution_count": null,
      "outputs": [
        {
          "output_type": "display_data",
          "data": {
            "text/plain": [
              "<Figure size 1152x360 with 2 Axes>"
            ],
            "image/png": "[encoded data removed]"
          },
          "metadata": {}
        }
      ]
    },
    {
      "cell_type": "markdown",
      "source": [
        "## Evaluate Performance"
      ],
      "metadata": {
        "id": "83p0e1RZRuLR"
      }
    },
    {
      "cell_type": "code",
      "source": [
        "# evaluate performance\n",
        "print('Evaluating model performance...')\n",
        "loss, acc = model.evaluate_dataset(train_dataset)\n",
        "print(f'  Training dataset -> loss: {loss:.4f} - acc: {acc:.4f}')\n",
        "loss, acc = model.evaluate_dataset(val_dataset)\n",
        "print(f'  Cross-val dataset -> loss: {loss:.4f} - acc: {acc:.4f}')\n",
        "loss, acc = model.evaluate_dataset(test_dataset)\n",
        "print(f'  Test dataset      -> loss: {loss:.4f} - acc: {acc:.4f}')"
      ],
      "metadata": {
        "colab": {
          "base_uri": "https://localhost:8080/"
        },
        "id": "kzwJdtFORxI7",
        "outputId": "7ac8d523-9568-471d-a960-f785b499ebcd"
      },
      "execution_count": null,
      "outputs": [
        {
          "output_type": "stream",
          "name": "stdout",
          "text": [
            "Evaluating model performance...\n",
            "Evaluating (60000/60000) -> loss: 0.0081 - acc: 0.9975\n",
            "  Training dataset -> loss: 0.0081 - acc: 0.9975\n",
            "Evaluating (8000/8000) -> loss: 0.4075 - acc: 0.9383\n",
            "  Cross-val dataset -> loss: 0.4075 - acc: 0.9383\n",
            "Evaluating (2000/2000) -> loss: 0.4310 - acc: 0.9307\n",
            "  Test dataset      -> loss: 0.4310 - acc: 0.9307\n"
          ]
        }
      ]
    },
    {
      "cell_type": "markdown",
      "source": [
        "### Observations\n",
        ">Configuration | Training Acc | Cross-val Acc | Test Acc | Observation\n",
        ">:---|:---:|:---:|:---:|:---:|\n",
        ">**Model**|99.69%|93.39%|93.07%| Overfitting\n",
        "\n",
        "From the table & graphs we observe that:\n",
        "* The model is significantly overfitting the data - `training accuracy >> cross-val accuracy`\n",
        "* The training/cross-val loss plots start diverging significantly after the 3-4 th epoch itself\n",
        "* The gap between `cross-val accuracy` and `test accuracy` is not that much (expected as the samples are drawn randomly from the same distribution)"
      ],
      "metadata": {
        "id": "FUmypSWySD1Z"
      }
    },
    {
      "cell_type": "code",
      "source": [
        "model.save(PY_MODEL_SAVE_PATH)\n",
        "del model"
      ],
      "metadata": {
        "colab": {
          "base_uri": "https://localhost:8080/"
        },
        "id": "O81FA-GIR1CJ",
        "outputId": "53903121-8761-4757-cb5e-25d99c9b76aa"
      },
      "execution_count": null,
      "outputs": [
        {
          "output_type": "stream",
          "name": "stdout",
          "text": [
            "Pytorch model saved to /content/drive/My Drive/Colab Notebooks/Pytorch/model_states/pyt_fashion_mnist_cnn.pyt\n"
          ]
        }
      ]
    },
    {
      "cell_type": "markdown",
      "source": [
        "## Making Predictions"
      ],
      "metadata": {
        "id": "aWr-DL3lR125"
      }
    },
    {
      "cell_type": "code",
      "source": [
        "model, optimizer = build_model()\n",
        "model.load(PY_MODEL_SAVE_PATH)\n",
        "print(model.summary((NUM_CHANNELS, IMAGE_HEIGHT, IMAGE_WIDTH)))"
      ],
      "metadata": {
        "colab": {
          "base_uri": "https://localhost:8080/"
        },
        "id": "hkuZ35JSR363",
        "outputId": "63baabc3-9f6d-4013-ed1b-0636daf0c21b"
      },
      "execution_count": null,
      "outputs": [
        {
          "output_type": "stream",
          "name": "stdout",
          "text": [
            "Pytorch model loaded from /content/drive/My Drive/Colab Notebooks/Pytorch/model_states/pyt_fashion_mnist_cnn.pyt\n",
            "----------------------------------------------------------------\n",
            "        Layer (type)               Output Shape         Param #\n",
            "================================================================\n",
            "            Conv2d-1           [-1, 64, 28, 28]             640\n",
            "              ReLU-2           [-1, 64, 28, 28]               0\n",
            "       BatchNorm2d-3           [-1, 64, 28, 28]             128\n",
            "            Conv2d-4           [-1, 64, 28, 28]          36,928\n",
            "              ReLU-5           [-1, 64, 28, 28]               0\n",
            "       BatchNorm2d-6           [-1, 64, 28, 28]             128\n",
            "         MaxPool2d-7           [-1, 64, 14, 14]               0\n",
            "            Conv2d-8          [-1, 128, 14, 14]          73,856\n",
            "              ReLU-9          [-1, 128, 14, 14]               0\n",
            "      BatchNorm2d-10          [-1, 128, 14, 14]             256\n",
            "           Conv2d-11          [-1, 128, 14, 14]         147,584\n",
            "             ReLU-12          [-1, 128, 14, 14]               0\n",
            "      BatchNorm2d-13          [-1, 128, 14, 14]             256\n",
            "        MaxPool2d-14            [-1, 128, 7, 7]               0\n",
            "           Conv2d-15            [-1, 256, 7, 7]         295,168\n",
            "             ReLU-16            [-1, 256, 7, 7]               0\n",
            "      BatchNorm2d-17            [-1, 256, 7, 7]             512\n",
            "           Conv2d-18            [-1, 256, 7, 7]         590,080\n",
            "             ReLU-19            [-1, 256, 7, 7]               0\n",
            "      BatchNorm2d-20            [-1, 256, 7, 7]             512\n",
            "        MaxPool2d-21            [-1, 256, 3, 3]               0\n",
            "          Flatten-22                 [-1, 2304]               0\n",
            "           Linear-23                 [-1, 1024]       2,360,320\n",
            "             ReLU-24                 [-1, 1024]               0\n",
            "           Linear-25                  [-1, 512]         524,800\n",
            "             ReLU-26                  [-1, 512]               0\n",
            "           Linear-27                   [-1, 10]           5,130\n",
            "================================================================\n",
            "Total params: 4,036,298\n",
            "Trainable params: 4,036,298\n",
            "Non-trainable params: 0\n",
            "----------------------------------------------------------------\n",
            "Input size (MB): 0.00\n",
            "Forward/backward pass size (MB): 4.22\n",
            "Params size (MB): 15.40\n",
            "Estimated Total Size (MB): 19.62\n",
            "----------------------------------------------------------------\n",
            "None\n"
          ]
        }
      ]
    },
    {
      "cell_type": "code",
      "source": [
        "# run predictions\n",
        "y_pred, y_true = model.predict_dataset(test_dataset)\n",
        "y_pred = np.argmax(y_pred, axis=1)\n",
        "print('Sample labels (50): ', y_true[:50])\n",
        "print('Sample predictions (50): ', y_true[:50])\n",
        "print('We got %d/%d incorrect!' % ((y_pred != y_true).sum(), len(y_true)))"
      ],
      "metadata": {
        "colab": {
          "base_uri": "https://localhost:8080/"
        },
        "id": "tFb_0ryYR3ub",
        "outputId": "c088eb77-d2f3-40e9-a63a-32bd44678fec"
      },
      "execution_count": null,
      "outputs": [
        {
          "output_type": "stream",
          "name": "stdout",
          "text": [
            "Sample labels (50):  [6 4 5 4 8 0 8 9 5 3 5 4 3 3 0 9 1 2 5 0 8 9 8 0 6 4 7 6 5 0 1 8 1 1 9 7 0 7 5 3 4 4 2 1 9 5 8 4 8 0]\n",
            "Sample predictions (50):  [6 4 5 4 8 0 8 9 5 3 5 4 3 3 0 9 1 2 5 0 8 9 8 0 6 4 7 6 5 0 1 8 1 1 9 7 0 7 5 3 4 4 2 1 9 5 8 4 8 0]\n",
            "We got 142/2000 incorrect!\n"
          ]
        }
      ]
    },
    {
      "cell_type": "code",
      "source": [
        "# display sample\n",
        "print('Displaying sample predictions...')\n",
        "trainloader = torch.utils.data.DataLoader(test_dataset, batch_size=64, shuffle=True)\n",
        "data_iter = iter(trainloader)\n",
        "images, labels = data_iter.next()  # fetch a batch of 64 random images\n",
        "preds = model.predict(images)\n",
        "preds = np.argmax(preds, axis=1)\n",
        "#type(images), type(labels), type(preds)\n",
        "display_sample(images, labels.cpu().numpy(), sample_predictions=preds,\n",
        "                grid_shape=(8, 8), plot_title='Sample Predictions - Test Dataset')"
      ],
      "metadata": {
        "colab": {
          "base_uri": "https://localhost:8080/",
          "height": 665
        },
        "id": "ztZQ3tlLS3pW",
        "outputId": "9775f4b5-20ff-4189-e9e4-edd6a719777d"
      },
      "execution_count": null,
      "outputs": [
        {
          "output_type": "stream",
          "name": "stdout",
          "text": [
            "Displaying sample predictions...\n"
          ]
        },
        {
          "output_type": "display_data",
          "data": {
            "text/plain": [
              "<Figure size 1008x720 with 64 Axes>"
            ],
            "image/png": "[encoded data removed]"
          },
          "metadata": {}
        }
      ]
    },
    {
      "cell_type": "markdown",
      "source": [
        "## Observations\n",
        "* The base model is significantly overfitting the data\n",
        "* We get 153/2000 incorrect predictions from test dataset - this is expected, as model is overfitting, so cannot generalize well.\n",
        "\n",
        "In the next part we will try to reduce the overfitting by implementing 2 types of regularization - Dropout regularization and L2 Regularization. This may reduce the training accuracy of the model, but should reduce the gap between training & cross-val accuracy (i.e. reduce overfitting)"
      ],
      "metadata": {
        "id": "3zresuieTF12"
      }
    },
    {
      "cell_type": "markdown",
      "source": [
        "# <center> -- END -- </center>"
      ],
      "metadata": {
        "id": "moJ-XRBlTsk3"
      }
    }
  ]
}